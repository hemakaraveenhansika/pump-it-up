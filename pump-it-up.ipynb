{
 "cells": [
  {
   "cell_type": "code",
   "execution_count": 1,
   "metadata": {
    "_cell_guid": "b1076dfc-b9ad-4769-8c92-a6c4dae69d19",
    "_uuid": "8f2839f25d086af736a60e9eeb907d3b93b6e0e5",
    "execution": {
     "iopub.execute_input": "2021-09-16T07:08:03.698489Z",
     "iopub.status.busy": "2021-09-16T07:08:03.698031Z",
     "iopub.status.idle": "2021-09-16T07:08:03.709112Z",
     "shell.execute_reply": "2021-09-16T07:08:03.707845Z",
     "shell.execute_reply.started": "2021-09-16T07:08:03.698449Z"
    }
   },
   "outputs": [],
   "source": [
    "import os\n",
    "import numpy as np\n",
    "import pandas as pd\n",
    "import matplotlib.pyplot as plt\n",
    "from matplotlib.pyplot import figure\n",
    "import seaborn as sns\n",
    "\n",
    "\n",
    "# for dirname, _, filenames in os.walk('/kaggle/input'):\n",
    "#     for filename in filenames:\n",
    "#         print(os.path.join(dirname, filename))\n"
   ]
  },
  {
   "cell_type": "markdown",
   "metadata": {},
   "source": [
    "# **Load data**"
   ]
  },
  {
   "cell_type": "code",
   "execution_count": 2,
   "metadata": {
    "execution": {
     "iopub.execute_input": "2021-09-16T07:08:03.713455Z",
     "iopub.status.busy": "2021-09-16T07:08:03.713117Z",
     "iopub.status.idle": "2021-09-16T07:08:04.601055Z",
     "shell.execute_reply": "2021-09-16T07:08:04.599932Z",
     "shell.execute_reply.started": "2021-09-16T07:08:03.713421Z"
    }
   },
   "outputs": [],
   "source": [
    "train_data_values=pd.read_csv('pump-data/training_values.csv')\n",
    "train_data_labels=pd.read_csv('pump-data/training_labels.csv')\n",
    "test_data=pd.read_csv('pump-data/test_values.csv')\n",
    "train_data = train_data_values.merge(train_data_labels, on='id')"
   ]
  },
  {
   "cell_type": "code",
   "execution_count": 3,
   "metadata": {
    "execution": {
     "iopub.execute_input": "2021-09-16T07:08:04.602922Z",
     "iopub.status.busy": "2021-09-16T07:08:04.602606Z",
     "iopub.status.idle": "2021-09-16T07:08:04.616618Z",
     "shell.execute_reply": "2021-09-16T07:08:04.615407Z",
     "shell.execute_reply.started": "2021-09-16T07:08:04.602886Z"
    }
   },
   "outputs": [
    {
     "data": {
      "text/html": [
       "<div>\n",
       "<style scoped>\n",
       "    .dataframe tbody tr th:only-of-type {\n",
       "        vertical-align: middle;\n",
       "    }\n",
       "\n",
       "    .dataframe tbody tr th {\n",
       "        vertical-align: top;\n",
       "    }\n",
       "\n",
       "    .dataframe thead th {\n",
       "        text-align: right;\n",
       "    }\n",
       "</style>\n",
       "<table border=\"1\" class=\"dataframe\">\n",
       "  <thead>\n",
       "    <tr style=\"text-align: right;\">\n",
       "      <th></th>\n",
       "      <th>id</th>\n",
       "      <th>status_group</th>\n",
       "    </tr>\n",
       "  </thead>\n",
       "  <tbody>\n",
       "    <tr>\n",
       "      <th>0</th>\n",
       "      <td>69572</td>\n",
       "      <td>functional</td>\n",
       "    </tr>\n",
       "    <tr>\n",
       "      <th>1</th>\n",
       "      <td>8776</td>\n",
       "      <td>functional</td>\n",
       "    </tr>\n",
       "    <tr>\n",
       "      <th>2</th>\n",
       "      <td>34310</td>\n",
       "      <td>functional</td>\n",
       "    </tr>\n",
       "    <tr>\n",
       "      <th>3</th>\n",
       "      <td>67743</td>\n",
       "      <td>non functional</td>\n",
       "    </tr>\n",
       "    <tr>\n",
       "      <th>4</th>\n",
       "      <td>19728</td>\n",
       "      <td>functional</td>\n",
       "    </tr>\n",
       "    <tr>\n",
       "      <th>...</th>\n",
       "      <td>...</td>\n",
       "      <td>...</td>\n",
       "    </tr>\n",
       "    <tr>\n",
       "      <th>59395</th>\n",
       "      <td>60739</td>\n",
       "      <td>functional</td>\n",
       "    </tr>\n",
       "    <tr>\n",
       "      <th>59396</th>\n",
       "      <td>27263</td>\n",
       "      <td>functional</td>\n",
       "    </tr>\n",
       "    <tr>\n",
       "      <th>59397</th>\n",
       "      <td>37057</td>\n",
       "      <td>functional</td>\n",
       "    </tr>\n",
       "    <tr>\n",
       "      <th>59398</th>\n",
       "      <td>31282</td>\n",
       "      <td>functional</td>\n",
       "    </tr>\n",
       "    <tr>\n",
       "      <th>59399</th>\n",
       "      <td>26348</td>\n",
       "      <td>functional</td>\n",
       "    </tr>\n",
       "  </tbody>\n",
       "</table>\n",
       "<p>59400 rows × 2 columns</p>\n",
       "</div>"
      ],
      "text/plain": [
       "          id    status_group\n",
       "0      69572      functional\n",
       "1       8776      functional\n",
       "2      34310      functional\n",
       "3      67743  non functional\n",
       "4      19728      functional\n",
       "...      ...             ...\n",
       "59395  60739      functional\n",
       "59396  27263      functional\n",
       "59397  37057      functional\n",
       "59398  31282      functional\n",
       "59399  26348      functional\n",
       "\n",
       "[59400 rows x 2 columns]"
      ]
     },
     "execution_count": 3,
     "metadata": {},
     "output_type": "execute_result"
    }
   ],
   "source": [
    "train_data_labels"
   ]
  },
  {
   "cell_type": "code",
   "execution_count": 4,
   "metadata": {
    "execution": {
     "iopub.execute_input": "2021-09-16T07:08:04.618845Z",
     "iopub.status.busy": "2021-09-16T07:08:04.618531Z",
     "iopub.status.idle": "2021-09-16T07:08:04.702283Z",
     "shell.execute_reply": "2021-09-16T07:08:04.701015Z",
     "shell.execute_reply.started": "2021-09-16T07:08:04.618812Z"
    }
   },
   "outputs": [
    {
     "data": {
      "text/html": [
       "<div>\n",
       "<style scoped>\n",
       "    .dataframe tbody tr th:only-of-type {\n",
       "        vertical-align: middle;\n",
       "    }\n",
       "\n",
       "    .dataframe tbody tr th {\n",
       "        vertical-align: top;\n",
       "    }\n",
       "\n",
       "    .dataframe thead th {\n",
       "        text-align: right;\n",
       "    }\n",
       "</style>\n",
       "<table border=\"1\" class=\"dataframe\">\n",
       "  <thead>\n",
       "    <tr style=\"text-align: right;\">\n",
       "      <th></th>\n",
       "      <th>id</th>\n",
       "      <th>amount_tsh</th>\n",
       "      <th>date_recorded</th>\n",
       "      <th>funder</th>\n",
       "      <th>gps_height</th>\n",
       "      <th>installer</th>\n",
       "      <th>longitude</th>\n",
       "      <th>latitude</th>\n",
       "      <th>wpt_name</th>\n",
       "      <th>num_private</th>\n",
       "      <th>...</th>\n",
       "      <th>payment_type</th>\n",
       "      <th>water_quality</th>\n",
       "      <th>quality_group</th>\n",
       "      <th>quantity</th>\n",
       "      <th>quantity_group</th>\n",
       "      <th>source</th>\n",
       "      <th>source_type</th>\n",
       "      <th>source_class</th>\n",
       "      <th>waterpoint_type</th>\n",
       "      <th>waterpoint_type_group</th>\n",
       "    </tr>\n",
       "  </thead>\n",
       "  <tbody>\n",
       "    <tr>\n",
       "      <th>0</th>\n",
       "      <td>69572</td>\n",
       "      <td>6000.0</td>\n",
       "      <td>2011-03-14</td>\n",
       "      <td>Roman</td>\n",
       "      <td>1390</td>\n",
       "      <td>Roman</td>\n",
       "      <td>34.938093</td>\n",
       "      <td>-9.856322</td>\n",
       "      <td>none</td>\n",
       "      <td>0</td>\n",
       "      <td>...</td>\n",
       "      <td>annually</td>\n",
       "      <td>soft</td>\n",
       "      <td>good</td>\n",
       "      <td>enough</td>\n",
       "      <td>enough</td>\n",
       "      <td>spring</td>\n",
       "      <td>spring</td>\n",
       "      <td>groundwater</td>\n",
       "      <td>communal standpipe</td>\n",
       "      <td>communal standpipe</td>\n",
       "    </tr>\n",
       "    <tr>\n",
       "      <th>1</th>\n",
       "      <td>8776</td>\n",
       "      <td>0.0</td>\n",
       "      <td>2013-03-06</td>\n",
       "      <td>Grumeti</td>\n",
       "      <td>1399</td>\n",
       "      <td>GRUMETI</td>\n",
       "      <td>34.698766</td>\n",
       "      <td>-2.147466</td>\n",
       "      <td>Zahanati</td>\n",
       "      <td>0</td>\n",
       "      <td>...</td>\n",
       "      <td>never pay</td>\n",
       "      <td>soft</td>\n",
       "      <td>good</td>\n",
       "      <td>insufficient</td>\n",
       "      <td>insufficient</td>\n",
       "      <td>rainwater harvesting</td>\n",
       "      <td>rainwater harvesting</td>\n",
       "      <td>surface</td>\n",
       "      <td>communal standpipe</td>\n",
       "      <td>communal standpipe</td>\n",
       "    </tr>\n",
       "    <tr>\n",
       "      <th>2</th>\n",
       "      <td>34310</td>\n",
       "      <td>25.0</td>\n",
       "      <td>2013-02-25</td>\n",
       "      <td>Lottery Club</td>\n",
       "      <td>686</td>\n",
       "      <td>World vision</td>\n",
       "      <td>37.460664</td>\n",
       "      <td>-3.821329</td>\n",
       "      <td>Kwa Mahundi</td>\n",
       "      <td>0</td>\n",
       "      <td>...</td>\n",
       "      <td>per bucket</td>\n",
       "      <td>soft</td>\n",
       "      <td>good</td>\n",
       "      <td>enough</td>\n",
       "      <td>enough</td>\n",
       "      <td>dam</td>\n",
       "      <td>dam</td>\n",
       "      <td>surface</td>\n",
       "      <td>communal standpipe multiple</td>\n",
       "      <td>communal standpipe</td>\n",
       "    </tr>\n",
       "    <tr>\n",
       "      <th>3</th>\n",
       "      <td>67743</td>\n",
       "      <td>0.0</td>\n",
       "      <td>2013-01-28</td>\n",
       "      <td>Unicef</td>\n",
       "      <td>263</td>\n",
       "      <td>UNICEF</td>\n",
       "      <td>38.486161</td>\n",
       "      <td>-11.155298</td>\n",
       "      <td>Zahanati Ya Nanyumbu</td>\n",
       "      <td>0</td>\n",
       "      <td>...</td>\n",
       "      <td>never pay</td>\n",
       "      <td>soft</td>\n",
       "      <td>good</td>\n",
       "      <td>dry</td>\n",
       "      <td>dry</td>\n",
       "      <td>machine dbh</td>\n",
       "      <td>borehole</td>\n",
       "      <td>groundwater</td>\n",
       "      <td>communal standpipe multiple</td>\n",
       "      <td>communal standpipe</td>\n",
       "    </tr>\n",
       "    <tr>\n",
       "      <th>4</th>\n",
       "      <td>19728</td>\n",
       "      <td>0.0</td>\n",
       "      <td>2011-07-13</td>\n",
       "      <td>Action In A</td>\n",
       "      <td>0</td>\n",
       "      <td>Artisan</td>\n",
       "      <td>31.130847</td>\n",
       "      <td>-1.825359</td>\n",
       "      <td>Shuleni</td>\n",
       "      <td>0</td>\n",
       "      <td>...</td>\n",
       "      <td>never pay</td>\n",
       "      <td>soft</td>\n",
       "      <td>good</td>\n",
       "      <td>seasonal</td>\n",
       "      <td>seasonal</td>\n",
       "      <td>rainwater harvesting</td>\n",
       "      <td>rainwater harvesting</td>\n",
       "      <td>surface</td>\n",
       "      <td>communal standpipe</td>\n",
       "      <td>communal standpipe</td>\n",
       "    </tr>\n",
       "    <tr>\n",
       "      <th>...</th>\n",
       "      <td>...</td>\n",
       "      <td>...</td>\n",
       "      <td>...</td>\n",
       "      <td>...</td>\n",
       "      <td>...</td>\n",
       "      <td>...</td>\n",
       "      <td>...</td>\n",
       "      <td>...</td>\n",
       "      <td>...</td>\n",
       "      <td>...</td>\n",
       "      <td>...</td>\n",
       "      <td>...</td>\n",
       "      <td>...</td>\n",
       "      <td>...</td>\n",
       "      <td>...</td>\n",
       "      <td>...</td>\n",
       "      <td>...</td>\n",
       "      <td>...</td>\n",
       "      <td>...</td>\n",
       "      <td>...</td>\n",
       "      <td>...</td>\n",
       "    </tr>\n",
       "    <tr>\n",
       "      <th>59395</th>\n",
       "      <td>60739</td>\n",
       "      <td>10.0</td>\n",
       "      <td>2013-05-03</td>\n",
       "      <td>Germany Republi</td>\n",
       "      <td>1210</td>\n",
       "      <td>CES</td>\n",
       "      <td>37.169807</td>\n",
       "      <td>-3.253847</td>\n",
       "      <td>Area Three Namba 27</td>\n",
       "      <td>0</td>\n",
       "      <td>...</td>\n",
       "      <td>per bucket</td>\n",
       "      <td>soft</td>\n",
       "      <td>good</td>\n",
       "      <td>enough</td>\n",
       "      <td>enough</td>\n",
       "      <td>spring</td>\n",
       "      <td>spring</td>\n",
       "      <td>groundwater</td>\n",
       "      <td>communal standpipe</td>\n",
       "      <td>communal standpipe</td>\n",
       "    </tr>\n",
       "    <tr>\n",
       "      <th>59396</th>\n",
       "      <td>27263</td>\n",
       "      <td>4700.0</td>\n",
       "      <td>2011-05-07</td>\n",
       "      <td>Cefa-njombe</td>\n",
       "      <td>1212</td>\n",
       "      <td>Cefa</td>\n",
       "      <td>35.249991</td>\n",
       "      <td>-9.070629</td>\n",
       "      <td>Kwa Yahona Kuvala</td>\n",
       "      <td>0</td>\n",
       "      <td>...</td>\n",
       "      <td>annually</td>\n",
       "      <td>soft</td>\n",
       "      <td>good</td>\n",
       "      <td>enough</td>\n",
       "      <td>enough</td>\n",
       "      <td>river</td>\n",
       "      <td>river/lake</td>\n",
       "      <td>surface</td>\n",
       "      <td>communal standpipe</td>\n",
       "      <td>communal standpipe</td>\n",
       "    </tr>\n",
       "    <tr>\n",
       "      <th>59397</th>\n",
       "      <td>37057</td>\n",
       "      <td>0.0</td>\n",
       "      <td>2011-04-11</td>\n",
       "      <td>NaN</td>\n",
       "      <td>0</td>\n",
       "      <td>NaN</td>\n",
       "      <td>34.017087</td>\n",
       "      <td>-8.750434</td>\n",
       "      <td>Mashine</td>\n",
       "      <td>0</td>\n",
       "      <td>...</td>\n",
       "      <td>monthly</td>\n",
       "      <td>fluoride</td>\n",
       "      <td>fluoride</td>\n",
       "      <td>enough</td>\n",
       "      <td>enough</td>\n",
       "      <td>machine dbh</td>\n",
       "      <td>borehole</td>\n",
       "      <td>groundwater</td>\n",
       "      <td>hand pump</td>\n",
       "      <td>hand pump</td>\n",
       "    </tr>\n",
       "    <tr>\n",
       "      <th>59398</th>\n",
       "      <td>31282</td>\n",
       "      <td>0.0</td>\n",
       "      <td>2011-03-08</td>\n",
       "      <td>Malec</td>\n",
       "      <td>0</td>\n",
       "      <td>Musa</td>\n",
       "      <td>35.861315</td>\n",
       "      <td>-6.378573</td>\n",
       "      <td>Mshoro</td>\n",
       "      <td>0</td>\n",
       "      <td>...</td>\n",
       "      <td>never pay</td>\n",
       "      <td>soft</td>\n",
       "      <td>good</td>\n",
       "      <td>insufficient</td>\n",
       "      <td>insufficient</td>\n",
       "      <td>shallow well</td>\n",
       "      <td>shallow well</td>\n",
       "      <td>groundwater</td>\n",
       "      <td>hand pump</td>\n",
       "      <td>hand pump</td>\n",
       "    </tr>\n",
       "    <tr>\n",
       "      <th>59399</th>\n",
       "      <td>26348</td>\n",
       "      <td>0.0</td>\n",
       "      <td>2011-03-23</td>\n",
       "      <td>World Bank</td>\n",
       "      <td>191</td>\n",
       "      <td>World</td>\n",
       "      <td>38.104048</td>\n",
       "      <td>-6.747464</td>\n",
       "      <td>Kwa Mzee Lugawa</td>\n",
       "      <td>0</td>\n",
       "      <td>...</td>\n",
       "      <td>on failure</td>\n",
       "      <td>salty</td>\n",
       "      <td>salty</td>\n",
       "      <td>enough</td>\n",
       "      <td>enough</td>\n",
       "      <td>shallow well</td>\n",
       "      <td>shallow well</td>\n",
       "      <td>groundwater</td>\n",
       "      <td>hand pump</td>\n",
       "      <td>hand pump</td>\n",
       "    </tr>\n",
       "  </tbody>\n",
       "</table>\n",
       "<p>59400 rows × 40 columns</p>\n",
       "</div>"
      ],
      "text/plain": [
       "          id  amount_tsh date_recorded           funder  gps_height  \\\n",
       "0      69572      6000.0    2011-03-14            Roman        1390   \n",
       "1       8776         0.0    2013-03-06          Grumeti        1399   \n",
       "2      34310        25.0    2013-02-25     Lottery Club         686   \n",
       "3      67743         0.0    2013-01-28           Unicef         263   \n",
       "4      19728         0.0    2011-07-13      Action In A           0   \n",
       "...      ...         ...           ...              ...         ...   \n",
       "59395  60739        10.0    2013-05-03  Germany Republi        1210   \n",
       "59396  27263      4700.0    2011-05-07      Cefa-njombe        1212   \n",
       "59397  37057         0.0    2011-04-11              NaN           0   \n",
       "59398  31282         0.0    2011-03-08            Malec           0   \n",
       "59399  26348         0.0    2011-03-23       World Bank         191   \n",
       "\n",
       "          installer  longitude   latitude              wpt_name  num_private  \\\n",
       "0             Roman  34.938093  -9.856322                  none            0   \n",
       "1           GRUMETI  34.698766  -2.147466              Zahanati            0   \n",
       "2      World vision  37.460664  -3.821329           Kwa Mahundi            0   \n",
       "3            UNICEF  38.486161 -11.155298  Zahanati Ya Nanyumbu            0   \n",
       "4           Artisan  31.130847  -1.825359               Shuleni            0   \n",
       "...             ...        ...        ...                   ...          ...   \n",
       "59395           CES  37.169807  -3.253847   Area Three Namba 27            0   \n",
       "59396          Cefa  35.249991  -9.070629     Kwa Yahona Kuvala            0   \n",
       "59397           NaN  34.017087  -8.750434               Mashine            0   \n",
       "59398          Musa  35.861315  -6.378573                Mshoro            0   \n",
       "59399         World  38.104048  -6.747464       Kwa Mzee Lugawa            0   \n",
       "\n",
       "       ... payment_type water_quality quality_group      quantity  \\\n",
       "0      ...     annually          soft          good        enough   \n",
       "1      ...    never pay          soft          good  insufficient   \n",
       "2      ...   per bucket          soft          good        enough   \n",
       "3      ...    never pay          soft          good           dry   \n",
       "4      ...    never pay          soft          good      seasonal   \n",
       "...    ...          ...           ...           ...           ...   \n",
       "59395  ...   per bucket          soft          good        enough   \n",
       "59396  ...     annually          soft          good        enough   \n",
       "59397  ...      monthly      fluoride      fluoride        enough   \n",
       "59398  ...    never pay          soft          good  insufficient   \n",
       "59399  ...   on failure         salty         salty        enough   \n",
       "\n",
       "       quantity_group                source           source_type  \\\n",
       "0              enough                spring                spring   \n",
       "1        insufficient  rainwater harvesting  rainwater harvesting   \n",
       "2              enough                   dam                   dam   \n",
       "3                 dry           machine dbh              borehole   \n",
       "4            seasonal  rainwater harvesting  rainwater harvesting   \n",
       "...               ...                   ...                   ...   \n",
       "59395          enough                spring                spring   \n",
       "59396          enough                 river            river/lake   \n",
       "59397          enough           machine dbh              borehole   \n",
       "59398    insufficient          shallow well          shallow well   \n",
       "59399          enough          shallow well          shallow well   \n",
       "\n",
       "       source_class              waterpoint_type waterpoint_type_group  \n",
       "0       groundwater           communal standpipe    communal standpipe  \n",
       "1           surface           communal standpipe    communal standpipe  \n",
       "2           surface  communal standpipe multiple    communal standpipe  \n",
       "3       groundwater  communal standpipe multiple    communal standpipe  \n",
       "4           surface           communal standpipe    communal standpipe  \n",
       "...             ...                          ...                   ...  \n",
       "59395   groundwater           communal standpipe    communal standpipe  \n",
       "59396       surface           communal standpipe    communal standpipe  \n",
       "59397   groundwater                    hand pump             hand pump  \n",
       "59398   groundwater                    hand pump             hand pump  \n",
       "59399   groundwater                    hand pump             hand pump  \n",
       "\n",
       "[59400 rows x 40 columns]"
      ]
     },
     "execution_count": 4,
     "metadata": {},
     "output_type": "execute_result"
    }
   ],
   "source": [
    "train_data_values"
   ]
  },
  {
   "cell_type": "markdown",
   "metadata": {},
   "source": [
    "# Preprocessing"
   ]
  },
  {
   "cell_type": "code",
   "execution_count": 5,
   "metadata": {
    "execution": {
     "iopub.execute_input": "2021-09-16T07:08:04.704421Z",
     "iopub.status.busy": "2021-09-16T07:08:04.704024Z",
     "iopub.status.idle": "2021-09-16T07:08:04.811687Z",
     "shell.execute_reply": "2021-09-16T07:08:04.810611Z",
     "shell.execute_reply.started": "2021-09-16T07:08:04.704384Z"
    }
   },
   "outputs": [],
   "source": [
    "data=train_data.append(test_data)"
   ]
  },
  {
   "cell_type": "code",
   "execution_count": 6,
   "metadata": {
    "execution": {
     "iopub.execute_input": "2021-09-16T07:08:04.813180Z",
     "iopub.status.busy": "2021-09-16T07:08:04.812859Z",
     "iopub.status.idle": "2021-09-16T07:08:04.929864Z",
     "shell.execute_reply": "2021-09-16T07:08:04.928311Z",
     "shell.execute_reply.started": "2021-09-16T07:08:04.813147Z"
    }
   },
   "outputs": [
    {
     "name": "stdout",
     "output_type": "stream",
     "text": [
      "<class 'pandas.core.frame.DataFrame'>\n",
      "Int64Index: 74250 entries, 0 to 14849\n",
      "Data columns (total 41 columns):\n",
      " #   Column                 Non-Null Count  Dtype  \n",
      "---  ------                 --------------  -----  \n",
      " 0   id                     74250 non-null  int64  \n",
      " 1   amount_tsh             74250 non-null  float64\n",
      " 2   date_recorded          74250 non-null  object \n",
      " 3   funder                 69746 non-null  object \n",
      " 4   gps_height             74250 non-null  int64  \n",
      " 5   installer              69718 non-null  object \n",
      " 6   longitude              74250 non-null  float64\n",
      " 7   latitude               74250 non-null  float64\n",
      " 8   wpt_name               74250 non-null  object \n",
      " 9   num_private            74250 non-null  int64  \n",
      " 10  basin                  74250 non-null  object \n",
      " 11  subvillage             73780 non-null  object \n",
      " 12  region                 74250 non-null  object \n",
      " 13  region_code            74250 non-null  int64  \n",
      " 14  district_code          74250 non-null  int64  \n",
      " 15  lga                    74250 non-null  object \n",
      " 16  ward                   74250 non-null  object \n",
      " 17  population             74250 non-null  int64  \n",
      " 18  public_meeting         70095 non-null  object \n",
      " 19  recorded_by            74250 non-null  object \n",
      " 20  scheme_management      69404 non-null  object \n",
      " 21  scheme_name            38992 non-null  object \n",
      " 22  permit                 70457 non-null  object \n",
      " 23  construction_year      74250 non-null  int64  \n",
      " 24  extraction_type        74250 non-null  object \n",
      " 25  extraction_type_group  74250 non-null  object \n",
      " 26  extraction_type_class  74250 non-null  object \n",
      " 27  management             74250 non-null  object \n",
      " 28  management_group       74250 non-null  object \n",
      " 29  payment                74250 non-null  object \n",
      " 30  payment_type           74250 non-null  object \n",
      " 31  water_quality          74250 non-null  object \n",
      " 32  quality_group          74250 non-null  object \n",
      " 33  quantity               74250 non-null  object \n",
      " 34  quantity_group         74250 non-null  object \n",
      " 35  source                 74250 non-null  object \n",
      " 36  source_type            74250 non-null  object \n",
      " 37  source_class           74250 non-null  object \n",
      " 38  waterpoint_type        74250 non-null  object \n",
      " 39  waterpoint_type_group  74250 non-null  object \n",
      " 40  status_group           59400 non-null  object \n",
      "dtypes: float64(3), int64(7), object(31)\n",
      "memory usage: 23.8+ MB\n"
     ]
    }
   ],
   "source": [
    "data.info()"
   ]
  },
  {
   "cell_type": "code",
   "execution_count": 7,
   "metadata": {
    "execution": {
     "iopub.execute_input": "2021-09-16T07:08:04.931838Z",
     "iopub.status.busy": "2021-09-16T07:08:04.931397Z",
     "iopub.status.idle": "2021-09-16T07:08:05.040799Z",
     "shell.execute_reply": "2021-09-16T07:08:05.039757Z",
     "shell.execute_reply.started": "2021-09-16T07:08:04.931794Z"
    }
   },
   "outputs": [
    {
     "data": {
      "text/plain": [
       "id                           0\n",
       "amount_tsh                   0\n",
       "date_recorded                0\n",
       "funder                    4504\n",
       "gps_height                   0\n",
       "installer                 4532\n",
       "longitude                    0\n",
       "latitude                     0\n",
       "wpt_name                     0\n",
       "num_private                  0\n",
       "basin                        0\n",
       "subvillage                 470\n",
       "region                       0\n",
       "region_code                  0\n",
       "district_code                0\n",
       "lga                          0\n",
       "ward                         0\n",
       "population                   0\n",
       "public_meeting            4155\n",
       "recorded_by                  0\n",
       "scheme_management         4846\n",
       "scheme_name              35258\n",
       "permit                    3793\n",
       "construction_year            0\n",
       "extraction_type              0\n",
       "extraction_type_group        0\n",
       "extraction_type_class        0\n",
       "management                   0\n",
       "management_group             0\n",
       "payment                      0\n",
       "payment_type                 0\n",
       "water_quality                0\n",
       "quality_group                0\n",
       "quantity                     0\n",
       "quantity_group               0\n",
       "source                       0\n",
       "source_type                  0\n",
       "source_class                 0\n",
       "waterpoint_type              0\n",
       "waterpoint_type_group        0\n",
       "status_group             14850\n",
       "dtype: int64"
      ]
     },
     "execution_count": 7,
     "metadata": {},
     "output_type": "execute_result"
    }
   ],
   "source": [
    "data.isnull().sum()"
   ]
  },
  {
   "cell_type": "code",
   "execution_count": 8,
   "metadata": {
    "execution": {
     "iopub.execute_input": "2021-09-16T07:08:05.042537Z",
     "iopub.status.busy": "2021-09-16T07:08:05.042227Z",
     "iopub.status.idle": "2021-09-16T07:08:05.059478Z",
     "shell.execute_reply": "2021-09-16T07:08:05.058127Z",
     "shell.execute_reply.started": "2021-09-16T07:08:05.042503Z"
    }
   },
   "outputs": [
    {
     "data": {
      "text/plain": [
       "functional                 32259\n",
       "non functional             22824\n",
       "functional needs repair     4317\n",
       "Name: status_group, dtype: int64"
      ]
     },
     "execution_count": 8,
     "metadata": {},
     "output_type": "execute_result"
    }
   ],
   "source": [
    "data.status_group.value_counts()"
   ]
  },
  {
   "cell_type": "markdown",
   "metadata": {},
   "source": [
    "# #drop list\n",
    "1. management_group : similar to 'management', 'management' has more detailed values\n",
    "2. scheme_management : similar to 'management', 'scheme_management' has 3877 null values\n",
    "3. quantity_group : similar to 'quantity'\n",
    "4. source_class : similar to 'source'\n",
    "5. source_type : similar to 'source'\n",
    "6. quality_group : similar to 'water_quality'\n",
    "7. payment_type : similar to 'payment'\n",
    "8. extraction_type : similar to 'extraction_type_group', 'extraction_type_group' has more compact values\n",
    "9. extraction_type_class : similar to 'extraction_type_group', 'extraction_type_group' has more detailed values\n",
    "10. waterpoint_type_group : similar to 'waterpoint_type', 'waterpoint_type' has more detailed values\n",
    "11. recorded_by : has only one value, doesn't have any information\n",
    "12. wpt_name : does not have any information about functionality\n",
    "13. scheme_name : does not have any information about functionality\n",
    "14. ** amount_tsh: does not have enough informative values\n",
    "15. num_private : most of the values are zero\n",
    "16. date_recorded : does not have necessary information about functionality\n",
    "17. subvillage : region and region_code are representing the same thing"
   ]
  },
  {
   "cell_type": "code",
   "execution_count": 9,
   "metadata": {
    "execution": {
     "iopub.execute_input": "2021-09-16T07:08:05.064642Z",
     "iopub.status.busy": "2021-09-16T07:08:05.064224Z",
     "iopub.status.idle": "2021-09-16T07:08:05.294887Z",
     "shell.execute_reply": "2021-09-16T07:08:05.293532Z",
     "shell.execute_reply.started": "2021-09-16T07:08:05.064604Z"
    }
   },
   "outputs": [
    {
     "name": "stderr",
     "output_type": "stream",
     "text": [
      "C:\\ProgramData\\Anaconda3\\lib\\site-packages\\seaborn\\_decorators.py:36: FutureWarning: Pass the following variable as a keyword arg: x. From version 0.12, the only valid positional argument will be `data`, and passing other arguments without an explicit keyword will result in an error or misinterpretation.\n",
      "  warnings.warn(\n"
     ]
    },
    {
     "data": {
      "text/plain": [
       "functional                 32259\n",
       "non functional             22824\n",
       "functional needs repair     4317\n",
       "Name: status_group, dtype: int64"
      ]
     },
     "execution_count": 9,
     "metadata": {},
     "output_type": "execute_result"
    },
    {
     "data": {
      "image/png": "[encoded data removed]",
      "text/plain": [
       "<Figure size 1152x432 with 1 Axes>"
      ]
     },
     "metadata": {
      "needs_background": "light"
     },
     "output_type": "display_data"
    }
   ],
   "source": [
    "\n",
    "plt.figure(figsize=(16,6))\n",
    "sns.countplot(data.status_group, palette = 'Set3')\n",
    "data.status_group.value_counts()"
   ]
  },
  {
   "cell_type": "markdown",
   "metadata": {},
   "source": [
    "# 1.1. management /scheme_management / management_group columns"
   ]
  },
  {
   "cell_type": "code",
   "execution_count": 10,
   "metadata": {
    "execution": {
     "iopub.execute_input": "2021-09-16T07:08:05.297416Z",
     "iopub.status.busy": "2021-09-16T07:08:05.297069Z",
     "iopub.status.idle": "2021-09-16T07:08:05.969454Z",
     "shell.execute_reply": "2021-09-16T07:08:05.968226Z",
     "shell.execute_reply.started": "2021-09-16T07:08:05.297375Z"
    }
   },
   "outputs": [
    {
     "name": "stderr",
     "output_type": "stream",
     "text": [
      "C:\\ProgramData\\Anaconda3\\lib\\site-packages\\seaborn\\_decorators.py:36: FutureWarning: Pass the following variable as a keyword arg: x. From version 0.12, the only valid positional argument will be `data`, and passing other arguments without an explicit keyword will result in an error or misinterpretation.\n",
      "  warnings.warn(\n",
      "C:\\ProgramData\\Anaconda3\\lib\\site-packages\\seaborn\\_decorators.py:36: FutureWarning: Pass the following variable as a keyword arg: x. From version 0.12, the only valid positional argument will be `data`, and passing other arguments without an explicit keyword will result in an error or misinterpretation.\n",
      "  warnings.warn(\n",
      "C:\\ProgramData\\Anaconda3\\lib\\site-packages\\seaborn\\_decorators.py:36: FutureWarning: Pass the following variable as a keyword arg: x. From version 0.12, the only valid positional argument will be `data`, and passing other arguments without an explicit keyword will result in an error or misinterpretation.\n",
      "  warnings.warn(\n",
      "<ipython-input-10-38e6d694ec40>:6: UserWarning: Matplotlib is currently using module://ipykernel.pylab.backend_inline, which is a non-GUI backend, so cannot show the figure.\n",
      "  fig.show()\n"
     ]
    },
    {
     "data": {
      "image/png": "[encoded data removed]",
      "text/plain": [
       "<Figure size 1440x576 with 3 Axes>"
      ]
     },
     "metadata": {
      "needs_background": "light"
     },
     "output_type": "display_data"
    }
   ],
   "source": [
    "plt.rcParams[\"figure.figsize\"] = (20,8)\n",
    "fig, axes = plt.subplots(1, 3)\n",
    "sns.countplot(data.management, x='col1', ax=axes[0], palette = 'Set3', )\n",
    "sns.countplot(data.scheme_management, x=\"col2\", ax=axes[1], palette = 'Set3')\n",
    "sns.countplot(data.management_group, x=\"col3\", ax=axes[2], palette = 'Set3')\n",
    "fig.show()"
   ]
  },
  {
   "cell_type": "code",
   "execution_count": 11,
   "metadata": {
    "execution": {
     "iopub.execute_input": "2021-09-16T07:08:05.971605Z",
     "iopub.status.busy": "2021-09-16T07:08:05.971159Z",
     "iopub.status.idle": "2021-09-16T07:08:05.989516Z",
     "shell.execute_reply": "2021-09-16T07:08:05.988157Z",
     "shell.execute_reply.started": "2021-09-16T07:08:05.971556Z"
    }
   },
   "outputs": [
    {
     "data": {
      "text/plain": [
       "vwc                 50624\n",
       "wug                  8108\n",
       "water board          3688\n",
       "wua                  3118\n",
       "private operator     2504\n",
       "parastatal           2229\n",
       "water authority      1123\n",
       "other                1083\n",
       "company               859\n",
       "unknown               683\n",
       "other - school        126\n",
       "trust                 105\n",
       "Name: management, dtype: int64"
      ]
     },
     "execution_count": 11,
     "metadata": {},
     "output_type": "execute_result"
    }
   ],
   "source": [
    "data['management'].value_counts()"
   ]
  },
  {
   "cell_type": "code",
   "execution_count": 12,
   "metadata": {
    "execution": {
     "iopub.execute_input": "2021-09-16T07:08:05.992380Z",
     "iopub.status.busy": "2021-09-16T07:08:05.991880Z",
     "iopub.status.idle": "2021-09-16T07:08:06.011853Z",
     "shell.execute_reply": "2021-09-16T07:08:06.010592Z",
     "shell.execute_reply.started": "2021-09-16T07:08:05.992327Z"
    }
   },
   "outputs": [
    {
     "data": {
      "text/plain": [
       "VWC                 45917\n",
       "WUG                  6496\n",
       "Water authority      3975\n",
       "WUA                  3551\n",
       "Water Board          3462\n",
       "Parastatal           2124\n",
       "Company              1341\n",
       "Private operator     1326\n",
       "Other                 996\n",
       "SWC                   123\n",
       "Trust                  92\n",
       "None                    1\n",
       "Name: scheme_management, dtype: int64"
      ]
     },
     "execution_count": 12,
     "metadata": {},
     "output_type": "execute_result"
    }
   ],
   "source": [
    "data['scheme_management'].value_counts()"
   ]
  },
  {
   "cell_type": "code",
   "execution_count": 13,
   "metadata": {
    "execution": {
     "iopub.execute_input": "2021-09-16T07:08:06.014278Z",
     "iopub.status.busy": "2021-09-16T07:08:06.013805Z",
     "iopub.status.idle": "2021-09-16T07:08:06.032966Z",
     "shell.execute_reply": "2021-09-16T07:08:06.031579Z",
     "shell.execute_reply.started": "2021-09-16T07:08:06.014224Z"
    }
   },
   "outputs": [
    {
     "data": {
      "text/plain": [
       "user-group    65538\n",
       "commercial     4591\n",
       "parastatal     2229\n",
       "other          1209\n",
       "unknown         683\n",
       "Name: management_group, dtype: int64"
      ]
     },
     "execution_count": 13,
     "metadata": {},
     "output_type": "execute_result"
    }
   ],
   "source": [
    "data['management_group'].value_counts()"
   ]
  },
  {
   "cell_type": "code",
   "execution_count": 14,
   "metadata": {
    "execution": {
     "iopub.execute_input": "2021-09-16T07:08:06.034391Z",
     "iopub.status.busy": "2021-09-16T07:08:06.034091Z",
     "iopub.status.idle": "2021-09-16T07:08:06.264380Z",
     "shell.execute_reply": "2021-09-16T07:08:06.263190Z",
     "shell.execute_reply.started": "2021-09-16T07:08:06.034362Z"
    }
   },
   "outputs": [
    {
     "data": {
      "text/html": [
       "<div>\n",
       "<style scoped>\n",
       "    .dataframe tbody tr th:only-of-type {\n",
       "        vertical-align: middle;\n",
       "    }\n",
       "\n",
       "    .dataframe tbody tr th {\n",
       "        vertical-align: top;\n",
       "    }\n",
       "\n",
       "    .dataframe thead th {\n",
       "        text-align: right;\n",
       "    }\n",
       "</style>\n",
       "<table border=\"1\" class=\"dataframe\">\n",
       "  <thead>\n",
       "    <tr style=\"text-align: right;\">\n",
       "      <th></th>\n",
       "      <th></th>\n",
       "      <th>id</th>\n",
       "      <th>amount_tsh</th>\n",
       "      <th>date_recorded</th>\n",
       "      <th>funder</th>\n",
       "      <th>gps_height</th>\n",
       "      <th>installer</th>\n",
       "      <th>longitude</th>\n",
       "      <th>latitude</th>\n",
       "      <th>wpt_name</th>\n",
       "      <th>num_private</th>\n",
       "      <th>...</th>\n",
       "      <th>water_quality</th>\n",
       "      <th>quality_group</th>\n",
       "      <th>quantity</th>\n",
       "      <th>quantity_group</th>\n",
       "      <th>source</th>\n",
       "      <th>source_type</th>\n",
       "      <th>source_class</th>\n",
       "      <th>waterpoint_type</th>\n",
       "      <th>waterpoint_type_group</th>\n",
       "      <th>status_group</th>\n",
       "    </tr>\n",
       "    <tr>\n",
       "      <th>management_group</th>\n",
       "      <th>management</th>\n",
       "      <th></th>\n",
       "      <th></th>\n",
       "      <th></th>\n",
       "      <th></th>\n",
       "      <th></th>\n",
       "      <th></th>\n",
       "      <th></th>\n",
       "      <th></th>\n",
       "      <th></th>\n",
       "      <th></th>\n",
       "      <th></th>\n",
       "      <th></th>\n",
       "      <th></th>\n",
       "      <th></th>\n",
       "      <th></th>\n",
       "      <th></th>\n",
       "      <th></th>\n",
       "      <th></th>\n",
       "      <th></th>\n",
       "      <th></th>\n",
       "      <th></th>\n",
       "    </tr>\n",
       "  </thead>\n",
       "  <tbody>\n",
       "    <tr>\n",
       "      <th rowspan=\"4\" valign=\"top\">commercial</th>\n",
       "      <th>company</th>\n",
       "      <td>859</td>\n",
       "      <td>859</td>\n",
       "      <td>859</td>\n",
       "      <td>834</td>\n",
       "      <td>859</td>\n",
       "      <td>834</td>\n",
       "      <td>859</td>\n",
       "      <td>859</td>\n",
       "      <td>859</td>\n",
       "      <td>859</td>\n",
       "      <td>...</td>\n",
       "      <td>859</td>\n",
       "      <td>859</td>\n",
       "      <td>859</td>\n",
       "      <td>859</td>\n",
       "      <td>859</td>\n",
       "      <td>859</td>\n",
       "      <td>859</td>\n",
       "      <td>859</td>\n",
       "      <td>859</td>\n",
       "      <td>685</td>\n",
       "    </tr>\n",
       "    <tr>\n",
       "      <th>private operator</th>\n",
       "      <td>2504</td>\n",
       "      <td>2504</td>\n",
       "      <td>2504</td>\n",
       "      <td>2484</td>\n",
       "      <td>2504</td>\n",
       "      <td>2486</td>\n",
       "      <td>2504</td>\n",
       "      <td>2504</td>\n",
       "      <td>2504</td>\n",
       "      <td>2504</td>\n",
       "      <td>...</td>\n",
       "      <td>2504</td>\n",
       "      <td>2504</td>\n",
       "      <td>2504</td>\n",
       "      <td>2504</td>\n",
       "      <td>2504</td>\n",
       "      <td>2504</td>\n",
       "      <td>2504</td>\n",
       "      <td>2504</td>\n",
       "      <td>2504</td>\n",
       "      <td>1971</td>\n",
       "    </tr>\n",
       "    <tr>\n",
       "      <th>trust</th>\n",
       "      <td>105</td>\n",
       "      <td>105</td>\n",
       "      <td>105</td>\n",
       "      <td>105</td>\n",
       "      <td>105</td>\n",
       "      <td>105</td>\n",
       "      <td>105</td>\n",
       "      <td>105</td>\n",
       "      <td>105</td>\n",
       "      <td>105</td>\n",
       "      <td>...</td>\n",
       "      <td>105</td>\n",
       "      <td>105</td>\n",
       "      <td>105</td>\n",
       "      <td>105</td>\n",
       "      <td>105</td>\n",
       "      <td>105</td>\n",
       "      <td>105</td>\n",
       "      <td>105</td>\n",
       "      <td>105</td>\n",
       "      <td>78</td>\n",
       "    </tr>\n",
       "    <tr>\n",
       "      <th>water authority</th>\n",
       "      <td>1123</td>\n",
       "      <td>1123</td>\n",
       "      <td>1123</td>\n",
       "      <td>1046</td>\n",
       "      <td>1123</td>\n",
       "      <td>1046</td>\n",
       "      <td>1123</td>\n",
       "      <td>1123</td>\n",
       "      <td>1123</td>\n",
       "      <td>1123</td>\n",
       "      <td>...</td>\n",
       "      <td>1123</td>\n",
       "      <td>1123</td>\n",
       "      <td>1123</td>\n",
       "      <td>1123</td>\n",
       "      <td>1123</td>\n",
       "      <td>1123</td>\n",
       "      <td>1123</td>\n",
       "      <td>1123</td>\n",
       "      <td>1123</td>\n",
       "      <td>904</td>\n",
       "    </tr>\n",
       "    <tr>\n",
       "      <th rowspan=\"2\" valign=\"top\">other</th>\n",
       "      <th>other</th>\n",
       "      <td>1083</td>\n",
       "      <td>1083</td>\n",
       "      <td>1083</td>\n",
       "      <td>1075</td>\n",
       "      <td>1083</td>\n",
       "      <td>1069</td>\n",
       "      <td>1083</td>\n",
       "      <td>1083</td>\n",
       "      <td>1083</td>\n",
       "      <td>1083</td>\n",
       "      <td>...</td>\n",
       "      <td>1083</td>\n",
       "      <td>1083</td>\n",
       "      <td>1083</td>\n",
       "      <td>1083</td>\n",
       "      <td>1083</td>\n",
       "      <td>1083</td>\n",
       "      <td>1083</td>\n",
       "      <td>1083</td>\n",
       "      <td>1083</td>\n",
       "      <td>844</td>\n",
       "    </tr>\n",
       "    <tr>\n",
       "      <th>other - school</th>\n",
       "      <td>126</td>\n",
       "      <td>126</td>\n",
       "      <td>126</td>\n",
       "      <td>126</td>\n",
       "      <td>126</td>\n",
       "      <td>126</td>\n",
       "      <td>126</td>\n",
       "      <td>126</td>\n",
       "      <td>126</td>\n",
       "      <td>126</td>\n",
       "      <td>...</td>\n",
       "      <td>126</td>\n",
       "      <td>126</td>\n",
       "      <td>126</td>\n",
       "      <td>126</td>\n",
       "      <td>126</td>\n",
       "      <td>126</td>\n",
       "      <td>126</td>\n",
       "      <td>126</td>\n",
       "      <td>126</td>\n",
       "      <td>99</td>\n",
       "    </tr>\n",
       "    <tr>\n",
       "      <th>parastatal</th>\n",
       "      <th>parastatal</th>\n",
       "      <td>2229</td>\n",
       "      <td>2229</td>\n",
       "      <td>2229</td>\n",
       "      <td>2045</td>\n",
       "      <td>2229</td>\n",
       "      <td>2044</td>\n",
       "      <td>2229</td>\n",
       "      <td>2229</td>\n",
       "      <td>2229</td>\n",
       "      <td>2229</td>\n",
       "      <td>...</td>\n",
       "      <td>2229</td>\n",
       "      <td>2229</td>\n",
       "      <td>2229</td>\n",
       "      <td>2229</td>\n",
       "      <td>2229</td>\n",
       "      <td>2229</td>\n",
       "      <td>2229</td>\n",
       "      <td>2229</td>\n",
       "      <td>2229</td>\n",
       "      <td>1768</td>\n",
       "    </tr>\n",
       "    <tr>\n",
       "      <th>unknown</th>\n",
       "      <th>unknown</th>\n",
       "      <td>683</td>\n",
       "      <td>683</td>\n",
       "      <td>683</td>\n",
       "      <td>648</td>\n",
       "      <td>683</td>\n",
       "      <td>639</td>\n",
       "      <td>683</td>\n",
       "      <td>683</td>\n",
       "      <td>683</td>\n",
       "      <td>683</td>\n",
       "      <td>...</td>\n",
       "      <td>683</td>\n",
       "      <td>683</td>\n",
       "      <td>683</td>\n",
       "      <td>683</td>\n",
       "      <td>683</td>\n",
       "      <td>683</td>\n",
       "      <td>683</td>\n",
       "      <td>683</td>\n",
       "      <td>683</td>\n",
       "      <td>561</td>\n",
       "    </tr>\n",
       "    <tr>\n",
       "      <th rowspan=\"4\" valign=\"top\">user-group</th>\n",
       "      <th>vwc</th>\n",
       "      <td>50624</td>\n",
       "      <td>50624</td>\n",
       "      <td>50624</td>\n",
       "      <td>47065</td>\n",
       "      <td>50624</td>\n",
       "      <td>47062</td>\n",
       "      <td>50624</td>\n",
       "      <td>50624</td>\n",
       "      <td>50624</td>\n",
       "      <td>50624</td>\n",
       "      <td>...</td>\n",
       "      <td>50624</td>\n",
       "      <td>50624</td>\n",
       "      <td>50624</td>\n",
       "      <td>50624</td>\n",
       "      <td>50624</td>\n",
       "      <td>50624</td>\n",
       "      <td>50624</td>\n",
       "      <td>50624</td>\n",
       "      <td>50624</td>\n",
       "      <td>40507</td>\n",
       "    </tr>\n",
       "    <tr>\n",
       "      <th>water board</th>\n",
       "      <td>3688</td>\n",
       "      <td>3688</td>\n",
       "      <td>3688</td>\n",
       "      <td>3411</td>\n",
       "      <td>3688</td>\n",
       "      <td>3409</td>\n",
       "      <td>3688</td>\n",
       "      <td>3688</td>\n",
       "      <td>3688</td>\n",
       "      <td>3688</td>\n",
       "      <td>...</td>\n",
       "      <td>3688</td>\n",
       "      <td>3688</td>\n",
       "      <td>3688</td>\n",
       "      <td>3688</td>\n",
       "      <td>3688</td>\n",
       "      <td>3688</td>\n",
       "      <td>3688</td>\n",
       "      <td>3688</td>\n",
       "      <td>3688</td>\n",
       "      <td>2933</td>\n",
       "    </tr>\n",
       "    <tr>\n",
       "      <th>wua</th>\n",
       "      <td>3118</td>\n",
       "      <td>3118</td>\n",
       "      <td>3118</td>\n",
       "      <td>2842</td>\n",
       "      <td>3118</td>\n",
       "      <td>2843</td>\n",
       "      <td>3118</td>\n",
       "      <td>3118</td>\n",
       "      <td>3118</td>\n",
       "      <td>3118</td>\n",
       "      <td>...</td>\n",
       "      <td>3118</td>\n",
       "      <td>3118</td>\n",
       "      <td>3118</td>\n",
       "      <td>3118</td>\n",
       "      <td>3118</td>\n",
       "      <td>3118</td>\n",
       "      <td>3118</td>\n",
       "      <td>3118</td>\n",
       "      <td>3118</td>\n",
       "      <td>2535</td>\n",
       "    </tr>\n",
       "    <tr>\n",
       "      <th>wug</th>\n",
       "      <td>8108</td>\n",
       "      <td>8108</td>\n",
       "      <td>8108</td>\n",
       "      <td>8065</td>\n",
       "      <td>8108</td>\n",
       "      <td>8055</td>\n",
       "      <td>8108</td>\n",
       "      <td>8108</td>\n",
       "      <td>8108</td>\n",
       "      <td>8108</td>\n",
       "      <td>...</td>\n",
       "      <td>8108</td>\n",
       "      <td>8108</td>\n",
       "      <td>8108</td>\n",
       "      <td>8108</td>\n",
       "      <td>8108</td>\n",
       "      <td>8108</td>\n",
       "      <td>8108</td>\n",
       "      <td>8108</td>\n",
       "      <td>8108</td>\n",
       "      <td>6515</td>\n",
       "    </tr>\n",
       "  </tbody>\n",
       "</table>\n",
       "<p>12 rows × 39 columns</p>\n",
       "</div>"
      ],
      "text/plain": [
       "                                      id  amount_tsh  date_recorded  funder  \\\n",
       "management_group management                                                   \n",
       "commercial       company             859         859            859     834   \n",
       "                 private operator   2504        2504           2504    2484   \n",
       "                 trust               105         105            105     105   \n",
       "                 water authority    1123        1123           1123    1046   \n",
       "other            other              1083        1083           1083    1075   \n",
       "                 other - school      126         126            126     126   \n",
       "parastatal       parastatal         2229        2229           2229    2045   \n",
       "unknown          unknown             683         683            683     648   \n",
       "user-group       vwc               50624       50624          50624   47065   \n",
       "                 water board        3688        3688           3688    3411   \n",
       "                 wua                3118        3118           3118    2842   \n",
       "                 wug                8108        8108           8108    8065   \n",
       "\n",
       "                                   gps_height  installer  longitude  latitude  \\\n",
       "management_group management                                                     \n",
       "commercial       company                  859        834        859       859   \n",
       "                 private operator        2504       2486       2504      2504   \n",
       "                 trust                    105        105        105       105   \n",
       "                 water authority         1123       1046       1123      1123   \n",
       "other            other                   1083       1069       1083      1083   \n",
       "                 other - school           126        126        126       126   \n",
       "parastatal       parastatal              2229       2044       2229      2229   \n",
       "unknown          unknown                  683        639        683       683   \n",
       "user-group       vwc                    50624      47062      50624     50624   \n",
       "                 water board             3688       3409       3688      3688   \n",
       "                 wua                     3118       2843       3118      3118   \n",
       "                 wug                     8108       8055       8108      8108   \n",
       "\n",
       "                                   wpt_name  num_private  ...  water_quality  \\\n",
       "management_group management                               ...                  \n",
       "commercial       company                859          859  ...            859   \n",
       "                 private operator      2504         2504  ...           2504   \n",
       "                 trust                  105          105  ...            105   \n",
       "                 water authority       1123         1123  ...           1123   \n",
       "other            other                 1083         1083  ...           1083   \n",
       "                 other - school         126          126  ...            126   \n",
       "parastatal       parastatal            2229         2229  ...           2229   \n",
       "unknown          unknown                683          683  ...            683   \n",
       "user-group       vwc                  50624        50624  ...          50624   \n",
       "                 water board           3688         3688  ...           3688   \n",
       "                 wua                   3118         3118  ...           3118   \n",
       "                 wug                   8108         8108  ...           8108   \n",
       "\n",
       "                                   quality_group  quantity  quantity_group  \\\n",
       "management_group management                                                  \n",
       "commercial       company                     859       859             859   \n",
       "                 private operator           2504      2504            2504   \n",
       "                 trust                       105       105             105   \n",
       "                 water authority            1123      1123            1123   \n",
       "other            other                      1083      1083            1083   \n",
       "                 other - school              126       126             126   \n",
       "parastatal       parastatal                 2229      2229            2229   \n",
       "unknown          unknown                     683       683             683   \n",
       "user-group       vwc                       50624     50624           50624   \n",
       "                 water board                3688      3688            3688   \n",
       "                 wua                        3118      3118            3118   \n",
       "                 wug                        8108      8108            8108   \n",
       "\n",
       "                                   source  source_type  source_class  \\\n",
       "management_group management                                            \n",
       "commercial       company              859          859           859   \n",
       "                 private operator    2504         2504          2504   \n",
       "                 trust                105          105           105   \n",
       "                 water authority     1123         1123          1123   \n",
       "other            other               1083         1083          1083   \n",
       "                 other - school       126          126           126   \n",
       "parastatal       parastatal          2229         2229          2229   \n",
       "unknown          unknown              683          683           683   \n",
       "user-group       vwc                50624        50624         50624   \n",
       "                 water board         3688         3688          3688   \n",
       "                 wua                 3118         3118          3118   \n",
       "                 wug                 8108         8108          8108   \n",
       "\n",
       "                                   waterpoint_type  waterpoint_type_group  \\\n",
       "management_group management                                                 \n",
       "commercial       company                       859                    859   \n",
       "                 private operator             2504                   2504   \n",
       "                 trust                         105                    105   \n",
       "                 water authority              1123                   1123   \n",
       "other            other                        1083                   1083   \n",
       "                 other - school                126                    126   \n",
       "parastatal       parastatal                   2229                   2229   \n",
       "unknown          unknown                       683                    683   \n",
       "user-group       vwc                         50624                  50624   \n",
       "                 water board                  3688                   3688   \n",
       "                 wua                          3118                   3118   \n",
       "                 wug                          8108                   8108   \n",
       "\n",
       "                                   status_group  \n",
       "management_group management                      \n",
       "commercial       company                    685  \n",
       "                 private operator          1971  \n",
       "                 trust                       78  \n",
       "                 water authority            904  \n",
       "other            other                      844  \n",
       "                 other - school              99  \n",
       "parastatal       parastatal                1768  \n",
       "unknown          unknown                    561  \n",
       "user-group       vwc                      40507  \n",
       "                 water board               2933  \n",
       "                 wua                       2535  \n",
       "                 wug                       6515  \n",
       "\n",
       "[12 rows x 39 columns]"
      ]
     },
     "execution_count": 14,
     "metadata": {},
     "output_type": "execute_result"
    }
   ],
   "source": [
    "data.groupby(['management_group','management']).count()"
   ]
  },
  {
   "cell_type": "markdown",
   "metadata": {},
   "source": [
    "# 1.2. quantity / quantity_group columns"
   ]
  },
  {
   "cell_type": "code",
   "execution_count": 15,
   "metadata": {
    "execution": {
     "iopub.execute_input": "2021-09-16T07:08:06.266658Z",
     "iopub.status.busy": "2021-09-16T07:08:06.266158Z",
     "iopub.status.idle": "2021-09-16T07:08:06.284976Z",
     "shell.execute_reply": "2021-09-16T07:08:06.283552Z",
     "shell.execute_reply.started": "2021-09-16T07:08:06.266605Z"
    }
   },
   "outputs": [
    {
     "data": {
      "text/plain": [
       "enough          41522\n",
       "insufficient    18896\n",
       "dry              7782\n",
       "seasonal         5075\n",
       "unknown           975\n",
       "Name: quantity, dtype: int64"
      ]
     },
     "execution_count": 15,
     "metadata": {},
     "output_type": "execute_result"
    }
   ],
   "source": [
    "data['quantity'].value_counts()"
   ]
  },
  {
   "cell_type": "code",
   "execution_count": 16,
   "metadata": {
    "execution": {
     "iopub.execute_input": "2021-09-16T07:08:06.287193Z",
     "iopub.status.busy": "2021-09-16T07:08:06.286709Z",
     "iopub.status.idle": "2021-09-16T07:08:06.307365Z",
     "shell.execute_reply": "2021-09-16T07:08:06.306361Z",
     "shell.execute_reply.started": "2021-09-16T07:08:06.287128Z"
    }
   },
   "outputs": [
    {
     "data": {
      "text/plain": [
       "enough          41522\n",
       "insufficient    18896\n",
       "dry              7782\n",
       "seasonal         5075\n",
       "unknown           975\n",
       "Name: quantity_group, dtype: int64"
      ]
     },
     "execution_count": 16,
     "metadata": {},
     "output_type": "execute_result"
    }
   ],
   "source": [
    "data['quantity_group'].value_counts()"
   ]
  },
  {
   "cell_type": "code",
   "execution_count": 17,
   "metadata": {
    "execution": {
     "iopub.execute_input": "2021-09-16T07:08:06.309432Z",
     "iopub.status.busy": "2021-09-16T07:08:06.309034Z",
     "iopub.status.idle": "2021-09-16T07:08:06.717978Z",
     "shell.execute_reply": "2021-09-16T07:08:06.716797Z",
     "shell.execute_reply.started": "2021-09-16T07:08:06.309397Z"
    }
   },
   "outputs": [
    {
     "name": "stderr",
     "output_type": "stream",
     "text": [
      "C:\\ProgramData\\Anaconda3\\lib\\site-packages\\seaborn\\_decorators.py:36: FutureWarning: Pass the following variable as a keyword arg: x. From version 0.12, the only valid positional argument will be `data`, and passing other arguments without an explicit keyword will result in an error or misinterpretation.\n",
      "  warnings.warn(\n",
      "C:\\ProgramData\\Anaconda3\\lib\\site-packages\\seaborn\\_decorators.py:36: FutureWarning: Pass the following variable as a keyword arg: x. From version 0.12, the only valid positional argument will be `data`, and passing other arguments without an explicit keyword will result in an error or misinterpretation.\n",
      "  warnings.warn(\n",
      "<ipython-input-17-b153eaaf64c0>:5: UserWarning: Matplotlib is currently using module://ipykernel.pylab.backend_inline, which is a non-GUI backend, so cannot show the figure.\n",
      "  fig.show()\n"
     ]
    },
    {
     "data": {
      "image/png": "[encoded data removed]",
      "text/plain": [
       "<Figure size 1440x576 with 2 Axes>"
      ]
     },
     "metadata": {
      "needs_background": "light"
     },
     "output_type": "display_data"
    }
   ],
   "source": [
    "\n",
    "plt.rcParams[\"figure.figsize\"] = (20,8)\n",
    "fig, axes = plt.subplots(1, 2)\n",
    "sns.countplot(data.quantity, x='col1', ax=axes[0], palette = 'Set3', )\n",
    "sns.countplot(data.quantity_group, x=\"col2\", ax=axes[1], palette = 'Set3')\n",
    "fig.show()"
   ]
  },
  {
   "cell_type": "code",
   "execution_count": 18,
   "metadata": {
    "execution": {
     "iopub.execute_input": "2021-09-16T07:08:06.719819Z",
     "iopub.status.busy": "2021-09-16T07:08:06.719478Z",
     "iopub.status.idle": "2021-09-16T07:08:07.041925Z",
     "shell.execute_reply": "2021-09-16T07:08:07.040793Z",
     "shell.execute_reply.started": "2021-09-16T07:08:06.719785Z"
    }
   },
   "outputs": [
    {
     "data": {
      "text/plain": [
       "<AxesSubplot:xlabel='quantity', ylabel='count'>"
      ]
     },
     "execution_count": 18,
     "metadata": {},
     "output_type": "execute_result"
    },
    {
     "data": {
      "image/png": "[encoded data removed]",
      "text/plain": [
       "<Figure size 1440x576 with 1 Axes>"
      ]
     },
     "metadata": {
      "needs_background": "light"
     },
     "output_type": "display_data"
    }
   ],
   "source": [
    "sns.countplot( data=data, x='quantity', hue=\"status_group\")"
   ]
  },
  {
   "cell_type": "markdown",
   "metadata": {},
   "source": [
    "dry quantity, unknown -> high chance that point is non functional\n",
    "\n",
    "enough                -> high chance that point is functional"
   ]
  },
  {
   "cell_type": "markdown",
   "metadata": {},
   "source": [
    "# 1.3. source / source_type/ source_class columns"
   ]
  },
  {
   "cell_type": "code",
   "execution_count": 19,
   "metadata": {
    "execution": {
     "iopub.execute_input": "2021-09-16T07:08:07.043441Z",
     "iopub.status.busy": "2021-09-16T07:08:07.043159Z",
     "iopub.status.idle": "2021-09-16T07:08:07.190367Z",
     "shell.execute_reply": "2021-09-16T07:08:07.189227Z",
     "shell.execute_reply.started": "2021-09-16T07:08:07.043413Z"
    }
   },
   "outputs": [
    {
     "data": {
      "text/html": [
       "<div>\n",
       "<style scoped>\n",
       "    .dataframe tbody tr th:only-of-type {\n",
       "        vertical-align: middle;\n",
       "    }\n",
       "\n",
       "    .dataframe tbody tr th {\n",
       "        vertical-align: top;\n",
       "    }\n",
       "\n",
       "    .dataframe thead th {\n",
       "        text-align: right;\n",
       "    }\n",
       "</style>\n",
       "<table border=\"1\" class=\"dataframe\">\n",
       "  <thead>\n",
       "    <tr style=\"text-align: right;\">\n",
       "      <th></th>\n",
       "      <th></th>\n",
       "      <th>id</th>\n",
       "      <th>amount_tsh</th>\n",
       "      <th>date_recorded</th>\n",
       "      <th>funder</th>\n",
       "      <th>gps_height</th>\n",
       "      <th>installer</th>\n",
       "      <th>longitude</th>\n",
       "      <th>latitude</th>\n",
       "      <th>wpt_name</th>\n",
       "      <th>num_private</th>\n",
       "      <th>...</th>\n",
       "      <th>payment</th>\n",
       "      <th>payment_type</th>\n",
       "      <th>water_quality</th>\n",
       "      <th>quality_group</th>\n",
       "      <th>quantity</th>\n",
       "      <th>quantity_group</th>\n",
       "      <th>source_type</th>\n",
       "      <th>waterpoint_type</th>\n",
       "      <th>waterpoint_type_group</th>\n",
       "      <th>status_group</th>\n",
       "    </tr>\n",
       "    <tr>\n",
       "      <th>source_class</th>\n",
       "      <th>source</th>\n",
       "      <th></th>\n",
       "      <th></th>\n",
       "      <th></th>\n",
       "      <th></th>\n",
       "      <th></th>\n",
       "      <th></th>\n",
       "      <th></th>\n",
       "      <th></th>\n",
       "      <th></th>\n",
       "      <th></th>\n",
       "      <th></th>\n",
       "      <th></th>\n",
       "      <th></th>\n",
       "      <th></th>\n",
       "      <th></th>\n",
       "      <th></th>\n",
       "      <th></th>\n",
       "      <th></th>\n",
       "      <th></th>\n",
       "      <th></th>\n",
       "      <th></th>\n",
       "    </tr>\n",
       "  </thead>\n",
       "  <tbody>\n",
       "    <tr>\n",
       "      <th rowspan=\"4\" valign=\"top\">groundwater</th>\n",
       "      <th>hand dtw</th>\n",
       "      <td>1108</td>\n",
       "      <td>1108</td>\n",
       "      <td>1108</td>\n",
       "      <td>1098</td>\n",
       "      <td>1108</td>\n",
       "      <td>1098</td>\n",
       "      <td>1108</td>\n",
       "      <td>1108</td>\n",
       "      <td>1108</td>\n",
       "      <td>1108</td>\n",
       "      <td>...</td>\n",
       "      <td>1108</td>\n",
       "      <td>1108</td>\n",
       "      <td>1108</td>\n",
       "      <td>1108</td>\n",
       "      <td>1108</td>\n",
       "      <td>1108</td>\n",
       "      <td>1108</td>\n",
       "      <td>1108</td>\n",
       "      <td>1108</td>\n",
       "      <td>874</td>\n",
       "    </tr>\n",
       "    <tr>\n",
       "      <th>machine dbh</th>\n",
       "      <td>13822</td>\n",
       "      <td>13822</td>\n",
       "      <td>13822</td>\n",
       "      <td>12816</td>\n",
       "      <td>13822</td>\n",
       "      <td>12807</td>\n",
       "      <td>13822</td>\n",
       "      <td>13822</td>\n",
       "      <td>13822</td>\n",
       "      <td>13822</td>\n",
       "      <td>...</td>\n",
       "      <td>13822</td>\n",
       "      <td>13822</td>\n",
       "      <td>13822</td>\n",
       "      <td>13822</td>\n",
       "      <td>13822</td>\n",
       "      <td>13822</td>\n",
       "      <td>13822</td>\n",
       "      <td>13822</td>\n",
       "      <td>13822</td>\n",
       "      <td>11075</td>\n",
       "    </tr>\n",
       "    <tr>\n",
       "      <th>shallow well</th>\n",
       "      <td>21140</td>\n",
       "      <td>21140</td>\n",
       "      <td>21140</td>\n",
       "      <td>20507</td>\n",
       "      <td>21140</td>\n",
       "      <td>20490</td>\n",
       "      <td>21140</td>\n",
       "      <td>21140</td>\n",
       "      <td>21140</td>\n",
       "      <td>21140</td>\n",
       "      <td>...</td>\n",
       "      <td>21140</td>\n",
       "      <td>21140</td>\n",
       "      <td>21140</td>\n",
       "      <td>21140</td>\n",
       "      <td>21140</td>\n",
       "      <td>21140</td>\n",
       "      <td>21140</td>\n",
       "      <td>21140</td>\n",
       "      <td>21140</td>\n",
       "      <td>16824</td>\n",
       "    </tr>\n",
       "    <tr>\n",
       "      <th>spring</th>\n",
       "      <td>21216</td>\n",
       "      <td>21216</td>\n",
       "      <td>21216</td>\n",
       "      <td>19778</td>\n",
       "      <td>21216</td>\n",
       "      <td>19778</td>\n",
       "      <td>21216</td>\n",
       "      <td>21216</td>\n",
       "      <td>21216</td>\n",
       "      <td>21216</td>\n",
       "      <td>...</td>\n",
       "      <td>21216</td>\n",
       "      <td>21216</td>\n",
       "      <td>21216</td>\n",
       "      <td>21216</td>\n",
       "      <td>21216</td>\n",
       "      <td>21216</td>\n",
       "      <td>21216</td>\n",
       "      <td>21216</td>\n",
       "      <td>21216</td>\n",
       "      <td>17021</td>\n",
       "    </tr>\n",
       "    <tr>\n",
       "      <th rowspan=\"4\" valign=\"top\">surface</th>\n",
       "      <th>dam</th>\n",
       "      <td>840</td>\n",
       "      <td>840</td>\n",
       "      <td>840</td>\n",
       "      <td>828</td>\n",
       "      <td>840</td>\n",
       "      <td>828</td>\n",
       "      <td>840</td>\n",
       "      <td>840</td>\n",
       "      <td>840</td>\n",
       "      <td>840</td>\n",
       "      <td>...</td>\n",
       "      <td>840</td>\n",
       "      <td>840</td>\n",
       "      <td>840</td>\n",
       "      <td>840</td>\n",
       "      <td>840</td>\n",
       "      <td>840</td>\n",
       "      <td>840</td>\n",
       "      <td>840</td>\n",
       "      <td>840</td>\n",
       "      <td>656</td>\n",
       "    </tr>\n",
       "    <tr>\n",
       "      <th>lake</th>\n",
       "      <td>950</td>\n",
       "      <td>950</td>\n",
       "      <td>950</td>\n",
       "      <td>946</td>\n",
       "      <td>950</td>\n",
       "      <td>945</td>\n",
       "      <td>950</td>\n",
       "      <td>950</td>\n",
       "      <td>950</td>\n",
       "      <td>950</td>\n",
       "      <td>...</td>\n",
       "      <td>950</td>\n",
       "      <td>950</td>\n",
       "      <td>950</td>\n",
       "      <td>950</td>\n",
       "      <td>950</td>\n",
       "      <td>950</td>\n",
       "      <td>950</td>\n",
       "      <td>950</td>\n",
       "      <td>950</td>\n",
       "      <td>765</td>\n",
       "    </tr>\n",
       "    <tr>\n",
       "      <th>rainwater harvesting</th>\n",
       "      <td>2863</td>\n",
       "      <td>2863</td>\n",
       "      <td>2863</td>\n",
       "      <td>2607</td>\n",
       "      <td>2863</td>\n",
       "      <td>2600</td>\n",
       "      <td>2863</td>\n",
       "      <td>2863</td>\n",
       "      <td>2863</td>\n",
       "      <td>2863</td>\n",
       "      <td>...</td>\n",
       "      <td>2863</td>\n",
       "      <td>2863</td>\n",
       "      <td>2863</td>\n",
       "      <td>2863</td>\n",
       "      <td>2863</td>\n",
       "      <td>2863</td>\n",
       "      <td>2863</td>\n",
       "      <td>2863</td>\n",
       "      <td>2863</td>\n",
       "      <td>2295</td>\n",
       "    </tr>\n",
       "    <tr>\n",
       "      <th>river</th>\n",
       "      <td>11964</td>\n",
       "      <td>11964</td>\n",
       "      <td>11964</td>\n",
       "      <td>10854</td>\n",
       "      <td>11964</td>\n",
       "      <td>10860</td>\n",
       "      <td>11964</td>\n",
       "      <td>11964</td>\n",
       "      <td>11964</td>\n",
       "      <td>11964</td>\n",
       "      <td>...</td>\n",
       "      <td>11964</td>\n",
       "      <td>11964</td>\n",
       "      <td>11964</td>\n",
       "      <td>11964</td>\n",
       "      <td>11964</td>\n",
       "      <td>11964</td>\n",
       "      <td>11964</td>\n",
       "      <td>11964</td>\n",
       "      <td>11964</td>\n",
       "      <td>9612</td>\n",
       "    </tr>\n",
       "    <tr>\n",
       "      <th rowspan=\"2\" valign=\"top\">unknown</th>\n",
       "      <th>other</th>\n",
       "      <td>261</td>\n",
       "      <td>261</td>\n",
       "      <td>261</td>\n",
       "      <td>253</td>\n",
       "      <td>261</td>\n",
       "      <td>253</td>\n",
       "      <td>261</td>\n",
       "      <td>261</td>\n",
       "      <td>261</td>\n",
       "      <td>261</td>\n",
       "      <td>...</td>\n",
       "      <td>261</td>\n",
       "      <td>261</td>\n",
       "      <td>261</td>\n",
       "      <td>261</td>\n",
       "      <td>261</td>\n",
       "      <td>261</td>\n",
       "      <td>261</td>\n",
       "      <td>261</td>\n",
       "      <td>261</td>\n",
       "      <td>212</td>\n",
       "    </tr>\n",
       "    <tr>\n",
       "      <th>unknown</th>\n",
       "      <td>86</td>\n",
       "      <td>86</td>\n",
       "      <td>86</td>\n",
       "      <td>59</td>\n",
       "      <td>86</td>\n",
       "      <td>59</td>\n",
       "      <td>86</td>\n",
       "      <td>86</td>\n",
       "      <td>86</td>\n",
       "      <td>86</td>\n",
       "      <td>...</td>\n",
       "      <td>86</td>\n",
       "      <td>86</td>\n",
       "      <td>86</td>\n",
       "      <td>86</td>\n",
       "      <td>86</td>\n",
       "      <td>86</td>\n",
       "      <td>86</td>\n",
       "      <td>86</td>\n",
       "      <td>86</td>\n",
       "      <td>66</td>\n",
       "    </tr>\n",
       "  </tbody>\n",
       "</table>\n",
       "<p>10 rows × 39 columns</p>\n",
       "</div>"
      ],
      "text/plain": [
       "                                      id  amount_tsh  date_recorded  funder  \\\n",
       "source_class source                                                           \n",
       "groundwater  hand dtw               1108        1108           1108    1098   \n",
       "             machine dbh           13822       13822          13822   12816   \n",
       "             shallow well          21140       21140          21140   20507   \n",
       "             spring                21216       21216          21216   19778   \n",
       "surface      dam                     840         840            840     828   \n",
       "             lake                    950         950            950     946   \n",
       "             rainwater harvesting   2863        2863           2863    2607   \n",
       "             river                 11964       11964          11964   10854   \n",
       "unknown      other                   261         261            261     253   \n",
       "             unknown                  86          86             86      59   \n",
       "\n",
       "                                   gps_height  installer  longitude  latitude  \\\n",
       "source_class source                                                             \n",
       "groundwater  hand dtw                    1108       1098       1108      1108   \n",
       "             machine dbh                13822      12807      13822     13822   \n",
       "             shallow well               21140      20490      21140     21140   \n",
       "             spring                     21216      19778      21216     21216   \n",
       "surface      dam                          840        828        840       840   \n",
       "             lake                         950        945        950       950   \n",
       "             rainwater harvesting        2863       2600       2863      2863   \n",
       "             river                      11964      10860      11964     11964   \n",
       "unknown      other                        261        253        261       261   \n",
       "             unknown                       86         59         86        86   \n",
       "\n",
       "                                   wpt_name  num_private  ...  payment  \\\n",
       "source_class source                                       ...            \n",
       "groundwater  hand dtw                  1108         1108  ...     1108   \n",
       "             machine dbh              13822        13822  ...    13822   \n",
       "             shallow well             21140        21140  ...    21140   \n",
       "             spring                   21216        21216  ...    21216   \n",
       "surface      dam                        840          840  ...      840   \n",
       "             lake                       950          950  ...      950   \n",
       "             rainwater harvesting      2863         2863  ...     2863   \n",
       "             river                    11964        11964  ...    11964   \n",
       "unknown      other                      261          261  ...      261   \n",
       "             unknown                     86           86  ...       86   \n",
       "\n",
       "                                   payment_type  water_quality  quality_group  \\\n",
       "source_class source                                                             \n",
       "groundwater  hand dtw                      1108           1108           1108   \n",
       "             machine dbh                  13822          13822          13822   \n",
       "             shallow well                 21140          21140          21140   \n",
       "             spring                       21216          21216          21216   \n",
       "surface      dam                            840            840            840   \n",
       "             lake                           950            950            950   \n",
       "             rainwater harvesting          2863           2863           2863   \n",
       "             river                        11964          11964          11964   \n",
       "unknown      other                          261            261            261   \n",
       "             unknown                         86             86             86   \n",
       "\n",
       "                                   quantity  quantity_group  source_type  \\\n",
       "source_class source                                                        \n",
       "groundwater  hand dtw                  1108            1108         1108   \n",
       "             machine dbh              13822           13822        13822   \n",
       "             shallow well             21140           21140        21140   \n",
       "             spring                   21216           21216        21216   \n",
       "surface      dam                        840             840          840   \n",
       "             lake                       950             950          950   \n",
       "             rainwater harvesting      2863            2863         2863   \n",
       "             river                    11964           11964        11964   \n",
       "unknown      other                      261             261          261   \n",
       "             unknown                     86              86           86   \n",
       "\n",
       "                                   waterpoint_type  waterpoint_type_group  \\\n",
       "source_class source                                                         \n",
       "groundwater  hand dtw                         1108                   1108   \n",
       "             machine dbh                     13822                  13822   \n",
       "             shallow well                    21140                  21140   \n",
       "             spring                          21216                  21216   \n",
       "surface      dam                               840                    840   \n",
       "             lake                              950                    950   \n",
       "             rainwater harvesting             2863                   2863   \n",
       "             river                           11964                  11964   \n",
       "unknown      other                             261                    261   \n",
       "             unknown                            86                     86   \n",
       "\n",
       "                                   status_group  \n",
       "source_class source                              \n",
       "groundwater  hand dtw                       874  \n",
       "             machine dbh                  11075  \n",
       "             shallow well                 16824  \n",
       "             spring                       17021  \n",
       "surface      dam                            656  \n",
       "             lake                           765  \n",
       "             rainwater harvesting          2295  \n",
       "             river                         9612  \n",
       "unknown      other                          212  \n",
       "             unknown                         66  \n",
       "\n",
       "[10 rows x 39 columns]"
      ]
     },
     "execution_count": 19,
     "metadata": {},
     "output_type": "execute_result"
    }
   ],
   "source": [
    "data.groupby(['source_class','source']).count()"
   ]
  },
  {
   "cell_type": "code",
   "execution_count": 20,
   "metadata": {
    "execution": {
     "iopub.execute_input": "2021-09-16T07:08:07.192003Z",
     "iopub.status.busy": "2021-09-16T07:08:07.191692Z",
     "iopub.status.idle": "2021-09-16T07:08:07.672295Z",
     "shell.execute_reply": "2021-09-16T07:08:07.671452Z",
     "shell.execute_reply.started": "2021-09-16T07:08:07.191959Z"
    }
   },
   "outputs": [
    {
     "name": "stderr",
     "output_type": "stream",
     "text": [
      "C:\\ProgramData\\Anaconda3\\lib\\site-packages\\seaborn\\_decorators.py:36: FutureWarning: Pass the following variable as a keyword arg: x. From version 0.12, the only valid positional argument will be `data`, and passing other arguments without an explicit keyword will result in an error or misinterpretation.\n",
      "  warnings.warn(\n",
      "C:\\ProgramData\\Anaconda3\\lib\\site-packages\\seaborn\\_decorators.py:36: FutureWarning: Pass the following variable as a keyword arg: x. From version 0.12, the only valid positional argument will be `data`, and passing other arguments without an explicit keyword will result in an error or misinterpretation.\n",
      "  warnings.warn(\n",
      "<ipython-input-20-dd7217b289b7>:5: UserWarning: Matplotlib is currently using module://ipykernel.pylab.backend_inline, which is a non-GUI backend, so cannot show the figure.\n",
      "  fig.show()\n"
     ]
    },
    {
     "data": {
      "image/png": "[encoded data removed]",
      "text/plain": [
       "<Figure size 1440x576 with 2 Axes>"
      ]
     },
     "metadata": {
      "needs_background": "light"
     },
     "output_type": "display_data"
    }
   ],
   "source": [
    "plt.rcParams[\"figure.figsize\"] = (20,8)\n",
    "fig, axes = plt.subplots(1, 2)\n",
    "sns.countplot(data.source, x='col1', ax=axes[0], palette = 'Set3', )\n",
    "sns.countplot(data.source_type, x=\"col2\", ax=axes[1], palette = 'Set3')\n",
    "fig.show()"
   ]
  },
  {
   "cell_type": "code",
   "execution_count": 21,
   "metadata": {
    "execution": {
     "iopub.execute_input": "2021-09-16T07:08:07.673954Z",
     "iopub.status.busy": "2021-09-16T07:08:07.673495Z",
     "iopub.status.idle": "2021-09-16T07:08:07.689017Z",
     "shell.execute_reply": "2021-09-16T07:08:07.688215Z",
     "shell.execute_reply.started": "2021-09-16T07:08:07.673908Z"
    }
   },
   "outputs": [
    {
     "data": {
      "text/plain": [
       "spring                  21216\n",
       "shallow well            21140\n",
       "machine dbh             13822\n",
       "river                   11964\n",
       "rainwater harvesting     2863\n",
       "hand dtw                 1108\n",
       "lake                      950\n",
       "dam                       840\n",
       "other                     261\n",
       "unknown                    86\n",
       "Name: source, dtype: int64"
      ]
     },
     "execution_count": 21,
     "metadata": {},
     "output_type": "execute_result"
    }
   ],
   "source": [
    "data['source'].value_counts()"
   ]
  },
  {
   "cell_type": "code",
   "execution_count": 22,
   "metadata": {
    "execution": {
     "iopub.execute_input": "2021-09-16T07:08:07.690709Z",
     "iopub.status.busy": "2021-09-16T07:08:07.690214Z",
     "iopub.status.idle": "2021-09-16T07:08:07.722876Z",
     "shell.execute_reply": "2021-09-16T07:08:07.721557Z",
     "shell.execute_reply.started": "2021-09-16T07:08:07.690663Z"
    }
   },
   "outputs": [
    {
     "data": {
      "text/plain": [
       "spring                  21216\n",
       "shallow well            21140\n",
       "borehole                14930\n",
       "river/lake              12914\n",
       "rainwater harvesting     2863\n",
       "dam                       840\n",
       "other                     347\n",
       "Name: source_type, dtype: int64"
      ]
     },
     "execution_count": 22,
     "metadata": {},
     "output_type": "execute_result"
    }
   ],
   "source": [
    "data['source_type'].value_counts()"
   ]
  },
  {
   "cell_type": "markdown",
   "metadata": {},
   "source": [
    "# 1.4. water_quality / quality_group columns"
   ]
  },
  {
   "cell_type": "code",
   "execution_count": 23,
   "metadata": {
    "execution": {
     "iopub.execute_input": "2021-09-16T07:08:07.725309Z",
     "iopub.status.busy": "2021-09-16T07:08:07.724778Z",
     "iopub.status.idle": "2021-09-16T07:08:08.170074Z",
     "shell.execute_reply": "2021-09-16T07:08:08.168817Z",
     "shell.execute_reply.started": "2021-09-16T07:08:07.725256Z"
    }
   },
   "outputs": [
    {
     "name": "stderr",
     "output_type": "stream",
     "text": [
      "C:\\ProgramData\\Anaconda3\\lib\\site-packages\\seaborn\\_decorators.py:36: FutureWarning: Pass the following variable as a keyword arg: x. From version 0.12, the only valid positional argument will be `data`, and passing other arguments without an explicit keyword will result in an error or misinterpretation.\n",
      "  warnings.warn(\n",
      "C:\\ProgramData\\Anaconda3\\lib\\site-packages\\seaborn\\_decorators.py:36: FutureWarning: Pass the following variable as a keyword arg: x. From version 0.12, the only valid positional argument will be `data`, and passing other arguments without an explicit keyword will result in an error or misinterpretation.\n",
      "  warnings.warn(\n",
      "<ipython-input-23-b2df9a3649b7>:5: UserWarning: Matplotlib is currently using module://ipykernel.pylab.backend_inline, which is a non-GUI backend, so cannot show the figure.\n",
      "  fig.show()\n"
     ]
    },
    {
     "data": {
      "image/png": "[encoded data removed]",
      "text/plain": [
       "<Figure size 1440x576 with 2 Axes>"
      ]
     },
     "metadata": {
      "needs_background": "light"
     },
     "output_type": "display_data"
    }
   ],
   "source": [
    "plt.rcParams[\"figure.figsize\"] = (20,8)\n",
    "fig, axes = plt.subplots(1, 2)\n",
    "sns.countplot(data.water_quality, x='col1', ax=axes[0], palette = 'Set3', )\n",
    "sns.countplot(data.quality_group, x=\"col2\", ax=axes[1], palette = 'Set3')\n",
    "fig.show()"
   ]
  },
  {
   "cell_type": "code",
   "execution_count": 24,
   "metadata": {
    "execution": {
     "iopub.execute_input": "2021-09-16T07:08:08.176067Z",
     "iopub.status.busy": "2021-09-16T07:08:08.175328Z",
     "iopub.status.idle": "2021-09-16T07:08:08.193473Z",
     "shell.execute_reply": "2021-09-16T07:08:08.192149Z",
     "shell.execute_reply.started": "2021-09-16T07:08:08.176002Z"
    }
   },
   "outputs": [
    {
     "data": {
      "text/plain": [
       "soft                  63505\n",
       "salty                  6082\n",
       "unknown                2345\n",
       "milky                  1005\n",
       "coloured                623\n",
       "salty abandoned         423\n",
       "fluoride                244\n",
       "fluoride abandoned       23\n",
       "Name: water_quality, dtype: int64"
      ]
     },
     "execution_count": 24,
     "metadata": {},
     "output_type": "execute_result"
    }
   ],
   "source": [
    "data['water_quality'].value_counts()"
   ]
  },
  {
   "cell_type": "code",
   "execution_count": 25,
   "metadata": {
    "execution": {
     "iopub.execute_input": "2021-09-16T07:08:08.197706Z",
     "iopub.status.busy": "2021-09-16T07:08:08.197323Z",
     "iopub.status.idle": "2021-09-16T07:08:08.214784Z",
     "shell.execute_reply": "2021-09-16T07:08:08.213568Z",
     "shell.execute_reply.started": "2021-09-16T07:08:08.197669Z"
    }
   },
   "outputs": [
    {
     "data": {
      "text/plain": [
       "good        63505\n",
       "salty        6505\n",
       "unknown      2345\n",
       "milky        1005\n",
       "colored       623\n",
       "fluoride      267\n",
       "Name: quality_group, dtype: int64"
      ]
     },
     "execution_count": 25,
     "metadata": {},
     "output_type": "execute_result"
    }
   ],
   "source": [
    "data['quality_group'].value_counts()"
   ]
  },
  {
   "cell_type": "markdown",
   "metadata": {},
   "source": [
    "# 1.5. payment / payment_type columns"
   ]
  },
  {
   "cell_type": "code",
   "execution_count": 26,
   "metadata": {
    "execution": {
     "iopub.execute_input": "2021-09-16T07:08:08.217318Z",
     "iopub.status.busy": "2021-09-16T07:08:08.216621Z",
     "iopub.status.idle": "2021-09-16T07:08:08.663284Z",
     "shell.execute_reply": "2021-09-16T07:08:08.662139Z",
     "shell.execute_reply.started": "2021-09-16T07:08:08.217265Z"
    }
   },
   "outputs": [
    {
     "name": "stderr",
     "output_type": "stream",
     "text": [
      "C:\\ProgramData\\Anaconda3\\lib\\site-packages\\seaborn\\_decorators.py:36: FutureWarning: Pass the following variable as a keyword arg: x. From version 0.12, the only valid positional argument will be `data`, and passing other arguments without an explicit keyword will result in an error or misinterpretation.\n",
      "  warnings.warn(\n",
      "C:\\ProgramData\\Anaconda3\\lib\\site-packages\\seaborn\\_decorators.py:36: FutureWarning: Pass the following variable as a keyword arg: x. From version 0.12, the only valid positional argument will be `data`, and passing other arguments without an explicit keyword will result in an error or misinterpretation.\n",
      "  warnings.warn(\n",
      "<ipython-input-26-03cfad2efbdf>:6: UserWarning: Matplotlib is currently using module://ipykernel.pylab.backend_inline, which is a non-GUI backend, so cannot show the figure.\n",
      "  fig.show()\n"
     ]
    },
    {
     "data": {
      "image/png": "[encoded data removed]",
      "text/plain": [
       "<Figure size 1440x576 with 2 Axes>"
      ]
     },
     "metadata": {
      "needs_background": "light"
     },
     "output_type": "display_data"
    }
   ],
   "source": [
    "plt.rcParams[\"figure.figsize\"] = (20,8)\n",
    "fig, axes = plt.subplots(1, 2)\n",
    "sns.countplot(data.payment, x='col1', ax=axes[0], palette = 'Set3', )\n",
    "sns.countplot(data.payment_type, x=\"col2\", ax=axes[1], palette = 'Set3')\n",
    "fig.suptitle(' payment / payment_type columns')\n",
    "fig.show()"
   ]
  },
  {
   "cell_type": "code",
   "execution_count": 27,
   "metadata": {
    "execution": {
     "iopub.execute_input": "2021-09-16T07:08:08.665120Z",
     "iopub.status.busy": "2021-09-16T07:08:08.664797Z",
     "iopub.status.idle": "2021-09-16T07:08:08.681872Z",
     "shell.execute_reply": "2021-09-16T07:08:08.680577Z",
     "shell.execute_reply.started": "2021-09-16T07:08:08.665085Z"
    }
   },
   "outputs": [
    {
     "data": {
      "text/plain": [
       "never pay                31712\n",
       "pay per bucket           11266\n",
       "pay monthly              10397\n",
       "unknown                  10149\n",
       "pay when scheme fails     4842\n",
       "pay annually              4570\n",
       "other                     1314\n",
       "Name: payment, dtype: int64"
      ]
     },
     "execution_count": 27,
     "metadata": {},
     "output_type": "execute_result"
    }
   ],
   "source": [
    "data['payment'].value_counts()"
   ]
  },
  {
   "cell_type": "code",
   "execution_count": 28,
   "metadata": {
    "execution": {
     "iopub.execute_input": "2021-09-16T07:08:08.683566Z",
     "iopub.status.busy": "2021-09-16T07:08:08.683276Z",
     "iopub.status.idle": "2021-09-16T07:08:08.704144Z",
     "shell.execute_reply": "2021-09-16T07:08:08.702901Z",
     "shell.execute_reply.started": "2021-09-16T07:08:08.683537Z"
    }
   },
   "outputs": [
    {
     "data": {
      "text/plain": [
       "never pay     31712\n",
       "per bucket    11266\n",
       "monthly       10397\n",
       "unknown       10149\n",
       "on failure     4842\n",
       "annually       4570\n",
       "other          1314\n",
       "Name: payment_type, dtype: int64"
      ]
     },
     "execution_count": 28,
     "metadata": {},
     "output_type": "execute_result"
    }
   ],
   "source": [
    "data['payment_type'].value_counts()"
   ]
  },
  {
   "cell_type": "markdown",
   "metadata": {},
   "source": [
    "# 1.6. extraction_type / extraction_type_group / extraction_type_class columns"
   ]
  },
  {
   "cell_type": "code",
   "execution_count": 29,
   "metadata": {
    "execution": {
     "iopub.execute_input": "2021-09-16T07:08:08.705978Z",
     "iopub.status.busy": "2021-09-16T07:08:08.705691Z",
     "iopub.status.idle": "2021-09-16T07:08:09.664759Z",
     "shell.execute_reply": "2021-09-16T07:08:09.663945Z",
     "shell.execute_reply.started": "2021-09-16T07:08:08.705948Z"
    }
   },
   "outputs": [
    {
     "name": "stderr",
     "output_type": "stream",
     "text": [
      "C:\\ProgramData\\Anaconda3\\lib\\site-packages\\seaborn\\_decorators.py:36: FutureWarning: Pass the following variable as a keyword arg: x. From version 0.12, the only valid positional argument will be `data`, and passing other arguments without an explicit keyword will result in an error or misinterpretation.\n",
      "  warnings.warn(\n",
      "C:\\ProgramData\\Anaconda3\\lib\\site-packages\\seaborn\\_decorators.py:36: FutureWarning: Pass the following variable as a keyword arg: x. From version 0.12, the only valid positional argument will be `data`, and passing other arguments without an explicit keyword will result in an error or misinterpretation.\n",
      "  warnings.warn(\n",
      "C:\\ProgramData\\Anaconda3\\lib\\site-packages\\seaborn\\_decorators.py:36: FutureWarning: Pass the following variable as a keyword arg: x. From version 0.12, the only valid positional argument will be `data`, and passing other arguments without an explicit keyword will result in an error or misinterpretation.\n",
      "  warnings.warn(\n",
      "<ipython-input-29-54746a32df20>:7: UserWarning: Matplotlib is currently using module://ipykernel.pylab.backend_inline, which is a non-GUI backend, so cannot show the figure.\n",
      "  fig.show()\n"
     ]
    },
    {
     "data": {
      "image/png": "[encoded data removed]",
      "text/plain": [
       "<Figure size 1440x576 with 3 Axes>"
      ]
     },
     "metadata": {
      "needs_background": "light"
     },
     "output_type": "display_data"
    }
   ],
   "source": [
    "plt.rcParams[\"figure.figsize\"] = (20,8)\n",
    "fig, axes = plt.subplots(1, 3)\n",
    "sns.countplot(data.extraction_type, x='col1', ax=axes[0], palette = 'Set3', )\n",
    "sns.countplot(data.extraction_type_group, x=\"col2\", ax=axes[1], palette = 'Set3')\n",
    "sns.countplot(data.extraction_type_class, x=\"col3\", ax=axes[2], palette = 'Set3')\n",
    "fig.suptitle('extraction_type / extraction_type_group / extraction_type_class columns')\n",
    "fig.show()"
   ]
  },
  {
   "cell_type": "code",
   "execution_count": 30,
   "metadata": {
    "execution": {
     "iopub.execute_input": "2021-09-16T07:08:09.666308Z",
     "iopub.status.busy": "2021-09-16T07:08:09.665877Z",
     "iopub.status.idle": "2021-09-16T07:08:09.680852Z",
     "shell.execute_reply": "2021-09-16T07:08:09.680110Z",
     "shell.execute_reply.started": "2021-09-16T07:08:09.666264Z"
    }
   },
   "outputs": [
    {
     "data": {
      "text/plain": [
       "gravity                      33263\n",
       "nira/tanira                  10205\n",
       "other                         8102\n",
       "submersible                   5982\n",
       "swn 80                        4588\n",
       "mono                          3628\n",
       "india mark ii                 3029\n",
       "afridev                       2208\n",
       "ksb                           1790\n",
       "other - rope pump              572\n",
       "other - swn 81                 284\n",
       "windmill                       152\n",
       "india mark iii                 135\n",
       "cemo                           108\n",
       "other - play pump              101\n",
       "walimi                          60\n",
       "climax                          41\n",
       "other - mkulima/shinyanga        2\n",
       "Name: extraction_type, dtype: int64"
      ]
     },
     "execution_count": 30,
     "metadata": {},
     "output_type": "execute_result"
    }
   ],
   "source": [
    "data['extraction_type'].value_counts()"
   ]
  },
  {
   "cell_type": "code",
   "execution_count": 31,
   "metadata": {
    "execution": {
     "iopub.execute_input": "2021-09-16T07:08:09.682743Z",
     "iopub.status.busy": "2021-09-16T07:08:09.682390Z",
     "iopub.status.idle": "2021-09-16T07:08:09.704520Z",
     "shell.execute_reply": "2021-09-16T07:08:09.703237Z",
     "shell.execute_reply.started": "2021-09-16T07:08:09.682702Z"
    }
   },
   "outputs": [
    {
     "data": {
      "text/plain": [
       "gravity            33263\n",
       "nira/tanira        10205\n",
       "other               8102\n",
       "submersible         7772\n",
       "swn 80              4588\n",
       "mono                3628\n",
       "india mark ii       3029\n",
       "afridev             2208\n",
       "rope pump            572\n",
       "other handpump       447\n",
       "wind-powered         152\n",
       "other motorpump      149\n",
       "india mark iii       135\n",
       "Name: extraction_type_group, dtype: int64"
      ]
     },
     "execution_count": 31,
     "metadata": {},
     "output_type": "execute_result"
    }
   ],
   "source": [
    "data['extraction_type_group'].value_counts()"
   ]
  },
  {
   "cell_type": "code",
   "execution_count": 32,
   "metadata": {
    "execution": {
     "iopub.execute_input": "2021-09-16T07:08:09.706976Z",
     "iopub.status.busy": "2021-09-16T07:08:09.706399Z",
     "iopub.status.idle": "2021-09-16T07:08:09.727033Z",
     "shell.execute_reply": "2021-09-16T07:08:09.726265Z",
     "shell.execute_reply.started": "2021-09-16T07:08:09.706919Z"
    }
   },
   "outputs": [
    {
     "data": {
      "text/plain": [
       "gravity         33263\n",
       "handpump        20612\n",
       "other            8102\n",
       "submersible      7772\n",
       "motorpump        3777\n",
       "rope pump         572\n",
       "wind-powered      152\n",
       "Name: extraction_type_class, dtype: int64"
      ]
     },
     "execution_count": 32,
     "metadata": {},
     "output_type": "execute_result"
    }
   ],
   "source": [
    "data['extraction_type_class'].value_counts()"
   ]
  },
  {
   "cell_type": "markdown",
   "metadata": {},
   "source": [
    "# 1.7. waterpoint_type / waterpoint_type_group"
   ]
  },
  {
   "cell_type": "code",
   "execution_count": 33,
   "metadata": {
    "execution": {
     "iopub.execute_input": "2021-09-16T07:08:09.728563Z",
     "iopub.status.busy": "2021-09-16T07:08:09.728119Z",
     "iopub.status.idle": "2021-09-16T07:08:10.158570Z",
     "shell.execute_reply": "2021-09-16T07:08:10.157389Z",
     "shell.execute_reply.started": "2021-09-16T07:08:09.728532Z"
    }
   },
   "outputs": [
    {
     "name": "stderr",
     "output_type": "stream",
     "text": [
      "C:\\ProgramData\\Anaconda3\\lib\\site-packages\\seaborn\\_decorators.py:36: FutureWarning: Pass the following variable as a keyword arg: x. From version 0.12, the only valid positional argument will be `data`, and passing other arguments without an explicit keyword will result in an error or misinterpretation.\n",
      "  warnings.warn(\n",
      "C:\\ProgramData\\Anaconda3\\lib\\site-packages\\seaborn\\_decorators.py:36: FutureWarning: Pass the following variable as a keyword arg: x. From version 0.12, the only valid positional argument will be `data`, and passing other arguments without an explicit keyword will result in an error or misinterpretation.\n",
      "  warnings.warn(\n",
      "<ipython-input-33-b3fff8c33d35>:6: UserWarning: Matplotlib is currently using module://ipykernel.pylab.backend_inline, which is a non-GUI backend, so cannot show the figure.\n",
      "  fig.show()\n"
     ]
    },
    {
     "data": {
      "image/png": "[encoded data removed]",
      "text/plain": [
       "<Figure size 1440x576 with 2 Axes>"
      ]
     },
     "metadata": {
      "needs_background": "light"
     },
     "output_type": "display_data"
    }
   ],
   "source": [
    "plt.rcParams[\"figure.figsize\"] = (20,8)\n",
    "fig, axes = plt.subplots(1, 2)\n",
    "sns.countplot(data.waterpoint_type, x='col1', ax=axes[0], palette = 'Set3', )\n",
    "sns.countplot(data.waterpoint_type_group, x=\"col2\", ax=axes[1], palette = 'Set3')\n",
    "fig.suptitle('waterpoint_type / waterpoint_type_group')\n",
    "fig.show()"
   ]
  },
  {
   "cell_type": "code",
   "execution_count": 34,
   "metadata": {
    "execution": {
     "iopub.execute_input": "2021-09-16T07:08:10.160259Z",
     "iopub.status.busy": "2021-09-16T07:08:10.159884Z",
     "iopub.status.idle": "2021-09-16T07:08:10.176582Z",
     "shell.execute_reply": "2021-09-16T07:08:10.175375Z",
     "shell.execute_reply.started": "2021-09-16T07:08:10.160224Z"
    }
   },
   "outputs": [
    {
     "data": {
      "text/plain": [
       "communal standpipe             35628\n",
       "hand pump                      21884\n",
       "other                           8010\n",
       "communal standpipe multiple     7611\n",
       "improved spring                  959\n",
       "cattle trough                    150\n",
       "dam                                8\n",
       "Name: waterpoint_type, dtype: int64"
      ]
     },
     "execution_count": 34,
     "metadata": {},
     "output_type": "execute_result"
    }
   ],
   "source": [
    "data['waterpoint_type'].value_counts()"
   ]
  },
  {
   "cell_type": "code",
   "execution_count": 35,
   "metadata": {
    "execution": {
     "iopub.execute_input": "2021-09-16T07:08:10.178447Z",
     "iopub.status.busy": "2021-09-16T07:08:10.178139Z",
     "iopub.status.idle": "2021-09-16T07:08:10.199481Z",
     "shell.execute_reply": "2021-09-16T07:08:10.198343Z",
     "shell.execute_reply.started": "2021-09-16T07:08:10.178416Z"
    }
   },
   "outputs": [
    {
     "data": {
      "text/plain": [
       "communal standpipe    43239\n",
       "hand pump             21884\n",
       "other                  8010\n",
       "improved spring         959\n",
       "cattle trough           150\n",
       "dam                       8\n",
       "Name: waterpoint_type_group, dtype: int64"
      ]
     },
     "execution_count": 35,
     "metadata": {},
     "output_type": "execute_result"
    }
   ],
   "source": [
    "data['waterpoint_type_group'].value_counts()"
   ]
  },
  {
   "cell_type": "markdown",
   "metadata": {},
   "source": [
    "# 1.8. recorded_by column"
   ]
  },
  {
   "cell_type": "code",
   "execution_count": 36,
   "metadata": {
    "execution": {
     "iopub.execute_input": "2021-09-16T07:08:10.201367Z",
     "iopub.status.busy": "2021-09-16T07:08:10.200849Z",
     "iopub.status.idle": "2021-09-16T07:08:10.420094Z",
     "shell.execute_reply": "2021-09-16T07:08:10.418898Z",
     "shell.execute_reply.started": "2021-09-16T07:08:10.201331Z"
    }
   },
   "outputs": [
    {
     "name": "stderr",
     "output_type": "stream",
     "text": [
      "C:\\ProgramData\\Anaconda3\\lib\\site-packages\\seaborn\\_decorators.py:36: FutureWarning: Pass the following variable as a keyword arg: x. From version 0.12, the only valid positional argument will be `data`, and passing other arguments without an explicit keyword will result in an error or misinterpretation.\n",
      "  warnings.warn(\n"
     ]
    },
    {
     "data": {
      "text/plain": [
       "GeoData Consultants Ltd    74250\n",
       "Name: recorded_by, dtype: int64"
      ]
     },
     "execution_count": 36,
     "metadata": {},
     "output_type": "execute_result"
    },
    {
     "data": {
      "image/png": "[encoded data removed]",
      "text/plain": [
       "<Figure size 1152x432 with 1 Axes>"
      ]
     },
     "metadata": {
      "needs_background": "light"
     },
     "output_type": "display_data"
    }
   ],
   "source": [
    "data['recorded_by'].value_counts()\n",
    "plt.figure(figsize=(16,6))\n",
    "sns.countplot(data.status_group, palette = 'Set3')\n",
    "data.recorded_by.value_counts()"
   ]
  },
  {
   "cell_type": "markdown",
   "metadata": {},
   "source": [
    "# 1.9 wpt_name / scheme_name"
   ]
  },
  {
   "cell_type": "code",
   "execution_count": 37,
   "metadata": {
    "execution": {
     "iopub.execute_input": "2021-09-16T07:08:10.422175Z",
     "iopub.status.busy": "2021-09-16T07:08:10.421785Z",
     "iopub.status.idle": "2021-09-16T07:08:10.472951Z",
     "shell.execute_reply": "2021-09-16T07:08:10.472173Z",
     "shell.execute_reply.started": "2021-09-16T07:08:10.422142Z"
    }
   },
   "outputs": [
    {
     "data": {
      "text/plain": [
       "none                  4440\n",
       "Shuleni               2183\n",
       "Zahanati              1034\n",
       "Msikitini              647\n",
       "Kanisani               390\n",
       "                      ... \n",
       "Chilala                  1\n",
       "Shuleni -Mashariki       1\n",
       "Kwakiroboto              1\n",
       "Kwamgoloka               1\n",
       "Shuleni -Ndandalo        1\n",
       "Name: wpt_name, Length: 45684, dtype: int64"
      ]
     },
     "execution_count": 37,
     "metadata": {},
     "output_type": "execute_result"
    }
   ],
   "source": [
    "data['wpt_name'].value_counts()"
   ]
  },
  {
   "cell_type": "code",
   "execution_count": 38,
   "metadata": {
    "execution": {
     "iopub.execute_input": "2021-09-16T07:08:10.474645Z",
     "iopub.status.busy": "2021-09-16T07:08:10.474206Z",
     "iopub.status.idle": "2021-09-16T07:08:10.492255Z",
     "shell.execute_reply": "2021-09-16T07:08:10.491196Z",
     "shell.execute_reply.started": "2021-09-16T07:08:10.474601Z"
    }
   },
   "outputs": [
    {
     "data": {
      "text/plain": [
       "K                           858\n",
       "None                        794\n",
       "Borehole                    704\n",
       "Chalinze wate               501\n",
       "M                           490\n",
       "                           ... \n",
       "Kigondo                       1\n",
       "Mhunze water pipe scheme      1\n",
       "Shigala Water Supply          1\n",
       "Mradi wa misheni              1\n",
       "Mumikindo  spring source      1\n",
       "Name: scheme_name, Length: 2868, dtype: int64"
      ]
     },
     "execution_count": 38,
     "metadata": {},
     "output_type": "execute_result"
    }
   ],
   "source": [
    "data['scheme_name'].value_counts()"
   ]
  },
  {
   "cell_type": "markdown",
   "metadata": {},
   "source": [
    "# 1.10 amount_tsh column"
   ]
  },
  {
   "cell_type": "code",
   "execution_count": 39,
   "metadata": {
    "execution": {
     "iopub.execute_input": "2021-09-16T07:08:10.493882Z",
     "iopub.status.busy": "2021-09-16T07:08:10.493602Z",
     "iopub.status.idle": "2021-09-16T07:08:10.508901Z",
     "shell.execute_reply": "2021-09-16T07:08:10.507574Z",
     "shell.execute_reply.started": "2021-09-16T07:08:10.493855Z"
    }
   },
   "outputs": [
    {
     "data": {
      "text/plain": [
       "0.00         52049\n",
       "500.00        3874\n",
       "50.00         3103\n",
       "1000.00       1858\n",
       "20.00         1812\n",
       "             ...  \n",
       "59.00            1\n",
       "38000.00         1\n",
       "120000.00        1\n",
       "220.00           1\n",
       "0.25             1\n",
       "Name: amount_tsh, Length: 102, dtype: int64"
      ]
     },
     "execution_count": 39,
     "metadata": {},
     "output_type": "execute_result"
    }
   ],
   "source": [
    "data['amount_tsh'].value_counts()"
   ]
  },
  {
   "cell_type": "markdown",
   "metadata": {},
   "source": [
    "# 1.11 num_private column"
   ]
  },
  {
   "cell_type": "code",
   "execution_count": 40,
   "metadata": {
    "execution": {
     "iopub.execute_input": "2021-09-16T07:08:10.510421Z",
     "iopub.status.busy": "2021-09-16T07:08:10.510112Z",
     "iopub.status.idle": "2021-09-16T07:08:10.519601Z",
     "shell.execute_reply": "2021-09-16T07:08:10.518690Z",
     "shell.execute_reply.started": "2021-09-16T07:08:10.510389Z"
    }
   },
   "outputs": [
    {
     "data": {
      "text/plain": [
       "0      73299\n",
       "1         94\n",
       "6         92\n",
       "5         60\n",
       "8         58\n",
       "       ...  \n",
       "420        1\n",
       "35         1\n",
       "30         1\n",
       "672        1\n",
       "62         1\n",
       "Name: num_private, Length: 68, dtype: int64"
      ]
     },
     "execution_count": 40,
     "metadata": {},
     "output_type": "execute_result"
    }
   ],
   "source": [
    "data['num_private'].value_counts()"
   ]
  },
  {
   "cell_type": "markdown",
   "metadata": {},
   "source": [
    "# 1.12 date_recorded column"
   ]
  },
  {
   "cell_type": "code",
   "execution_count": 41,
   "metadata": {
    "execution": {
     "iopub.execute_input": "2021-09-16T07:08:10.521357Z",
     "iopub.status.busy": "2021-09-16T07:08:10.520870Z",
     "iopub.status.idle": "2021-09-16T07:08:10.538506Z",
     "shell.execute_reply": "2021-09-16T07:08:10.537391Z",
     "shell.execute_reply.started": "2021-09-16T07:08:10.521325Z"
    }
   },
   "outputs": [
    {
     "data": {
      "text/plain": [
       "2011-03-17    695\n",
       "2011-03-15    694\n",
       "2013-02-03    684\n",
       "2011-03-16    650\n",
       "2011-03-14    649\n",
       "             ... \n",
       "2011-09-13      1\n",
       "2011-09-07      1\n",
       "2004-01-12      1\n",
       "2011-09-23      1\n",
       "2011-09-17      1\n",
       "Name: date_recorded, Length: 369, dtype: int64"
      ]
     },
     "execution_count": 41,
     "metadata": {},
     "output_type": "execute_result"
    }
   ],
   "source": [
    "data['date_recorded'].value_counts()"
   ]
  },
  {
   "cell_type": "markdown",
   "metadata": {},
   "source": [
    "# 1.13 subvillage column"
   ]
  },
  {
   "cell_type": "code",
   "execution_count": 42,
   "metadata": {
    "execution": {
     "iopub.execute_input": "2021-09-16T07:08:10.540497Z",
     "iopub.status.busy": "2021-09-16T07:08:10.540209Z",
     "iopub.status.idle": "2021-09-16T07:08:10.577558Z",
     "shell.execute_reply": "2021-09-16T07:08:10.576789Z",
     "shell.execute_reply.started": "2021-09-16T07:08:10.540467Z"
    }
   },
   "outputs": [
    {
     "data": {
      "text/plain": [
       "Shuleni       646\n",
       "Majengo       631\n",
       "Madukani      629\n",
       "Kati          467\n",
       "Mtakuja       322\n",
       "             ... \n",
       "Sangamkubi      1\n",
       "Kyeyo           1\n",
       "Nselya          1\n",
       "Funzi A         1\n",
       "Chisale A       1\n",
       "Name: subvillage, Length: 21425, dtype: int64"
      ]
     },
     "execution_count": 42,
     "metadata": {},
     "output_type": "execute_result"
    }
   ],
   "source": [
    "data['subvillage'].value_counts()"
   ]
  },
  {
   "cell_type": "markdown",
   "metadata": {},
   "source": [
    "# Drop Similar Columns"
   ]
  },
  {
   "cell_type": "code",
   "execution_count": 43,
   "metadata": {
    "execution": {
     "iopub.execute_input": "2021-09-16T07:08:10.579056Z",
     "iopub.status.busy": "2021-09-16T07:08:10.578633Z",
     "iopub.status.idle": "2021-09-16T07:08:10.602377Z",
     "shell.execute_reply": "2021-09-16T07:08:10.601159Z",
     "shell.execute_reply.started": "2021-09-16T07:08:10.579021Z"
    }
   },
   "outputs": [],
   "source": [
    "data.drop(columns=['management_group', 'scheme_management', 'quantity_group', 'source_class', 'source_type', 'quality_group', 'payment_type', 'extraction_type', 'extraction_type_class', 'waterpoint_type_group', 'recorded_by', 'wpt_name', 'scheme_name', 'num_private', 'date_recorded', 'subvillage'], inplace=True )"
   ]
  },
  {
   "cell_type": "code",
   "execution_count": 44,
   "metadata": {
    "execution": {
     "iopub.execute_input": "2021-09-16T07:08:10.603953Z",
     "iopub.status.busy": "2021-09-16T07:08:10.603678Z",
     "iopub.status.idle": "2021-09-16T07:08:10.671801Z",
     "shell.execute_reply": "2021-09-16T07:08:10.670673Z",
     "shell.execute_reply.started": "2021-09-16T07:08:10.603926Z"
    }
   },
   "outputs": [
    {
     "name": "stdout",
     "output_type": "stream",
     "text": [
      "<class 'pandas.core.frame.DataFrame'>\n",
      "Int64Index: 74250 entries, 0 to 14849\n",
      "Data columns (total 25 columns):\n",
      " #   Column                 Non-Null Count  Dtype  \n",
      "---  ------                 --------------  -----  \n",
      " 0   id                     74250 non-null  int64  \n",
      " 1   amount_tsh             74250 non-null  float64\n",
      " 2   funder                 69746 non-null  object \n",
      " 3   gps_height             74250 non-null  int64  \n",
      " 4   installer              69718 non-null  object \n",
      " 5   longitude              74250 non-null  float64\n",
      " 6   latitude               74250 non-null  float64\n",
      " 7   basin                  74250 non-null  object \n",
      " 8   region                 74250 non-null  object \n",
      " 9   region_code            74250 non-null  int64  \n",
      " 10  district_code          74250 non-null  int64  \n",
      " 11  lga                    74250 non-null  object \n",
      " 12  ward                   74250 non-null  object \n",
      " 13  population             74250 non-null  int64  \n",
      " 14  public_meeting         70095 non-null  object \n",
      " 15  permit                 70457 non-null  object \n",
      " 16  construction_year      74250 non-null  int64  \n",
      " 17  extraction_type_group  74250 non-null  object \n",
      " 18  management             74250 non-null  object \n",
      " 19  payment                74250 non-null  object \n",
      " 20  water_quality          74250 non-null  object \n",
      " 21  quantity               74250 non-null  object \n",
      " 22  source                 74250 non-null  object \n",
      " 23  waterpoint_type        74250 non-null  object \n",
      " 24  status_group           59400 non-null  object \n",
      "dtypes: float64(3), int64(6), object(16)\n",
      "memory usage: 16.7+ MB\n"
     ]
    }
   ],
   "source": [
    "data.info()"
   ]
  },
  {
   "cell_type": "markdown",
   "metadata": {},
   "source": [
    "# 2 Zero Value List\n",
    "* construction_year -> apply non zero median : 2000 for zero values\n",
    "* funder -> replace 'other' for NaN values\n",
    "* installer -> replace 'other' for NaN & zero values, correct some spelling mistakes and syntax in some category\n",
    "* longitude -> replace mean of region's longitude for 0.0000 values \n",
    "* public_meeting\n",
    "* permit"
   ]
  },
  {
   "cell_type": "markdown",
   "metadata": {},
   "source": [
    "# 2.1 construction_year column"
   ]
  },
  {
   "cell_type": "code",
   "execution_count": 45,
   "metadata": {
    "execution": {
     "iopub.execute_input": "2021-09-16T07:08:10.673398Z",
     "iopub.status.busy": "2021-09-16T07:08:10.673097Z",
     "iopub.status.idle": "2021-09-16T07:08:10.681351Z",
     "shell.execute_reply": "2021-09-16T07:08:10.680325Z",
     "shell.execute_reply.started": "2021-09-16T07:08:10.673370Z"
    }
   },
   "outputs": [
    {
     "data": {
      "text/plain": [
       "0       25969\n",
       "2010     3314\n",
       "2008     3243\n",
       "2009     3196\n",
       "2000     2578\n",
       "2007     1960\n",
       "2006     1892\n",
       "2011     1591\n",
       "2003     1579\n",
       "2004     1417\n",
       "2012     1347\n",
       "2002     1343\n",
       "1995     1283\n",
       "2005     1275\n",
       "1978     1267\n",
       "1999     1222\n",
       "1998     1190\n",
       "1985     1177\n",
       "1990     1176\n",
       "1996     1020\n",
       "1980     1005\n",
       "1984      970\n",
       "1994      940\n",
       "1982      926\n",
       "1972      892\n",
       "1997      821\n",
       "1974      814\n",
       "1992      807\n",
       "1993      745\n",
       "2001      680\n",
       "1988      657\n",
       "1983      594\n",
       "1975      561\n",
       "1986      553\n",
       "1976      525\n",
       "1970      493\n",
       "1991      407\n",
       "1989      396\n",
       "1987      370\n",
       "1981      291\n",
       "1977      247\n",
       "1979      245\n",
       "1973      227\n",
       "2013      209\n",
       "1971      177\n",
       "1960      124\n",
       "1963      107\n",
       "1967      106\n",
       "1968       93\n",
       "1969       77\n",
       "1964       48\n",
       "1962       36\n",
       "1961       28\n",
       "1965       21\n",
       "1966       19\n",
       "Name: construction_year, dtype: int64"
      ]
     },
     "execution_count": 45,
     "metadata": {},
     "output_type": "execute_result"
    }
   ],
   "source": [
    "data['construction_year'].value_counts()"
   ]
  },
  {
   "cell_type": "code",
   "execution_count": 46,
   "metadata": {
    "execution": {
     "iopub.execute_input": "2021-09-16T07:08:10.682844Z",
     "iopub.status.busy": "2021-09-16T07:08:10.682419Z",
     "iopub.status.idle": "2021-09-16T07:08:10.699466Z",
     "shell.execute_reply": "2021-09-16T07:08:10.698264Z",
     "shell.execute_reply.started": "2021-09-16T07:08:10.682813Z"
    }
   },
   "outputs": [
    {
     "data": {
      "text/plain": [
       "2000"
      ]
     },
     "execution_count": 46,
     "metadata": {},
     "output_type": "execute_result"
    }
   ],
   "source": [
    "construction_year_medain = int((data['construction_year'].loc[data['construction_year'] != 0]).median())\n",
    "data['construction_year'].replace(to_replace = 0, value = construction_year_medain, inplace=True)\n",
    "construction_year_medain"
   ]
  },
  {
   "cell_type": "markdown",
   "metadata": {},
   "source": [
    "# 2.2 funder column"
   ]
  },
  {
   "cell_type": "code",
   "execution_count": 47,
   "metadata": {
    "execution": {
     "iopub.execute_input": "2021-09-16T07:08:10.701852Z",
     "iopub.status.busy": "2021-09-16T07:08:10.701202Z",
     "iopub.status.idle": "2021-09-16T07:08:10.723940Z",
     "shell.execute_reply": "2021-09-16T07:08:10.722527Z",
     "shell.execute_reply.started": "2021-09-16T07:08:10.701798Z"
    }
   },
   "outputs": [
    {
     "data": {
      "text/plain": [
       "Government Of Tanzania            11299\n",
       "Danida                             3907\n",
       "Hesawa                             2782\n",
       "Rwssp                              1703\n",
       "World Bank                         1701\n",
       "Kkkt                               1623\n",
       "World Vision                       1562\n",
       "Unicef                             1324\n",
       "Tasaf                              1136\n",
       "Dhv                                1065\n",
       "District Council                   1037\n",
       "Private Individual                 1034\n",
       "Dwsp                               1012\n",
       "0                                   980\n",
       "Norad                               949\n",
       "Germany Republi                     765\n",
       "Water                               739\n",
       "Tcrs                                735\n",
       "Ministry Of Water                   728\n",
       "Dwe                                 605\n",
       "Netherlands                         592\n",
       "Hifab                               577\n",
       "Adb                                 551\n",
       "Lga                                 546\n",
       "Amref                               525\n",
       "Fini Water                          474\n",
       "Oxfam                               436\n",
       "Wateraid                            416\n",
       "Rc Church                           410\n",
       "Rudep                               390\n",
       "Isf                                 388\n",
       "Private                             380\n",
       "Mission                             379\n",
       "Jaica                               353\n",
       "Rural Water Supply And Sanitat      338\n",
       "Roman                               336\n",
       "Adra                                327\n",
       "Jica                                317\n",
       "Ces(gmbh)                           316\n",
       "Wsdp                                309\n",
       "Shipo                               301\n",
       "Rc                                  291\n",
       "Finw                                281\n",
       "Dh                                  261\n",
       "Kiliwater                           243\n",
       "Dmdd                                237\n",
       "Ded                                 237\n",
       "Plan Int                            234\n",
       "Lawatefuka Water Supply             229\n",
       "Magadini-makiwaru Water             226\n",
       "Name: funder, dtype: int64"
      ]
     },
     "execution_count": 47,
     "metadata": {},
     "output_type": "execute_result"
    }
   ],
   "source": [
    "data['funder'].value_counts().head(50)"
   ]
  },
  {
   "cell_type": "code",
   "execution_count": 48,
   "metadata": {
    "execution": {
     "iopub.execute_input": "2021-09-16T07:08:10.726918Z",
     "iopub.status.busy": "2021-09-16T07:08:10.726090Z",
     "iopub.status.idle": "2021-09-16T07:08:10.758177Z",
     "shell.execute_reply": "2021-09-16T07:08:10.756807Z",
     "shell.execute_reply.started": "2021-09-16T07:08:10.726871Z"
    }
   },
   "outputs": [
    {
     "data": {
      "text/plain": [
       "funder                       status_group           \n",
       "0                            functional                 445\n",
       "                             functional needs repair      3\n",
       "                             non functional             329\n",
       "A/co Germany                 functional                   7\n",
       "                             functional needs repair      1\n",
       "                             non functional               7\n",
       "Aar                          functional                  22\n",
       "                             functional needs repair      4\n",
       "                             non functional               7\n",
       "Abas Ka                      functional                   1\n",
       "Abasia                       functional                  36\n",
       "                             functional needs repair      2\n",
       "                             non functional               5\n",
       "Abc-ihushi Development Cent  non functional               1\n",
       "Abd                          functional                   5\n",
       "                             non functional               2\n",
       "Abdala                       non functional               1\n",
       "Abddwe                       functional                   1\n",
       "Abdul                        non functional               1\n",
       "Abood                        non functional               2\n",
       "Abs                          functional                   1\n",
       "Aco/germany                  functional                  12\n",
       "                             functional needs repair      1\n",
       "Acord                        functional                   1\n",
       "                             non functional               2\n",
       "Acord Ngo                    functional needs repair      1\n",
       "                             non functional               1\n",
       "Acra                         functional                  46\n",
       "Act                          functional                   1\n",
       "Act Mara                     functional                   1\n",
       "Action Aid                   functional                   5\n",
       "                             non functional               3\n",
       "Action Contre La Faim        functional                   7\n",
       "                             non functional               2\n",
       "Action In A                  functional                   1\n",
       "Adap                         functional                   1\n",
       "                             non functional               3\n",
       "Adb                          functional                 341\n",
       "                             functional needs repair     20\n",
       "                             non functional              87\n",
       "Adf                          functional                   3\n",
       "                             non functional               3\n",
       "Adp                          functional                   8\n",
       "                             non functional              17\n",
       "Adp Bungu                    functional                   2\n",
       "Adp Mombo                    functional                   7\n",
       "                             non functional               7\n",
       "Adp/w                        functional                   2\n",
       "Adra                         functional                 113\n",
       "                             functional needs repair      2\n",
       "dtype: int64"
      ]
     },
     "execution_count": 48,
     "metadata": {},
     "output_type": "execute_result"
    }
   ],
   "source": [
    "data.groupby(['funder','status_group']).size().head(50)"
   ]
  },
  {
   "cell_type": "code",
   "execution_count": 49,
   "metadata": {
    "execution": {
     "iopub.execute_input": "2021-09-16T07:08:10.760362Z",
     "iopub.status.busy": "2021-09-16T07:08:10.759898Z",
     "iopub.status.idle": "2021-09-16T07:08:11.269258Z",
     "shell.execute_reply": "2021-09-16T07:08:11.268000Z",
     "shell.execute_reply.started": "2021-09-16T07:08:10.760311Z"
    }
   },
   "outputs": [
    {
     "data": {
      "text/plain": [
       "Text(0.5, 1.0, 'funder / status_group for most 15 frequence values')"
      ]
     },
     "execution_count": 49,
     "metadata": {},
     "output_type": "execute_result"
    },
    {
     "data": {
      "image/png": "[encoded data removed]",
      "text/plain": [
       "<Figure size 1872x864 with 1 Axes>"
      ]
     },
     "metadata": {
      "needs_background": "light"
     },
     "output_type": "display_data"
    }
   ],
   "source": [
    "\n",
    "plt.figure(figsize=(26,12))\n",
    "sns.countplot(data=data, x='funder', hue=\"status_group\", order=data.funder.value_counts().iloc[:15].index)\n",
    "plt.title('funder / status_group for most 15 frequence values')"
   ]
  },
  {
   "cell_type": "markdown",
   "metadata": {},
   "source": [
    "most of the water points which funded by government are non-functional"
   ]
  },
  {
   "cell_type": "code",
   "execution_count": 50,
   "metadata": {
    "execution": {
     "iopub.execute_input": "2021-09-16T07:08:11.270969Z",
     "iopub.status.busy": "2021-09-16T07:08:11.270657Z",
     "iopub.status.idle": "2021-09-16T07:08:11.280659Z",
     "shell.execute_reply": "2021-09-16T07:08:11.279355Z",
     "shell.execute_reply.started": "2021-09-16T07:08:11.270939Z"
    }
   },
   "outputs": [],
   "source": [
    "data[\"funder\"].fillna(\"other\", inplace=True)"
   ]
  },
  {
   "cell_type": "markdown",
   "metadata": {},
   "source": [
    "# 2.3 installer column"
   ]
  },
  {
   "cell_type": "code",
   "execution_count": 51,
   "metadata": {
    "execution": {
     "iopub.execute_input": "2021-09-16T07:08:11.282878Z",
     "iopub.status.busy": "2021-09-16T07:08:11.282502Z",
     "iopub.status.idle": "2021-09-16T07:08:11.305173Z",
     "shell.execute_reply": "2021-09-16T07:08:11.304129Z",
     "shell.execute_reply.started": "2021-09-16T07:08:11.282831Z"
    }
   },
   "outputs": [
    {
     "data": {
      "text/plain": [
       "DWE                           21751\n",
       "Government                     2282\n",
       "RWE                            1498\n",
       "Commu                          1347\n",
       "DANIDA                         1305\n",
       "KKKT                           1120\n",
       "Hesawa                         1070\n",
       "0                               980\n",
       "TCRS                            887\n",
       "CES                             765\n",
       "Central government              764\n",
       "DANID                           690\n",
       "Community                       687\n",
       "HESAWA                          679\n",
       "District Council                663\n",
       "World vision                    517\n",
       "TASAF                           504\n",
       "LGA                             501\n",
       "WEDECO                          496\n",
       "District council                490\n",
       "Gover                           483\n",
       "AMREF                           398\n",
       "TWESA                           395\n",
       "WU                              377\n",
       "Dmdd                            356\n",
       "ACRA                            346\n",
       "World Vision                    326\n",
       "SEMA                            311\n",
       "DW                              308\n",
       "OXFAM                           288\n",
       "Da                              287\n",
       "UNICEF                          285\n",
       "Gove                            276\n",
       "Kiliwater                       271\n",
       "FinW                            267\n",
       "Villagers                       262\n",
       "NORAD                           260\n",
       "Sengerema Water Department      258\n",
       "Idara ya maji                   254\n",
       "DH                              246\n",
       "DWSP                            239\n",
       "Lawatefuka water sup            229\n",
       "Magadini-Makiwaru wa            226\n",
       "Distri                          224\n",
       "RC                              219\n",
       "FW                              214\n",
       "KKKT _ Konde and DWE            209\n",
       "Handeni Trunk Main(             208\n",
       "WVT                             206\n",
       "MWE                             198\n",
       "Name: installer, dtype: int64"
      ]
     },
     "execution_count": 51,
     "metadata": {},
     "output_type": "execute_result"
    }
   ],
   "source": [
    "data['installer'].value_counts().head(50)"
   ]
  },
  {
   "cell_type": "code",
   "execution_count": 52,
   "metadata": {
    "execution": {
     "iopub.execute_input": "2021-09-16T07:08:11.307015Z",
     "iopub.status.busy": "2021-09-16T07:08:11.306692Z",
     "iopub.status.idle": "2021-09-16T07:08:11.317893Z",
     "shell.execute_reply": "2021-09-16T07:08:11.316783Z",
     "shell.execute_reply.started": "2021-09-16T07:08:11.306956Z"
    }
   },
   "outputs": [],
   "source": [
    "installer_map = [[ ['District Water Department', 'District water depar','Distric Water Department'], 'District water department' ],\n",
    "                 [['JAICA'],'Jaica'],\n",
    "                 [['FinW','Fini water','FINI WATER'],'Fini Water'],\n",
    "                 [['RC CHURCH', 'RC Churc', 'RC','RC Ch','RC C', 'RC CH','RC church','RC CATHORIC'],'RC Church'],\n",
    "                 [['World vision', 'World Division','World Vision'],'world vision'],\n",
    "                 [['COUN', 'District COUNCIL', 'DISTRICT COUNCIL','District Counci', \n",
    "                                      'District Council','Council','Counc','District  Council','Distri'],'District council'],\n",
    "                 [['DANID'],'DANIDA'],\n",
    "                 [['Hesawa'],'HESAWA'],\n",
    "                 [['Central Government','Tanzania Government','central government','Cental Government', 'Cebtral Government', \n",
    "                                      'Tanzanian Government','Tanzania government', 'Centra Government' ,\n",
    "                                      'CENTRAL GOVERNMENT', 'TANZANIAN GOVERNMENT','Central govt', 'Centr', \n",
    "                                      'Centra govt'],'Central government'],\n",
    "                 [['Unisef','UNICEF'],'Unicef'],\n",
    "                 [['villigers', 'villager', 'Villagers', 'Villa', 'Village', 'Villi', \n",
    "                                      'Village Council','Village Counil', 'Villages', 'Vill', 'Village community', \n",
    "                                      'Villaers', 'Village Community', 'Villag','Villege Council', 'Village council',\n",
    "                                      'Village  Council','Villagerd', 'Villager', 'Village Technician',\n",
    "                                      'Village Office','Village community members'],'villagers'],\n",
    "                 [['GOVERNMENT', 'GOVER', 'GOVERNME', 'GOVERM','GOVERN','Gover','Gove',\n",
    "                                      'Governme','Governmen'],'Government'],\n",
    "                 [['Commu','Communit','commu','COMMU', 'COMMUNITY'],'Community']\n",
    "\n",
    "                ]"
   ]
  },
  {
   "cell_type": "code",
   "execution_count": 53,
   "metadata": {
    "execution": {
     "iopub.execute_input": "2021-09-16T07:08:11.320228Z",
     "iopub.status.busy": "2021-09-16T07:08:11.319665Z",
     "iopub.status.idle": "2021-09-16T07:08:11.526187Z",
     "shell.execute_reply": "2021-09-16T07:08:11.525007Z",
     "shell.execute_reply.started": "2021-09-16T07:08:11.320176Z"
    }
   },
   "outputs": [],
   "source": [
    "for installer_map_data in installer_map:\n",
    "    data['installer'].replace(to_replace = installer_map_data[0], value =installer_map_data[1] , inplace=True)"
   ]
  },
  {
   "cell_type": "code",
   "execution_count": 54,
   "metadata": {
    "execution": {
     "iopub.execute_input": "2021-09-16T07:08:11.528016Z",
     "iopub.status.busy": "2021-09-16T07:08:11.527663Z",
     "iopub.status.idle": "2021-09-16T07:08:11.539006Z",
     "shell.execute_reply": "2021-09-16T07:08:11.538148Z",
     "shell.execute_reply.started": "2021-09-16T07:08:11.527965Z"
    }
   },
   "outputs": [],
   "source": [
    "\n",
    "data['installer'].fillna(value='other',inplace=True)\n",
    "data['installer'].replace(to_replace = '0', value ='other' , inplace=True)"
   ]
  },
  {
   "cell_type": "code",
   "execution_count": 55,
   "metadata": {
    "execution": {
     "iopub.execute_input": "2021-09-16T07:08:11.540314Z",
     "iopub.status.busy": "2021-09-16T07:08:11.539973Z",
     "iopub.status.idle": "2021-09-16T07:08:11.563413Z",
     "shell.execute_reply": "2021-09-16T07:08:11.562043Z",
     "shell.execute_reply.started": "2021-09-16T07:08:11.540282Z"
    }
   },
   "outputs": [
    {
     "data": {
      "text/plain": [
       "DWE                   21751\n",
       "other                  5512\n",
       "Government             3337\n",
       "Community              2112\n",
       "DANIDA                 1995\n",
       "HESAWA                 1749\n",
       "RWE                    1498\n",
       "District council       1449\n",
       "Central government     1359\n",
       "KKKT                   1120\n",
       "TCRS                    887\n",
       "world vision            846\n",
       "CES                     765\n",
       "Fini Water              732\n",
       "RC Church               586\n",
       "villagers               514\n",
       "TASAF                   504\n",
       "LGA                     501\n",
       "WEDECO                  496\n",
       "Unicef                  421\n",
       "Name: installer, dtype: int64"
      ]
     },
     "execution_count": 55,
     "metadata": {},
     "output_type": "execute_result"
    }
   ],
   "source": [
    "data['installer'].value_counts().head(20)"
   ]
  },
  {
   "cell_type": "code",
   "execution_count": 56,
   "metadata": {
    "execution": {
     "iopub.execute_input": "2021-09-16T07:08:11.565532Z",
     "iopub.status.busy": "2021-09-16T07:08:11.565060Z",
     "iopub.status.idle": "2021-09-16T07:08:12.071660Z",
     "shell.execute_reply": "2021-09-16T07:08:12.070577Z",
     "shell.execute_reply.started": "2021-09-16T07:08:11.565482Z"
    }
   },
   "outputs": [
    {
     "data": {
      "text/plain": [
       "Text(0.5, 1.0, 'installer / status_group for most 15 frequence values')"
      ]
     },
     "execution_count": 56,
     "metadata": {},
     "output_type": "execute_result"
    },
    {
     "data": {
      "image/png": "[encoded data removed]",
      "text/plain": [
       "<Figure size 1872x864 with 1 Axes>"
      ]
     },
     "metadata": {
      "needs_background": "light"
     },
     "output_type": "display_data"
    }
   ],
   "source": [
    "plt.figure(figsize=(26,12))\n",
    "sns.countplot(data=data, x='installer', hue=\"status_group\", order=data.installer.value_counts().iloc[:15].index)\n",
    "plt.title('installer / status_group for most 15 frequence values')"
   ]
  },
  {
   "cell_type": "markdown",
   "metadata": {},
   "source": [
    "DWE : has most functional wells and non functional wells\n",
    "\n",
    "government, central government, district council, RWE, Fini Water : have most non functional wells"
   ]
  },
  {
   "cell_type": "markdown",
   "metadata": {},
   "source": [
    "# 2.4 longitude / latitude column"
   ]
  },
  {
   "cell_type": "code",
   "execution_count": 57,
   "metadata": {
    "execution": {
     "iopub.execute_input": "2021-09-16T07:08:12.073501Z",
     "iopub.status.busy": "2021-09-16T07:08:12.073184Z",
     "iopub.status.idle": "2021-09-16T07:08:12.081261Z",
     "shell.execute_reply": "2021-09-16T07:08:12.079954Z",
     "shell.execute_reply.started": "2021-09-16T07:08:12.073466Z"
    }
   },
   "outputs": [],
   "source": [
    "data['longitude'].replace(0.0, np.nan, inplace=True)\n",
    "data['latitude'].replace(0.0, np.nan, inplace=True)"
   ]
  },
  {
   "cell_type": "code",
   "execution_count": 58,
   "metadata": {
    "execution": {
     "iopub.execute_input": "2021-09-16T07:08:12.083214Z",
     "iopub.status.busy": "2021-09-16T07:08:12.082782Z",
     "iopub.status.idle": "2021-09-16T07:08:12.093861Z",
     "shell.execute_reply": "2021-09-16T07:08:12.092781Z",
     "shell.execute_reply.started": "2021-09-16T07:08:12.083172Z"
    }
   },
   "outputs": [
    {
     "data": {
      "text/plain": [
       "2269"
      ]
     },
     "execution_count": 58,
     "metadata": {},
     "output_type": "execute_result"
    }
   ],
   "source": [
    "data['longitude'].isnull().sum()"
   ]
  },
  {
   "cell_type": "code",
   "execution_count": 59,
   "metadata": {
    "execution": {
     "iopub.execute_input": "2021-09-16T07:08:12.095631Z",
     "iopub.status.busy": "2021-09-16T07:08:12.095281Z",
     "iopub.status.idle": "2021-09-16T07:08:12.108214Z",
     "shell.execute_reply": "2021-09-16T07:08:12.107087Z",
     "shell.execute_reply.started": "2021-09-16T07:08:12.095597Z"
    }
   },
   "outputs": [
    {
     "data": {
      "text/plain": [
       "0"
      ]
     },
     "execution_count": 59,
     "metadata": {},
     "output_type": "execute_result"
    }
   ],
   "source": [
    "data['latitude'].isnull().sum()"
   ]
  },
  {
   "cell_type": "code",
   "execution_count": 60,
   "metadata": {
    "execution": {
     "iopub.execute_input": "2021-09-16T07:08:12.110169Z",
     "iopub.status.busy": "2021-09-16T07:08:12.109843Z",
     "iopub.status.idle": "2021-09-16T07:08:12.129441Z",
     "shell.execute_reply": "2021-09-16T07:08:12.128149Z",
     "shell.execute_reply.started": "2021-09-16T07:08:12.110139Z"
    }
   },
   "outputs": [
    {
     "data": {
      "text/html": [
       "<div>\n",
       "<style scoped>\n",
       "    .dataframe tbody tr th:only-of-type {\n",
       "        vertical-align: middle;\n",
       "    }\n",
       "\n",
       "    .dataframe tbody tr th {\n",
       "        vertical-align: top;\n",
       "    }\n",
       "\n",
       "    .dataframe thead th {\n",
       "        text-align: right;\n",
       "    }\n",
       "</style>\n",
       "<table border=\"1\" class=\"dataframe\">\n",
       "  <thead>\n",
       "    <tr style=\"text-align: right;\">\n",
       "      <th></th>\n",
       "      <th>longitude</th>\n",
       "    </tr>\n",
       "    <tr>\n",
       "      <th>region_code</th>\n",
       "      <th></th>\n",
       "    </tr>\n",
       "  </thead>\n",
       "  <tbody>\n",
       "    <tr>\n",
       "      <th>1</th>\n",
       "      <td>36.041964</td>\n",
       "    </tr>\n",
       "    <tr>\n",
       "      <th>2</th>\n",
       "      <td>36.650754</td>\n",
       "    </tr>\n",
       "    <tr>\n",
       "      <th>3</th>\n",
       "      <td>37.505459</td>\n",
       "    </tr>\n",
       "    <tr>\n",
       "      <th>4</th>\n",
       "      <td>38.519192</td>\n",
       "    </tr>\n",
       "    <tr>\n",
       "      <th>5</th>\n",
       "      <td>37.047846</td>\n",
       "    </tr>\n",
       "  </tbody>\n",
       "</table>\n",
       "</div>"
      ],
      "text/plain": [
       "             longitude\n",
       "region_code           \n",
       "1            36.041964\n",
       "2            36.650754\n",
       "3            37.505459\n",
       "4            38.519192\n",
       "5            37.047846"
      ]
     },
     "execution_count": 60,
     "metadata": {},
     "output_type": "execute_result"
    }
   ],
   "source": [
    "data.groupby('region_code')[['longitude']].mean().head()"
   ]
  },
  {
   "cell_type": "code",
   "execution_count": 61,
   "metadata": {
    "execution": {
     "iopub.execute_input": "2021-09-16T07:08:12.131154Z",
     "iopub.status.busy": "2021-09-16T07:08:12.130829Z",
     "iopub.status.idle": "2021-09-16T07:08:12.488290Z",
     "shell.execute_reply": "2021-09-16T07:08:12.487226Z",
     "shell.execute_reply.started": "2021-09-16T07:08:12.131114Z"
    }
   },
   "outputs": [],
   "source": [
    "data[\"longitude\"].fillna(data.groupby(\"region_code\").transform(lambda x: x.fillna(x.mean())).longitude, inplace=True)"
   ]
  },
  {
   "cell_type": "code",
   "execution_count": 62,
   "metadata": {
    "execution": {
     "iopub.execute_input": "2021-09-16T07:08:12.490311Z",
     "iopub.status.busy": "2021-09-16T07:08:12.489835Z",
     "iopub.status.idle": "2021-09-16T07:08:12.499110Z",
     "shell.execute_reply": "2021-09-16T07:08:12.497907Z",
     "shell.execute_reply.started": "2021-09-16T07:08:12.490263Z"
    }
   },
   "outputs": [
    {
     "data": {
      "text/plain": [
       "0"
      ]
     },
     "execution_count": 62,
     "metadata": {},
     "output_type": "execute_result"
    }
   ],
   "source": [
    "data['longitude'].isnull().sum()"
   ]
  },
  {
   "cell_type": "markdown",
   "metadata": {},
   "source": [
    "# 2.5 gps_height column"
   ]
  },
  {
   "cell_type": "code",
   "execution_count": 63,
   "metadata": {
    "execution": {
     "iopub.execute_input": "2021-09-16T07:08:12.500677Z",
     "iopub.status.busy": "2021-09-16T07:08:12.500339Z",
     "iopub.status.idle": "2021-09-16T07:08:12.518168Z",
     "shell.execute_reply": "2021-09-16T07:08:12.516445Z",
     "shell.execute_reply.started": "2021-09-16T07:08:12.500643Z"
    }
   },
   "outputs": [
    {
     "data": {
      "text/plain": [
       " 0       25649\n",
       "-16         71\n",
       "-15         69\n",
       "-13         68\n",
       "-19         65\n",
       "         ...  \n",
       " 2353        1\n",
       " 2417        1\n",
       " 2545        1\n",
       " 2416        1\n",
       " 2285        1\n",
       "Name: gps_height, Length: 2456, dtype: int64"
      ]
     },
     "execution_count": 63,
     "metadata": {},
     "output_type": "execute_result"
    }
   ],
   "source": [
    "data['gps_height'].value_counts()"
   ]
  },
  {
   "cell_type": "markdown",
   "metadata": {},
   "source": [
    "# 2.6 permit column"
   ]
  },
  {
   "cell_type": "code",
   "execution_count": 64,
   "metadata": {
    "execution": {
     "iopub.execute_input": "2021-09-16T07:08:12.520439Z",
     "iopub.status.busy": "2021-09-16T07:08:12.519943Z",
     "iopub.status.idle": "2021-09-16T07:08:12.538737Z",
     "shell.execute_reply": "2021-09-16T07:08:12.537592Z",
     "shell.execute_reply.started": "2021-09-16T07:08:12.520383Z"
    }
   },
   "outputs": [
    {
     "data": {
      "text/plain": [
       "True     48606\n",
       "False    21851\n",
       "Name: permit, dtype: int64"
      ]
     },
     "execution_count": 64,
     "metadata": {},
     "output_type": "execute_result"
    }
   ],
   "source": [
    "data['permit'].value_counts()"
   ]
  },
  {
   "cell_type": "code",
   "execution_count": 65,
   "metadata": {
    "execution": {
     "iopub.execute_input": "2021-09-16T07:08:12.540529Z",
     "iopub.status.busy": "2021-09-16T07:08:12.540194Z",
     "iopub.status.idle": "2021-09-16T07:08:12.557260Z",
     "shell.execute_reply": "2021-09-16T07:08:12.556276Z",
     "shell.execute_reply.started": "2021-09-16T07:08:12.540494Z"
    }
   },
   "outputs": [],
   "source": [
    "data['permit'].fillna(value=True, inplace=True)"
   ]
  },
  {
   "cell_type": "code",
   "execution_count": 66,
   "metadata": {
    "execution": {
     "iopub.execute_input": "2021-09-16T07:08:12.558936Z",
     "iopub.status.busy": "2021-09-16T07:08:12.558560Z",
     "iopub.status.idle": "2021-09-16T07:08:12.571408Z",
     "shell.execute_reply": "2021-09-16T07:08:12.570329Z",
     "shell.execute_reply.started": "2021-09-16T07:08:12.558898Z"
    }
   },
   "outputs": [
    {
     "data": {
      "text/plain": [
       "0        False\n",
       "1         True\n",
       "2         True\n",
       "3         True\n",
       "4         True\n",
       "         ...  \n",
       "14845     True\n",
       "14846    False\n",
       "14847     True\n",
       "14848     True\n",
       "14849     True\n",
       "Name: permit, Length: 74250, dtype: bool"
      ]
     },
     "execution_count": 66,
     "metadata": {},
     "output_type": "execute_result"
    }
   ],
   "source": [
    "data['permit']"
   ]
  },
  {
   "cell_type": "code",
   "execution_count": 67,
   "metadata": {
    "execution": {
     "iopub.execute_input": "2021-09-16T07:08:12.573531Z",
     "iopub.status.busy": "2021-09-16T07:08:12.573091Z",
     "iopub.status.idle": "2021-09-16T07:08:12.585904Z",
     "shell.execute_reply": "2021-09-16T07:08:12.584947Z",
     "shell.execute_reply.started": "2021-09-16T07:08:12.573477Z"
    }
   },
   "outputs": [],
   "source": [
    "data.permit = data.permit.astype(bool).astype(int)"
   ]
  },
  {
   "cell_type": "code",
   "execution_count": 68,
   "metadata": {
    "execution": {
     "iopub.execute_input": "2021-09-16T07:08:12.587489Z",
     "iopub.status.busy": "2021-09-16T07:08:12.587147Z",
     "iopub.status.idle": "2021-09-16T07:08:12.598732Z",
     "shell.execute_reply": "2021-09-16T07:08:12.597923Z",
     "shell.execute_reply.started": "2021-09-16T07:08:12.587453Z"
    }
   },
   "outputs": [
    {
     "data": {
      "text/plain": [
       "0        0\n",
       "1        1\n",
       "2        1\n",
       "3        1\n",
       "4        1\n",
       "        ..\n",
       "14845    1\n",
       "14846    0\n",
       "14847    1\n",
       "14848    1\n",
       "14849    1\n",
       "Name: permit, Length: 74250, dtype: int32"
      ]
     },
     "execution_count": 68,
     "metadata": {},
     "output_type": "execute_result"
    }
   ],
   "source": [
    "data['permit']"
   ]
  },
  {
   "cell_type": "markdown",
   "metadata": {},
   "source": [
    "# 2.7 public_meeting column"
   ]
  },
  {
   "cell_type": "code",
   "execution_count": 69,
   "metadata": {
    "execution": {
     "iopub.execute_input": "2021-09-16T07:08:12.605578Z",
     "iopub.status.busy": "2021-09-16T07:08:12.604851Z",
     "iopub.status.idle": "2021-09-16T07:08:12.623386Z",
     "shell.execute_reply": "2021-09-16T07:08:12.621264Z",
     "shell.execute_reply.started": "2021-09-16T07:08:12.605531Z"
    }
   },
   "outputs": [
    {
     "data": {
      "text/plain": [
       "True     63749\n",
       "False     6346\n",
       "Name: public_meeting, dtype: int64"
      ]
     },
     "execution_count": 69,
     "metadata": {},
     "output_type": "execute_result"
    }
   ],
   "source": [
    "data['public_meeting'].value_counts()"
   ]
  },
  {
   "cell_type": "code",
   "execution_count": 70,
   "metadata": {
    "execution": {
     "iopub.execute_input": "2021-09-16T07:08:12.627555Z",
     "iopub.status.busy": "2021-09-16T07:08:12.626641Z",
     "iopub.status.idle": "2021-09-16T07:08:12.651985Z",
     "shell.execute_reply": "2021-09-16T07:08:12.651030Z",
     "shell.execute_reply.started": "2021-09-16T07:08:12.627437Z"
    }
   },
   "outputs": [],
   "source": [
    "data['public_meeting'].fillna(value=True,inplace=True)"
   ]
  },
  {
   "cell_type": "code",
   "execution_count": 71,
   "metadata": {
    "execution": {
     "iopub.execute_input": "2021-09-16T07:08:12.654097Z",
     "iopub.status.busy": "2021-09-16T07:08:12.653416Z",
     "iopub.status.idle": "2021-09-16T07:08:12.666311Z",
     "shell.execute_reply": "2021-09-16T07:08:12.665134Z",
     "shell.execute_reply.started": "2021-09-16T07:08:12.654037Z"
    }
   },
   "outputs": [
    {
     "data": {
      "text/plain": [
       "0        True\n",
       "1        True\n",
       "2        True\n",
       "3        True\n",
       "4        True\n",
       "         ... \n",
       "14845    True\n",
       "14846    True\n",
       "14847    True\n",
       "14848    True\n",
       "14849    True\n",
       "Name: public_meeting, Length: 74250, dtype: bool"
      ]
     },
     "execution_count": 71,
     "metadata": {},
     "output_type": "execute_result"
    }
   ],
   "source": [
    "data['public_meeting']"
   ]
  },
  {
   "cell_type": "code",
   "execution_count": 72,
   "metadata": {
    "execution": {
     "iopub.execute_input": "2021-09-16T07:08:12.668983Z",
     "iopub.status.busy": "2021-09-16T07:08:12.668204Z",
     "iopub.status.idle": "2021-09-16T07:08:12.676028Z",
     "shell.execute_reply": "2021-09-16T07:08:12.674711Z",
     "shell.execute_reply.started": "2021-09-16T07:08:12.668726Z"
    }
   },
   "outputs": [],
   "source": [
    "data.public_meeting  = data.public_meeting.astype(bool).astype(int)"
   ]
  },
  {
   "cell_type": "code",
   "execution_count": 73,
   "metadata": {
    "execution": {
     "iopub.execute_input": "2021-09-16T07:08:12.678087Z",
     "iopub.status.busy": "2021-09-16T07:08:12.677592Z",
     "iopub.status.idle": "2021-09-16T07:08:12.694728Z",
     "shell.execute_reply": "2021-09-16T07:08:12.693376Z",
     "shell.execute_reply.started": "2021-09-16T07:08:12.678032Z"
    }
   },
   "outputs": [
    {
     "data": {
      "text/plain": [
       "0        1\n",
       "1        1\n",
       "2        1\n",
       "3        1\n",
       "4        1\n",
       "        ..\n",
       "14845    1\n",
       "14846    1\n",
       "14847    1\n",
       "14848    1\n",
       "14849    1\n",
       "Name: public_meeting, Length: 74250, dtype: int32"
      ]
     },
     "execution_count": 73,
     "metadata": {},
     "output_type": "execute_result"
    }
   ],
   "source": [
    "data['public_meeting']"
   ]
  },
  {
   "cell_type": "markdown",
   "metadata": {},
   "source": [
    "# 2.8 basin column"
   ]
  },
  {
   "cell_type": "code",
   "execution_count": 74,
   "metadata": {
    "execution": {
     "iopub.execute_input": "2021-09-16T07:08:12.697523Z",
     "iopub.status.busy": "2021-09-16T07:08:12.697027Z",
     "iopub.status.idle": "2021-09-16T07:08:12.715788Z",
     "shell.execute_reply": "2021-09-16T07:08:12.714488Z",
     "shell.execute_reply.started": "2021-09-16T07:08:12.697468Z"
    }
   },
   "outputs": [
    {
     "data": {
      "text/plain": [
       "Lake Victoria              12871\n",
       "Pangani                    11143\n",
       "Rufiji                      9987\n",
       "Internal                    9642\n",
       "Lake Tanganyika             8052\n",
       "Wami / Ruvu                 7577\n",
       "Lake Nyasa                  6332\n",
       "Ruvuma / Southern Coast     5587\n",
       "Lake Rukwa                  3059\n",
       "Name: basin, dtype: int64"
      ]
     },
     "execution_count": 74,
     "metadata": {},
     "output_type": "execute_result"
    }
   ],
   "source": [
    "data['basin'].value_counts()"
   ]
  },
  {
   "cell_type": "markdown",
   "metadata": {},
   "source": [
    "# 2.9 population column"
   ]
  },
  {
   "cell_type": "code",
   "execution_count": 75,
   "metadata": {
    "execution": {
     "iopub.execute_input": "2021-09-16T07:08:12.717588Z",
     "iopub.status.busy": "2021-09-16T07:08:12.717268Z",
     "iopub.status.idle": "2021-09-16T07:08:12.730357Z",
     "shell.execute_reply": "2021-09-16T07:08:12.729065Z",
     "shell.execute_reply.started": "2021-09-16T07:08:12.717554Z"
    }
   },
   "outputs": [
    {
     "data": {
      "text/plain": [
       "0       26834\n",
       "1        8782\n",
       "200      2370\n",
       "150      2328\n",
       "250      2087\n",
       "        ...  \n",
       "8500        1\n",
       "2353        1\n",
       "4210        1\n",
       "1177        1\n",
       "895         1\n",
       "Name: population, Length: 1128, dtype: int64"
      ]
     },
     "execution_count": 75,
     "metadata": {},
     "output_type": "execute_result"
    }
   ],
   "source": [
    "data['population'].value_counts()"
   ]
  },
  {
   "cell_type": "code",
   "execution_count": 76,
   "metadata": {
    "execution": {
     "iopub.execute_input": "2021-09-16T07:08:12.733417Z",
     "iopub.status.busy": "2021-09-16T07:08:12.733044Z",
     "iopub.status.idle": "2021-09-16T07:08:12.745668Z",
     "shell.execute_reply": "2021-09-16T07:08:12.744502Z",
     "shell.execute_reply.started": "2021-09-16T07:08:12.733383Z"
    }
   },
   "outputs": [
    {
     "data": {
      "text/plain": [
       "283"
      ]
     },
     "execution_count": 76,
     "metadata": {},
     "output_type": "execute_result"
    }
   ],
   "source": [
    "population_mean = int((data['population'].loc[data['population'] != 0]).mean())\n",
    "data['population'].replace(to_replace = 0, value = population_mean, inplace=True)\n",
    "population_mean"
   ]
  },
  {
   "cell_type": "code",
   "execution_count": 77,
   "metadata": {
    "execution": {
     "iopub.execute_input": "2021-09-16T07:08:12.747435Z",
     "iopub.status.busy": "2021-09-16T07:08:12.747112Z",
     "iopub.status.idle": "2021-09-16T07:08:12.801670Z",
     "shell.execute_reply": "2021-09-16T07:08:12.800386Z",
     "shell.execute_reply.started": "2021-09-16T07:08:12.747401Z"
    }
   },
   "outputs": [
    {
     "data": {
      "text/plain": [
       "id                           0\n",
       "amount_tsh                   0\n",
       "funder                       0\n",
       "gps_height                   0\n",
       "installer                    0\n",
       "longitude                    0\n",
       "latitude                     0\n",
       "basin                        0\n",
       "region                       0\n",
       "region_code                  0\n",
       "district_code                0\n",
       "lga                          0\n",
       "ward                         0\n",
       "population                   0\n",
       "public_meeting               0\n",
       "permit                       0\n",
       "construction_year            0\n",
       "extraction_type_group        0\n",
       "management                   0\n",
       "payment                      0\n",
       "water_quality                0\n",
       "quantity                     0\n",
       "source                       0\n",
       "waterpoint_type              0\n",
       "status_group             14850\n",
       "dtype: int64"
      ]
     },
     "execution_count": 77,
     "metadata": {},
     "output_type": "execute_result"
    }
   ],
   "source": [
    "data.isnull().sum()"
   ]
  },
  {
   "cell_type": "markdown",
   "metadata": {},
   "source": [
    "# 3 Encoding"
   ]
  },
  {
   "cell_type": "markdown",
   "metadata": {},
   "source": [
    "# 3.2 one-hot encoding -> category_columns\n",
    "\n",
    "Gets the top 20 values from the funder and installer"
   ]
  },
  {
   "cell_type": "code",
   "execution_count": 78,
   "metadata": {
    "execution": {
     "iopub.execute_input": "2021-09-16T07:08:12.803462Z",
     "iopub.status.busy": "2021-09-16T07:08:12.803121Z",
     "iopub.status.idle": "2021-09-16T07:08:12.809444Z",
     "shell.execute_reply": "2021-09-16T07:08:12.808146Z",
     "shell.execute_reply.started": "2021-09-16T07:08:12.803426Z"
    }
   },
   "outputs": [],
   "source": [
    "import category_encoders as ce"
   ]
  },
  {
   "cell_type": "code",
   "execution_count": 79,
   "metadata": {
    "execution": {
     "iopub.execute_input": "2021-09-16T07:08:12.811912Z",
     "iopub.status.busy": "2021-09-16T07:08:12.811363Z",
     "iopub.status.idle": "2021-09-16T07:08:12.992528Z",
     "shell.execute_reply": "2021-09-16T07:08:12.991155Z",
     "shell.execute_reply.started": "2021-09-16T07:08:12.811857Z"
    }
   },
   "outputs": [
    {
     "data": {
      "text/plain": [
       "id                       74250\n",
       "amount_tsh                 102\n",
       "funder                    2141\n",
       "gps_height                2456\n",
       "installer                 2330\n",
       "longitude                71872\n",
       "latitude                 71869\n",
       "basin                        9\n",
       "region                      21\n",
       "region_code                 27\n",
       "district_code               20\n",
       "lga                        125\n",
       "ward                      2098\n",
       "population                1127\n",
       "public_meeting               2\n",
       "permit                       2\n",
       "construction_year           54\n",
       "extraction_type_group       13\n",
       "management                  12\n",
       "payment                      7\n",
       "water_quality                8\n",
       "quantity                     5\n",
       "source                      10\n",
       "waterpoint_type              7\n",
       "status_group                 3\n",
       "dtype: int64"
      ]
     },
     "execution_count": 79,
     "metadata": {},
     "output_type": "execute_result"
    }
   ],
   "source": [
    "data.nunique()"
   ]
  },
  {
   "cell_type": "code",
   "execution_count": 80,
   "metadata": {
    "execution": {
     "iopub.execute_input": "2021-09-16T07:08:12.995096Z",
     "iopub.status.busy": "2021-09-16T07:08:12.994615Z",
     "iopub.status.idle": "2021-09-16T07:08:13.021187Z",
     "shell.execute_reply": "2021-09-16T07:08:13.019556Z",
     "shell.execute_reply.started": "2021-09-16T07:08:12.995033Z"
    }
   },
   "outputs": [
    {
     "data": {
      "text/plain": [
       "Government Of Tanzania            11299\n",
       "other                              4504\n",
       "Danida                             3907\n",
       "Hesawa                             2782\n",
       "Rwssp                              1703\n",
       "World Bank                         1701\n",
       "Kkkt                               1623\n",
       "World Vision                       1562\n",
       "Unicef                             1324\n",
       "Tasaf                              1136\n",
       "Dhv                                1065\n",
       "District Council                   1037\n",
       "Private Individual                 1034\n",
       "Dwsp                               1012\n",
       "0                                   980\n",
       "Norad                               949\n",
       "Germany Republi                     765\n",
       "Water                               739\n",
       "Tcrs                                735\n",
       "Ministry Of Water                   728\n",
       "Dwe                                 605\n",
       "Netherlands                         592\n",
       "Hifab                               577\n",
       "Adb                                 551\n",
       "Lga                                 546\n",
       "Amref                               525\n",
       "Fini Water                          474\n",
       "Oxfam                               436\n",
       "Wateraid                            416\n",
       "Rc Church                           410\n",
       "Rudep                               390\n",
       "Isf                                 388\n",
       "Private                             380\n",
       "Mission                             379\n",
       "Jaica                               353\n",
       "Rural Water Supply And Sanitat      338\n",
       "Roman                               336\n",
       "Adra                                327\n",
       "Jica                                317\n",
       "Ces(gmbh)                           316\n",
       "Wsdp                                309\n",
       "Shipo                               301\n",
       "Rc                                  291\n",
       "Finw                                281\n",
       "Dh                                  261\n",
       "Kiliwater                           243\n",
       "Dmdd                                237\n",
       "Ded                                 237\n",
       "Plan Int                            234\n",
       "Lawatefuka Water Supply             229\n",
       "Name: funder, dtype: int64"
      ]
     },
     "execution_count": 80,
     "metadata": {},
     "output_type": "execute_result"
    }
   ],
   "source": [
    "data['funder'].value_counts().head(50)"
   ]
  },
  {
   "cell_type": "code",
   "execution_count": 81,
   "metadata": {
    "execution": {
     "iopub.execute_input": "2021-09-16T07:08:13.024431Z",
     "iopub.status.busy": "2021-09-16T07:08:13.023848Z",
     "iopub.status.idle": "2021-09-16T07:08:13.031011Z",
     "shell.execute_reply": "2021-09-16T07:08:13.029778Z",
     "shell.execute_reply.started": "2021-09-16T07:08:13.024388Z"
    }
   },
   "outputs": [],
   "source": [
    "def get_n(x,n):\n",
    "    list_a = set(x.value_counts().index[:n].values) #Gets the top 20 values from the series\n",
    "    x[~x.isin(list_a)] = 'other' #vectorisation - boolean mask; tilda - inverting the boolean mask\n",
    "    return x"
   ]
  },
  {
   "cell_type": "code",
   "execution_count": 82,
   "metadata": {
    "execution": {
     "iopub.execute_input": "2021-09-16T07:08:13.034043Z",
     "iopub.status.busy": "2021-09-16T07:08:13.033229Z",
     "iopub.status.idle": "2021-09-16T07:08:13.063170Z",
     "shell.execute_reply": "2021-09-16T07:08:13.062064Z",
     "shell.execute_reply.started": "2021-09-16T07:08:13.033976Z"
    }
   },
   "outputs": [
    {
     "data": {
      "text/plain": [
       "2330"
      ]
     },
     "execution_count": 82,
     "metadata": {},
     "output_type": "execute_result"
    }
   ],
   "source": [
    "data['installer'].nunique()"
   ]
  },
  {
   "cell_type": "code",
   "execution_count": 83,
   "metadata": {
    "execution": {
     "iopub.execute_input": "2021-09-16T07:08:13.064819Z",
     "iopub.status.busy": "2021-09-16T07:08:13.064515Z",
     "iopub.status.idle": "2021-09-16T07:08:13.111674Z",
     "shell.execute_reply": "2021-09-16T07:08:13.110871Z",
     "shell.execute_reply.started": "2021-09-16T07:08:13.064787Z"
    }
   },
   "outputs": [
    {
     "name": "stderr",
     "output_type": "stream",
     "text": [
      "<ipython-input-81-c6facf211b40>:3: SettingWithCopyWarning: \n",
      "A value is trying to be set on a copy of a slice from a DataFrame\n",
      "\n",
      "See the caveats in the documentation: https://pandas.pydata.org/pandas-docs/stable/user_guide/indexing.html#returning-a-view-versus-a-copy\n",
      "  x[~x.isin(list_a)] = 'other' #vectorisation - boolean mask; tilda - inverting the boolean mask\n"
     ]
    }
   ],
   "source": [
    "data.funder = get_n(data.funder,20)\n",
    "data.installer  = get_n(data.installer ,20)"
   ]
  },
  {
   "cell_type": "code",
   "execution_count": 84,
   "metadata": {
    "execution": {
     "iopub.execute_input": "2021-09-16T07:08:13.113330Z",
     "iopub.status.busy": "2021-09-16T07:08:13.112853Z",
     "iopub.status.idle": "2021-09-16T07:08:13.129549Z",
     "shell.execute_reply": "2021-09-16T07:08:13.128457Z",
     "shell.execute_reply.started": "2021-09-16T07:08:13.113296Z"
    }
   },
   "outputs": [
    {
     "data": {
      "text/plain": [
       "other                     38169\n",
       "Government Of Tanzania    11299\n",
       "Danida                     3907\n",
       "Hesawa                     2782\n",
       "Rwssp                      1703\n",
       "World Bank                 1701\n",
       "Kkkt                       1623\n",
       "World Vision               1562\n",
       "Unicef                     1324\n",
       "Tasaf                      1136\n",
       "Dhv                        1065\n",
       "District Council           1037\n",
       "Private Individual         1034\n",
       "Dwsp                       1012\n",
       "0                           980\n",
       "Norad                       949\n",
       "Germany Republi             765\n",
       "Water                       739\n",
       "Tcrs                        735\n",
       "Ministry Of Water           728\n",
       "Name: funder, dtype: int64"
      ]
     },
     "execution_count": 84,
     "metadata": {},
     "output_type": "execute_result"
    }
   ],
   "source": [
    "data['funder'].value_counts()"
   ]
  },
  {
   "cell_type": "code",
   "execution_count": 85,
   "metadata": {
    "execution": {
     "iopub.execute_input": "2021-09-16T07:08:13.131390Z",
     "iopub.status.busy": "2021-09-16T07:08:13.131073Z",
     "iopub.status.idle": "2021-09-16T07:08:13.141802Z",
     "shell.execute_reply": "2021-09-16T07:08:13.140664Z",
     "shell.execute_reply.started": "2021-09-16T07:08:13.131359Z"
    }
   },
   "outputs": [],
   "source": [
    "category_columns = ['basin','quantity', 'extraction_type_group', 'management', 'payment', 'water_quality', 'source', 'waterpoint_type', 'region', 'installer', 'funder']"
   ]
  },
  {
   "cell_type": "code",
   "execution_count": 86,
   "metadata": {
    "execution": {
     "iopub.execute_input": "2021-09-16T07:08:13.143431Z",
     "iopub.status.busy": "2021-09-16T07:08:13.143136Z",
     "iopub.status.idle": "2021-09-16T07:08:15.745452Z",
     "shell.execute_reply": "2021-09-16T07:08:15.744266Z",
     "shell.execute_reply.started": "2021-09-16T07:08:13.143401Z"
    }
   },
   "outputs": [
    {
     "name": "stderr",
     "output_type": "stream",
     "text": [
      "C:\\ProgramData\\Anaconda3\\lib\\site-packages\\category_encoders\\utils.py:21: FutureWarning: is_categorical is deprecated and will be removed in a future version.  Use is_categorical_dtype instead\n",
      "  elif pd.api.types.is_categorical(cols):\n"
     ]
    }
   ],
   "source": [
    "# data=pd.get_dummies(data, columns = category_columns)\n",
    "one_hot_encoder=ce.OneHotEncoder(cols=category_columns, use_cat_names=True)\n",
    "data = one_hot_encoder.fit_transform(data)"
   ]
  },
  {
   "cell_type": "code",
   "execution_count": 87,
   "metadata": {
    "execution": {
     "iopub.execute_input": "2021-09-16T07:08:15.747057Z",
     "iopub.status.busy": "2021-09-16T07:08:15.746739Z",
     "iopub.status.idle": "2021-09-16T07:08:15.752568Z",
     "shell.execute_reply": "2021-09-16T07:08:15.751443Z",
     "shell.execute_reply.started": "2021-09-16T07:08:15.747026Z"
    }
   },
   "outputs": [],
   "source": [
    "# data.head()"
   ]
  },
  {
   "cell_type": "code",
   "execution_count": 88,
   "metadata": {
    "execution": {
     "iopub.execute_input": "2021-09-16T07:08:15.754397Z",
     "iopub.status.busy": "2021-09-16T07:08:15.753822Z",
     "iopub.status.idle": "2021-09-16T07:08:15.768351Z",
     "shell.execute_reply": "2021-09-16T07:08:15.767420Z",
     "shell.execute_reply.started": "2021-09-16T07:08:15.754350Z"
    }
   },
   "outputs": [
    {
     "data": {
      "text/plain": [
       "array(['id', 'amount_tsh', 'funder_other', 'funder_Unicef', 'funder_Dwsp',\n",
       "       'funder_Rwssp', 'funder_Danida', 'funder_World Vision',\n",
       "       'funder_Hesawa', 'funder_Government Of Tanzania', 'funder_Water',\n",
       "       'funder_Private Individual', 'funder_District Council',\n",
       "       'funder_Kkkt', 'funder_Norad', 'funder_Tcrs',\n",
       "       'funder_Germany Republi', 'funder_Tasaf', 'funder_World Bank',\n",
       "       'funder_0', 'funder_Dhv', 'funder_Ministry Of Water', 'gps_height',\n",
       "       'installer_other', 'installer_world vision', 'installer_Unicef',\n",
       "       'installer_DWE', 'installer_DANIDA', 'installer_WEDECO',\n",
       "       'installer_District council', 'installer_Central government',\n",
       "       'installer_Community', 'installer_LGA', 'installer_Government',\n",
       "       'installer_KKKT', 'installer_RWE', 'installer_HESAWA',\n",
       "       'installer_CES', 'installer_TASAF', 'installer_Fini Water',\n",
       "       'installer_villagers', 'installer_TCRS', 'installer_RC Church',\n",
       "       'longitude', 'latitude', 'basin_Lake Nyasa', 'basin_Lake Victoria',\n",
       "       'basin_Pangani', 'basin_Ruvuma / Southern Coast', 'basin_Internal',\n",
       "       'basin_Lake Tanganyika', 'basin_Wami / Ruvu', 'basin_Rufiji',\n",
       "       'basin_Lake Rukwa', 'region_Iringa', 'region_Mara',\n",
       "       'region_Manyara', 'region_Mtwara', 'region_Kagera', 'region_Tanga',\n",
       "       'region_Shinyanga', 'region_Tabora', 'region_Pwani',\n",
       "       'region_Ruvuma', 'region_Kilimanjaro', 'region_Rukwa',\n",
       "       'region_Mwanza', 'region_Kigoma', 'region_Lindi', 'region_Dodoma',\n",
       "       'region_Arusha', 'region_Mbeya', 'region_Singida',\n",
       "       'region_Morogoro', 'region_Dar es Salaam', 'region_code',\n",
       "       'district_code', 'lga', 'ward', 'population', 'public_meeting',\n",
       "       'permit', 'construction_year', 'extraction_type_group_gravity',\n",
       "       'extraction_type_group_submersible',\n",
       "       'extraction_type_group_swn 80',\n",
       "       'extraction_type_group_nira/tanira',\n",
       "       'extraction_type_group_india mark ii',\n",
       "       'extraction_type_group_other', 'extraction_type_group_mono',\n",
       "       'extraction_type_group_wind-powered',\n",
       "       'extraction_type_group_afridev', 'extraction_type_group_rope pump',\n",
       "       'extraction_type_group_india mark iii',\n",
       "       'extraction_type_group_other handpump',\n",
       "       'extraction_type_group_other motorpump', 'management_vwc',\n",
       "       'management_wug', 'management_other',\n",
       "       'management_private operator', 'management_water board',\n",
       "       'management_wua', 'management_company',\n",
       "       'management_water authority', 'management_parastatal',\n",
       "       'management_unknown', 'management_other - school',\n",
       "       'management_trust', 'payment_pay annually', 'payment_never pay',\n",
       "       'payment_pay per bucket', 'payment_unknown',\n",
       "       'payment_pay when scheme fails', 'payment_other',\n",
       "       'payment_pay monthly', 'water_quality_soft', 'water_quality_salty',\n",
       "       'water_quality_milky', 'water_quality_unknown',\n",
       "       'water_quality_fluoride', 'water_quality_coloured',\n",
       "       'water_quality_salty abandoned',\n",
       "       'water_quality_fluoride abandoned', 'quantity_enough',\n",
       "       'quantity_insufficient', 'quantity_dry', 'quantity_seasonal',\n",
       "       'quantity_unknown', 'source_spring', 'source_rainwater harvesting',\n",
       "       'source_dam', 'source_machine dbh', 'source_other',\n",
       "       'source_shallow well', 'source_river', 'source_hand dtw',\n",
       "       'source_lake', 'source_unknown',\n",
       "       'waterpoint_type_communal standpipe',\n",
       "       'waterpoint_type_communal standpipe multiple',\n",
       "       'waterpoint_type_hand pump', 'waterpoint_type_other',\n",
       "       'waterpoint_type_improved spring', 'waterpoint_type_cattle trough',\n",
       "       'waterpoint_type_dam', 'status_group'], dtype=object)"
      ]
     },
     "execution_count": 88,
     "metadata": {},
     "output_type": "execute_result"
    }
   ],
   "source": [
    "data.columns.values"
   ]
  },
  {
   "cell_type": "markdown",
   "metadata": {},
   "source": [
    "# 3.3 target encoding -> category_columns"
   ]
  },
  {
   "cell_type": "code",
   "execution_count": 89,
   "metadata": {
    "execution": {
     "iopub.execute_input": "2021-09-16T07:08:15.770510Z",
     "iopub.status.busy": "2021-09-16T07:08:15.770153Z",
     "iopub.status.idle": "2021-09-16T07:08:15.777275Z",
     "shell.execute_reply": "2021-09-16T07:08:15.776350Z",
     "shell.execute_reply.started": "2021-09-16T07:08:15.770474Z"
    }
   },
   "outputs": [],
   "source": [
    "# target_encoder = ce.TargetEncoder(cols=['basin'])\n",
    "# target_encoder=ce.OneHotEncoder(cols=category_columns, use_cat_names=True)\n",
    "# data = target_encoder.fit_transform(data)"
   ]
  },
  {
   "cell_type": "markdown",
   "metadata": {},
   "source": [
    "# 4 Modelling"
   ]
  },
  {
   "cell_type": "code",
   "execution_count": 115,
   "metadata": {
    "execution": {
     "iopub.execute_input": "2021-09-16T07:34:04.449563Z",
     "iopub.status.busy": "2021-09-16T07:34:04.449120Z",
     "iopub.status.idle": "2021-09-16T07:34:04.454450Z",
     "shell.execute_reply": "2021-09-16T07:34:04.453156Z",
     "shell.execute_reply.started": "2021-09-16T07:34:04.449526Z"
    }
   },
   "outputs": [],
   "source": [
    "import random\n",
    "from sklearn.model_selection import train_test_split\n",
    "from sklearn.ensemble import RandomForestClassifier\n",
    "from sklearn.preprocessing import RobustScaler\n",
    "\n",
    "import xgboost as xgb\n",
    "from xgboost import XGBClassifier"
   ]
  },
  {
   "cell_type": "code",
   "execution_count": 91,
   "metadata": {},
   "outputs": [],
   "source": [
    "scaler = RobustScaler()"
   ]
  },
  {
   "cell_type": "code",
   "execution_count": 92,
   "metadata": {
    "execution": {
     "iopub.execute_input": "2021-09-16T07:08:15.791901Z",
     "iopub.status.busy": "2021-09-16T07:08:15.791508Z",
     "iopub.status.idle": "2021-09-16T07:08:15.857097Z",
     "shell.execute_reply": "2021-09-16T07:08:15.855951Z",
     "shell.execute_reply.started": "2021-09-16T07:08:15.791841Z"
    }
   },
   "outputs": [],
   "source": [
    "data_1 = data.copy()"
   ]
  },
  {
   "cell_type": "code",
   "execution_count": 93,
   "metadata": {
    "execution": {
     "iopub.execute_input": "2021-09-16T07:08:15.858925Z",
     "iopub.status.busy": "2021-09-16T07:08:15.858585Z",
     "iopub.status.idle": "2021-09-16T07:08:15.910647Z",
     "shell.execute_reply": "2021-09-16T07:08:15.909297Z",
     "shell.execute_reply.started": "2021-09-16T07:08:15.858889Z"
    }
   },
   "outputs": [],
   "source": [
    "data_1.drop(columns=['lga','ward'],inplace=True )"
   ]
  },
  {
   "cell_type": "code",
   "execution_count": 94,
   "metadata": {
    "execution": {
     "iopub.execute_input": "2021-09-16T07:08:15.912977Z",
     "iopub.status.busy": "2021-09-16T07:08:15.912603Z",
     "iopub.status.idle": "2021-09-16T07:08:15.919489Z",
     "shell.execute_reply": "2021-09-16T07:08:15.918338Z",
     "shell.execute_reply.started": "2021-09-16T07:08:15.912937Z"
    }
   },
   "outputs": [],
   "source": [
    "test_data_1 = data_1[len(train_data):]\n",
    "train_data_1 = data_1[:len(train_data)]"
   ]
  },
  {
   "cell_type": "markdown",
   "metadata": {},
   "source": [
    "# 4.1 Label encoding -> status_group column"
   ]
  },
  {
   "cell_type": "code",
   "execution_count": 95,
   "metadata": {
    "execution": {
     "iopub.execute_input": "2021-09-16T07:08:15.921605Z",
     "iopub.status.busy": "2021-09-16T07:08:15.921191Z",
     "iopub.status.idle": "2021-09-16T07:08:15.958422Z",
     "shell.execute_reply": "2021-09-16T07:08:15.957258Z",
     "shell.execute_reply.started": "2021-09-16T07:08:15.921559Z"
    }
   },
   "outputs": [
    {
     "name": "stderr",
     "output_type": "stream",
     "text": [
      "C:\\ProgramData\\Anaconda3\\lib\\site-packages\\pandas\\core\\indexing.py:1676: SettingWithCopyWarning: \n",
      "A value is trying to be set on a copy of a slice from a DataFrame.\n",
      "Try using .loc[row_indexer,col_indexer] = value instead\n",
      "\n",
      "See the caveats in the documentation: https://pandas.pydata.org/pandas-docs/stable/user_guide/indexing.html#returning-a-view-versus-a-copy\n",
      "  self._setitem_single_column(ilocs[0], value, pi)\n"
     ]
    }
   ],
   "source": [
    "status_group_label = {'functional':0,\n",
    "                   'non functional': 1,\n",
    "                   'functional needs repair': 2}\n",
    "train_data_1.loc[:, ('status_group')] = train_data_1.status_group.replace(status_group_label)"
   ]
  },
  {
   "cell_type": "code",
   "execution_count": 96,
   "metadata": {},
   "outputs": [
    {
     "data": {
      "text/html": [
       "<div>\n",
       "<style scoped>\n",
       "    .dataframe tbody tr th:only-of-type {\n",
       "        vertical-align: middle;\n",
       "    }\n",
       "\n",
       "    .dataframe tbody tr th {\n",
       "        vertical-align: top;\n",
       "    }\n",
       "\n",
       "    .dataframe thead th {\n",
       "        text-align: right;\n",
       "    }\n",
       "</style>\n",
       "<table border=\"1\" class=\"dataframe\">\n",
       "  <thead>\n",
       "    <tr style=\"text-align: right;\">\n",
       "      <th></th>\n",
       "      <th>id</th>\n",
       "      <th>amount_tsh</th>\n",
       "      <th>funder_other</th>\n",
       "      <th>funder_Unicef</th>\n",
       "      <th>funder_Dwsp</th>\n",
       "      <th>funder_Rwssp</th>\n",
       "      <th>funder_Danida</th>\n",
       "      <th>funder_World Vision</th>\n",
       "      <th>funder_Hesawa</th>\n",
       "      <th>funder_Government Of Tanzania</th>\n",
       "      <th>...</th>\n",
       "      <th>source_lake</th>\n",
       "      <th>source_unknown</th>\n",
       "      <th>waterpoint_type_communal standpipe</th>\n",
       "      <th>waterpoint_type_communal standpipe multiple</th>\n",
       "      <th>waterpoint_type_hand pump</th>\n",
       "      <th>waterpoint_type_other</th>\n",
       "      <th>waterpoint_type_improved spring</th>\n",
       "      <th>waterpoint_type_cattle trough</th>\n",
       "      <th>waterpoint_type_dam</th>\n",
       "      <th>status_group</th>\n",
       "    </tr>\n",
       "  </thead>\n",
       "  <tbody>\n",
       "    <tr>\n",
       "      <th>0</th>\n",
       "      <td>69572</td>\n",
       "      <td>6000.0</td>\n",
       "      <td>1</td>\n",
       "      <td>0</td>\n",
       "      <td>0</td>\n",
       "      <td>0</td>\n",
       "      <td>0</td>\n",
       "      <td>0</td>\n",
       "      <td>0</td>\n",
       "      <td>0</td>\n",
       "      <td>...</td>\n",
       "      <td>0</td>\n",
       "      <td>0</td>\n",
       "      <td>1</td>\n",
       "      <td>0</td>\n",
       "      <td>0</td>\n",
       "      <td>0</td>\n",
       "      <td>0</td>\n",
       "      <td>0</td>\n",
       "      <td>0</td>\n",
       "      <td>0</td>\n",
       "    </tr>\n",
       "    <tr>\n",
       "      <th>1</th>\n",
       "      <td>8776</td>\n",
       "      <td>0.0</td>\n",
       "      <td>1</td>\n",
       "      <td>0</td>\n",
       "      <td>0</td>\n",
       "      <td>0</td>\n",
       "      <td>0</td>\n",
       "      <td>0</td>\n",
       "      <td>0</td>\n",
       "      <td>0</td>\n",
       "      <td>...</td>\n",
       "      <td>0</td>\n",
       "      <td>0</td>\n",
       "      <td>1</td>\n",
       "      <td>0</td>\n",
       "      <td>0</td>\n",
       "      <td>0</td>\n",
       "      <td>0</td>\n",
       "      <td>0</td>\n",
       "      <td>0</td>\n",
       "      <td>0</td>\n",
       "    </tr>\n",
       "    <tr>\n",
       "      <th>2</th>\n",
       "      <td>34310</td>\n",
       "      <td>25.0</td>\n",
       "      <td>1</td>\n",
       "      <td>0</td>\n",
       "      <td>0</td>\n",
       "      <td>0</td>\n",
       "      <td>0</td>\n",
       "      <td>0</td>\n",
       "      <td>0</td>\n",
       "      <td>0</td>\n",
       "      <td>...</td>\n",
       "      <td>0</td>\n",
       "      <td>0</td>\n",
       "      <td>0</td>\n",
       "      <td>1</td>\n",
       "      <td>0</td>\n",
       "      <td>0</td>\n",
       "      <td>0</td>\n",
       "      <td>0</td>\n",
       "      <td>0</td>\n",
       "      <td>0</td>\n",
       "    </tr>\n",
       "    <tr>\n",
       "      <th>3</th>\n",
       "      <td>67743</td>\n",
       "      <td>0.0</td>\n",
       "      <td>0</td>\n",
       "      <td>1</td>\n",
       "      <td>0</td>\n",
       "      <td>0</td>\n",
       "      <td>0</td>\n",
       "      <td>0</td>\n",
       "      <td>0</td>\n",
       "      <td>0</td>\n",
       "      <td>...</td>\n",
       "      <td>0</td>\n",
       "      <td>0</td>\n",
       "      <td>0</td>\n",
       "      <td>1</td>\n",
       "      <td>0</td>\n",
       "      <td>0</td>\n",
       "      <td>0</td>\n",
       "      <td>0</td>\n",
       "      <td>0</td>\n",
       "      <td>1</td>\n",
       "    </tr>\n",
       "    <tr>\n",
       "      <th>4</th>\n",
       "      <td>19728</td>\n",
       "      <td>0.0</td>\n",
       "      <td>1</td>\n",
       "      <td>0</td>\n",
       "      <td>0</td>\n",
       "      <td>0</td>\n",
       "      <td>0</td>\n",
       "      <td>0</td>\n",
       "      <td>0</td>\n",
       "      <td>0</td>\n",
       "      <td>...</td>\n",
       "      <td>0</td>\n",
       "      <td>0</td>\n",
       "      <td>1</td>\n",
       "      <td>0</td>\n",
       "      <td>0</td>\n",
       "      <td>0</td>\n",
       "      <td>0</td>\n",
       "      <td>0</td>\n",
       "      <td>0</td>\n",
       "      <td>0</td>\n",
       "    </tr>\n",
       "    <tr>\n",
       "      <th>...</th>\n",
       "      <td>...</td>\n",
       "      <td>...</td>\n",
       "      <td>...</td>\n",
       "      <td>...</td>\n",
       "      <td>...</td>\n",
       "      <td>...</td>\n",
       "      <td>...</td>\n",
       "      <td>...</td>\n",
       "      <td>...</td>\n",
       "      <td>...</td>\n",
       "      <td>...</td>\n",
       "      <td>...</td>\n",
       "      <td>...</td>\n",
       "      <td>...</td>\n",
       "      <td>...</td>\n",
       "      <td>...</td>\n",
       "      <td>...</td>\n",
       "      <td>...</td>\n",
       "      <td>...</td>\n",
       "      <td>...</td>\n",
       "      <td>...</td>\n",
       "    </tr>\n",
       "    <tr>\n",
       "      <th>59395</th>\n",
       "      <td>60739</td>\n",
       "      <td>10.0</td>\n",
       "      <td>0</td>\n",
       "      <td>0</td>\n",
       "      <td>0</td>\n",
       "      <td>0</td>\n",
       "      <td>0</td>\n",
       "      <td>0</td>\n",
       "      <td>0</td>\n",
       "      <td>0</td>\n",
       "      <td>...</td>\n",
       "      <td>0</td>\n",
       "      <td>0</td>\n",
       "      <td>1</td>\n",
       "      <td>0</td>\n",
       "      <td>0</td>\n",
       "      <td>0</td>\n",
       "      <td>0</td>\n",
       "      <td>0</td>\n",
       "      <td>0</td>\n",
       "      <td>0</td>\n",
       "    </tr>\n",
       "    <tr>\n",
       "      <th>59396</th>\n",
       "      <td>27263</td>\n",
       "      <td>4700.0</td>\n",
       "      <td>1</td>\n",
       "      <td>0</td>\n",
       "      <td>0</td>\n",
       "      <td>0</td>\n",
       "      <td>0</td>\n",
       "      <td>0</td>\n",
       "      <td>0</td>\n",
       "      <td>0</td>\n",
       "      <td>...</td>\n",
       "      <td>0</td>\n",
       "      <td>0</td>\n",
       "      <td>1</td>\n",
       "      <td>0</td>\n",
       "      <td>0</td>\n",
       "      <td>0</td>\n",
       "      <td>0</td>\n",
       "      <td>0</td>\n",
       "      <td>0</td>\n",
       "      <td>0</td>\n",
       "    </tr>\n",
       "    <tr>\n",
       "      <th>59397</th>\n",
       "      <td>37057</td>\n",
       "      <td>0.0</td>\n",
       "      <td>1</td>\n",
       "      <td>0</td>\n",
       "      <td>0</td>\n",
       "      <td>0</td>\n",
       "      <td>0</td>\n",
       "      <td>0</td>\n",
       "      <td>0</td>\n",
       "      <td>0</td>\n",
       "      <td>...</td>\n",
       "      <td>0</td>\n",
       "      <td>0</td>\n",
       "      <td>0</td>\n",
       "      <td>0</td>\n",
       "      <td>1</td>\n",
       "      <td>0</td>\n",
       "      <td>0</td>\n",
       "      <td>0</td>\n",
       "      <td>0</td>\n",
       "      <td>0</td>\n",
       "    </tr>\n",
       "    <tr>\n",
       "      <th>59398</th>\n",
       "      <td>31282</td>\n",
       "      <td>0.0</td>\n",
       "      <td>1</td>\n",
       "      <td>0</td>\n",
       "      <td>0</td>\n",
       "      <td>0</td>\n",
       "      <td>0</td>\n",
       "      <td>0</td>\n",
       "      <td>0</td>\n",
       "      <td>0</td>\n",
       "      <td>...</td>\n",
       "      <td>0</td>\n",
       "      <td>0</td>\n",
       "      <td>0</td>\n",
       "      <td>0</td>\n",
       "      <td>1</td>\n",
       "      <td>0</td>\n",
       "      <td>0</td>\n",
       "      <td>0</td>\n",
       "      <td>0</td>\n",
       "      <td>0</td>\n",
       "    </tr>\n",
       "    <tr>\n",
       "      <th>59399</th>\n",
       "      <td>26348</td>\n",
       "      <td>0.0</td>\n",
       "      <td>0</td>\n",
       "      <td>0</td>\n",
       "      <td>0</td>\n",
       "      <td>0</td>\n",
       "      <td>0</td>\n",
       "      <td>0</td>\n",
       "      <td>0</td>\n",
       "      <td>0</td>\n",
       "      <td>...</td>\n",
       "      <td>0</td>\n",
       "      <td>0</td>\n",
       "      <td>0</td>\n",
       "      <td>0</td>\n",
       "      <td>1</td>\n",
       "      <td>0</td>\n",
       "      <td>0</td>\n",
       "      <td>0</td>\n",
       "      <td>0</td>\n",
       "      <td>0</td>\n",
       "    </tr>\n",
       "  </tbody>\n",
       "</table>\n",
       "<p>59400 rows × 144 columns</p>\n",
       "</div>"
      ],
      "text/plain": [
       "          id  amount_tsh  funder_other  funder_Unicef  funder_Dwsp  \\\n",
       "0      69572      6000.0             1              0            0   \n",
       "1       8776         0.0             1              0            0   \n",
       "2      34310        25.0             1              0            0   \n",
       "3      67743         0.0             0              1            0   \n",
       "4      19728         0.0             1              0            0   \n",
       "...      ...         ...           ...            ...          ...   \n",
       "59395  60739        10.0             0              0            0   \n",
       "59396  27263      4700.0             1              0            0   \n",
       "59397  37057         0.0             1              0            0   \n",
       "59398  31282         0.0             1              0            0   \n",
       "59399  26348         0.0             0              0            0   \n",
       "\n",
       "       funder_Rwssp  funder_Danida  funder_World Vision  funder_Hesawa  \\\n",
       "0                 0              0                    0              0   \n",
       "1                 0              0                    0              0   \n",
       "2                 0              0                    0              0   \n",
       "3                 0              0                    0              0   \n",
       "4                 0              0                    0              0   \n",
       "...             ...            ...                  ...            ...   \n",
       "59395             0              0                    0              0   \n",
       "59396             0              0                    0              0   \n",
       "59397             0              0                    0              0   \n",
       "59398             0              0                    0              0   \n",
       "59399             0              0                    0              0   \n",
       "\n",
       "       funder_Government Of Tanzania  ...  source_lake  source_unknown  \\\n",
       "0                                  0  ...            0               0   \n",
       "1                                  0  ...            0               0   \n",
       "2                                  0  ...            0               0   \n",
       "3                                  0  ...            0               0   \n",
       "4                                  0  ...            0               0   \n",
       "...                              ...  ...          ...             ...   \n",
       "59395                              0  ...            0               0   \n",
       "59396                              0  ...            0               0   \n",
       "59397                              0  ...            0               0   \n",
       "59398                              0  ...            0               0   \n",
       "59399                              0  ...            0               0   \n",
       "\n",
       "       waterpoint_type_communal standpipe  \\\n",
       "0                                       1   \n",
       "1                                       1   \n",
       "2                                       0   \n",
       "3                                       0   \n",
       "4                                       1   \n",
       "...                                   ...   \n",
       "59395                                   1   \n",
       "59396                                   1   \n",
       "59397                                   0   \n",
       "59398                                   0   \n",
       "59399                                   0   \n",
       "\n",
       "       waterpoint_type_communal standpipe multiple  waterpoint_type_hand pump  \\\n",
       "0                                                0                          0   \n",
       "1                                                0                          0   \n",
       "2                                                1                          0   \n",
       "3                                                1                          0   \n",
       "4                                                0                          0   \n",
       "...                                            ...                        ...   \n",
       "59395                                            0                          0   \n",
       "59396                                            0                          0   \n",
       "59397                                            0                          1   \n",
       "59398                                            0                          1   \n",
       "59399                                            0                          1   \n",
       "\n",
       "       waterpoint_type_other  waterpoint_type_improved spring  \\\n",
       "0                          0                                0   \n",
       "1                          0                                0   \n",
       "2                          0                                0   \n",
       "3                          0                                0   \n",
       "4                          0                                0   \n",
       "...                      ...                              ...   \n",
       "59395                      0                                0   \n",
       "59396                      0                                0   \n",
       "59397                      0                                0   \n",
       "59398                      0                                0   \n",
       "59399                      0                                0   \n",
       "\n",
       "       waterpoint_type_cattle trough  waterpoint_type_dam  status_group  \n",
       "0                                  0                    0             0  \n",
       "1                                  0                    0             0  \n",
       "2                                  0                    0             0  \n",
       "3                                  0                    0             1  \n",
       "4                                  0                    0             0  \n",
       "...                              ...                  ...           ...  \n",
       "59395                              0                    0             0  \n",
       "59396                              0                    0             0  \n",
       "59397                              0                    0             0  \n",
       "59398                              0                    0             0  \n",
       "59399                              0                    0             0  \n",
       "\n",
       "[59400 rows x 144 columns]"
      ]
     },
     "execution_count": 96,
     "metadata": {},
     "output_type": "execute_result"
    }
   ],
   "source": [
    "train_data_1"
   ]
  },
  {
   "cell_type": "markdown",
   "metadata": {},
   "source": [
    "add RobustScaler for train_data_1"
   ]
  },
  {
   "cell_type": "code",
   "execution_count": 97,
   "metadata": {},
   "outputs": [],
   "source": [
    "robust_train_data_1 = scaler.fit_transform(train_data_1)\n",
    "robust_train_data_1 = pd.DataFrame(robust_train_data_1, columns=train_data_1.columns.values)"
   ]
  },
  {
   "cell_type": "code",
   "execution_count": 98,
   "metadata": {},
   "outputs": [
    {
     "data": {
      "text/html": [
       "<div>\n",
       "<style scoped>\n",
       "    .dataframe tbody tr th:only-of-type {\n",
       "        vertical-align: middle;\n",
       "    }\n",
       "\n",
       "    .dataframe tbody tr th {\n",
       "        vertical-align: top;\n",
       "    }\n",
       "\n",
       "    .dataframe thead th {\n",
       "        text-align: right;\n",
       "    }\n",
       "</style>\n",
       "<table border=\"1\" class=\"dataframe\">\n",
       "  <thead>\n",
       "    <tr style=\"text-align: right;\">\n",
       "      <th></th>\n",
       "      <th>id</th>\n",
       "      <th>amount_tsh</th>\n",
       "      <th>funder_other</th>\n",
       "      <th>funder_Unicef</th>\n",
       "      <th>funder_Dwsp</th>\n",
       "      <th>funder_Rwssp</th>\n",
       "      <th>funder_Danida</th>\n",
       "      <th>funder_World Vision</th>\n",
       "      <th>funder_Hesawa</th>\n",
       "      <th>funder_Government Of Tanzania</th>\n",
       "      <th>...</th>\n",
       "      <th>source_lake</th>\n",
       "      <th>source_unknown</th>\n",
       "      <th>waterpoint_type_communal standpipe</th>\n",
       "      <th>waterpoint_type_communal standpipe multiple</th>\n",
       "      <th>waterpoint_type_hand pump</th>\n",
       "      <th>waterpoint_type_other</th>\n",
       "      <th>waterpoint_type_improved spring</th>\n",
       "      <th>waterpoint_type_cattle trough</th>\n",
       "      <th>waterpoint_type_dam</th>\n",
       "      <th>status_group</th>\n",
       "    </tr>\n",
       "  </thead>\n",
       "  <tbody>\n",
       "    <tr>\n",
       "      <th>0</th>\n",
       "      <td>0.875427</td>\n",
       "      <td>300.00</td>\n",
       "      <td>0.0</td>\n",
       "      <td>0.0</td>\n",
       "      <td>0.0</td>\n",
       "      <td>0.0</td>\n",
       "      <td>0.0</td>\n",
       "      <td>0.0</td>\n",
       "      <td>0.0</td>\n",
       "      <td>0.0</td>\n",
       "      <td>...</td>\n",
       "      <td>0.0</td>\n",
       "      <td>0.0</td>\n",
       "      <td>1.0</td>\n",
       "      <td>0.0</td>\n",
       "      <td>0.0</td>\n",
       "      <td>0.0</td>\n",
       "      <td>0.0</td>\n",
       "      <td>0.0</td>\n",
       "      <td>0.0</td>\n",
       "      <td>0.0</td>\n",
       "    </tr>\n",
       "    <tr>\n",
       "      <th>1</th>\n",
       "      <td>-0.761658</td>\n",
       "      <td>0.00</td>\n",
       "      <td>0.0</td>\n",
       "      <td>0.0</td>\n",
       "      <td>0.0</td>\n",
       "      <td>0.0</td>\n",
       "      <td>0.0</td>\n",
       "      <td>0.0</td>\n",
       "      <td>0.0</td>\n",
       "      <td>0.0</td>\n",
       "      <td>...</td>\n",
       "      <td>0.0</td>\n",
       "      <td>0.0</td>\n",
       "      <td>1.0</td>\n",
       "      <td>0.0</td>\n",
       "      <td>0.0</td>\n",
       "      <td>0.0</td>\n",
       "      <td>0.0</td>\n",
       "      <td>0.0</td>\n",
       "      <td>0.0</td>\n",
       "      <td>0.0</td>\n",
       "    </tr>\n",
       "    <tr>\n",
       "      <th>2</th>\n",
       "      <td>-0.074091</td>\n",
       "      <td>1.25</td>\n",
       "      <td>0.0</td>\n",
       "      <td>0.0</td>\n",
       "      <td>0.0</td>\n",
       "      <td>0.0</td>\n",
       "      <td>0.0</td>\n",
       "      <td>0.0</td>\n",
       "      <td>0.0</td>\n",
       "      <td>0.0</td>\n",
       "      <td>...</td>\n",
       "      <td>0.0</td>\n",
       "      <td>0.0</td>\n",
       "      <td>0.0</td>\n",
       "      <td>1.0</td>\n",
       "      <td>0.0</td>\n",
       "      <td>0.0</td>\n",
       "      <td>0.0</td>\n",
       "      <td>0.0</td>\n",
       "      <td>0.0</td>\n",
       "      <td>0.0</td>\n",
       "    </tr>\n",
       "    <tr>\n",
       "      <th>3</th>\n",
       "      <td>0.826176</td>\n",
       "      <td>0.00</td>\n",
       "      <td>-1.0</td>\n",
       "      <td>1.0</td>\n",
       "      <td>0.0</td>\n",
       "      <td>0.0</td>\n",
       "      <td>0.0</td>\n",
       "      <td>0.0</td>\n",
       "      <td>0.0</td>\n",
       "      <td>0.0</td>\n",
       "      <td>...</td>\n",
       "      <td>0.0</td>\n",
       "      <td>0.0</td>\n",
       "      <td>0.0</td>\n",
       "      <td>1.0</td>\n",
       "      <td>0.0</td>\n",
       "      <td>0.0</td>\n",
       "      <td>0.0</td>\n",
       "      <td>0.0</td>\n",
       "      <td>0.0</td>\n",
       "      <td>1.0</td>\n",
       "    </tr>\n",
       "    <tr>\n",
       "      <th>4</th>\n",
       "      <td>-0.466748</td>\n",
       "      <td>0.00</td>\n",
       "      <td>0.0</td>\n",
       "      <td>0.0</td>\n",
       "      <td>0.0</td>\n",
       "      <td>0.0</td>\n",
       "      <td>0.0</td>\n",
       "      <td>0.0</td>\n",
       "      <td>0.0</td>\n",
       "      <td>0.0</td>\n",
       "      <td>...</td>\n",
       "      <td>0.0</td>\n",
       "      <td>0.0</td>\n",
       "      <td>1.0</td>\n",
       "      <td>0.0</td>\n",
       "      <td>0.0</td>\n",
       "      <td>0.0</td>\n",
       "      <td>0.0</td>\n",
       "      <td>0.0</td>\n",
       "      <td>0.0</td>\n",
       "      <td>0.0</td>\n",
       "    </tr>\n",
       "    <tr>\n",
       "      <th>...</th>\n",
       "      <td>...</td>\n",
       "      <td>...</td>\n",
       "      <td>...</td>\n",
       "      <td>...</td>\n",
       "      <td>...</td>\n",
       "      <td>...</td>\n",
       "      <td>...</td>\n",
       "      <td>...</td>\n",
       "      <td>...</td>\n",
       "      <td>...</td>\n",
       "      <td>...</td>\n",
       "      <td>...</td>\n",
       "      <td>...</td>\n",
       "      <td>...</td>\n",
       "      <td>...</td>\n",
       "      <td>...</td>\n",
       "      <td>...</td>\n",
       "      <td>...</td>\n",
       "      <td>...</td>\n",
       "      <td>...</td>\n",
       "      <td>...</td>\n",
       "    </tr>\n",
       "    <tr>\n",
       "      <th>59395</th>\n",
       "      <td>0.637576</td>\n",
       "      <td>0.50</td>\n",
       "      <td>-1.0</td>\n",
       "      <td>0.0</td>\n",
       "      <td>0.0</td>\n",
       "      <td>0.0</td>\n",
       "      <td>0.0</td>\n",
       "      <td>0.0</td>\n",
       "      <td>0.0</td>\n",
       "      <td>0.0</td>\n",
       "      <td>...</td>\n",
       "      <td>0.0</td>\n",
       "      <td>0.0</td>\n",
       "      <td>1.0</td>\n",
       "      <td>0.0</td>\n",
       "      <td>0.0</td>\n",
       "      <td>0.0</td>\n",
       "      <td>0.0</td>\n",
       "      <td>0.0</td>\n",
       "      <td>0.0</td>\n",
       "      <td>0.0</td>\n",
       "    </tr>\n",
       "    <tr>\n",
       "      <th>59396</th>\n",
       "      <td>-0.263849</td>\n",
       "      <td>235.00</td>\n",
       "      <td>0.0</td>\n",
       "      <td>0.0</td>\n",
       "      <td>0.0</td>\n",
       "      <td>0.0</td>\n",
       "      <td>0.0</td>\n",
       "      <td>0.0</td>\n",
       "      <td>0.0</td>\n",
       "      <td>0.0</td>\n",
       "      <td>...</td>\n",
       "      <td>0.0</td>\n",
       "      <td>0.0</td>\n",
       "      <td>1.0</td>\n",
       "      <td>0.0</td>\n",
       "      <td>0.0</td>\n",
       "      <td>0.0</td>\n",
       "      <td>0.0</td>\n",
       "      <td>0.0</td>\n",
       "      <td>0.0</td>\n",
       "      <td>0.0</td>\n",
       "    </tr>\n",
       "    <tr>\n",
       "      <th>59397</th>\n",
       "      <td>-0.000121</td>\n",
       "      <td>0.00</td>\n",
       "      <td>0.0</td>\n",
       "      <td>0.0</td>\n",
       "      <td>0.0</td>\n",
       "      <td>0.0</td>\n",
       "      <td>0.0</td>\n",
       "      <td>0.0</td>\n",
       "      <td>0.0</td>\n",
       "      <td>0.0</td>\n",
       "      <td>...</td>\n",
       "      <td>0.0</td>\n",
       "      <td>0.0</td>\n",
       "      <td>0.0</td>\n",
       "      <td>0.0</td>\n",
       "      <td>1.0</td>\n",
       "      <td>0.0</td>\n",
       "      <td>0.0</td>\n",
       "      <td>0.0</td>\n",
       "      <td>0.0</td>\n",
       "      <td>0.0</td>\n",
       "    </tr>\n",
       "    <tr>\n",
       "      <th>59398</th>\n",
       "      <td>-0.155628</td>\n",
       "      <td>0.00</td>\n",
       "      <td>0.0</td>\n",
       "      <td>0.0</td>\n",
       "      <td>0.0</td>\n",
       "      <td>0.0</td>\n",
       "      <td>0.0</td>\n",
       "      <td>0.0</td>\n",
       "      <td>0.0</td>\n",
       "      <td>0.0</td>\n",
       "      <td>...</td>\n",
       "      <td>0.0</td>\n",
       "      <td>0.0</td>\n",
       "      <td>0.0</td>\n",
       "      <td>0.0</td>\n",
       "      <td>1.0</td>\n",
       "      <td>0.0</td>\n",
       "      <td>0.0</td>\n",
       "      <td>0.0</td>\n",
       "      <td>0.0</td>\n",
       "      <td>0.0</td>\n",
       "    </tr>\n",
       "    <tr>\n",
       "      <th>59399</th>\n",
       "      <td>-0.288488</td>\n",
       "      <td>0.00</td>\n",
       "      <td>-1.0</td>\n",
       "      <td>0.0</td>\n",
       "      <td>0.0</td>\n",
       "      <td>0.0</td>\n",
       "      <td>0.0</td>\n",
       "      <td>0.0</td>\n",
       "      <td>0.0</td>\n",
       "      <td>0.0</td>\n",
       "      <td>...</td>\n",
       "      <td>0.0</td>\n",
       "      <td>0.0</td>\n",
       "      <td>0.0</td>\n",
       "      <td>0.0</td>\n",
       "      <td>1.0</td>\n",
       "      <td>0.0</td>\n",
       "      <td>0.0</td>\n",
       "      <td>0.0</td>\n",
       "      <td>0.0</td>\n",
       "      <td>0.0</td>\n",
       "    </tr>\n",
       "  </tbody>\n",
       "</table>\n",
       "<p>59400 rows × 144 columns</p>\n",
       "</div>"
      ],
      "text/plain": [
       "             id  amount_tsh  funder_other  funder_Unicef  funder_Dwsp  \\\n",
       "0      0.875427      300.00           0.0            0.0          0.0   \n",
       "1     -0.761658        0.00           0.0            0.0          0.0   \n",
       "2     -0.074091        1.25           0.0            0.0          0.0   \n",
       "3      0.826176        0.00          -1.0            1.0          0.0   \n",
       "4     -0.466748        0.00           0.0            0.0          0.0   \n",
       "...         ...         ...           ...            ...          ...   \n",
       "59395  0.637576        0.50          -1.0            0.0          0.0   \n",
       "59396 -0.263849      235.00           0.0            0.0          0.0   \n",
       "59397 -0.000121        0.00           0.0            0.0          0.0   \n",
       "59398 -0.155628        0.00           0.0            0.0          0.0   \n",
       "59399 -0.288488        0.00          -1.0            0.0          0.0   \n",
       "\n",
       "       funder_Rwssp  funder_Danida  funder_World Vision  funder_Hesawa  \\\n",
       "0               0.0            0.0                  0.0            0.0   \n",
       "1               0.0            0.0                  0.0            0.0   \n",
       "2               0.0            0.0                  0.0            0.0   \n",
       "3               0.0            0.0                  0.0            0.0   \n",
       "4               0.0            0.0                  0.0            0.0   \n",
       "...             ...            ...                  ...            ...   \n",
       "59395           0.0            0.0                  0.0            0.0   \n",
       "59396           0.0            0.0                  0.0            0.0   \n",
       "59397           0.0            0.0                  0.0            0.0   \n",
       "59398           0.0            0.0                  0.0            0.0   \n",
       "59399           0.0            0.0                  0.0            0.0   \n",
       "\n",
       "       funder_Government Of Tanzania  ...  source_lake  source_unknown  \\\n",
       "0                                0.0  ...          0.0             0.0   \n",
       "1                                0.0  ...          0.0             0.0   \n",
       "2                                0.0  ...          0.0             0.0   \n",
       "3                                0.0  ...          0.0             0.0   \n",
       "4                                0.0  ...          0.0             0.0   \n",
       "...                              ...  ...          ...             ...   \n",
       "59395                            0.0  ...          0.0             0.0   \n",
       "59396                            0.0  ...          0.0             0.0   \n",
       "59397                            0.0  ...          0.0             0.0   \n",
       "59398                            0.0  ...          0.0             0.0   \n",
       "59399                            0.0  ...          0.0             0.0   \n",
       "\n",
       "       waterpoint_type_communal standpipe  \\\n",
       "0                                     1.0   \n",
       "1                                     1.0   \n",
       "2                                     0.0   \n",
       "3                                     0.0   \n",
       "4                                     1.0   \n",
       "...                                   ...   \n",
       "59395                                 1.0   \n",
       "59396                                 1.0   \n",
       "59397                                 0.0   \n",
       "59398                                 0.0   \n",
       "59399                                 0.0   \n",
       "\n",
       "       waterpoint_type_communal standpipe multiple  waterpoint_type_hand pump  \\\n",
       "0                                              0.0                        0.0   \n",
       "1                                              0.0                        0.0   \n",
       "2                                              1.0                        0.0   \n",
       "3                                              1.0                        0.0   \n",
       "4                                              0.0                        0.0   \n",
       "...                                            ...                        ...   \n",
       "59395                                          0.0                        0.0   \n",
       "59396                                          0.0                        0.0   \n",
       "59397                                          0.0                        1.0   \n",
       "59398                                          0.0                        1.0   \n",
       "59399                                          0.0                        1.0   \n",
       "\n",
       "       waterpoint_type_other  waterpoint_type_improved spring  \\\n",
       "0                        0.0                              0.0   \n",
       "1                        0.0                              0.0   \n",
       "2                        0.0                              0.0   \n",
       "3                        0.0                              0.0   \n",
       "4                        0.0                              0.0   \n",
       "...                      ...                              ...   \n",
       "59395                    0.0                              0.0   \n",
       "59396                    0.0                              0.0   \n",
       "59397                    0.0                              0.0   \n",
       "59398                    0.0                              0.0   \n",
       "59399                    0.0                              0.0   \n",
       "\n",
       "       waterpoint_type_cattle trough  waterpoint_type_dam  status_group  \n",
       "0                                0.0                  0.0           0.0  \n",
       "1                                0.0                  0.0           0.0  \n",
       "2                                0.0                  0.0           0.0  \n",
       "3                                0.0                  0.0           1.0  \n",
       "4                                0.0                  0.0           0.0  \n",
       "...                              ...                  ...           ...  \n",
       "59395                            0.0                  0.0           0.0  \n",
       "59396                            0.0                  0.0           0.0  \n",
       "59397                            0.0                  0.0           0.0  \n",
       "59398                            0.0                  0.0           0.0  \n",
       "59399                            0.0                  0.0           0.0  \n",
       "\n",
       "[59400 rows x 144 columns]"
      ]
     },
     "execution_count": 98,
     "metadata": {},
     "output_type": "execute_result"
    }
   ],
   "source": [
    "robust_train_data_1"
   ]
  },
  {
   "cell_type": "code",
   "execution_count": 99,
   "metadata": {
    "execution": {
     "iopub.execute_input": "2021-09-16T07:08:15.960244Z",
     "iopub.status.busy": "2021-09-16T07:08:15.959898Z",
     "iopub.status.idle": "2021-09-16T07:08:16.065454Z",
     "shell.execute_reply": "2021-09-16T07:08:16.064317Z",
     "shell.execute_reply.started": "2021-09-16T07:08:15.960208Z"
    }
   },
   "outputs": [],
   "source": [
    "target='status_group' #assign out target column as target\n",
    "used_cols = [c for c in robust_train_data_1.columns.tolist() if c not in [target]]\n",
    "X=robust_train_data_1[used_cols]\n",
    "y=robust_train_data_1[target]"
   ]
  },
  {
   "cell_type": "code",
   "execution_count": 100,
   "metadata": {
    "execution": {
     "iopub.execute_input": "2021-09-16T07:08:16.067177Z",
     "iopub.status.busy": "2021-09-16T07:08:16.066830Z",
     "iopub.status.idle": "2021-09-16T07:08:16.146611Z",
     "shell.execute_reply": "2021-09-16T07:08:16.145480Z",
     "shell.execute_reply.started": "2021-09-16T07:08:16.067142Z"
    }
   },
   "outputs": [],
   "source": [
    "# to divide our X and y to test and train\n",
    "X_train, X_test, y_train, y_test = train_test_split(X, y, test_size=0.2, random_state=42)"
   ]
  },
  {
   "cell_type": "markdown",
   "metadata": {},
   "source": [
    "# 4.2 RandomForestClassifier"
   ]
  },
  {
   "cell_type": "code",
   "execution_count": 101,
   "metadata": {
    "execution": {
     "iopub.execute_input": "2021-09-16T07:08:16.148616Z",
     "iopub.status.busy": "2021-09-16T07:08:16.148282Z",
     "iopub.status.idle": "2021-09-16T07:08:16.153575Z",
     "shell.execute_reply": "2021-09-16T07:08:16.152611Z",
     "shell.execute_reply.started": "2021-09-16T07:08:16.148580Z"
    }
   },
   "outputs": [],
   "source": [
    "rfc_model = RandomForestClassifier(n_estimators=50, random_state=42, n_jobs=-1,class_weight='balanced')"
   ]
  },
  {
   "cell_type": "code",
   "execution_count": 102,
   "metadata": {
    "execution": {
     "iopub.execute_input": "2021-09-16T07:08:16.155295Z",
     "iopub.status.busy": "2021-09-16T07:08:16.154888Z",
     "iopub.status.idle": "2021-09-16T07:08:18.972047Z",
     "shell.execute_reply": "2021-09-16T07:08:18.971059Z",
     "shell.execute_reply.started": "2021-09-16T07:08:16.155259Z"
    }
   },
   "outputs": [
    {
     "data": {
      "text/plain": [
       "RandomForestClassifier(class_weight='balanced', n_estimators=50, n_jobs=-1,\n",
       "                       random_state=42)"
      ]
     },
     "execution_count": 102,
     "metadata": {},
     "output_type": "execute_result"
    }
   ],
   "source": [
    "rfc_model.fit(X_train, y_train)"
   ]
  },
  {
   "cell_type": "code",
   "execution_count": 103,
   "metadata": {
    "execution": {
     "iopub.execute_input": "2021-09-16T07:08:18.973712Z",
     "iopub.status.busy": "2021-09-16T07:08:18.973386Z",
     "iopub.status.idle": "2021-09-16T07:08:19.194319Z",
     "shell.execute_reply": "2021-09-16T07:08:19.193380Z",
     "shell.execute_reply.started": "2021-09-16T07:08:18.973676Z"
    }
   },
   "outputs": [],
   "source": [
    "scoreRFC= rfc_model.score(X_test,y_test)"
   ]
  },
  {
   "cell_type": "code",
   "execution_count": 104,
   "metadata": {
    "execution": {
     "iopub.execute_input": "2021-09-16T07:08:19.196044Z",
     "iopub.status.busy": "2021-09-16T07:08:19.195516Z",
     "iopub.status.idle": "2021-09-16T07:08:19.201015Z",
     "shell.execute_reply": "2021-09-16T07:08:19.200285Z",
     "shell.execute_reply.started": "2021-09-16T07:08:19.195980Z"
    }
   },
   "outputs": [
    {
     "name": "stdout",
     "output_type": "stream",
     "text": [
      "Random Forest 0.8056397306397306\n"
     ]
    }
   ],
   "source": [
    "print('Random Forest' ,scoreRFC)"
   ]
  },
  {
   "cell_type": "markdown",
   "metadata": {},
   "source": [
    "# 4.3 XGBClassifier"
   ]
  },
  {
   "cell_type": "code",
   "execution_count": 125,
   "metadata": {},
   "outputs": [],
   "source": [
    "xgb_model = XGBClassifier(objective = 'multi:softmax', booster = 'gbtree', num_class = 3, eval_metric = 'merror', eta = .1,max_depth = 12, colsample_bytree = .4, learning_rate = 0.1,\n",
    "                        max_delta_step=1)"
   ]
  },
  {
   "cell_type": "code",
   "execution_count": 126,
   "metadata": {},
   "outputs": [
    {
     "data": {
      "text/plain": [
       "XGBClassifier(base_score=0.5, booster='gbtree', colsample_bylevel=1,\n",
       "              colsample_bynode=1, colsample_bytree=0.4, eta=0.1,\n",
       "              eval_metric='merror', gamma=0, gpu_id=-1, importance_type='gain',\n",
       "              interaction_constraints='', learning_rate=0.1, max_delta_step=1,\n",
       "              max_depth=12, min_child_weight=1, missing=nan,\n",
       "              monotone_constraints='()', n_estimators=100, n_jobs=4,\n",
       "              num_class=3, num_parallel_tree=1, objective='multi:softprob',\n",
       "              random_state=0, reg_alpha=0, reg_lambda=1, scale_pos_weight=None,\n",
       "              subsample=1, tree_method='exact', validate_parameters=1,\n",
       "              verbosity=None)"
      ]
     },
     "execution_count": 126,
     "metadata": {},
     "output_type": "execute_result"
    }
   ],
   "source": [
    "xgb_model.fit(X_train, y_train)"
   ]
  },
  {
   "cell_type": "code",
   "execution_count": 127,
   "metadata": {},
   "outputs": [
    {
     "name": "stderr",
     "output_type": "stream",
     "text": [
      "C:\\ProgramData\\Anaconda3\\lib\\site-packages\\xgboost\\data.py:112: UserWarning: Use subset (sliced data) of np.ndarray is not recommended because it will generate extra copies and increase memory consumption\n",
      "  warnings.warn(\n"
     ]
    }
   ],
   "source": [
    "scoreXGB= xgb_model.score(X_test,y_test)"
   ]
  },
  {
   "cell_type": "code",
   "execution_count": 128,
   "metadata": {},
   "outputs": [
    {
     "name": "stdout",
     "output_type": "stream",
     "text": [
      "XGB 0.8095117845117845\n"
     ]
    }
   ],
   "source": [
    "print('XGB' ,scoreXGB)"
   ]
  },
  {
   "cell_type": "markdown",
   "metadata": {},
   "source": [
    "# 4.4 Score models"
   ]
  },
  {
   "cell_type": "code",
   "execution_count": 133,
   "metadata": {},
   "outputs": [
    {
     "data": {
      "text/plain": [
       "Text(0, 0.5, 'Score')"
      ]
     },
     "execution_count": 133,
     "metadata": {},
     "output_type": "execute_result"
    },
    {
     "data": {
      "image/png": "[encoded data removed]",
      "text/plain": [
       "<Figure size 1440x576 with 1 Axes>"
      ]
     },
     "metadata": {
      "needs_background": "light"
     },
     "output_type": "display_data"
    }
   ],
   "source": [
    "score = pd.DataFrame([(\"Random Forest\", scoreRFC), (\"XGBClassifier\", scoreXGB)], columns=[\"Model\", \"score\"])\n",
    "score.plot(x=\"Model\", y=\"score\", kind='bar', fontsize=15)\n",
    "plt.xlabel('Model', fontsize=15)\n",
    "plt.ylabel('Score', fontsize=15)"
   ]
  },
  {
   "cell_type": "markdown",
   "metadata": {},
   "source": [
    "# 4.5 Fit model"
   ]
  },
  {
   "cell_type": "code",
   "execution_count": 105,
   "metadata": {
    "execution": {
     "iopub.execute_input": "2021-09-16T07:12:32.526874Z",
     "iopub.status.busy": "2021-09-16T07:12:32.526422Z",
     "iopub.status.idle": "2021-09-16T07:12:32.546593Z",
     "shell.execute_reply": "2021-09-16T07:12:32.545380Z",
     "shell.execute_reply.started": "2021-09-16T07:12:32.526816Z"
    }
   },
   "outputs": [
    {
     "name": "stderr",
     "output_type": "stream",
     "text": [
      "C:\\ProgramData\\Anaconda3\\lib\\site-packages\\pandas\\core\\frame.py:4308: SettingWithCopyWarning: \n",
      "A value is trying to be set on a copy of a slice from a DataFrame\n",
      "\n",
      "See the caveats in the documentation: https://pandas.pydata.org/pandas-docs/stable/user_guide/indexing.html#returning-a-view-versus-a-copy\n",
      "  return super().drop(\n"
     ]
    }
   ],
   "source": [
    "test_data_1.drop(columns=['status_group'],inplace=True )"
   ]
  },
  {
   "cell_type": "code",
   "execution_count": 106,
   "metadata": {},
   "outputs": [
    {
     "data": {
      "text/html": [
       "<div>\n",
       "<style scoped>\n",
       "    .dataframe tbody tr th:only-of-type {\n",
       "        vertical-align: middle;\n",
       "    }\n",
       "\n",
       "    .dataframe tbody tr th {\n",
       "        vertical-align: top;\n",
       "    }\n",
       "\n",
       "    .dataframe thead th {\n",
       "        text-align: right;\n",
       "    }\n",
       "</style>\n",
       "<table border=\"1\" class=\"dataframe\">\n",
       "  <thead>\n",
       "    <tr style=\"text-align: right;\">\n",
       "      <th></th>\n",
       "      <th>id</th>\n",
       "      <th>amount_tsh</th>\n",
       "      <th>funder_other</th>\n",
       "      <th>funder_Unicef</th>\n",
       "      <th>funder_Dwsp</th>\n",
       "      <th>funder_Rwssp</th>\n",
       "      <th>funder_Danida</th>\n",
       "      <th>funder_World Vision</th>\n",
       "      <th>funder_Hesawa</th>\n",
       "      <th>funder_Government Of Tanzania</th>\n",
       "      <th>...</th>\n",
       "      <th>source_hand dtw</th>\n",
       "      <th>source_lake</th>\n",
       "      <th>source_unknown</th>\n",
       "      <th>waterpoint_type_communal standpipe</th>\n",
       "      <th>waterpoint_type_communal standpipe multiple</th>\n",
       "      <th>waterpoint_type_hand pump</th>\n",
       "      <th>waterpoint_type_other</th>\n",
       "      <th>waterpoint_type_improved spring</th>\n",
       "      <th>waterpoint_type_cattle trough</th>\n",
       "      <th>waterpoint_type_dam</th>\n",
       "    </tr>\n",
       "  </thead>\n",
       "  <tbody>\n",
       "    <tr>\n",
       "      <th>0</th>\n",
       "      <td>50785</td>\n",
       "      <td>0.0</td>\n",
       "      <td>1</td>\n",
       "      <td>0</td>\n",
       "      <td>0</td>\n",
       "      <td>0</td>\n",
       "      <td>0</td>\n",
       "      <td>0</td>\n",
       "      <td>0</td>\n",
       "      <td>0</td>\n",
       "      <td>...</td>\n",
       "      <td>0</td>\n",
       "      <td>0</td>\n",
       "      <td>0</td>\n",
       "      <td>0</td>\n",
       "      <td>0</td>\n",
       "      <td>0</td>\n",
       "      <td>1</td>\n",
       "      <td>0</td>\n",
       "      <td>0</td>\n",
       "      <td>0</td>\n",
       "    </tr>\n",
       "    <tr>\n",
       "      <th>1</th>\n",
       "      <td>51630</td>\n",
       "      <td>0.0</td>\n",
       "      <td>0</td>\n",
       "      <td>0</td>\n",
       "      <td>0</td>\n",
       "      <td>0</td>\n",
       "      <td>0</td>\n",
       "      <td>0</td>\n",
       "      <td>0</td>\n",
       "      <td>1</td>\n",
       "      <td>...</td>\n",
       "      <td>0</td>\n",
       "      <td>0</td>\n",
       "      <td>0</td>\n",
       "      <td>1</td>\n",
       "      <td>0</td>\n",
       "      <td>0</td>\n",
       "      <td>0</td>\n",
       "      <td>0</td>\n",
       "      <td>0</td>\n",
       "      <td>0</td>\n",
       "    </tr>\n",
       "    <tr>\n",
       "      <th>2</th>\n",
       "      <td>17168</td>\n",
       "      <td>0.0</td>\n",
       "      <td>1</td>\n",
       "      <td>0</td>\n",
       "      <td>0</td>\n",
       "      <td>0</td>\n",
       "      <td>0</td>\n",
       "      <td>0</td>\n",
       "      <td>0</td>\n",
       "      <td>0</td>\n",
       "      <td>...</td>\n",
       "      <td>0</td>\n",
       "      <td>0</td>\n",
       "      <td>0</td>\n",
       "      <td>0</td>\n",
       "      <td>0</td>\n",
       "      <td>0</td>\n",
       "      <td>1</td>\n",
       "      <td>0</td>\n",
       "      <td>0</td>\n",
       "      <td>0</td>\n",
       "    </tr>\n",
       "    <tr>\n",
       "      <th>3</th>\n",
       "      <td>45559</td>\n",
       "      <td>0.0</td>\n",
       "      <td>1</td>\n",
       "      <td>0</td>\n",
       "      <td>0</td>\n",
       "      <td>0</td>\n",
       "      <td>0</td>\n",
       "      <td>0</td>\n",
       "      <td>0</td>\n",
       "      <td>0</td>\n",
       "      <td>...</td>\n",
       "      <td>0</td>\n",
       "      <td>0</td>\n",
       "      <td>0</td>\n",
       "      <td>0</td>\n",
       "      <td>0</td>\n",
       "      <td>0</td>\n",
       "      <td>1</td>\n",
       "      <td>0</td>\n",
       "      <td>0</td>\n",
       "      <td>0</td>\n",
       "    </tr>\n",
       "    <tr>\n",
       "      <th>4</th>\n",
       "      <td>49871</td>\n",
       "      <td>500.0</td>\n",
       "      <td>1</td>\n",
       "      <td>0</td>\n",
       "      <td>0</td>\n",
       "      <td>0</td>\n",
       "      <td>0</td>\n",
       "      <td>0</td>\n",
       "      <td>0</td>\n",
       "      <td>0</td>\n",
       "      <td>...</td>\n",
       "      <td>0</td>\n",
       "      <td>0</td>\n",
       "      <td>0</td>\n",
       "      <td>1</td>\n",
       "      <td>0</td>\n",
       "      <td>0</td>\n",
       "      <td>0</td>\n",
       "      <td>0</td>\n",
       "      <td>0</td>\n",
       "      <td>0</td>\n",
       "    </tr>\n",
       "    <tr>\n",
       "      <th>...</th>\n",
       "      <td>...</td>\n",
       "      <td>...</td>\n",
       "      <td>...</td>\n",
       "      <td>...</td>\n",
       "      <td>...</td>\n",
       "      <td>...</td>\n",
       "      <td>...</td>\n",
       "      <td>...</td>\n",
       "      <td>...</td>\n",
       "      <td>...</td>\n",
       "      <td>...</td>\n",
       "      <td>...</td>\n",
       "      <td>...</td>\n",
       "      <td>...</td>\n",
       "      <td>...</td>\n",
       "      <td>...</td>\n",
       "      <td>...</td>\n",
       "      <td>...</td>\n",
       "      <td>...</td>\n",
       "      <td>...</td>\n",
       "      <td>...</td>\n",
       "    </tr>\n",
       "    <tr>\n",
       "      <th>14845</th>\n",
       "      <td>39307</td>\n",
       "      <td>0.0</td>\n",
       "      <td>0</td>\n",
       "      <td>0</td>\n",
       "      <td>0</td>\n",
       "      <td>0</td>\n",
       "      <td>1</td>\n",
       "      <td>0</td>\n",
       "      <td>0</td>\n",
       "      <td>0</td>\n",
       "      <td>...</td>\n",
       "      <td>0</td>\n",
       "      <td>0</td>\n",
       "      <td>0</td>\n",
       "      <td>1</td>\n",
       "      <td>0</td>\n",
       "      <td>0</td>\n",
       "      <td>0</td>\n",
       "      <td>0</td>\n",
       "      <td>0</td>\n",
       "      <td>0</td>\n",
       "    </tr>\n",
       "    <tr>\n",
       "      <th>14846</th>\n",
       "      <td>18990</td>\n",
       "      <td>1000.0</td>\n",
       "      <td>1</td>\n",
       "      <td>0</td>\n",
       "      <td>0</td>\n",
       "      <td>0</td>\n",
       "      <td>0</td>\n",
       "      <td>0</td>\n",
       "      <td>0</td>\n",
       "      <td>0</td>\n",
       "      <td>...</td>\n",
       "      <td>0</td>\n",
       "      <td>0</td>\n",
       "      <td>0</td>\n",
       "      <td>0</td>\n",
       "      <td>0</td>\n",
       "      <td>1</td>\n",
       "      <td>0</td>\n",
       "      <td>0</td>\n",
       "      <td>0</td>\n",
       "      <td>0</td>\n",
       "    </tr>\n",
       "    <tr>\n",
       "      <th>14847</th>\n",
       "      <td>28749</td>\n",
       "      <td>0.0</td>\n",
       "      <td>1</td>\n",
       "      <td>0</td>\n",
       "      <td>0</td>\n",
       "      <td>0</td>\n",
       "      <td>0</td>\n",
       "      <td>0</td>\n",
       "      <td>0</td>\n",
       "      <td>0</td>\n",
       "      <td>...</td>\n",
       "      <td>0</td>\n",
       "      <td>0</td>\n",
       "      <td>0</td>\n",
       "      <td>1</td>\n",
       "      <td>0</td>\n",
       "      <td>0</td>\n",
       "      <td>0</td>\n",
       "      <td>0</td>\n",
       "      <td>0</td>\n",
       "      <td>0</td>\n",
       "    </tr>\n",
       "    <tr>\n",
       "      <th>14848</th>\n",
       "      <td>33492</td>\n",
       "      <td>0.0</td>\n",
       "      <td>1</td>\n",
       "      <td>0</td>\n",
       "      <td>0</td>\n",
       "      <td>0</td>\n",
       "      <td>0</td>\n",
       "      <td>0</td>\n",
       "      <td>0</td>\n",
       "      <td>0</td>\n",
       "      <td>...</td>\n",
       "      <td>0</td>\n",
       "      <td>0</td>\n",
       "      <td>0</td>\n",
       "      <td>1</td>\n",
       "      <td>0</td>\n",
       "      <td>0</td>\n",
       "      <td>0</td>\n",
       "      <td>0</td>\n",
       "      <td>0</td>\n",
       "      <td>0</td>\n",
       "    </tr>\n",
       "    <tr>\n",
       "      <th>14849</th>\n",
       "      <td>68707</td>\n",
       "      <td>0.0</td>\n",
       "      <td>0</td>\n",
       "      <td>0</td>\n",
       "      <td>0</td>\n",
       "      <td>0</td>\n",
       "      <td>0</td>\n",
       "      <td>0</td>\n",
       "      <td>0</td>\n",
       "      <td>1</td>\n",
       "      <td>...</td>\n",
       "      <td>0</td>\n",
       "      <td>0</td>\n",
       "      <td>0</td>\n",
       "      <td>1</td>\n",
       "      <td>0</td>\n",
       "      <td>0</td>\n",
       "      <td>0</td>\n",
       "      <td>0</td>\n",
       "      <td>0</td>\n",
       "      <td>0</td>\n",
       "    </tr>\n",
       "  </tbody>\n",
       "</table>\n",
       "<p>14850 rows × 143 columns</p>\n",
       "</div>"
      ],
      "text/plain": [
       "          id  amount_tsh  funder_other  funder_Unicef  funder_Dwsp  \\\n",
       "0      50785         0.0             1              0            0   \n",
       "1      51630         0.0             0              0            0   \n",
       "2      17168         0.0             1              0            0   \n",
       "3      45559         0.0             1              0            0   \n",
       "4      49871       500.0             1              0            0   \n",
       "...      ...         ...           ...            ...          ...   \n",
       "14845  39307         0.0             0              0            0   \n",
       "14846  18990      1000.0             1              0            0   \n",
       "14847  28749         0.0             1              0            0   \n",
       "14848  33492         0.0             1              0            0   \n",
       "14849  68707         0.0             0              0            0   \n",
       "\n",
       "       funder_Rwssp  funder_Danida  funder_World Vision  funder_Hesawa  \\\n",
       "0                 0              0                    0              0   \n",
       "1                 0              0                    0              0   \n",
       "2                 0              0                    0              0   \n",
       "3                 0              0                    0              0   \n",
       "4                 0              0                    0              0   \n",
       "...             ...            ...                  ...            ...   \n",
       "14845             0              1                    0              0   \n",
       "14846             0              0                    0              0   \n",
       "14847             0              0                    0              0   \n",
       "14848             0              0                    0              0   \n",
       "14849             0              0                    0              0   \n",
       "\n",
       "       funder_Government Of Tanzania  ...  source_hand dtw  source_lake  \\\n",
       "0                                  0  ...                0            0   \n",
       "1                                  1  ...                0            0   \n",
       "2                                  0  ...                0            0   \n",
       "3                                  0  ...                0            0   \n",
       "4                                  0  ...                0            0   \n",
       "...                              ...  ...              ...          ...   \n",
       "14845                              0  ...                0            0   \n",
       "14846                              0  ...                0            0   \n",
       "14847                              0  ...                0            0   \n",
       "14848                              0  ...                0            0   \n",
       "14849                              1  ...                0            0   \n",
       "\n",
       "       source_unknown  waterpoint_type_communal standpipe  \\\n",
       "0                   0                                   0   \n",
       "1                   0                                   1   \n",
       "2                   0                                   0   \n",
       "3                   0                                   0   \n",
       "4                   0                                   1   \n",
       "...               ...                                 ...   \n",
       "14845               0                                   1   \n",
       "14846               0                                   0   \n",
       "14847               0                                   1   \n",
       "14848               0                                   1   \n",
       "14849               0                                   1   \n",
       "\n",
       "       waterpoint_type_communal standpipe multiple  waterpoint_type_hand pump  \\\n",
       "0                                                0                          0   \n",
       "1                                                0                          0   \n",
       "2                                                0                          0   \n",
       "3                                                0                          0   \n",
       "4                                                0                          0   \n",
       "...                                            ...                        ...   \n",
       "14845                                            0                          0   \n",
       "14846                                            0                          1   \n",
       "14847                                            0                          0   \n",
       "14848                                            0                          0   \n",
       "14849                                            0                          0   \n",
       "\n",
       "       waterpoint_type_other  waterpoint_type_improved spring  \\\n",
       "0                          1                                0   \n",
       "1                          0                                0   \n",
       "2                          1                                0   \n",
       "3                          1                                0   \n",
       "4                          0                                0   \n",
       "...                      ...                              ...   \n",
       "14845                      0                                0   \n",
       "14846                      0                                0   \n",
       "14847                      0                                0   \n",
       "14848                      0                                0   \n",
       "14849                      0                                0   \n",
       "\n",
       "       waterpoint_type_cattle trough  waterpoint_type_dam  \n",
       "0                                  0                    0  \n",
       "1                                  0                    0  \n",
       "2                                  0                    0  \n",
       "3                                  0                    0  \n",
       "4                                  0                    0  \n",
       "...                              ...                  ...  \n",
       "14845                              0                    0  \n",
       "14846                              0                    0  \n",
       "14847                              0                    0  \n",
       "14848                              0                    0  \n",
       "14849                              0                    0  \n",
       "\n",
       "[14850 rows x 143 columns]"
      ]
     },
     "execution_count": 106,
     "metadata": {},
     "output_type": "execute_result"
    }
   ],
   "source": [
    "test_data_1"
   ]
  },
  {
   "cell_type": "markdown",
   "metadata": {},
   "source": [
    "add RobustScaler for test_data_1"
   ]
  },
  {
   "cell_type": "code",
   "execution_count": 107,
   "metadata": {},
   "outputs": [],
   "source": [
    "robust_test_data_1 = scaler.fit_transform(test_data_1)\n",
    "robust_test_data_1 = pd.DataFrame(robust_test_data_1, columns=test_data_1.columns.values)"
   ]
  },
  {
   "cell_type": "code",
   "execution_count": 108,
   "metadata": {},
   "outputs": [
    {
     "data": {
      "text/html": [
       "<div>\n",
       "<style scoped>\n",
       "    .dataframe tbody tr th:only-of-type {\n",
       "        vertical-align: middle;\n",
       "    }\n",
       "\n",
       "    .dataframe tbody tr th {\n",
       "        vertical-align: top;\n",
       "    }\n",
       "\n",
       "    .dataframe thead th {\n",
       "        text-align: right;\n",
       "    }\n",
       "</style>\n",
       "<table border=\"1\" class=\"dataframe\">\n",
       "  <thead>\n",
       "    <tr style=\"text-align: right;\">\n",
       "      <th></th>\n",
       "      <th>id</th>\n",
       "      <th>amount_tsh</th>\n",
       "      <th>funder_other</th>\n",
       "      <th>funder_Unicef</th>\n",
       "      <th>funder_Dwsp</th>\n",
       "      <th>funder_Rwssp</th>\n",
       "      <th>funder_Danida</th>\n",
       "      <th>funder_World Vision</th>\n",
       "      <th>funder_Hesawa</th>\n",
       "      <th>funder_Government Of Tanzania</th>\n",
       "      <th>...</th>\n",
       "      <th>source_hand dtw</th>\n",
       "      <th>source_lake</th>\n",
       "      <th>source_unknown</th>\n",
       "      <th>waterpoint_type_communal standpipe</th>\n",
       "      <th>waterpoint_type_communal standpipe multiple</th>\n",
       "      <th>waterpoint_type_hand pump</th>\n",
       "      <th>waterpoint_type_other</th>\n",
       "      <th>waterpoint_type_improved spring</th>\n",
       "      <th>waterpoint_type_cattle trough</th>\n",
       "      <th>waterpoint_type_dam</th>\n",
       "    </tr>\n",
       "  </thead>\n",
       "  <tbody>\n",
       "    <tr>\n",
       "      <th>0</th>\n",
       "      <td>0.362085</td>\n",
       "      <td>0.0</td>\n",
       "      <td>0.0</td>\n",
       "      <td>0.0</td>\n",
       "      <td>0.0</td>\n",
       "      <td>0.0</td>\n",
       "      <td>0.0</td>\n",
       "      <td>0.0</td>\n",
       "      <td>0.0</td>\n",
       "      <td>0.0</td>\n",
       "      <td>...</td>\n",
       "      <td>0.0</td>\n",
       "      <td>0.0</td>\n",
       "      <td>0.0</td>\n",
       "      <td>0.0</td>\n",
       "      <td>0.0</td>\n",
       "      <td>0.0</td>\n",
       "      <td>1.0</td>\n",
       "      <td>0.0</td>\n",
       "      <td>0.0</td>\n",
       "      <td>0.0</td>\n",
       "    </tr>\n",
       "    <tr>\n",
       "      <th>1</th>\n",
       "      <td>0.384878</td>\n",
       "      <td>0.0</td>\n",
       "      <td>-1.0</td>\n",
       "      <td>0.0</td>\n",
       "      <td>0.0</td>\n",
       "      <td>0.0</td>\n",
       "      <td>0.0</td>\n",
       "      <td>0.0</td>\n",
       "      <td>0.0</td>\n",
       "      <td>1.0</td>\n",
       "      <td>...</td>\n",
       "      <td>0.0</td>\n",
       "      <td>0.0</td>\n",
       "      <td>0.0</td>\n",
       "      <td>1.0</td>\n",
       "      <td>0.0</td>\n",
       "      <td>0.0</td>\n",
       "      <td>0.0</td>\n",
       "      <td>0.0</td>\n",
       "      <td>0.0</td>\n",
       "      <td>0.0</td>\n",
       "    </tr>\n",
       "    <tr>\n",
       "      <th>2</th>\n",
       "      <td>-0.544699</td>\n",
       "      <td>0.0</td>\n",
       "      <td>0.0</td>\n",
       "      <td>0.0</td>\n",
       "      <td>0.0</td>\n",
       "      <td>0.0</td>\n",
       "      <td>0.0</td>\n",
       "      <td>0.0</td>\n",
       "      <td>0.0</td>\n",
       "      <td>0.0</td>\n",
       "      <td>...</td>\n",
       "      <td>0.0</td>\n",
       "      <td>0.0</td>\n",
       "      <td>0.0</td>\n",
       "      <td>0.0</td>\n",
       "      <td>0.0</td>\n",
       "      <td>0.0</td>\n",
       "      <td>1.0</td>\n",
       "      <td>0.0</td>\n",
       "      <td>0.0</td>\n",
       "      <td>0.0</td>\n",
       "    </tr>\n",
       "    <tr>\n",
       "      <th>3</th>\n",
       "      <td>0.221119</td>\n",
       "      <td>0.0</td>\n",
       "      <td>0.0</td>\n",
       "      <td>0.0</td>\n",
       "      <td>0.0</td>\n",
       "      <td>0.0</td>\n",
       "      <td>0.0</td>\n",
       "      <td>0.0</td>\n",
       "      <td>0.0</td>\n",
       "      <td>0.0</td>\n",
       "      <td>...</td>\n",
       "      <td>0.0</td>\n",
       "      <td>0.0</td>\n",
       "      <td>0.0</td>\n",
       "      <td>0.0</td>\n",
       "      <td>0.0</td>\n",
       "      <td>0.0</td>\n",
       "      <td>1.0</td>\n",
       "      <td>0.0</td>\n",
       "      <td>0.0</td>\n",
       "      <td>0.0</td>\n",
       "    </tr>\n",
       "    <tr>\n",
       "      <th>4</th>\n",
       "      <td>0.337431</td>\n",
       "      <td>20.0</td>\n",
       "      <td>0.0</td>\n",
       "      <td>0.0</td>\n",
       "      <td>0.0</td>\n",
       "      <td>0.0</td>\n",
       "      <td>0.0</td>\n",
       "      <td>0.0</td>\n",
       "      <td>0.0</td>\n",
       "      <td>0.0</td>\n",
       "      <td>...</td>\n",
       "      <td>0.0</td>\n",
       "      <td>0.0</td>\n",
       "      <td>0.0</td>\n",
       "      <td>1.0</td>\n",
       "      <td>0.0</td>\n",
       "      <td>0.0</td>\n",
       "      <td>0.0</td>\n",
       "      <td>0.0</td>\n",
       "      <td>0.0</td>\n",
       "      <td>0.0</td>\n",
       "    </tr>\n",
       "    <tr>\n",
       "      <th>...</th>\n",
       "      <td>...</td>\n",
       "      <td>...</td>\n",
       "      <td>...</td>\n",
       "      <td>...</td>\n",
       "      <td>...</td>\n",
       "      <td>...</td>\n",
       "      <td>...</td>\n",
       "      <td>...</td>\n",
       "      <td>...</td>\n",
       "      <td>...</td>\n",
       "      <td>...</td>\n",
       "      <td>...</td>\n",
       "      <td>...</td>\n",
       "      <td>...</td>\n",
       "      <td>...</td>\n",
       "      <td>...</td>\n",
       "      <td>...</td>\n",
       "      <td>...</td>\n",
       "      <td>...</td>\n",
       "      <td>...</td>\n",
       "      <td>...</td>\n",
       "    </tr>\n",
       "    <tr>\n",
       "      <th>14845</th>\n",
       "      <td>0.052478</td>\n",
       "      <td>0.0</td>\n",
       "      <td>-1.0</td>\n",
       "      <td>0.0</td>\n",
       "      <td>0.0</td>\n",
       "      <td>0.0</td>\n",
       "      <td>1.0</td>\n",
       "      <td>0.0</td>\n",
       "      <td>0.0</td>\n",
       "      <td>0.0</td>\n",
       "      <td>...</td>\n",
       "      <td>0.0</td>\n",
       "      <td>0.0</td>\n",
       "      <td>0.0</td>\n",
       "      <td>1.0</td>\n",
       "      <td>0.0</td>\n",
       "      <td>0.0</td>\n",
       "      <td>0.0</td>\n",
       "      <td>0.0</td>\n",
       "      <td>0.0</td>\n",
       "      <td>0.0</td>\n",
       "    </tr>\n",
       "    <tr>\n",
       "      <th>14846</th>\n",
       "      <td>-0.495553</td>\n",
       "      <td>40.0</td>\n",
       "      <td>0.0</td>\n",
       "      <td>0.0</td>\n",
       "      <td>0.0</td>\n",
       "      <td>0.0</td>\n",
       "      <td>0.0</td>\n",
       "      <td>0.0</td>\n",
       "      <td>0.0</td>\n",
       "      <td>0.0</td>\n",
       "      <td>...</td>\n",
       "      <td>0.0</td>\n",
       "      <td>0.0</td>\n",
       "      <td>0.0</td>\n",
       "      <td>0.0</td>\n",
       "      <td>0.0</td>\n",
       "      <td>1.0</td>\n",
       "      <td>0.0</td>\n",
       "      <td>0.0</td>\n",
       "      <td>0.0</td>\n",
       "      <td>0.0</td>\n",
       "    </tr>\n",
       "    <tr>\n",
       "      <th>14847</th>\n",
       "      <td>-0.232313</td>\n",
       "      <td>0.0</td>\n",
       "      <td>0.0</td>\n",
       "      <td>0.0</td>\n",
       "      <td>0.0</td>\n",
       "      <td>0.0</td>\n",
       "      <td>0.0</td>\n",
       "      <td>0.0</td>\n",
       "      <td>0.0</td>\n",
       "      <td>0.0</td>\n",
       "      <td>...</td>\n",
       "      <td>0.0</td>\n",
       "      <td>0.0</td>\n",
       "      <td>0.0</td>\n",
       "      <td>1.0</td>\n",
       "      <td>0.0</td>\n",
       "      <td>0.0</td>\n",
       "      <td>0.0</td>\n",
       "      <td>0.0</td>\n",
       "      <td>0.0</td>\n",
       "      <td>0.0</td>\n",
       "    </tr>\n",
       "    <tr>\n",
       "      <th>14848</th>\n",
       "      <td>-0.104376</td>\n",
       "      <td>0.0</td>\n",
       "      <td>0.0</td>\n",
       "      <td>0.0</td>\n",
       "      <td>0.0</td>\n",
       "      <td>0.0</td>\n",
       "      <td>0.0</td>\n",
       "      <td>0.0</td>\n",
       "      <td>0.0</td>\n",
       "      <td>0.0</td>\n",
       "      <td>...</td>\n",
       "      <td>0.0</td>\n",
       "      <td>0.0</td>\n",
       "      <td>0.0</td>\n",
       "      <td>1.0</td>\n",
       "      <td>0.0</td>\n",
       "      <td>0.0</td>\n",
       "      <td>0.0</td>\n",
       "      <td>0.0</td>\n",
       "      <td>0.0</td>\n",
       "      <td>0.0</td>\n",
       "    </tr>\n",
       "    <tr>\n",
       "      <th>14849</th>\n",
       "      <td>0.845513</td>\n",
       "      <td>0.0</td>\n",
       "      <td>-1.0</td>\n",
       "      <td>0.0</td>\n",
       "      <td>0.0</td>\n",
       "      <td>0.0</td>\n",
       "      <td>0.0</td>\n",
       "      <td>0.0</td>\n",
       "      <td>0.0</td>\n",
       "      <td>1.0</td>\n",
       "      <td>...</td>\n",
       "      <td>0.0</td>\n",
       "      <td>0.0</td>\n",
       "      <td>0.0</td>\n",
       "      <td>1.0</td>\n",
       "      <td>0.0</td>\n",
       "      <td>0.0</td>\n",
       "      <td>0.0</td>\n",
       "      <td>0.0</td>\n",
       "      <td>0.0</td>\n",
       "      <td>0.0</td>\n",
       "    </tr>\n",
       "  </tbody>\n",
       "</table>\n",
       "<p>14850 rows × 143 columns</p>\n",
       "</div>"
      ],
      "text/plain": [
       "             id  amount_tsh  funder_other  funder_Unicef  funder_Dwsp  \\\n",
       "0      0.362085         0.0           0.0            0.0          0.0   \n",
       "1      0.384878         0.0          -1.0            0.0          0.0   \n",
       "2     -0.544699         0.0           0.0            0.0          0.0   \n",
       "3      0.221119         0.0           0.0            0.0          0.0   \n",
       "4      0.337431        20.0           0.0            0.0          0.0   \n",
       "...         ...         ...           ...            ...          ...   \n",
       "14845  0.052478         0.0          -1.0            0.0          0.0   \n",
       "14846 -0.495553        40.0           0.0            0.0          0.0   \n",
       "14847 -0.232313         0.0           0.0            0.0          0.0   \n",
       "14848 -0.104376         0.0           0.0            0.0          0.0   \n",
       "14849  0.845513         0.0          -1.0            0.0          0.0   \n",
       "\n",
       "       funder_Rwssp  funder_Danida  funder_World Vision  funder_Hesawa  \\\n",
       "0               0.0            0.0                  0.0            0.0   \n",
       "1               0.0            0.0                  0.0            0.0   \n",
       "2               0.0            0.0                  0.0            0.0   \n",
       "3               0.0            0.0                  0.0            0.0   \n",
       "4               0.0            0.0                  0.0            0.0   \n",
       "...             ...            ...                  ...            ...   \n",
       "14845           0.0            1.0                  0.0            0.0   \n",
       "14846           0.0            0.0                  0.0            0.0   \n",
       "14847           0.0            0.0                  0.0            0.0   \n",
       "14848           0.0            0.0                  0.0            0.0   \n",
       "14849           0.0            0.0                  0.0            0.0   \n",
       "\n",
       "       funder_Government Of Tanzania  ...  source_hand dtw  source_lake  \\\n",
       "0                                0.0  ...              0.0          0.0   \n",
       "1                                1.0  ...              0.0          0.0   \n",
       "2                                0.0  ...              0.0          0.0   \n",
       "3                                0.0  ...              0.0          0.0   \n",
       "4                                0.0  ...              0.0          0.0   \n",
       "...                              ...  ...              ...          ...   \n",
       "14845                            0.0  ...              0.0          0.0   \n",
       "14846                            0.0  ...              0.0          0.0   \n",
       "14847                            0.0  ...              0.0          0.0   \n",
       "14848                            0.0  ...              0.0          0.0   \n",
       "14849                            1.0  ...              0.0          0.0   \n",
       "\n",
       "       source_unknown  waterpoint_type_communal standpipe  \\\n",
       "0                 0.0                                 0.0   \n",
       "1                 0.0                                 1.0   \n",
       "2                 0.0                                 0.0   \n",
       "3                 0.0                                 0.0   \n",
       "4                 0.0                                 1.0   \n",
       "...               ...                                 ...   \n",
       "14845             0.0                                 1.0   \n",
       "14846             0.0                                 0.0   \n",
       "14847             0.0                                 1.0   \n",
       "14848             0.0                                 1.0   \n",
       "14849             0.0                                 1.0   \n",
       "\n",
       "       waterpoint_type_communal standpipe multiple  waterpoint_type_hand pump  \\\n",
       "0                                              0.0                        0.0   \n",
       "1                                              0.0                        0.0   \n",
       "2                                              0.0                        0.0   \n",
       "3                                              0.0                        0.0   \n",
       "4                                              0.0                        0.0   \n",
       "...                                            ...                        ...   \n",
       "14845                                          0.0                        0.0   \n",
       "14846                                          0.0                        1.0   \n",
       "14847                                          0.0                        0.0   \n",
       "14848                                          0.0                        0.0   \n",
       "14849                                          0.0                        0.0   \n",
       "\n",
       "       waterpoint_type_other  waterpoint_type_improved spring  \\\n",
       "0                        1.0                              0.0   \n",
       "1                        0.0                              0.0   \n",
       "2                        1.0                              0.0   \n",
       "3                        1.0                              0.0   \n",
       "4                        0.0                              0.0   \n",
       "...                      ...                              ...   \n",
       "14845                    0.0                              0.0   \n",
       "14846                    0.0                              0.0   \n",
       "14847                    0.0                              0.0   \n",
       "14848                    0.0                              0.0   \n",
       "14849                    0.0                              0.0   \n",
       "\n",
       "       waterpoint_type_cattle trough  waterpoint_type_dam  \n",
       "0                                0.0                  0.0  \n",
       "1                                0.0                  0.0  \n",
       "2                                0.0                  0.0  \n",
       "3                                0.0                  0.0  \n",
       "4                                0.0                  0.0  \n",
       "...                              ...                  ...  \n",
       "14845                            0.0                  0.0  \n",
       "14846                            0.0                  0.0  \n",
       "14847                            0.0                  0.0  \n",
       "14848                            0.0                  0.0  \n",
       "14849                            0.0                  0.0  \n",
       "\n",
       "[14850 rows x 143 columns]"
      ]
     },
     "execution_count": 108,
     "metadata": {},
     "output_type": "execute_result"
    }
   ],
   "source": [
    "robust_test_data_1"
   ]
  },
  {
   "cell_type": "code",
   "execution_count": 109,
   "metadata": {
    "execution": {
     "iopub.execute_input": "2021-09-16T07:12:42.347516Z",
     "iopub.status.busy": "2021-09-16T07:12:42.347096Z",
     "iopub.status.idle": "2021-09-16T07:12:42.585156Z",
     "shell.execute_reply": "2021-09-16T07:12:42.584020Z",
     "shell.execute_reply.started": "2021-09-16T07:12:42.347480Z"
    }
   },
   "outputs": [],
   "source": [
    "X_topredict=robust_test_data_1\n",
    "\n",
    "predict=rfc_model.predict(X_topredict)"
   ]
  },
  {
   "cell_type": "code",
   "execution_count": 110,
   "metadata": {
    "execution": {
     "iopub.execute_input": "2021-09-16T07:12:50.667346Z",
     "iopub.status.busy": "2021-09-16T07:12:50.666922Z",
     "iopub.status.idle": "2021-09-16T07:12:50.674654Z",
     "shell.execute_reply": "2021-09-16T07:12:50.673735Z",
     "shell.execute_reply.started": "2021-09-16T07:12:50.667305Z"
    }
   },
   "outputs": [
    {
     "data": {
      "text/plain": [
       "array([1., 0., 0., ..., 0., 0., 1.])"
      ]
     },
     "execution_count": 110,
     "metadata": {},
     "output_type": "execute_result"
    }
   ],
   "source": [
    "predict"
   ]
  },
  {
   "cell_type": "code",
   "execution_count": 111,
   "metadata": {
    "execution": {
     "iopub.status.busy": "2021-09-16T07:08:19.361111Z",
     "iopub.status.idle": "2021-09-16T07:08:19.361698Z"
    }
   },
   "outputs": [
    {
     "name": "stderr",
     "output_type": "stream",
     "text": [
      "C:\\ProgramData\\Anaconda3\\lib\\site-packages\\pandas\\core\\indexing.py:1597: SettingWithCopyWarning: \n",
      "A value is trying to be set on a copy of a slice from a DataFrame.\n",
      "Try using .loc[row_indexer,col_indexer] = value instead\n",
      "\n",
      "See the caveats in the documentation: https://pandas.pydata.org/pandas-docs/stable/user_guide/indexing.html#returning-a-view-versus-a-copy\n",
      "  self.obj[key] = value\n",
      "C:\\ProgramData\\Anaconda3\\lib\\site-packages\\pandas\\core\\indexing.py:1676: SettingWithCopyWarning: \n",
      "A value is trying to be set on a copy of a slice from a DataFrame.\n",
      "Try using .loc[row_indexer,col_indexer] = value instead\n",
      "\n",
      "See the caveats in the documentation: https://pandas.pydata.org/pandas-docs/stable/user_guide/indexing.html#returning-a-view-versus-a-copy\n",
      "  self._setitem_single_column(ilocs[0], value, pi)\n"
     ]
    },
    {
     "data": {
      "text/plain": [
       "functional                 9044\n",
       "non functional             5277\n",
       "functional needs repair     529\n",
       "Name: status_group, dtype: int64"
      ]
     },
     "execution_count": 111,
     "metadata": {},
     "output_type": "execute_result"
    }
   ],
   "source": [
    "test_data_1.loc[:, ('status_group')]=predict\n",
    "status_group_label_invers = {0:'functional', 1:'non functional', 2:'functional needs repair'}\n",
    "test_data_1.loc[:, ('status_group')] = test_data_1.status_group.replace(status_group_label_invers)\n",
    "test_data_1['status_group'].value_counts()"
   ]
  },
  {
   "cell_type": "code",
   "execution_count": 112,
   "metadata": {
    "execution": {
     "iopub.status.busy": "2021-09-16T07:08:19.362760Z",
     "iopub.status.idle": "2021-09-16T07:08:19.363346Z"
    }
   },
   "outputs": [],
   "source": [
    "test_data_1[['id','status_group']].to_csv('submission.csv',index=False)"
   ]
  }
 ],
 "metadata": {
  "kernelspec": {
   "display_name": "Python 3",
   "language": "python",
   "name": "python3"
  },
  "language_info": {
   "codemirror_mode": {
    "name": "ipython",
    "version": 3
   },
   "file_extension": ".py",
   "mimetype": "text/x-python",
   "name": "python",
   "nbconvert_exporter": "python",
   "pygments_lexer": "ipython3",
   "version": "3.8.8"
  }
 },
 "nbformat": 4,
 "nbformat_minor": 4
}
