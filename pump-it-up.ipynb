{
 "cells": [
  {
   "cell_type": "code",
   "execution_count": 1,
   "metadata": {
    "_cell_guid": "b1076dfc-b9ad-4769-8c92-a6c4dae69d19",
    "_uuid": "8f2839f25d086af736a60e9eeb907d3b93b6e0e5",
    "execution": {
     "iopub.execute_input": "2021-09-16T07:08:03.698489Z",
     "iopub.status.busy": "2021-09-16T07:08:03.698031Z",
     "iopub.status.idle": "2021-09-16T07:08:03.709112Z",
     "shell.execute_reply": "2021-09-16T07:08:03.707845Z",
     "shell.execute_reply.started": "2021-09-16T07:08:03.698449Z"
    }
   },
   "outputs": [],
   "source": [
    "import os\n",
    "import numpy as np\n",
    "import pandas as pd\n",
    "import matplotlib.pyplot as plt\n",
    "from matplotlib.pyplot import figure\n",
    "import seaborn as sns\n"
   ]
  },
  {
   "cell_type": "markdown",
   "metadata": {},
   "source": [
    "# **Load data**"
   ]
  },
  {
   "cell_type": "code",
   "execution_count": 2,
   "metadata": {
    "execution": {
     "iopub.execute_input": "2021-09-16T07:08:03.713455Z",
     "iopub.status.busy": "2021-09-16T07:08:03.713117Z",
     "iopub.status.idle": "2021-09-16T07:08:04.601055Z",
     "shell.execute_reply": "2021-09-16T07:08:04.599932Z",
     "shell.execute_reply.started": "2021-09-16T07:08:03.713421Z"
    }
   },
   "outputs": [],
   "source": [
    "train_data_values=pd.read_csv('pump-data/training_values.csv')\n",
    "train_data_labels=pd.read_csv('pump-data/training_labels.csv')\n",
    "test_data=pd.read_csv('pump-data/test_values.csv')\n",
    "train_data = train_data_values.merge(train_data_labels, on='id')\n",
    "test_data_predict = test_data.copy()"
   ]
  },
  {
   "cell_type": "code",
   "execution_count": 3,
   "metadata": {
    "execution": {
     "iopub.execute_input": "2021-09-16T07:08:04.602922Z",
     "iopub.status.busy": "2021-09-16T07:08:04.602606Z",
     "iopub.status.idle": "2021-09-16T07:08:04.616618Z",
     "shell.execute_reply": "2021-09-16T07:08:04.615407Z",
     "shell.execute_reply.started": "2021-09-16T07:08:04.602886Z"
    }
   },
   "outputs": [
    {
     "data": {
      "text/html": [
       "<div>\n",
       "<style scoped>\n",
       "    .dataframe tbody tr th:only-of-type {\n",
       "        vertical-align: middle;\n",
       "    }\n",
       "\n",
       "    .dataframe tbody tr th {\n",
       "        vertical-align: top;\n",
       "    }\n",
       "\n",
       "    .dataframe thead th {\n",
       "        text-align: right;\n",
       "    }\n",
       "</style>\n",
       "<table border=\"1\" class=\"dataframe\">\n",
       "  <thead>\n",
       "    <tr style=\"text-align: right;\">\n",
       "      <th></th>\n",
       "      <th>id</th>\n",
       "      <th>status_group</th>\n",
       "    </tr>\n",
       "  </thead>\n",
       "  <tbody>\n",
       "    <tr>\n",
       "      <th>0</th>\n",
       "      <td>69572</td>\n",
       "      <td>functional</td>\n",
       "    </tr>\n",
       "    <tr>\n",
       "      <th>1</th>\n",
       "      <td>8776</td>\n",
       "      <td>functional</td>\n",
       "    </tr>\n",
       "    <tr>\n",
       "      <th>2</th>\n",
       "      <td>34310</td>\n",
       "      <td>functional</td>\n",
       "    </tr>\n",
       "    <tr>\n",
       "      <th>3</th>\n",
       "      <td>67743</td>\n",
       "      <td>non functional</td>\n",
       "    </tr>\n",
       "    <tr>\n",
       "      <th>4</th>\n",
       "      <td>19728</td>\n",
       "      <td>functional</td>\n",
       "    </tr>\n",
       "    <tr>\n",
       "      <th>...</th>\n",
       "      <td>...</td>\n",
       "      <td>...</td>\n",
       "    </tr>\n",
       "    <tr>\n",
       "      <th>59395</th>\n",
       "      <td>60739</td>\n",
       "      <td>functional</td>\n",
       "    </tr>\n",
       "    <tr>\n",
       "      <th>59396</th>\n",
       "      <td>27263</td>\n",
       "      <td>functional</td>\n",
       "    </tr>\n",
       "    <tr>\n",
       "      <th>59397</th>\n",
       "      <td>37057</td>\n",
       "      <td>functional</td>\n",
       "    </tr>\n",
       "    <tr>\n",
       "      <th>59398</th>\n",
       "      <td>31282</td>\n",
       "      <td>functional</td>\n",
       "    </tr>\n",
       "    <tr>\n",
       "      <th>59399</th>\n",
       "      <td>26348</td>\n",
       "      <td>functional</td>\n",
       "    </tr>\n",
       "  </tbody>\n",
       "</table>\n",
       "<p>59400 rows × 2 columns</p>\n",
       "</div>"
      ],
      "text/plain": [
       "          id    status_group\n",
       "0      69572      functional\n",
       "1       8776      functional\n",
       "2      34310      functional\n",
       "3      67743  non functional\n",
       "4      19728      functional\n",
       "...      ...             ...\n",
       "59395  60739      functional\n",
       "59396  27263      functional\n",
       "59397  37057      functional\n",
       "59398  31282      functional\n",
       "59399  26348      functional\n",
       "\n",
       "[59400 rows x 2 columns]"
      ]
     },
     "execution_count": 3,
     "metadata": {},
     "output_type": "execute_result"
    }
   ],
   "source": [
    "train_data_labels"
   ]
  },
  {
   "cell_type": "code",
   "execution_count": 4,
   "metadata": {
    "execution": {
     "iopub.execute_input": "2021-09-16T07:08:04.618845Z",
     "iopub.status.busy": "2021-09-16T07:08:04.618531Z",
     "iopub.status.idle": "2021-09-16T07:08:04.702283Z",
     "shell.execute_reply": "2021-09-16T07:08:04.701015Z",
     "shell.execute_reply.started": "2021-09-16T07:08:04.618812Z"
    }
   },
   "outputs": [
    {
     "data": {
      "text/html": [
       "<div>\n",
       "<style scoped>\n",
       "    .dataframe tbody tr th:only-of-type {\n",
       "        vertical-align: middle;\n",
       "    }\n",
       "\n",
       "    .dataframe tbody tr th {\n",
       "        vertical-align: top;\n",
       "    }\n",
       "\n",
       "    .dataframe thead th {\n",
       "        text-align: right;\n",
       "    }\n",
       "</style>\n",
       "<table border=\"1\" class=\"dataframe\">\n",
       "  <thead>\n",
       "    <tr style=\"text-align: right;\">\n",
       "      <th></th>\n",
       "      <th>id</th>\n",
       "      <th>amount_tsh</th>\n",
       "      <th>date_recorded</th>\n",
       "      <th>funder</th>\n",
       "      <th>gps_height</th>\n",
       "      <th>installer</th>\n",
       "      <th>longitude</th>\n",
       "      <th>latitude</th>\n",
       "      <th>wpt_name</th>\n",
       "      <th>num_private</th>\n",
       "      <th>...</th>\n",
       "      <th>payment_type</th>\n",
       "      <th>water_quality</th>\n",
       "      <th>quality_group</th>\n",
       "      <th>quantity</th>\n",
       "      <th>quantity_group</th>\n",
       "      <th>source</th>\n",
       "      <th>source_type</th>\n",
       "      <th>source_class</th>\n",
       "      <th>waterpoint_type</th>\n",
       "      <th>waterpoint_type_group</th>\n",
       "    </tr>\n",
       "  </thead>\n",
       "  <tbody>\n",
       "    <tr>\n",
       "      <th>0</th>\n",
       "      <td>69572</td>\n",
       "      <td>6000.0</td>\n",
       "      <td>2011-03-14</td>\n",
       "      <td>Roman</td>\n",
       "      <td>1390</td>\n",
       "      <td>Roman</td>\n",
       "      <td>34.938093</td>\n",
       "      <td>-9.856322</td>\n",
       "      <td>none</td>\n",
       "      <td>0</td>\n",
       "      <td>...</td>\n",
       "      <td>annually</td>\n",
       "      <td>soft</td>\n",
       "      <td>good</td>\n",
       "      <td>enough</td>\n",
       "      <td>enough</td>\n",
       "      <td>spring</td>\n",
       "      <td>spring</td>\n",
       "      <td>groundwater</td>\n",
       "      <td>communal standpipe</td>\n",
       "      <td>communal standpipe</td>\n",
       "    </tr>\n",
       "    <tr>\n",
       "      <th>1</th>\n",
       "      <td>8776</td>\n",
       "      <td>0.0</td>\n",
       "      <td>2013-03-06</td>\n",
       "      <td>Grumeti</td>\n",
       "      <td>1399</td>\n",
       "      <td>GRUMETI</td>\n",
       "      <td>34.698766</td>\n",
       "      <td>-2.147466</td>\n",
       "      <td>Zahanati</td>\n",
       "      <td>0</td>\n",
       "      <td>...</td>\n",
       "      <td>never pay</td>\n",
       "      <td>soft</td>\n",
       "      <td>good</td>\n",
       "      <td>insufficient</td>\n",
       "      <td>insufficient</td>\n",
       "      <td>rainwater harvesting</td>\n",
       "      <td>rainwater harvesting</td>\n",
       "      <td>surface</td>\n",
       "      <td>communal standpipe</td>\n",
       "      <td>communal standpipe</td>\n",
       "    </tr>\n",
       "    <tr>\n",
       "      <th>2</th>\n",
       "      <td>34310</td>\n",
       "      <td>25.0</td>\n",
       "      <td>2013-02-25</td>\n",
       "      <td>Lottery Club</td>\n",
       "      <td>686</td>\n",
       "      <td>World vision</td>\n",
       "      <td>37.460664</td>\n",
       "      <td>-3.821329</td>\n",
       "      <td>Kwa Mahundi</td>\n",
       "      <td>0</td>\n",
       "      <td>...</td>\n",
       "      <td>per bucket</td>\n",
       "      <td>soft</td>\n",
       "      <td>good</td>\n",
       "      <td>enough</td>\n",
       "      <td>enough</td>\n",
       "      <td>dam</td>\n",
       "      <td>dam</td>\n",
       "      <td>surface</td>\n",
       "      <td>communal standpipe multiple</td>\n",
       "      <td>communal standpipe</td>\n",
       "    </tr>\n",
       "    <tr>\n",
       "      <th>3</th>\n",
       "      <td>67743</td>\n",
       "      <td>0.0</td>\n",
       "      <td>2013-01-28</td>\n",
       "      <td>Unicef</td>\n",
       "      <td>263</td>\n",
       "      <td>UNICEF</td>\n",
       "      <td>38.486161</td>\n",
       "      <td>-11.155298</td>\n",
       "      <td>Zahanati Ya Nanyumbu</td>\n",
       "      <td>0</td>\n",
       "      <td>...</td>\n",
       "      <td>never pay</td>\n",
       "      <td>soft</td>\n",
       "      <td>good</td>\n",
       "      <td>dry</td>\n",
       "      <td>dry</td>\n",
       "      <td>machine dbh</td>\n",
       "      <td>borehole</td>\n",
       "      <td>groundwater</td>\n",
       "      <td>communal standpipe multiple</td>\n",
       "      <td>communal standpipe</td>\n",
       "    </tr>\n",
       "    <tr>\n",
       "      <th>4</th>\n",
       "      <td>19728</td>\n",
       "      <td>0.0</td>\n",
       "      <td>2011-07-13</td>\n",
       "      <td>Action In A</td>\n",
       "      <td>0</td>\n",
       "      <td>Artisan</td>\n",
       "      <td>31.130847</td>\n",
       "      <td>-1.825359</td>\n",
       "      <td>Shuleni</td>\n",
       "      <td>0</td>\n",
       "      <td>...</td>\n",
       "      <td>never pay</td>\n",
       "      <td>soft</td>\n",
       "      <td>good</td>\n",
       "      <td>seasonal</td>\n",
       "      <td>seasonal</td>\n",
       "      <td>rainwater harvesting</td>\n",
       "      <td>rainwater harvesting</td>\n",
       "      <td>surface</td>\n",
       "      <td>communal standpipe</td>\n",
       "      <td>communal standpipe</td>\n",
       "    </tr>\n",
       "    <tr>\n",
       "      <th>...</th>\n",
       "      <td>...</td>\n",
       "      <td>...</td>\n",
       "      <td>...</td>\n",
       "      <td>...</td>\n",
       "      <td>...</td>\n",
       "      <td>...</td>\n",
       "      <td>...</td>\n",
       "      <td>...</td>\n",
       "      <td>...</td>\n",
       "      <td>...</td>\n",
       "      <td>...</td>\n",
       "      <td>...</td>\n",
       "      <td>...</td>\n",
       "      <td>...</td>\n",
       "      <td>...</td>\n",
       "      <td>...</td>\n",
       "      <td>...</td>\n",
       "      <td>...</td>\n",
       "      <td>...</td>\n",
       "      <td>...</td>\n",
       "      <td>...</td>\n",
       "    </tr>\n",
       "    <tr>\n",
       "      <th>59395</th>\n",
       "      <td>60739</td>\n",
       "      <td>10.0</td>\n",
       "      <td>2013-05-03</td>\n",
       "      <td>Germany Republi</td>\n",
       "      <td>1210</td>\n",
       "      <td>CES</td>\n",
       "      <td>37.169807</td>\n",
       "      <td>-3.253847</td>\n",
       "      <td>Area Three Namba 27</td>\n",
       "      <td>0</td>\n",
       "      <td>...</td>\n",
       "      <td>per bucket</td>\n",
       "      <td>soft</td>\n",
       "      <td>good</td>\n",
       "      <td>enough</td>\n",
       "      <td>enough</td>\n",
       "      <td>spring</td>\n",
       "      <td>spring</td>\n",
       "      <td>groundwater</td>\n",
       "      <td>communal standpipe</td>\n",
       "      <td>communal standpipe</td>\n",
       "    </tr>\n",
       "    <tr>\n",
       "      <th>59396</th>\n",
       "      <td>27263</td>\n",
       "      <td>4700.0</td>\n",
       "      <td>2011-05-07</td>\n",
       "      <td>Cefa-njombe</td>\n",
       "      <td>1212</td>\n",
       "      <td>Cefa</td>\n",
       "      <td>35.249991</td>\n",
       "      <td>-9.070629</td>\n",
       "      <td>Kwa Yahona Kuvala</td>\n",
       "      <td>0</td>\n",
       "      <td>...</td>\n",
       "      <td>annually</td>\n",
       "      <td>soft</td>\n",
       "      <td>good</td>\n",
       "      <td>enough</td>\n",
       "      <td>enough</td>\n",
       "      <td>river</td>\n",
       "      <td>river/lake</td>\n",
       "      <td>surface</td>\n",
       "      <td>communal standpipe</td>\n",
       "      <td>communal standpipe</td>\n",
       "    </tr>\n",
       "    <tr>\n",
       "      <th>59397</th>\n",
       "      <td>37057</td>\n",
       "      <td>0.0</td>\n",
       "      <td>2011-04-11</td>\n",
       "      <td>NaN</td>\n",
       "      <td>0</td>\n",
       "      <td>NaN</td>\n",
       "      <td>34.017087</td>\n",
       "      <td>-8.750434</td>\n",
       "      <td>Mashine</td>\n",
       "      <td>0</td>\n",
       "      <td>...</td>\n",
       "      <td>monthly</td>\n",
       "      <td>fluoride</td>\n",
       "      <td>fluoride</td>\n",
       "      <td>enough</td>\n",
       "      <td>enough</td>\n",
       "      <td>machine dbh</td>\n",
       "      <td>borehole</td>\n",
       "      <td>groundwater</td>\n",
       "      <td>hand pump</td>\n",
       "      <td>hand pump</td>\n",
       "    </tr>\n",
       "    <tr>\n",
       "      <th>59398</th>\n",
       "      <td>31282</td>\n",
       "      <td>0.0</td>\n",
       "      <td>2011-03-08</td>\n",
       "      <td>Malec</td>\n",
       "      <td>0</td>\n",
       "      <td>Musa</td>\n",
       "      <td>35.861315</td>\n",
       "      <td>-6.378573</td>\n",
       "      <td>Mshoro</td>\n",
       "      <td>0</td>\n",
       "      <td>...</td>\n",
       "      <td>never pay</td>\n",
       "      <td>soft</td>\n",
       "      <td>good</td>\n",
       "      <td>insufficient</td>\n",
       "      <td>insufficient</td>\n",
       "      <td>shallow well</td>\n",
       "      <td>shallow well</td>\n",
       "      <td>groundwater</td>\n",
       "      <td>hand pump</td>\n",
       "      <td>hand pump</td>\n",
       "    </tr>\n",
       "    <tr>\n",
       "      <th>59399</th>\n",
       "      <td>26348</td>\n",
       "      <td>0.0</td>\n",
       "      <td>2011-03-23</td>\n",
       "      <td>World Bank</td>\n",
       "      <td>191</td>\n",
       "      <td>World</td>\n",
       "      <td>38.104048</td>\n",
       "      <td>-6.747464</td>\n",
       "      <td>Kwa Mzee Lugawa</td>\n",
       "      <td>0</td>\n",
       "      <td>...</td>\n",
       "      <td>on failure</td>\n",
       "      <td>salty</td>\n",
       "      <td>salty</td>\n",
       "      <td>enough</td>\n",
       "      <td>enough</td>\n",
       "      <td>shallow well</td>\n",
       "      <td>shallow well</td>\n",
       "      <td>groundwater</td>\n",
       "      <td>hand pump</td>\n",
       "      <td>hand pump</td>\n",
       "    </tr>\n",
       "  </tbody>\n",
       "</table>\n",
       "<p>59400 rows × 40 columns</p>\n",
       "</div>"
      ],
      "text/plain": [
       "          id  amount_tsh date_recorded           funder  gps_height  \\\n",
       "0      69572      6000.0    2011-03-14            Roman        1390   \n",
       "1       8776         0.0    2013-03-06          Grumeti        1399   \n",
       "2      34310        25.0    2013-02-25     Lottery Club         686   \n",
       "3      67743         0.0    2013-01-28           Unicef         263   \n",
       "4      19728         0.0    2011-07-13      Action In A           0   \n",
       "...      ...         ...           ...              ...         ...   \n",
       "59395  60739        10.0    2013-05-03  Germany Republi        1210   \n",
       "59396  27263      4700.0    2011-05-07      Cefa-njombe        1212   \n",
       "59397  37057         0.0    2011-04-11              NaN           0   \n",
       "59398  31282         0.0    2011-03-08            Malec           0   \n",
       "59399  26348         0.0    2011-03-23       World Bank         191   \n",
       "\n",
       "          installer  longitude   latitude              wpt_name  num_private  \\\n",
       "0             Roman  34.938093  -9.856322                  none            0   \n",
       "1           GRUMETI  34.698766  -2.147466              Zahanati            0   \n",
       "2      World vision  37.460664  -3.821329           Kwa Mahundi            0   \n",
       "3            UNICEF  38.486161 -11.155298  Zahanati Ya Nanyumbu            0   \n",
       "4           Artisan  31.130847  -1.825359               Shuleni            0   \n",
       "...             ...        ...        ...                   ...          ...   \n",
       "59395           CES  37.169807  -3.253847   Area Three Namba 27            0   \n",
       "59396          Cefa  35.249991  -9.070629     Kwa Yahona Kuvala            0   \n",
       "59397           NaN  34.017087  -8.750434               Mashine            0   \n",
       "59398          Musa  35.861315  -6.378573                Mshoro            0   \n",
       "59399         World  38.104048  -6.747464       Kwa Mzee Lugawa            0   \n",
       "\n",
       "       ... payment_type water_quality quality_group      quantity  \\\n",
       "0      ...     annually          soft          good        enough   \n",
       "1      ...    never pay          soft          good  insufficient   \n",
       "2      ...   per bucket          soft          good        enough   \n",
       "3      ...    never pay          soft          good           dry   \n",
       "4      ...    never pay          soft          good      seasonal   \n",
       "...    ...          ...           ...           ...           ...   \n",
       "59395  ...   per bucket          soft          good        enough   \n",
       "59396  ...     annually          soft          good        enough   \n",
       "59397  ...      monthly      fluoride      fluoride        enough   \n",
       "59398  ...    never pay          soft          good  insufficient   \n",
       "59399  ...   on failure         salty         salty        enough   \n",
       "\n",
       "       quantity_group                source           source_type  \\\n",
       "0              enough                spring                spring   \n",
       "1        insufficient  rainwater harvesting  rainwater harvesting   \n",
       "2              enough                   dam                   dam   \n",
       "3                 dry           machine dbh              borehole   \n",
       "4            seasonal  rainwater harvesting  rainwater harvesting   \n",
       "...               ...                   ...                   ...   \n",
       "59395          enough                spring                spring   \n",
       "59396          enough                 river            river/lake   \n",
       "59397          enough           machine dbh              borehole   \n",
       "59398    insufficient          shallow well          shallow well   \n",
       "59399          enough          shallow well          shallow well   \n",
       "\n",
       "       source_class              waterpoint_type waterpoint_type_group  \n",
       "0       groundwater           communal standpipe    communal standpipe  \n",
       "1           surface           communal standpipe    communal standpipe  \n",
       "2           surface  communal standpipe multiple    communal standpipe  \n",
       "3       groundwater  communal standpipe multiple    communal standpipe  \n",
       "4           surface           communal standpipe    communal standpipe  \n",
       "...             ...                          ...                   ...  \n",
       "59395   groundwater           communal standpipe    communal standpipe  \n",
       "59396       surface           communal standpipe    communal standpipe  \n",
       "59397   groundwater                    hand pump             hand pump  \n",
       "59398   groundwater                    hand pump             hand pump  \n",
       "59399   groundwater                    hand pump             hand pump  \n",
       "\n",
       "[59400 rows x 40 columns]"
      ]
     },
     "execution_count": 4,
     "metadata": {},
     "output_type": "execute_result"
    }
   ],
   "source": [
    "train_data_values"
   ]
  },
  {
   "cell_type": "markdown",
   "metadata": {},
   "source": [
    "# Preprocessing"
   ]
  },
  {
   "cell_type": "code",
   "execution_count": 5,
   "metadata": {
    "execution": {
     "iopub.execute_input": "2021-09-16T07:08:04.704421Z",
     "iopub.status.busy": "2021-09-16T07:08:04.704024Z",
     "iopub.status.idle": "2021-09-16T07:08:04.811687Z",
     "shell.execute_reply": "2021-09-16T07:08:04.810611Z",
     "shell.execute_reply.started": "2021-09-16T07:08:04.704384Z"
    }
   },
   "outputs": [],
   "source": [
    "data=train_data.append(test_data)"
   ]
  },
  {
   "cell_type": "code",
   "execution_count": 6,
   "metadata": {
    "execution": {
     "iopub.execute_input": "2021-09-16T07:08:04.813180Z",
     "iopub.status.busy": "2021-09-16T07:08:04.812859Z",
     "iopub.status.idle": "2021-09-16T07:08:04.929864Z",
     "shell.execute_reply": "2021-09-16T07:08:04.928311Z",
     "shell.execute_reply.started": "2021-09-16T07:08:04.813147Z"
    }
   },
   "outputs": [
    {
     "name": "stdout",
     "output_type": "stream",
     "text": [
      "<class 'pandas.core.frame.DataFrame'>\n",
      "Int64Index: 74250 entries, 0 to 14849\n",
      "Data columns (total 41 columns):\n",
      " #   Column                 Non-Null Count  Dtype  \n",
      "---  ------                 --------------  -----  \n",
      " 0   id                     74250 non-null  int64  \n",
      " 1   amount_tsh             74250 non-null  float64\n",
      " 2   date_recorded          74250 non-null  object \n",
      " 3   funder                 69746 non-null  object \n",
      " 4   gps_height             74250 non-null  int64  \n",
      " 5   installer              69718 non-null  object \n",
      " 6   longitude              74250 non-null  float64\n",
      " 7   latitude               74250 non-null  float64\n",
      " 8   wpt_name               74250 non-null  object \n",
      " 9   num_private            74250 non-null  int64  \n",
      " 10  basin                  74250 non-null  object \n",
      " 11  subvillage             73780 non-null  object \n",
      " 12  region                 74250 non-null  object \n",
      " 13  region_code            74250 non-null  int64  \n",
      " 14  district_code          74250 non-null  int64  \n",
      " 15  lga                    74250 non-null  object \n",
      " 16  ward                   74250 non-null  object \n",
      " 17  population             74250 non-null  int64  \n",
      " 18  public_meeting         70095 non-null  object \n",
      " 19  recorded_by            74250 non-null  object \n",
      " 20  scheme_management      69404 non-null  object \n",
      " 21  scheme_name            38992 non-null  object \n",
      " 22  permit                 70457 non-null  object \n",
      " 23  construction_year      74250 non-null  int64  \n",
      " 24  extraction_type        74250 non-null  object \n",
      " 25  extraction_type_group  74250 non-null  object \n",
      " 26  extraction_type_class  74250 non-null  object \n",
      " 27  management             74250 non-null  object \n",
      " 28  management_group       74250 non-null  object \n",
      " 29  payment                74250 non-null  object \n",
      " 30  payment_type           74250 non-null  object \n",
      " 31  water_quality          74250 non-null  object \n",
      " 32  quality_group          74250 non-null  object \n",
      " 33  quantity               74250 non-null  object \n",
      " 34  quantity_group         74250 non-null  object \n",
      " 35  source                 74250 non-null  object \n",
      " 36  source_type            74250 non-null  object \n",
      " 37  source_class           74250 non-null  object \n",
      " 38  waterpoint_type        74250 non-null  object \n",
      " 39  waterpoint_type_group  74250 non-null  object \n",
      " 40  status_group           59400 non-null  object \n",
      "dtypes: float64(3), int64(7), object(31)\n",
      "memory usage: 23.8+ MB\n"
     ]
    }
   ],
   "source": [
    "data.info()"
   ]
  },
  {
   "cell_type": "code",
   "execution_count": 7,
   "metadata": {
    "execution": {
     "iopub.execute_input": "2021-09-16T07:08:04.931838Z",
     "iopub.status.busy": "2021-09-16T07:08:04.931397Z",
     "iopub.status.idle": "2021-09-16T07:08:05.040799Z",
     "shell.execute_reply": "2021-09-16T07:08:05.039757Z",
     "shell.execute_reply.started": "2021-09-16T07:08:04.931794Z"
    }
   },
   "outputs": [
    {
     "data": {
      "text/plain": [
       "id                           0\n",
       "amount_tsh                   0\n",
       "date_recorded                0\n",
       "funder                    4504\n",
       "gps_height                   0\n",
       "installer                 4532\n",
       "longitude                    0\n",
       "latitude                     0\n",
       "wpt_name                     0\n",
       "num_private                  0\n",
       "basin                        0\n",
       "subvillage                 470\n",
       "region                       0\n",
       "region_code                  0\n",
       "district_code                0\n",
       "lga                          0\n",
       "ward                         0\n",
       "population                   0\n",
       "public_meeting            4155\n",
       "recorded_by                  0\n",
       "scheme_management         4846\n",
       "scheme_name              35258\n",
       "permit                    3793\n",
       "construction_year            0\n",
       "extraction_type              0\n",
       "extraction_type_group        0\n",
       "extraction_type_class        0\n",
       "management                   0\n",
       "management_group             0\n",
       "payment                      0\n",
       "payment_type                 0\n",
       "water_quality                0\n",
       "quality_group                0\n",
       "quantity                     0\n",
       "quantity_group               0\n",
       "source                       0\n",
       "source_type                  0\n",
       "source_class                 0\n",
       "waterpoint_type              0\n",
       "waterpoint_type_group        0\n",
       "status_group             14850\n",
       "dtype: int64"
      ]
     },
     "execution_count": 7,
     "metadata": {},
     "output_type": "execute_result"
    }
   ],
   "source": [
    "data.isnull().sum()"
   ]
  },
  {
   "cell_type": "code",
   "execution_count": 8,
   "metadata": {
    "execution": {
     "iopub.execute_input": "2021-09-16T07:08:05.042537Z",
     "iopub.status.busy": "2021-09-16T07:08:05.042227Z",
     "iopub.status.idle": "2021-09-16T07:08:05.059478Z",
     "shell.execute_reply": "2021-09-16T07:08:05.058127Z",
     "shell.execute_reply.started": "2021-09-16T07:08:05.042503Z"
    }
   },
   "outputs": [
    {
     "data": {
      "text/plain": [
       "functional                 32259\n",
       "non functional             22824\n",
       "functional needs repair     4317\n",
       "Name: status_group, dtype: int64"
      ]
     },
     "execution_count": 8,
     "metadata": {},
     "output_type": "execute_result"
    }
   ],
   "source": [
    "data.status_group.value_counts()"
   ]
  },
  {
   "cell_type": "markdown",
   "metadata": {},
   "source": [
    "# #drop list\n",
    "1. management_group : similar to 'management', 'management' has more detailed values\n",
    "2. scheme_management : similar to 'management', 'scheme_management' has 3877 null values\n",
    "3. quantity_group : similar to 'quantity'\n",
    "4. source_class : similar to 'source'\n",
    "5. source_type : similar to 'source'\n",
    "6. quality_group : similar to 'water_quality'\n",
    "7. payment_type : similar to 'payment'\n",
    "8. extraction_type : similar to 'extraction_type_group', 'extraction_type_group' has more compact values\n",
    "9. extraction_type_class : similar to 'extraction_type_group', 'extraction_type_group' has more detailed values\n",
    "10. waterpoint_type_group : similar to 'waterpoint_type', 'waterpoint_type' has more detailed values\n",
    "11. recorded_by : has only one value, doesn't have any information\n",
    "12. wpt_name : does not have any information about functionality\n",
    "13. scheme_name : does not have any information about functionality\n",
    "14. num_private : most of the values are zero\n",
    "15. date_recorded : does not have necessary information about functionality\n",
    "16. subvillage : region and region_code are representing the same thing"
   ]
  },
  {
   "cell_type": "code",
   "execution_count": 9,
   "metadata": {
    "execution": {
     "iopub.execute_input": "2021-09-16T07:08:05.064642Z",
     "iopub.status.busy": "2021-09-16T07:08:05.064224Z",
     "iopub.status.idle": "2021-09-16T07:08:05.294887Z",
     "shell.execute_reply": "2021-09-16T07:08:05.293532Z",
     "shell.execute_reply.started": "2021-09-16T07:08:05.064604Z"
    }
   },
   "outputs": [
    {
     "name": "stderr",
     "output_type": "stream",
     "text": [
      "C:\\ProgramData\\Anaconda3\\lib\\site-packages\\seaborn\\_decorators.py:36: FutureWarning: Pass the following variable as a keyword arg: x. From version 0.12, the only valid positional argument will be `data`, and passing other arguments without an explicit keyword will result in an error or misinterpretation.\n",
      "  warnings.warn(\n"
     ]
    },
    {
     "data": {
      "text/plain": [
       "functional                 32259\n",
       "non functional             22824\n",
       "functional needs repair     4317\n",
       "Name: status_group, dtype: int64"
      ]
     },
     "execution_count": 9,
     "metadata": {},
     "output_type": "execute_result"
    },
    {
     "data": {
      "image/png": "[encoded data removed]",
      "text/plain": [
       "<Figure size 1152x432 with 1 Axes>"
      ]
     },
     "metadata": {
      "needs_background": "light"
     },
     "output_type": "display_data"
    }
   ],
   "source": [
    "\n",
    "plt.figure(figsize=(16,6))\n",
    "sns.countplot(data.status_group, palette = 'Set3')\n",
    "data.status_group.value_counts()"
   ]
  },
  {
   "cell_type": "markdown",
   "metadata": {},
   "source": [
    "# 1.1. management /scheme_management / management_group columns"
   ]
  },
  {
   "cell_type": "code",
   "execution_count": 10,
   "metadata": {
    "execution": {
     "iopub.execute_input": "2021-09-16T07:08:05.297416Z",
     "iopub.status.busy": "2021-09-16T07:08:05.297069Z",
     "iopub.status.idle": "2021-09-16T07:08:05.969454Z",
     "shell.execute_reply": "2021-09-16T07:08:05.968226Z",
     "shell.execute_reply.started": "2021-09-16T07:08:05.297375Z"
    }
   },
   "outputs": [
    {
     "name": "stderr",
     "output_type": "stream",
     "text": [
      "C:\\ProgramData\\Anaconda3\\lib\\site-packages\\seaborn\\_decorators.py:36: FutureWarning: Pass the following variable as a keyword arg: x. From version 0.12, the only valid positional argument will be `data`, and passing other arguments without an explicit keyword will result in an error or misinterpretation.\n",
      "  warnings.warn(\n",
      "C:\\ProgramData\\Anaconda3\\lib\\site-packages\\seaborn\\_decorators.py:36: FutureWarning: Pass the following variable as a keyword arg: x. From version 0.12, the only valid positional argument will be `data`, and passing other arguments without an explicit keyword will result in an error or misinterpretation.\n",
      "  warnings.warn(\n",
      "C:\\ProgramData\\Anaconda3\\lib\\site-packages\\seaborn\\_decorators.py:36: FutureWarning: Pass the following variable as a keyword arg: x. From version 0.12, the only valid positional argument will be `data`, and passing other arguments without an explicit keyword will result in an error or misinterpretation.\n",
      "  warnings.warn(\n",
      "<ipython-input-10-38e6d694ec40>:6: UserWarning: Matplotlib is currently using module://ipykernel.pylab.backend_inline, which is a non-GUI backend, so cannot show the figure.\n",
      "  fig.show()\n"
     ]
    },
    {
     "data": {
      "image/png": "[encoded data removed]",
      "text/plain": [
       "<Figure size 1440x576 with 3 Axes>"
      ]
     },
     "metadata": {
      "needs_background": "light"
     },
     "output_type": "display_data"
    }
   ],
   "source": [
    "plt.rcParams[\"figure.figsize\"] = (20,8)\n",
    "fig, axes = plt.subplots(1, 3)\n",
    "sns.countplot(data.management, x='col1', ax=axes[0], palette = 'Set3', )\n",
    "sns.countplot(data.scheme_management, x=\"col2\", ax=axes[1], palette = 'Set3')\n",
    "sns.countplot(data.management_group, x=\"col3\", ax=axes[2], palette = 'Set3')\n",
    "fig.show()"
   ]
  },
  {
   "cell_type": "code",
   "execution_count": 11,
   "metadata": {
    "execution": {
     "iopub.execute_input": "2021-09-16T07:08:05.971605Z",
     "iopub.status.busy": "2021-09-16T07:08:05.971159Z",
     "iopub.status.idle": "2021-09-16T07:08:05.989516Z",
     "shell.execute_reply": "2021-09-16T07:08:05.988157Z",
     "shell.execute_reply.started": "2021-09-16T07:08:05.971556Z"
    }
   },
   "outputs": [
    {
     "data": {
      "text/plain": [
       "vwc                 50624\n",
       "wug                  8108\n",
       "water board          3688\n",
       "wua                  3118\n",
       "private operator     2504\n",
       "parastatal           2229\n",
       "water authority      1123\n",
       "other                1083\n",
       "company               859\n",
       "unknown               683\n",
       "other - school        126\n",
       "trust                 105\n",
       "Name: management, dtype: int64"
      ]
     },
     "execution_count": 11,
     "metadata": {},
     "output_type": "execute_result"
    }
   ],
   "source": [
    "data['management'].value_counts()"
   ]
  },
  {
   "cell_type": "code",
   "execution_count": 12,
   "metadata": {
    "execution": {
     "iopub.execute_input": "2021-09-16T07:08:05.992380Z",
     "iopub.status.busy": "2021-09-16T07:08:05.991880Z",
     "iopub.status.idle": "2021-09-16T07:08:06.011853Z",
     "shell.execute_reply": "2021-09-16T07:08:06.010592Z",
     "shell.execute_reply.started": "2021-09-16T07:08:05.992327Z"
    }
   },
   "outputs": [
    {
     "data": {
      "text/plain": [
       "VWC                 45917\n",
       "WUG                  6496\n",
       "Water authority      3975\n",
       "WUA                  3551\n",
       "Water Board          3462\n",
       "Parastatal           2124\n",
       "Company              1341\n",
       "Private operator     1326\n",
       "Other                 996\n",
       "SWC                   123\n",
       "Trust                  92\n",
       "None                    1\n",
       "Name: scheme_management, dtype: int64"
      ]
     },
     "execution_count": 12,
     "metadata": {},
     "output_type": "execute_result"
    }
   ],
   "source": [
    "data['scheme_management'].value_counts()"
   ]
  },
  {
   "cell_type": "code",
   "execution_count": 13,
   "metadata": {
    "execution": {
     "iopub.execute_input": "2021-09-16T07:08:06.014278Z",
     "iopub.status.busy": "2021-09-16T07:08:06.013805Z",
     "iopub.status.idle": "2021-09-16T07:08:06.032966Z",
     "shell.execute_reply": "2021-09-16T07:08:06.031579Z",
     "shell.execute_reply.started": "2021-09-16T07:08:06.014224Z"
    }
   },
   "outputs": [
    {
     "data": {
      "text/plain": [
       "user-group    65538\n",
       "commercial     4591\n",
       "parastatal     2229\n",
       "other          1209\n",
       "unknown         683\n",
       "Name: management_group, dtype: int64"
      ]
     },
     "execution_count": 13,
     "metadata": {},
     "output_type": "execute_result"
    }
   ],
   "source": [
    "data['management_group'].value_counts()"
   ]
  },
  {
   "cell_type": "code",
   "execution_count": 14,
   "metadata": {
    "execution": {
     "iopub.execute_input": "2021-09-16T07:08:06.034391Z",
     "iopub.status.busy": "2021-09-16T07:08:06.034091Z",
     "iopub.status.idle": "2021-09-16T07:08:06.264380Z",
     "shell.execute_reply": "2021-09-16T07:08:06.263190Z",
     "shell.execute_reply.started": "2021-09-16T07:08:06.034362Z"
    }
   },
   "outputs": [
    {
     "data": {
      "text/html": [
       "<div>\n",
       "<style scoped>\n",
       "    .dataframe tbody tr th:only-of-type {\n",
       "        vertical-align: middle;\n",
       "    }\n",
       "\n",
       "    .dataframe tbody tr th {\n",
       "        vertical-align: top;\n",
       "    }\n",
       "\n",
       "    .dataframe thead th {\n",
       "        text-align: right;\n",
       "    }\n",
       "</style>\n",
       "<table border=\"1\" class=\"dataframe\">\n",
       "  <thead>\n",
       "    <tr style=\"text-align: right;\">\n",
       "      <th></th>\n",
       "      <th></th>\n",
       "      <th>id</th>\n",
       "      <th>amount_tsh</th>\n",
       "      <th>date_recorded</th>\n",
       "      <th>funder</th>\n",
       "      <th>gps_height</th>\n",
       "      <th>installer</th>\n",
       "      <th>longitude</th>\n",
       "      <th>latitude</th>\n",
       "      <th>wpt_name</th>\n",
       "      <th>num_private</th>\n",
       "      <th>...</th>\n",
       "      <th>water_quality</th>\n",
       "      <th>quality_group</th>\n",
       "      <th>quantity</th>\n",
       "      <th>quantity_group</th>\n",
       "      <th>source</th>\n",
       "      <th>source_type</th>\n",
       "      <th>source_class</th>\n",
       "      <th>waterpoint_type</th>\n",
       "      <th>waterpoint_type_group</th>\n",
       "      <th>status_group</th>\n",
       "    </tr>\n",
       "    <tr>\n",
       "      <th>management_group</th>\n",
       "      <th>management</th>\n",
       "      <th></th>\n",
       "      <th></th>\n",
       "      <th></th>\n",
       "      <th></th>\n",
       "      <th></th>\n",
       "      <th></th>\n",
       "      <th></th>\n",
       "      <th></th>\n",
       "      <th></th>\n",
       "      <th></th>\n",
       "      <th></th>\n",
       "      <th></th>\n",
       "      <th></th>\n",
       "      <th></th>\n",
       "      <th></th>\n",
       "      <th></th>\n",
       "      <th></th>\n",
       "      <th></th>\n",
       "      <th></th>\n",
       "      <th></th>\n",
       "      <th></th>\n",
       "    </tr>\n",
       "  </thead>\n",
       "  <tbody>\n",
       "    <tr>\n",
       "      <th rowspan=\"4\" valign=\"top\">commercial</th>\n",
       "      <th>company</th>\n",
       "      <td>859</td>\n",
       "      <td>859</td>\n",
       "      <td>859</td>\n",
       "      <td>834</td>\n",
       "      <td>859</td>\n",
       "      <td>834</td>\n",
       "      <td>859</td>\n",
       "      <td>859</td>\n",
       "      <td>859</td>\n",
       "      <td>859</td>\n",
       "      <td>...</td>\n",
       "      <td>859</td>\n",
       "      <td>859</td>\n",
       "      <td>859</td>\n",
       "      <td>859</td>\n",
       "      <td>859</td>\n",
       "      <td>859</td>\n",
       "      <td>859</td>\n",
       "      <td>859</td>\n",
       "      <td>859</td>\n",
       "      <td>685</td>\n",
       "    </tr>\n",
       "    <tr>\n",
       "      <th>private operator</th>\n",
       "      <td>2504</td>\n",
       "      <td>2504</td>\n",
       "      <td>2504</td>\n",
       "      <td>2484</td>\n",
       "      <td>2504</td>\n",
       "      <td>2486</td>\n",
       "      <td>2504</td>\n",
       "      <td>2504</td>\n",
       "      <td>2504</td>\n",
       "      <td>2504</td>\n",
       "      <td>...</td>\n",
       "      <td>2504</td>\n",
       "      <td>2504</td>\n",
       "      <td>2504</td>\n",
       "      <td>2504</td>\n",
       "      <td>2504</td>\n",
       "      <td>2504</td>\n",
       "      <td>2504</td>\n",
       "      <td>2504</td>\n",
       "      <td>2504</td>\n",
       "      <td>1971</td>\n",
       "    </tr>\n",
       "    <tr>\n",
       "      <th>trust</th>\n",
       "      <td>105</td>\n",
       "      <td>105</td>\n",
       "      <td>105</td>\n",
       "      <td>105</td>\n",
       "      <td>105</td>\n",
       "      <td>105</td>\n",
       "      <td>105</td>\n",
       "      <td>105</td>\n",
       "      <td>105</td>\n",
       "      <td>105</td>\n",
       "      <td>...</td>\n",
       "      <td>105</td>\n",
       "      <td>105</td>\n",
       "      <td>105</td>\n",
       "      <td>105</td>\n",
       "      <td>105</td>\n",
       "      <td>105</td>\n",
       "      <td>105</td>\n",
       "      <td>105</td>\n",
       "      <td>105</td>\n",
       "      <td>78</td>\n",
       "    </tr>\n",
       "    <tr>\n",
       "      <th>water authority</th>\n",
       "      <td>1123</td>\n",
       "      <td>1123</td>\n",
       "      <td>1123</td>\n",
       "      <td>1046</td>\n",
       "      <td>1123</td>\n",
       "      <td>1046</td>\n",
       "      <td>1123</td>\n",
       "      <td>1123</td>\n",
       "      <td>1123</td>\n",
       "      <td>1123</td>\n",
       "      <td>...</td>\n",
       "      <td>1123</td>\n",
       "      <td>1123</td>\n",
       "      <td>1123</td>\n",
       "      <td>1123</td>\n",
       "      <td>1123</td>\n",
       "      <td>1123</td>\n",
       "      <td>1123</td>\n",
       "      <td>1123</td>\n",
       "      <td>1123</td>\n",
       "      <td>904</td>\n",
       "    </tr>\n",
       "    <tr>\n",
       "      <th rowspan=\"2\" valign=\"top\">other</th>\n",
       "      <th>other</th>\n",
       "      <td>1083</td>\n",
       "      <td>1083</td>\n",
       "      <td>1083</td>\n",
       "      <td>1075</td>\n",
       "      <td>1083</td>\n",
       "      <td>1069</td>\n",
       "      <td>1083</td>\n",
       "      <td>1083</td>\n",
       "      <td>1083</td>\n",
       "      <td>1083</td>\n",
       "      <td>...</td>\n",
       "      <td>1083</td>\n",
       "      <td>1083</td>\n",
       "      <td>1083</td>\n",
       "      <td>1083</td>\n",
       "      <td>1083</td>\n",
       "      <td>1083</td>\n",
       "      <td>1083</td>\n",
       "      <td>1083</td>\n",
       "      <td>1083</td>\n",
       "      <td>844</td>\n",
       "    </tr>\n",
       "    <tr>\n",
       "      <th>other - school</th>\n",
       "      <td>126</td>\n",
       "      <td>126</td>\n",
       "      <td>126</td>\n",
       "      <td>126</td>\n",
       "      <td>126</td>\n",
       "      <td>126</td>\n",
       "      <td>126</td>\n",
       "      <td>126</td>\n",
       "      <td>126</td>\n",
       "      <td>126</td>\n",
       "      <td>...</td>\n",
       "      <td>126</td>\n",
       "      <td>126</td>\n",
       "      <td>126</td>\n",
       "      <td>126</td>\n",
       "      <td>126</td>\n",
       "      <td>126</td>\n",
       "      <td>126</td>\n",
       "      <td>126</td>\n",
       "      <td>126</td>\n",
       "      <td>99</td>\n",
       "    </tr>\n",
       "    <tr>\n",
       "      <th>parastatal</th>\n",
       "      <th>parastatal</th>\n",
       "      <td>2229</td>\n",
       "      <td>2229</td>\n",
       "      <td>2229</td>\n",
       "      <td>2045</td>\n",
       "      <td>2229</td>\n",
       "      <td>2044</td>\n",
       "      <td>2229</td>\n",
       "      <td>2229</td>\n",
       "      <td>2229</td>\n",
       "      <td>2229</td>\n",
       "      <td>...</td>\n",
       "      <td>2229</td>\n",
       "      <td>2229</td>\n",
       "      <td>2229</td>\n",
       "      <td>2229</td>\n",
       "      <td>2229</td>\n",
       "      <td>2229</td>\n",
       "      <td>2229</td>\n",
       "      <td>2229</td>\n",
       "      <td>2229</td>\n",
       "      <td>1768</td>\n",
       "    </tr>\n",
       "    <tr>\n",
       "      <th>unknown</th>\n",
       "      <th>unknown</th>\n",
       "      <td>683</td>\n",
       "      <td>683</td>\n",
       "      <td>683</td>\n",
       "      <td>648</td>\n",
       "      <td>683</td>\n",
       "      <td>639</td>\n",
       "      <td>683</td>\n",
       "      <td>683</td>\n",
       "      <td>683</td>\n",
       "      <td>683</td>\n",
       "      <td>...</td>\n",
       "      <td>683</td>\n",
       "      <td>683</td>\n",
       "      <td>683</td>\n",
       "      <td>683</td>\n",
       "      <td>683</td>\n",
       "      <td>683</td>\n",
       "      <td>683</td>\n",
       "      <td>683</td>\n",
       "      <td>683</td>\n",
       "      <td>561</td>\n",
       "    </tr>\n",
       "    <tr>\n",
       "      <th rowspan=\"4\" valign=\"top\">user-group</th>\n",
       "      <th>vwc</th>\n",
       "      <td>50624</td>\n",
       "      <td>50624</td>\n",
       "      <td>50624</td>\n",
       "      <td>47065</td>\n",
       "      <td>50624</td>\n",
       "      <td>47062</td>\n",
       "      <td>50624</td>\n",
       "      <td>50624</td>\n",
       "      <td>50624</td>\n",
       "      <td>50624</td>\n",
       "      <td>...</td>\n",
       "      <td>50624</td>\n",
       "      <td>50624</td>\n",
       "      <td>50624</td>\n",
       "      <td>50624</td>\n",
       "      <td>50624</td>\n",
       "      <td>50624</td>\n",
       "      <td>50624</td>\n",
       "      <td>50624</td>\n",
       "      <td>50624</td>\n",
       "      <td>40507</td>\n",
       "    </tr>\n",
       "    <tr>\n",
       "      <th>water board</th>\n",
       "      <td>3688</td>\n",
       "      <td>3688</td>\n",
       "      <td>3688</td>\n",
       "      <td>3411</td>\n",
       "      <td>3688</td>\n",
       "      <td>3409</td>\n",
       "      <td>3688</td>\n",
       "      <td>3688</td>\n",
       "      <td>3688</td>\n",
       "      <td>3688</td>\n",
       "      <td>...</td>\n",
       "      <td>3688</td>\n",
       "      <td>3688</td>\n",
       "      <td>3688</td>\n",
       "      <td>3688</td>\n",
       "      <td>3688</td>\n",
       "      <td>3688</td>\n",
       "      <td>3688</td>\n",
       "      <td>3688</td>\n",
       "      <td>3688</td>\n",
       "      <td>2933</td>\n",
       "    </tr>\n",
       "    <tr>\n",
       "      <th>wua</th>\n",
       "      <td>3118</td>\n",
       "      <td>3118</td>\n",
       "      <td>3118</td>\n",
       "      <td>2842</td>\n",
       "      <td>3118</td>\n",
       "      <td>2843</td>\n",
       "      <td>3118</td>\n",
       "      <td>3118</td>\n",
       "      <td>3118</td>\n",
       "      <td>3118</td>\n",
       "      <td>...</td>\n",
       "      <td>3118</td>\n",
       "      <td>3118</td>\n",
       "      <td>3118</td>\n",
       "      <td>3118</td>\n",
       "      <td>3118</td>\n",
       "      <td>3118</td>\n",
       "      <td>3118</td>\n",
       "      <td>3118</td>\n",
       "      <td>3118</td>\n",
       "      <td>2535</td>\n",
       "    </tr>\n",
       "    <tr>\n",
       "      <th>wug</th>\n",
       "      <td>8108</td>\n",
       "      <td>8108</td>\n",
       "      <td>8108</td>\n",
       "      <td>8065</td>\n",
       "      <td>8108</td>\n",
       "      <td>8055</td>\n",
       "      <td>8108</td>\n",
       "      <td>8108</td>\n",
       "      <td>8108</td>\n",
       "      <td>8108</td>\n",
       "      <td>...</td>\n",
       "      <td>8108</td>\n",
       "      <td>8108</td>\n",
       "      <td>8108</td>\n",
       "      <td>8108</td>\n",
       "      <td>8108</td>\n",
       "      <td>8108</td>\n",
       "      <td>8108</td>\n",
       "      <td>8108</td>\n",
       "      <td>8108</td>\n",
       "      <td>6515</td>\n",
       "    </tr>\n",
       "  </tbody>\n",
       "</table>\n",
       "<p>12 rows × 39 columns</p>\n",
       "</div>"
      ],
      "text/plain": [
       "                                      id  amount_tsh  date_recorded  funder  \\\n",
       "management_group management                                                   \n",
       "commercial       company             859         859            859     834   \n",
       "                 private operator   2504        2504           2504    2484   \n",
       "                 trust               105         105            105     105   \n",
       "                 water authority    1123        1123           1123    1046   \n",
       "other            other              1083        1083           1083    1075   \n",
       "                 other - school      126         126            126     126   \n",
       "parastatal       parastatal         2229        2229           2229    2045   \n",
       "unknown          unknown             683         683            683     648   \n",
       "user-group       vwc               50624       50624          50624   47065   \n",
       "                 water board        3688        3688           3688    3411   \n",
       "                 wua                3118        3118           3118    2842   \n",
       "                 wug                8108        8108           8108    8065   \n",
       "\n",
       "                                   gps_height  installer  longitude  latitude  \\\n",
       "management_group management                                                     \n",
       "commercial       company                  859        834        859       859   \n",
       "                 private operator        2504       2486       2504      2504   \n",
       "                 trust                    105        105        105       105   \n",
       "                 water authority         1123       1046       1123      1123   \n",
       "other            other                   1083       1069       1083      1083   \n",
       "                 other - school           126        126        126       126   \n",
       "parastatal       parastatal              2229       2044       2229      2229   \n",
       "unknown          unknown                  683        639        683       683   \n",
       "user-group       vwc                    50624      47062      50624     50624   \n",
       "                 water board             3688       3409       3688      3688   \n",
       "                 wua                     3118       2843       3118      3118   \n",
       "                 wug                     8108       8055       8108      8108   \n",
       "\n",
       "                                   wpt_name  num_private  ...  water_quality  \\\n",
       "management_group management                               ...                  \n",
       "commercial       company                859          859  ...            859   \n",
       "                 private operator      2504         2504  ...           2504   \n",
       "                 trust                  105          105  ...            105   \n",
       "                 water authority       1123         1123  ...           1123   \n",
       "other            other                 1083         1083  ...           1083   \n",
       "                 other - school         126          126  ...            126   \n",
       "parastatal       parastatal            2229         2229  ...           2229   \n",
       "unknown          unknown                683          683  ...            683   \n",
       "user-group       vwc                  50624        50624  ...          50624   \n",
       "                 water board           3688         3688  ...           3688   \n",
       "                 wua                   3118         3118  ...           3118   \n",
       "                 wug                   8108         8108  ...           8108   \n",
       "\n",
       "                                   quality_group  quantity  quantity_group  \\\n",
       "management_group management                                                  \n",
       "commercial       company                     859       859             859   \n",
       "                 private operator           2504      2504            2504   \n",
       "                 trust                       105       105             105   \n",
       "                 water authority            1123      1123            1123   \n",
       "other            other                      1083      1083            1083   \n",
       "                 other - school              126       126             126   \n",
       "parastatal       parastatal                 2229      2229            2229   \n",
       "unknown          unknown                     683       683             683   \n",
       "user-group       vwc                       50624     50624           50624   \n",
       "                 water board                3688      3688            3688   \n",
       "                 wua                        3118      3118            3118   \n",
       "                 wug                        8108      8108            8108   \n",
       "\n",
       "                                   source  source_type  source_class  \\\n",
       "management_group management                                            \n",
       "commercial       company              859          859           859   \n",
       "                 private operator    2504         2504          2504   \n",
       "                 trust                105          105           105   \n",
       "                 water authority     1123         1123          1123   \n",
       "other            other               1083         1083          1083   \n",
       "                 other - school       126          126           126   \n",
       "parastatal       parastatal          2229         2229          2229   \n",
       "unknown          unknown              683          683           683   \n",
       "user-group       vwc                50624        50624         50624   \n",
       "                 water board         3688         3688          3688   \n",
       "                 wua                 3118         3118          3118   \n",
       "                 wug                 8108         8108          8108   \n",
       "\n",
       "                                   waterpoint_type  waterpoint_type_group  \\\n",
       "management_group management                                                 \n",
       "commercial       company                       859                    859   \n",
       "                 private operator             2504                   2504   \n",
       "                 trust                         105                    105   \n",
       "                 water authority              1123                   1123   \n",
       "other            other                        1083                   1083   \n",
       "                 other - school                126                    126   \n",
       "parastatal       parastatal                   2229                   2229   \n",
       "unknown          unknown                       683                    683   \n",
       "user-group       vwc                         50624                  50624   \n",
       "                 water board                  3688                   3688   \n",
       "                 wua                          3118                   3118   \n",
       "                 wug                          8108                   8108   \n",
       "\n",
       "                                   status_group  \n",
       "management_group management                      \n",
       "commercial       company                    685  \n",
       "                 private operator          1971  \n",
       "                 trust                       78  \n",
       "                 water authority            904  \n",
       "other            other                      844  \n",
       "                 other - school              99  \n",
       "parastatal       parastatal                1768  \n",
       "unknown          unknown                    561  \n",
       "user-group       vwc                      40507  \n",
       "                 water board               2933  \n",
       "                 wua                       2535  \n",
       "                 wug                       6515  \n",
       "\n",
       "[12 rows x 39 columns]"
      ]
     },
     "execution_count": 14,
     "metadata": {},
     "output_type": "execute_result"
    }
   ],
   "source": [
    "data.groupby(['management_group','management']).count()"
   ]
  },
  {
   "cell_type": "markdown",
   "metadata": {},
   "source": [
    "# 1.2. quantity / quantity_group columns"
   ]
  },
  {
   "cell_type": "code",
   "execution_count": 15,
   "metadata": {
    "execution": {
     "iopub.execute_input": "2021-09-16T07:08:06.266658Z",
     "iopub.status.busy": "2021-09-16T07:08:06.266158Z",
     "iopub.status.idle": "2021-09-16T07:08:06.284976Z",
     "shell.execute_reply": "2021-09-16T07:08:06.283552Z",
     "shell.execute_reply.started": "2021-09-16T07:08:06.266605Z"
    }
   },
   "outputs": [
    {
     "data": {
      "text/plain": [
       "enough          41522\n",
       "insufficient    18896\n",
       "dry              7782\n",
       "seasonal         5075\n",
       "unknown           975\n",
       "Name: quantity, dtype: int64"
      ]
     },
     "execution_count": 15,
     "metadata": {},
     "output_type": "execute_result"
    }
   ],
   "source": [
    "data['quantity'].value_counts()"
   ]
  },
  {
   "cell_type": "code",
   "execution_count": 16,
   "metadata": {
    "execution": {
     "iopub.execute_input": "2021-09-16T07:08:06.287193Z",
     "iopub.status.busy": "2021-09-16T07:08:06.286709Z",
     "iopub.status.idle": "2021-09-16T07:08:06.307365Z",
     "shell.execute_reply": "2021-09-16T07:08:06.306361Z",
     "shell.execute_reply.started": "2021-09-16T07:08:06.287128Z"
    }
   },
   "outputs": [
    {
     "data": {
      "text/plain": [
       "enough          41522\n",
       "insufficient    18896\n",
       "dry              7782\n",
       "seasonal         5075\n",
       "unknown           975\n",
       "Name: quantity_group, dtype: int64"
      ]
     },
     "execution_count": 16,
     "metadata": {},
     "output_type": "execute_result"
    }
   ],
   "source": [
    "data['quantity_group'].value_counts()"
   ]
  },
  {
   "cell_type": "code",
   "execution_count": 17,
   "metadata": {
    "execution": {
     "iopub.execute_input": "2021-09-16T07:08:06.309432Z",
     "iopub.status.busy": "2021-09-16T07:08:06.309034Z",
     "iopub.status.idle": "2021-09-16T07:08:06.717978Z",
     "shell.execute_reply": "2021-09-16T07:08:06.716797Z",
     "shell.execute_reply.started": "2021-09-16T07:08:06.309397Z"
    }
   },
   "outputs": [
    {
     "name": "stderr",
     "output_type": "stream",
     "text": [
      "C:\\ProgramData\\Anaconda3\\lib\\site-packages\\seaborn\\_decorators.py:36: FutureWarning: Pass the following variable as a keyword arg: x. From version 0.12, the only valid positional argument will be `data`, and passing other arguments without an explicit keyword will result in an error or misinterpretation.\n",
      "  warnings.warn(\n",
      "C:\\ProgramData\\Anaconda3\\lib\\site-packages\\seaborn\\_decorators.py:36: FutureWarning: Pass the following variable as a keyword arg: x. From version 0.12, the only valid positional argument will be `data`, and passing other arguments without an explicit keyword will result in an error or misinterpretation.\n",
      "  warnings.warn(\n",
      "<ipython-input-17-b153eaaf64c0>:5: UserWarning: Matplotlib is currently using module://ipykernel.pylab.backend_inline, which is a non-GUI backend, so cannot show the figure.\n",
      "  fig.show()\n"
     ]
    },
    {
     "data": {
      "image/png": "[encoded data removed]",
      "text/plain": [
       "<Figure size 1440x576 with 2 Axes>"
      ]
     },
     "metadata": {
      "needs_background": "light"
     },
     "output_type": "display_data"
    }
   ],
   "source": [
    "\n",
    "plt.rcParams[\"figure.figsize\"] = (20,8)\n",
    "fig, axes = plt.subplots(1, 2)\n",
    "sns.countplot(data.quantity, x='col1', ax=axes[0], palette = 'Set3', )\n",
    "sns.countplot(data.quantity_group, x=\"col2\", ax=axes[1], palette = 'Set3')\n",
    "fig.show()"
   ]
  },
  {
   "cell_type": "code",
   "execution_count": 18,
   "metadata": {
    "execution": {
     "iopub.execute_input": "2021-09-16T07:08:06.719819Z",
     "iopub.status.busy": "2021-09-16T07:08:06.719478Z",
     "iopub.status.idle": "2021-09-16T07:08:07.041925Z",
     "shell.execute_reply": "2021-09-16T07:08:07.040793Z",
     "shell.execute_reply.started": "2021-09-16T07:08:06.719785Z"
    }
   },
   "outputs": [
    {
     "data": {
      "text/plain": [
       "<AxesSubplot:xlabel='quantity', ylabel='count'>"
      ]
     },
     "execution_count": 18,
     "metadata": {},
     "output_type": "execute_result"
    },
    {
     "data": {
      "image/png": "[encoded data removed]",
      "text/plain": [
       "<Figure size 1440x576 with 1 Axes>"
      ]
     },
     "metadata": {
      "needs_background": "light"
     },
     "output_type": "display_data"
    }
   ],
   "source": [
    "sns.countplot( data=data, x='quantity', hue=\"status_group\")"
   ]
  },
  {
   "cell_type": "markdown",
   "metadata": {},
   "source": [
    "dry quantity, unknown -> high chance that point is non functional\n",
    "\n",
    "enough                -> high chance that point is functional"
   ]
  },
  {
   "cell_type": "code",
   "execution_count": 19,
   "metadata": {},
   "outputs": [
    {
     "data": {
      "text/plain": [
       "<AxesSubplot:xlabel='quantity_group', ylabel='count'>"
      ]
     },
     "execution_count": 19,
     "metadata": {},
     "output_type": "execute_result"
    },
    {
     "data": {
      "image/png": "[encoded data removed]",
      "text/plain": [
       "<Figure size 1440x576 with 1 Axes>"
      ]
     },
     "metadata": {
      "needs_background": "light"
     },
     "output_type": "display_data"
    }
   ],
   "source": [
    "sns.countplot( data=data, x='quantity_group', hue=\"status_group\")"
   ]
  },
  {
   "cell_type": "markdown",
   "metadata": {},
   "source": [
    "# 1.3. source / source_type/ source_class columns"
   ]
  },
  {
   "cell_type": "code",
   "execution_count": 20,
   "metadata": {
    "execution": {
     "iopub.execute_input": "2021-09-16T07:08:07.043441Z",
     "iopub.status.busy": "2021-09-16T07:08:07.043159Z",
     "iopub.status.idle": "2021-09-16T07:08:07.190367Z",
     "shell.execute_reply": "2021-09-16T07:08:07.189227Z",
     "shell.execute_reply.started": "2021-09-16T07:08:07.043413Z"
    }
   },
   "outputs": [
    {
     "data": {
      "text/html": [
       "<div>\n",
       "<style scoped>\n",
       "    .dataframe tbody tr th:only-of-type {\n",
       "        vertical-align: middle;\n",
       "    }\n",
       "\n",
       "    .dataframe tbody tr th {\n",
       "        vertical-align: top;\n",
       "    }\n",
       "\n",
       "    .dataframe thead th {\n",
       "        text-align: right;\n",
       "    }\n",
       "</style>\n",
       "<table border=\"1\" class=\"dataframe\">\n",
       "  <thead>\n",
       "    <tr style=\"text-align: right;\">\n",
       "      <th></th>\n",
       "      <th></th>\n",
       "      <th>id</th>\n",
       "      <th>amount_tsh</th>\n",
       "      <th>date_recorded</th>\n",
       "      <th>funder</th>\n",
       "      <th>gps_height</th>\n",
       "      <th>installer</th>\n",
       "      <th>longitude</th>\n",
       "      <th>latitude</th>\n",
       "      <th>wpt_name</th>\n",
       "      <th>num_private</th>\n",
       "      <th>...</th>\n",
       "      <th>payment</th>\n",
       "      <th>payment_type</th>\n",
       "      <th>water_quality</th>\n",
       "      <th>quality_group</th>\n",
       "      <th>quantity</th>\n",
       "      <th>quantity_group</th>\n",
       "      <th>source_type</th>\n",
       "      <th>waterpoint_type</th>\n",
       "      <th>waterpoint_type_group</th>\n",
       "      <th>status_group</th>\n",
       "    </tr>\n",
       "    <tr>\n",
       "      <th>source_class</th>\n",
       "      <th>source</th>\n",
       "      <th></th>\n",
       "      <th></th>\n",
       "      <th></th>\n",
       "      <th></th>\n",
       "      <th></th>\n",
       "      <th></th>\n",
       "      <th></th>\n",
       "      <th></th>\n",
       "      <th></th>\n",
       "      <th></th>\n",
       "      <th></th>\n",
       "      <th></th>\n",
       "      <th></th>\n",
       "      <th></th>\n",
       "      <th></th>\n",
       "      <th></th>\n",
       "      <th></th>\n",
       "      <th></th>\n",
       "      <th></th>\n",
       "      <th></th>\n",
       "      <th></th>\n",
       "    </tr>\n",
       "  </thead>\n",
       "  <tbody>\n",
       "    <tr>\n",
       "      <th rowspan=\"4\" valign=\"top\">groundwater</th>\n",
       "      <th>hand dtw</th>\n",
       "      <td>1108</td>\n",
       "      <td>1108</td>\n",
       "      <td>1108</td>\n",
       "      <td>1098</td>\n",
       "      <td>1108</td>\n",
       "      <td>1098</td>\n",
       "      <td>1108</td>\n",
       "      <td>1108</td>\n",
       "      <td>1108</td>\n",
       "      <td>1108</td>\n",
       "      <td>...</td>\n",
       "      <td>1108</td>\n",
       "      <td>1108</td>\n",
       "      <td>1108</td>\n",
       "      <td>1108</td>\n",
       "      <td>1108</td>\n",
       "      <td>1108</td>\n",
       "      <td>1108</td>\n",
       "      <td>1108</td>\n",
       "      <td>1108</td>\n",
       "      <td>874</td>\n",
       "    </tr>\n",
       "    <tr>\n",
       "      <th>machine dbh</th>\n",
       "      <td>13822</td>\n",
       "      <td>13822</td>\n",
       "      <td>13822</td>\n",
       "      <td>12816</td>\n",
       "      <td>13822</td>\n",
       "      <td>12807</td>\n",
       "      <td>13822</td>\n",
       "      <td>13822</td>\n",
       "      <td>13822</td>\n",
       "      <td>13822</td>\n",
       "      <td>...</td>\n",
       "      <td>13822</td>\n",
       "      <td>13822</td>\n",
       "      <td>13822</td>\n",
       "      <td>13822</td>\n",
       "      <td>13822</td>\n",
       "      <td>13822</td>\n",
       "      <td>13822</td>\n",
       "      <td>13822</td>\n",
       "      <td>13822</td>\n",
       "      <td>11075</td>\n",
       "    </tr>\n",
       "    <tr>\n",
       "      <th>shallow well</th>\n",
       "      <td>21140</td>\n",
       "      <td>21140</td>\n",
       "      <td>21140</td>\n",
       "      <td>20507</td>\n",
       "      <td>21140</td>\n",
       "      <td>20490</td>\n",
       "      <td>21140</td>\n",
       "      <td>21140</td>\n",
       "      <td>21140</td>\n",
       "      <td>21140</td>\n",
       "      <td>...</td>\n",
       "      <td>21140</td>\n",
       "      <td>21140</td>\n",
       "      <td>21140</td>\n",
       "      <td>21140</td>\n",
       "      <td>21140</td>\n",
       "      <td>21140</td>\n",
       "      <td>21140</td>\n",
       "      <td>21140</td>\n",
       "      <td>21140</td>\n",
       "      <td>16824</td>\n",
       "    </tr>\n",
       "    <tr>\n",
       "      <th>spring</th>\n",
       "      <td>21216</td>\n",
       "      <td>21216</td>\n",
       "      <td>21216</td>\n",
       "      <td>19778</td>\n",
       "      <td>21216</td>\n",
       "      <td>19778</td>\n",
       "      <td>21216</td>\n",
       "      <td>21216</td>\n",
       "      <td>21216</td>\n",
       "      <td>21216</td>\n",
       "      <td>...</td>\n",
       "      <td>21216</td>\n",
       "      <td>21216</td>\n",
       "      <td>21216</td>\n",
       "      <td>21216</td>\n",
       "      <td>21216</td>\n",
       "      <td>21216</td>\n",
       "      <td>21216</td>\n",
       "      <td>21216</td>\n",
       "      <td>21216</td>\n",
       "      <td>17021</td>\n",
       "    </tr>\n",
       "    <tr>\n",
       "      <th rowspan=\"4\" valign=\"top\">surface</th>\n",
       "      <th>dam</th>\n",
       "      <td>840</td>\n",
       "      <td>840</td>\n",
       "      <td>840</td>\n",
       "      <td>828</td>\n",
       "      <td>840</td>\n",
       "      <td>828</td>\n",
       "      <td>840</td>\n",
       "      <td>840</td>\n",
       "      <td>840</td>\n",
       "      <td>840</td>\n",
       "      <td>...</td>\n",
       "      <td>840</td>\n",
       "      <td>840</td>\n",
       "      <td>840</td>\n",
       "      <td>840</td>\n",
       "      <td>840</td>\n",
       "      <td>840</td>\n",
       "      <td>840</td>\n",
       "      <td>840</td>\n",
       "      <td>840</td>\n",
       "      <td>656</td>\n",
       "    </tr>\n",
       "    <tr>\n",
       "      <th>lake</th>\n",
       "      <td>950</td>\n",
       "      <td>950</td>\n",
       "      <td>950</td>\n",
       "      <td>946</td>\n",
       "      <td>950</td>\n",
       "      <td>945</td>\n",
       "      <td>950</td>\n",
       "      <td>950</td>\n",
       "      <td>950</td>\n",
       "      <td>950</td>\n",
       "      <td>...</td>\n",
       "      <td>950</td>\n",
       "      <td>950</td>\n",
       "      <td>950</td>\n",
       "      <td>950</td>\n",
       "      <td>950</td>\n",
       "      <td>950</td>\n",
       "      <td>950</td>\n",
       "      <td>950</td>\n",
       "      <td>950</td>\n",
       "      <td>765</td>\n",
       "    </tr>\n",
       "    <tr>\n",
       "      <th>rainwater harvesting</th>\n",
       "      <td>2863</td>\n",
       "      <td>2863</td>\n",
       "      <td>2863</td>\n",
       "      <td>2607</td>\n",
       "      <td>2863</td>\n",
       "      <td>2600</td>\n",
       "      <td>2863</td>\n",
       "      <td>2863</td>\n",
       "      <td>2863</td>\n",
       "      <td>2863</td>\n",
       "      <td>...</td>\n",
       "      <td>2863</td>\n",
       "      <td>2863</td>\n",
       "      <td>2863</td>\n",
       "      <td>2863</td>\n",
       "      <td>2863</td>\n",
       "      <td>2863</td>\n",
       "      <td>2863</td>\n",
       "      <td>2863</td>\n",
       "      <td>2863</td>\n",
       "      <td>2295</td>\n",
       "    </tr>\n",
       "    <tr>\n",
       "      <th>river</th>\n",
       "      <td>11964</td>\n",
       "      <td>11964</td>\n",
       "      <td>11964</td>\n",
       "      <td>10854</td>\n",
       "      <td>11964</td>\n",
       "      <td>10860</td>\n",
       "      <td>11964</td>\n",
       "      <td>11964</td>\n",
       "      <td>11964</td>\n",
       "      <td>11964</td>\n",
       "      <td>...</td>\n",
       "      <td>11964</td>\n",
       "      <td>11964</td>\n",
       "      <td>11964</td>\n",
       "      <td>11964</td>\n",
       "      <td>11964</td>\n",
       "      <td>11964</td>\n",
       "      <td>11964</td>\n",
       "      <td>11964</td>\n",
       "      <td>11964</td>\n",
       "      <td>9612</td>\n",
       "    </tr>\n",
       "    <tr>\n",
       "      <th rowspan=\"2\" valign=\"top\">unknown</th>\n",
       "      <th>other</th>\n",
       "      <td>261</td>\n",
       "      <td>261</td>\n",
       "      <td>261</td>\n",
       "      <td>253</td>\n",
       "      <td>261</td>\n",
       "      <td>253</td>\n",
       "      <td>261</td>\n",
       "      <td>261</td>\n",
       "      <td>261</td>\n",
       "      <td>261</td>\n",
       "      <td>...</td>\n",
       "      <td>261</td>\n",
       "      <td>261</td>\n",
       "      <td>261</td>\n",
       "      <td>261</td>\n",
       "      <td>261</td>\n",
       "      <td>261</td>\n",
       "      <td>261</td>\n",
       "      <td>261</td>\n",
       "      <td>261</td>\n",
       "      <td>212</td>\n",
       "    </tr>\n",
       "    <tr>\n",
       "      <th>unknown</th>\n",
       "      <td>86</td>\n",
       "      <td>86</td>\n",
       "      <td>86</td>\n",
       "      <td>59</td>\n",
       "      <td>86</td>\n",
       "      <td>59</td>\n",
       "      <td>86</td>\n",
       "      <td>86</td>\n",
       "      <td>86</td>\n",
       "      <td>86</td>\n",
       "      <td>...</td>\n",
       "      <td>86</td>\n",
       "      <td>86</td>\n",
       "      <td>86</td>\n",
       "      <td>86</td>\n",
       "      <td>86</td>\n",
       "      <td>86</td>\n",
       "      <td>86</td>\n",
       "      <td>86</td>\n",
       "      <td>86</td>\n",
       "      <td>66</td>\n",
       "    </tr>\n",
       "  </tbody>\n",
       "</table>\n",
       "<p>10 rows × 39 columns</p>\n",
       "</div>"
      ],
      "text/plain": [
       "                                      id  amount_tsh  date_recorded  funder  \\\n",
       "source_class source                                                           \n",
       "groundwater  hand dtw               1108        1108           1108    1098   \n",
       "             machine dbh           13822       13822          13822   12816   \n",
       "             shallow well          21140       21140          21140   20507   \n",
       "             spring                21216       21216          21216   19778   \n",
       "surface      dam                     840         840            840     828   \n",
       "             lake                    950         950            950     946   \n",
       "             rainwater harvesting   2863        2863           2863    2607   \n",
       "             river                 11964       11964          11964   10854   \n",
       "unknown      other                   261         261            261     253   \n",
       "             unknown                  86          86             86      59   \n",
       "\n",
       "                                   gps_height  installer  longitude  latitude  \\\n",
       "source_class source                                                             \n",
       "groundwater  hand dtw                    1108       1098       1108      1108   \n",
       "             machine dbh                13822      12807      13822     13822   \n",
       "             shallow well               21140      20490      21140     21140   \n",
       "             spring                     21216      19778      21216     21216   \n",
       "surface      dam                          840        828        840       840   \n",
       "             lake                         950        945        950       950   \n",
       "             rainwater harvesting        2863       2600       2863      2863   \n",
       "             river                      11964      10860      11964     11964   \n",
       "unknown      other                        261        253        261       261   \n",
       "             unknown                       86         59         86        86   \n",
       "\n",
       "                                   wpt_name  num_private  ...  payment  \\\n",
       "source_class source                                       ...            \n",
       "groundwater  hand dtw                  1108         1108  ...     1108   \n",
       "             machine dbh              13822        13822  ...    13822   \n",
       "             shallow well             21140        21140  ...    21140   \n",
       "             spring                   21216        21216  ...    21216   \n",
       "surface      dam                        840          840  ...      840   \n",
       "             lake                       950          950  ...      950   \n",
       "             rainwater harvesting      2863         2863  ...     2863   \n",
       "             river                    11964        11964  ...    11964   \n",
       "unknown      other                      261          261  ...      261   \n",
       "             unknown                     86           86  ...       86   \n",
       "\n",
       "                                   payment_type  water_quality  quality_group  \\\n",
       "source_class source                                                             \n",
       "groundwater  hand dtw                      1108           1108           1108   \n",
       "             machine dbh                  13822          13822          13822   \n",
       "             shallow well                 21140          21140          21140   \n",
       "             spring                       21216          21216          21216   \n",
       "surface      dam                            840            840            840   \n",
       "             lake                           950            950            950   \n",
       "             rainwater harvesting          2863           2863           2863   \n",
       "             river                        11964          11964          11964   \n",
       "unknown      other                          261            261            261   \n",
       "             unknown                         86             86             86   \n",
       "\n",
       "                                   quantity  quantity_group  source_type  \\\n",
       "source_class source                                                        \n",
       "groundwater  hand dtw                  1108            1108         1108   \n",
       "             machine dbh              13822           13822        13822   \n",
       "             shallow well             21140           21140        21140   \n",
       "             spring                   21216           21216        21216   \n",
       "surface      dam                        840             840          840   \n",
       "             lake                       950             950          950   \n",
       "             rainwater harvesting      2863            2863         2863   \n",
       "             river                    11964           11964        11964   \n",
       "unknown      other                      261             261          261   \n",
       "             unknown                     86              86           86   \n",
       "\n",
       "                                   waterpoint_type  waterpoint_type_group  \\\n",
       "source_class source                                                         \n",
       "groundwater  hand dtw                         1108                   1108   \n",
       "             machine dbh                     13822                  13822   \n",
       "             shallow well                    21140                  21140   \n",
       "             spring                          21216                  21216   \n",
       "surface      dam                               840                    840   \n",
       "             lake                              950                    950   \n",
       "             rainwater harvesting             2863                   2863   \n",
       "             river                           11964                  11964   \n",
       "unknown      other                             261                    261   \n",
       "             unknown                            86                     86   \n",
       "\n",
       "                                   status_group  \n",
       "source_class source                              \n",
       "groundwater  hand dtw                       874  \n",
       "             machine dbh                  11075  \n",
       "             shallow well                 16824  \n",
       "             spring                       17021  \n",
       "surface      dam                            656  \n",
       "             lake                           765  \n",
       "             rainwater harvesting          2295  \n",
       "             river                         9612  \n",
       "unknown      other                          212  \n",
       "             unknown                         66  \n",
       "\n",
       "[10 rows x 39 columns]"
      ]
     },
     "execution_count": 20,
     "metadata": {},
     "output_type": "execute_result"
    }
   ],
   "source": [
    "data.groupby(['source_class','source']).count()"
   ]
  },
  {
   "cell_type": "code",
   "execution_count": 21,
   "metadata": {
    "execution": {
     "iopub.execute_input": "2021-09-16T07:08:07.192003Z",
     "iopub.status.busy": "2021-09-16T07:08:07.191692Z",
     "iopub.status.idle": "2021-09-16T07:08:07.672295Z",
     "shell.execute_reply": "2021-09-16T07:08:07.671452Z",
     "shell.execute_reply.started": "2021-09-16T07:08:07.191959Z"
    }
   },
   "outputs": [
    {
     "name": "stderr",
     "output_type": "stream",
     "text": [
      "C:\\ProgramData\\Anaconda3\\lib\\site-packages\\seaborn\\_decorators.py:36: FutureWarning: Pass the following variable as a keyword arg: x. From version 0.12, the only valid positional argument will be `data`, and passing other arguments without an explicit keyword will result in an error or misinterpretation.\n",
      "  warnings.warn(\n",
      "C:\\ProgramData\\Anaconda3\\lib\\site-packages\\seaborn\\_decorators.py:36: FutureWarning: Pass the following variable as a keyword arg: x. From version 0.12, the only valid positional argument will be `data`, and passing other arguments without an explicit keyword will result in an error or misinterpretation.\n",
      "  warnings.warn(\n",
      "<ipython-input-21-dd7217b289b7>:5: UserWarning: Matplotlib is currently using module://ipykernel.pylab.backend_inline, which is a non-GUI backend, so cannot show the figure.\n",
      "  fig.show()\n"
     ]
    },
    {
     "data": {
      "image/png": "[encoded data removed]",
      "text/plain": [
       "<Figure size 1440x576 with 2 Axes>"
      ]
     },
     "metadata": {
      "needs_background": "light"
     },
     "output_type": "display_data"
    }
   ],
   "source": [
    "plt.rcParams[\"figure.figsize\"] = (20,8)\n",
    "fig, axes = plt.subplots(1, 2)\n",
    "sns.countplot(data.source, x='col1', ax=axes[0], palette = 'Set3', )\n",
    "sns.countplot(data.source_type, x=\"col2\", ax=axes[1], palette = 'Set3')\n",
    "fig.show()"
   ]
  },
  {
   "cell_type": "code",
   "execution_count": 22,
   "metadata": {
    "execution": {
     "iopub.execute_input": "2021-09-16T07:08:07.673954Z",
     "iopub.status.busy": "2021-09-16T07:08:07.673495Z",
     "iopub.status.idle": "2021-09-16T07:08:07.689017Z",
     "shell.execute_reply": "2021-09-16T07:08:07.688215Z",
     "shell.execute_reply.started": "2021-09-16T07:08:07.673908Z"
    }
   },
   "outputs": [
    {
     "data": {
      "text/plain": [
       "spring                  21216\n",
       "shallow well            21140\n",
       "machine dbh             13822\n",
       "river                   11964\n",
       "rainwater harvesting     2863\n",
       "hand dtw                 1108\n",
       "lake                      950\n",
       "dam                       840\n",
       "other                     261\n",
       "unknown                    86\n",
       "Name: source, dtype: int64"
      ]
     },
     "execution_count": 22,
     "metadata": {},
     "output_type": "execute_result"
    }
   ],
   "source": [
    "data['source'].value_counts()"
   ]
  },
  {
   "cell_type": "code",
   "execution_count": 23,
   "metadata": {
    "execution": {
     "iopub.execute_input": "2021-09-16T07:08:07.690709Z",
     "iopub.status.busy": "2021-09-16T07:08:07.690214Z",
     "iopub.status.idle": "2021-09-16T07:08:07.722876Z",
     "shell.execute_reply": "2021-09-16T07:08:07.721557Z",
     "shell.execute_reply.started": "2021-09-16T07:08:07.690663Z"
    }
   },
   "outputs": [
    {
     "data": {
      "text/plain": [
       "spring                  21216\n",
       "shallow well            21140\n",
       "borehole                14930\n",
       "river/lake              12914\n",
       "rainwater harvesting     2863\n",
       "dam                       840\n",
       "other                     347\n",
       "Name: source_type, dtype: int64"
      ]
     },
     "execution_count": 23,
     "metadata": {},
     "output_type": "execute_result"
    }
   ],
   "source": [
    "data['source_type'].value_counts()"
   ]
  },
  {
   "cell_type": "code",
   "execution_count": 24,
   "metadata": {},
   "outputs": [
    {
     "data": {
      "text/plain": [
       "<AxesSubplot:xlabel='source_class', ylabel='count'>"
      ]
     },
     "execution_count": 24,
     "metadata": {},
     "output_type": "execute_result"
    },
    {
     "data": {
      "image/png": "[encoded data removed]",
      "text/plain": [
       "<Figure size 1440x576 with 1 Axes>"
      ]
     },
     "metadata": {
      "needs_background": "light"
     },
     "output_type": "display_data"
    }
   ],
   "source": [
    "sns.countplot(x='source_class', hue=\"status_group\", data=data)"
   ]
  },
  {
   "cell_type": "markdown",
   "metadata": {},
   "source": [
    "# 1.4. water_quality / quality_group columns"
   ]
  },
  {
   "cell_type": "code",
   "execution_count": 25,
   "metadata": {
    "execution": {
     "iopub.execute_input": "2021-09-16T07:08:07.725309Z",
     "iopub.status.busy": "2021-09-16T07:08:07.724778Z",
     "iopub.status.idle": "2021-09-16T07:08:08.170074Z",
     "shell.execute_reply": "2021-09-16T07:08:08.168817Z",
     "shell.execute_reply.started": "2021-09-16T07:08:07.725256Z"
    }
   },
   "outputs": [
    {
     "name": "stderr",
     "output_type": "stream",
     "text": [
      "C:\\ProgramData\\Anaconda3\\lib\\site-packages\\seaborn\\_decorators.py:36: FutureWarning: Pass the following variable as a keyword arg: x. From version 0.12, the only valid positional argument will be `data`, and passing other arguments without an explicit keyword will result in an error or misinterpretation.\n",
      "  warnings.warn(\n",
      "C:\\ProgramData\\Anaconda3\\lib\\site-packages\\seaborn\\_decorators.py:36: FutureWarning: Pass the following variable as a keyword arg: x. From version 0.12, the only valid positional argument will be `data`, and passing other arguments without an explicit keyword will result in an error or misinterpretation.\n",
      "  warnings.warn(\n",
      "<ipython-input-25-b2df9a3649b7>:5: UserWarning: Matplotlib is currently using module://ipykernel.pylab.backend_inline, which is a non-GUI backend, so cannot show the figure.\n",
      "  fig.show()\n"
     ]
    },
    {
     "data": {
      "image/png": "[encoded data removed]",
      "text/plain": [
       "<Figure size 1440x576 with 2 Axes>"
      ]
     },
     "metadata": {
      "needs_background": "light"
     },
     "output_type": "display_data"
    }
   ],
   "source": [
    "plt.rcParams[\"figure.figsize\"] = (20,8)\n",
    "fig, axes = plt.subplots(1, 2)\n",
    "sns.countplot(data.water_quality, x='col1', ax=axes[0], palette = 'Set3', )\n",
    "sns.countplot(data.quality_group, x=\"col2\", ax=axes[1], palette = 'Set3')\n",
    "fig.show()"
   ]
  },
  {
   "cell_type": "code",
   "execution_count": 26,
   "metadata": {
    "execution": {
     "iopub.execute_input": "2021-09-16T07:08:08.176067Z",
     "iopub.status.busy": "2021-09-16T07:08:08.175328Z",
     "iopub.status.idle": "2021-09-16T07:08:08.193473Z",
     "shell.execute_reply": "2021-09-16T07:08:08.192149Z",
     "shell.execute_reply.started": "2021-09-16T07:08:08.176002Z"
    }
   },
   "outputs": [
    {
     "data": {
      "text/plain": [
       "soft                  63505\n",
       "salty                  6082\n",
       "unknown                2345\n",
       "milky                  1005\n",
       "coloured                623\n",
       "salty abandoned         423\n",
       "fluoride                244\n",
       "fluoride abandoned       23\n",
       "Name: water_quality, dtype: int64"
      ]
     },
     "execution_count": 26,
     "metadata": {},
     "output_type": "execute_result"
    }
   ],
   "source": [
    "data['water_quality'].value_counts()"
   ]
  },
  {
   "cell_type": "code",
   "execution_count": 27,
   "metadata": {
    "execution": {
     "iopub.execute_input": "2021-09-16T07:08:08.197706Z",
     "iopub.status.busy": "2021-09-16T07:08:08.197323Z",
     "iopub.status.idle": "2021-09-16T07:08:08.214784Z",
     "shell.execute_reply": "2021-09-16T07:08:08.213568Z",
     "shell.execute_reply.started": "2021-09-16T07:08:08.197669Z"
    }
   },
   "outputs": [
    {
     "data": {
      "text/plain": [
       "good        63505\n",
       "salty        6505\n",
       "unknown      2345\n",
       "milky        1005\n",
       "colored       623\n",
       "fluoride      267\n",
       "Name: quality_group, dtype: int64"
      ]
     },
     "execution_count": 27,
     "metadata": {},
     "output_type": "execute_result"
    }
   ],
   "source": [
    "data['quality_group'].value_counts()"
   ]
  },
  {
   "cell_type": "code",
   "execution_count": 28,
   "metadata": {},
   "outputs": [
    {
     "data": {
      "text/plain": [
       "<AxesSubplot:xlabel='water_quality', ylabel='count'>"
      ]
     },
     "execution_count": 28,
     "metadata": {},
     "output_type": "execute_result"
    },
    {
     "data": {
      "image/png": "[encoded data removed]",
      "text/plain": [
       "<Figure size 1440x576 with 1 Axes>"
      ]
     },
     "metadata": {
      "needs_background": "light"
     },
     "output_type": "display_data"
    }
   ],
   "source": [
    "sns.countplot(x='water_quality', hue='status_group', data=data)"
   ]
  },
  {
   "cell_type": "markdown",
   "metadata": {},
   "source": [
    "# 1.5. payment / payment_type columns"
   ]
  },
  {
   "cell_type": "code",
   "execution_count": 29,
   "metadata": {
    "execution": {
     "iopub.execute_input": "2021-09-16T07:08:08.217318Z",
     "iopub.status.busy": "2021-09-16T07:08:08.216621Z",
     "iopub.status.idle": "2021-09-16T07:08:08.663284Z",
     "shell.execute_reply": "2021-09-16T07:08:08.662139Z",
     "shell.execute_reply.started": "2021-09-16T07:08:08.217265Z"
    }
   },
   "outputs": [
    {
     "name": "stderr",
     "output_type": "stream",
     "text": [
      "C:\\ProgramData\\Anaconda3\\lib\\site-packages\\seaborn\\_decorators.py:36: FutureWarning: Pass the following variable as a keyword arg: x. From version 0.12, the only valid positional argument will be `data`, and passing other arguments without an explicit keyword will result in an error or misinterpretation.\n",
      "  warnings.warn(\n",
      "C:\\ProgramData\\Anaconda3\\lib\\site-packages\\seaborn\\_decorators.py:36: FutureWarning: Pass the following variable as a keyword arg: x. From version 0.12, the only valid positional argument will be `data`, and passing other arguments without an explicit keyword will result in an error or misinterpretation.\n",
      "  warnings.warn(\n",
      "<ipython-input-29-03cfad2efbdf>:6: UserWarning: Matplotlib is currently using module://ipykernel.pylab.backend_inline, which is a non-GUI backend, so cannot show the figure.\n",
      "  fig.show()\n"
     ]
    },
    {
     "data": {
      "image/png": "[encoded data removed]",
      "text/plain": [
       "<Figure size 1440x576 with 2 Axes>"
      ]
     },
     "metadata": {
      "needs_background": "light"
     },
     "output_type": "display_data"
    }
   ],
   "source": [
    "plt.rcParams[\"figure.figsize\"] = (20,8)\n",
    "fig, axes = plt.subplots(1, 2)\n",
    "sns.countplot(data.payment, x='col1', ax=axes[0], palette = 'Set3', )\n",
    "sns.countplot(data.payment_type, x=\"col2\", ax=axes[1], palette = 'Set3')\n",
    "fig.suptitle(' payment / payment_type columns')\n",
    "fig.show()"
   ]
  },
  {
   "cell_type": "code",
   "execution_count": 30,
   "metadata": {
    "execution": {
     "iopub.execute_input": "2021-09-16T07:08:08.665120Z",
     "iopub.status.busy": "2021-09-16T07:08:08.664797Z",
     "iopub.status.idle": "2021-09-16T07:08:08.681872Z",
     "shell.execute_reply": "2021-09-16T07:08:08.680577Z",
     "shell.execute_reply.started": "2021-09-16T07:08:08.665085Z"
    }
   },
   "outputs": [
    {
     "data": {
      "text/plain": [
       "never pay                31712\n",
       "pay per bucket           11266\n",
       "pay monthly              10397\n",
       "unknown                  10149\n",
       "pay when scheme fails     4842\n",
       "pay annually              4570\n",
       "other                     1314\n",
       "Name: payment, dtype: int64"
      ]
     },
     "execution_count": 30,
     "metadata": {},
     "output_type": "execute_result"
    }
   ],
   "source": [
    "data['payment'].value_counts()"
   ]
  },
  {
   "cell_type": "code",
   "execution_count": 31,
   "metadata": {
    "execution": {
     "iopub.execute_input": "2021-09-16T07:08:08.683566Z",
     "iopub.status.busy": "2021-09-16T07:08:08.683276Z",
     "iopub.status.idle": "2021-09-16T07:08:08.704144Z",
     "shell.execute_reply": "2021-09-16T07:08:08.702901Z",
     "shell.execute_reply.started": "2021-09-16T07:08:08.683537Z"
    }
   },
   "outputs": [
    {
     "data": {
      "text/plain": [
       "never pay     31712\n",
       "per bucket    11266\n",
       "monthly       10397\n",
       "unknown       10149\n",
       "on failure     4842\n",
       "annually       4570\n",
       "other          1314\n",
       "Name: payment_type, dtype: int64"
      ]
     },
     "execution_count": 31,
     "metadata": {},
     "output_type": "execute_result"
    }
   ],
   "source": [
    "data['payment_type'].value_counts()"
   ]
  },
  {
   "cell_type": "code",
   "execution_count": 32,
   "metadata": {},
   "outputs": [
    {
     "data": {
      "text/plain": [
       "<AxesSubplot:xlabel='payment', ylabel='count'>"
      ]
     },
     "execution_count": 32,
     "metadata": {},
     "output_type": "execute_result"
    },
    {
     "data": {
      "image/png": "[encoded data removed]",
      "text/plain": [
       "<Figure size 1440x576 with 1 Axes>"
      ]
     },
     "metadata": {
      "needs_background": "light"
     },
     "output_type": "display_data"
    }
   ],
   "source": [
    "sns.countplot(x='payment', hue=\"status_group\", data=data)"
   ]
  },
  {
   "cell_type": "markdown",
   "metadata": {},
   "source": [
    "# 1.6. extraction_type / extraction_type_group / extraction_type_class columns"
   ]
  },
  {
   "cell_type": "code",
   "execution_count": 33,
   "metadata": {
    "execution": {
     "iopub.execute_input": "2021-09-16T07:08:08.705978Z",
     "iopub.status.busy": "2021-09-16T07:08:08.705691Z",
     "iopub.status.idle": "2021-09-16T07:08:09.664759Z",
     "shell.execute_reply": "2021-09-16T07:08:09.663945Z",
     "shell.execute_reply.started": "2021-09-16T07:08:08.705948Z"
    }
   },
   "outputs": [
    {
     "name": "stderr",
     "output_type": "stream",
     "text": [
      "C:\\ProgramData\\Anaconda3\\lib\\site-packages\\seaborn\\_decorators.py:36: FutureWarning: Pass the following variable as a keyword arg: x. From version 0.12, the only valid positional argument will be `data`, and passing other arguments without an explicit keyword will result in an error or misinterpretation.\n",
      "  warnings.warn(\n",
      "C:\\ProgramData\\Anaconda3\\lib\\site-packages\\seaborn\\_decorators.py:36: FutureWarning: Pass the following variable as a keyword arg: x. From version 0.12, the only valid positional argument will be `data`, and passing other arguments without an explicit keyword will result in an error or misinterpretation.\n",
      "  warnings.warn(\n",
      "C:\\ProgramData\\Anaconda3\\lib\\site-packages\\seaborn\\_decorators.py:36: FutureWarning: Pass the following variable as a keyword arg: x. From version 0.12, the only valid positional argument will be `data`, and passing other arguments without an explicit keyword will result in an error or misinterpretation.\n",
      "  warnings.warn(\n",
      "<ipython-input-33-54746a32df20>:7: UserWarning: Matplotlib is currently using module://ipykernel.pylab.backend_inline, which is a non-GUI backend, so cannot show the figure.\n",
      "  fig.show()\n"
     ]
    },
    {
     "data": {
      "image/png": "[encoded data removed]",
      "text/plain": [
       "<Figure size 1440x576 with 3 Axes>"
      ]
     },
     "metadata": {
      "needs_background": "light"
     },
     "output_type": "display_data"
    }
   ],
   "source": [
    "plt.rcParams[\"figure.figsize\"] = (20,8)\n",
    "fig, axes = plt.subplots(1, 3)\n",
    "sns.countplot(data.extraction_type, x='col1', ax=axes[0], palette = 'Set3', )\n",
    "sns.countplot(data.extraction_type_group, x=\"col2\", ax=axes[1], palette = 'Set3')\n",
    "sns.countplot(data.extraction_type_class, x=\"col3\", ax=axes[2], palette = 'Set3')\n",
    "fig.suptitle('extraction_type / extraction_type_group / extraction_type_class columns')\n",
    "fig.show()"
   ]
  },
  {
   "cell_type": "code",
   "execution_count": 34,
   "metadata": {
    "execution": {
     "iopub.execute_input": "2021-09-16T07:08:09.666308Z",
     "iopub.status.busy": "2021-09-16T07:08:09.665877Z",
     "iopub.status.idle": "2021-09-16T07:08:09.680852Z",
     "shell.execute_reply": "2021-09-16T07:08:09.680110Z",
     "shell.execute_reply.started": "2021-09-16T07:08:09.666264Z"
    }
   },
   "outputs": [
    {
     "data": {
      "text/plain": [
       "gravity                      33263\n",
       "nira/tanira                  10205\n",
       "other                         8102\n",
       "submersible                   5982\n",
       "swn 80                        4588\n",
       "mono                          3628\n",
       "india mark ii                 3029\n",
       "afridev                       2208\n",
       "ksb                           1790\n",
       "other - rope pump              572\n",
       "other - swn 81                 284\n",
       "windmill                       152\n",
       "india mark iii                 135\n",
       "cemo                           108\n",
       "other - play pump              101\n",
       "walimi                          60\n",
       "climax                          41\n",
       "other - mkulima/shinyanga        2\n",
       "Name: extraction_type, dtype: int64"
      ]
     },
     "execution_count": 34,
     "metadata": {},
     "output_type": "execute_result"
    }
   ],
   "source": [
    "data['extraction_type'].value_counts()"
   ]
  },
  {
   "cell_type": "code",
   "execution_count": 35,
   "metadata": {
    "execution": {
     "iopub.execute_input": "2021-09-16T07:08:09.682743Z",
     "iopub.status.busy": "2021-09-16T07:08:09.682390Z",
     "iopub.status.idle": "2021-09-16T07:08:09.704520Z",
     "shell.execute_reply": "2021-09-16T07:08:09.703237Z",
     "shell.execute_reply.started": "2021-09-16T07:08:09.682702Z"
    }
   },
   "outputs": [
    {
     "data": {
      "text/plain": [
       "gravity            33263\n",
       "nira/tanira        10205\n",
       "other               8102\n",
       "submersible         7772\n",
       "swn 80              4588\n",
       "mono                3628\n",
       "india mark ii       3029\n",
       "afridev             2208\n",
       "rope pump            572\n",
       "other handpump       447\n",
       "wind-powered         152\n",
       "other motorpump      149\n",
       "india mark iii       135\n",
       "Name: extraction_type_group, dtype: int64"
      ]
     },
     "execution_count": 35,
     "metadata": {},
     "output_type": "execute_result"
    }
   ],
   "source": [
    "data['extraction_type_group'].value_counts()"
   ]
  },
  {
   "cell_type": "code",
   "execution_count": 36,
   "metadata": {
    "execution": {
     "iopub.execute_input": "2021-09-16T07:08:09.706976Z",
     "iopub.status.busy": "2021-09-16T07:08:09.706399Z",
     "iopub.status.idle": "2021-09-16T07:08:09.727033Z",
     "shell.execute_reply": "2021-09-16T07:08:09.726265Z",
     "shell.execute_reply.started": "2021-09-16T07:08:09.706919Z"
    }
   },
   "outputs": [
    {
     "data": {
      "text/plain": [
       "gravity         33263\n",
       "handpump        20612\n",
       "other            8102\n",
       "submersible      7772\n",
       "motorpump        3777\n",
       "rope pump         572\n",
       "wind-powered      152\n",
       "Name: extraction_type_class, dtype: int64"
      ]
     },
     "execution_count": 36,
     "metadata": {},
     "output_type": "execute_result"
    }
   ],
   "source": [
    "data['extraction_type_class'].value_counts()"
   ]
  },
  {
   "cell_type": "code",
   "execution_count": 37,
   "metadata": {},
   "outputs": [
    {
     "data": {
      "text/plain": [
       "<AxesSubplot:xlabel='extraction_type_class', ylabel='count'>"
      ]
     },
     "execution_count": 37,
     "metadata": {},
     "output_type": "execute_result"
    },
    {
     "data": {
      "image/png": "[encoded data removed]",
      "text/plain": [
       "<Figure size 1440x576 with 1 Axes>"
      ]
     },
     "metadata": {
      "needs_background": "light"
     },
     "output_type": "display_data"
    }
   ],
   "source": [
    "sns.countplot(x='extraction_type_class', hue=\"status_group\", data=data)"
   ]
  },
  {
   "cell_type": "markdown",
   "metadata": {},
   "source": [
    "# 1.7. waterpoint_type / waterpoint_type_group"
   ]
  },
  {
   "cell_type": "code",
   "execution_count": 38,
   "metadata": {
    "execution": {
     "iopub.execute_input": "2021-09-16T07:08:09.728563Z",
     "iopub.status.busy": "2021-09-16T07:08:09.728119Z",
     "iopub.status.idle": "2021-09-16T07:08:10.158570Z",
     "shell.execute_reply": "2021-09-16T07:08:10.157389Z",
     "shell.execute_reply.started": "2021-09-16T07:08:09.728532Z"
    }
   },
   "outputs": [
    {
     "name": "stderr",
     "output_type": "stream",
     "text": [
      "C:\\ProgramData\\Anaconda3\\lib\\site-packages\\seaborn\\_decorators.py:36: FutureWarning: Pass the following variable as a keyword arg: x. From version 0.12, the only valid positional argument will be `data`, and passing other arguments without an explicit keyword will result in an error or misinterpretation.\n",
      "  warnings.warn(\n",
      "C:\\ProgramData\\Anaconda3\\lib\\site-packages\\seaborn\\_decorators.py:36: FutureWarning: Pass the following variable as a keyword arg: x. From version 0.12, the only valid positional argument will be `data`, and passing other arguments without an explicit keyword will result in an error or misinterpretation.\n",
      "  warnings.warn(\n",
      "<ipython-input-38-b3fff8c33d35>:6: UserWarning: Matplotlib is currently using module://ipykernel.pylab.backend_inline, which is a non-GUI backend, so cannot show the figure.\n",
      "  fig.show()\n"
     ]
    },
    {
     "data": {
      "image/png": "[encoded data removed]",
      "text/plain": [
       "<Figure size 1440x576 with 2 Axes>"
      ]
     },
     "metadata": {
      "needs_background": "light"
     },
     "output_type": "display_data"
    }
   ],
   "source": [
    "plt.rcParams[\"figure.figsize\"] = (20,8)\n",
    "fig, axes = plt.subplots(1, 2)\n",
    "sns.countplot(data.waterpoint_type, x='col1', ax=axes[0], palette = 'Set3', )\n",
    "sns.countplot(data.waterpoint_type_group, x=\"col2\", ax=axes[1], palette = 'Set3')\n",
    "fig.suptitle('waterpoint_type / waterpoint_type_group')\n",
    "fig.show()"
   ]
  },
  {
   "cell_type": "code",
   "execution_count": 39,
   "metadata": {
    "execution": {
     "iopub.execute_input": "2021-09-16T07:08:10.160259Z",
     "iopub.status.busy": "2021-09-16T07:08:10.159884Z",
     "iopub.status.idle": "2021-09-16T07:08:10.176582Z",
     "shell.execute_reply": "2021-09-16T07:08:10.175375Z",
     "shell.execute_reply.started": "2021-09-16T07:08:10.160224Z"
    }
   },
   "outputs": [
    {
     "data": {
      "text/plain": [
       "communal standpipe             35628\n",
       "hand pump                      21884\n",
       "other                           8010\n",
       "communal standpipe multiple     7611\n",
       "improved spring                  959\n",
       "cattle trough                    150\n",
       "dam                                8\n",
       "Name: waterpoint_type, dtype: int64"
      ]
     },
     "execution_count": 39,
     "metadata": {},
     "output_type": "execute_result"
    }
   ],
   "source": [
    "data['waterpoint_type'].value_counts()"
   ]
  },
  {
   "cell_type": "code",
   "execution_count": 40,
   "metadata": {
    "execution": {
     "iopub.execute_input": "2021-09-16T07:08:10.178447Z",
     "iopub.status.busy": "2021-09-16T07:08:10.178139Z",
     "iopub.status.idle": "2021-09-16T07:08:10.199481Z",
     "shell.execute_reply": "2021-09-16T07:08:10.198343Z",
     "shell.execute_reply.started": "2021-09-16T07:08:10.178416Z"
    }
   },
   "outputs": [
    {
     "data": {
      "text/plain": [
       "communal standpipe    43239\n",
       "hand pump             21884\n",
       "other                  8010\n",
       "improved spring         959\n",
       "cattle trough           150\n",
       "dam                       8\n",
       "Name: waterpoint_type_group, dtype: int64"
      ]
     },
     "execution_count": 40,
     "metadata": {},
     "output_type": "execute_result"
    }
   ],
   "source": [
    "data['waterpoint_type_group'].value_counts()"
   ]
  },
  {
   "cell_type": "code",
   "execution_count": 41,
   "metadata": {},
   "outputs": [
    {
     "data": {
      "text/plain": [
       "<AxesSubplot:xlabel='waterpoint_type', ylabel='count'>"
      ]
     },
     "execution_count": 41,
     "metadata": {},
     "output_type": "execute_result"
    },
    {
     "data": {
      "image/png": "[encoded data removed]",
      "text/plain": [
       "<Figure size 1440x576 with 1 Axes>"
      ]
     },
     "metadata": {
      "needs_background": "light"
     },
     "output_type": "display_data"
    }
   ],
   "source": [
    "sns.countplot( data=data, x='waterpoint_type', hue=\"status_group\")"
   ]
  },
  {
   "cell_type": "markdown",
   "metadata": {},
   "source": [
    "# 1.8. recorded_by column"
   ]
  },
  {
   "cell_type": "code",
   "execution_count": 42,
   "metadata": {
    "execution": {
     "iopub.execute_input": "2021-09-16T07:08:10.201367Z",
     "iopub.status.busy": "2021-09-16T07:08:10.200849Z",
     "iopub.status.idle": "2021-09-16T07:08:10.420094Z",
     "shell.execute_reply": "2021-09-16T07:08:10.418898Z",
     "shell.execute_reply.started": "2021-09-16T07:08:10.201331Z"
    }
   },
   "outputs": [
    {
     "name": "stderr",
     "output_type": "stream",
     "text": [
      "C:\\ProgramData\\Anaconda3\\lib\\site-packages\\seaborn\\_decorators.py:36: FutureWarning: Pass the following variable as a keyword arg: x. From version 0.12, the only valid positional argument will be `data`, and passing other arguments without an explicit keyword will result in an error or misinterpretation.\n",
      "  warnings.warn(\n"
     ]
    },
    {
     "data": {
      "text/plain": [
       "GeoData Consultants Ltd    74250\n",
       "Name: recorded_by, dtype: int64"
      ]
     },
     "execution_count": 42,
     "metadata": {},
     "output_type": "execute_result"
    },
    {
     "data": {
      "image/png": "[encoded data removed]",
      "text/plain": [
       "<Figure size 1152x432 with 1 Axes>"
      ]
     },
     "metadata": {
      "needs_background": "light"
     },
     "output_type": "display_data"
    }
   ],
   "source": [
    "data['recorded_by'].value_counts()\n",
    "plt.figure(figsize=(16,6))\n",
    "sns.countplot(data.status_group, palette = 'Set3')\n",
    "data.recorded_by.value_counts()"
   ]
  },
  {
   "cell_type": "markdown",
   "metadata": {},
   "source": [
    "# 1.9 wpt_name / scheme_name"
   ]
  },
  {
   "cell_type": "code",
   "execution_count": 43,
   "metadata": {
    "execution": {
     "iopub.execute_input": "2021-09-16T07:08:10.422175Z",
     "iopub.status.busy": "2021-09-16T07:08:10.421785Z",
     "iopub.status.idle": "2021-09-16T07:08:10.472951Z",
     "shell.execute_reply": "2021-09-16T07:08:10.472173Z",
     "shell.execute_reply.started": "2021-09-16T07:08:10.422142Z"
    }
   },
   "outputs": [
    {
     "data": {
      "text/plain": [
       "none               4440\n",
       "Shuleni            2183\n",
       "Zahanati           1034\n",
       "Msikitini           647\n",
       "Kanisani            390\n",
       "                   ... \n",
       "Nyamanje              1\n",
       "Kiluku                1\n",
       "Kigula                1\n",
       "Kwa Jarid Yasin       1\n",
       "Robert Majebere       1\n",
       "Name: wpt_name, Length: 45684, dtype: int64"
      ]
     },
     "execution_count": 43,
     "metadata": {},
     "output_type": "execute_result"
    }
   ],
   "source": [
    "data['wpt_name'].value_counts()"
   ]
  },
  {
   "cell_type": "code",
   "execution_count": 44,
   "metadata": {
    "execution": {
     "iopub.execute_input": "2021-09-16T07:08:10.474645Z",
     "iopub.status.busy": "2021-09-16T07:08:10.474206Z",
     "iopub.status.idle": "2021-09-16T07:08:10.492255Z",
     "shell.execute_reply": "2021-09-16T07:08:10.491196Z",
     "shell.execute_reply.started": "2021-09-16T07:08:10.474601Z"
    }
   },
   "outputs": [
    {
     "data": {
      "text/plain": [
       "K                              858\n",
       "None                           794\n",
       "Borehole                       704\n",
       "Chalinze wate                  501\n",
       "M                              490\n",
       "                              ... \n",
       "Mese line                        1\n",
       "BL RC                            1\n",
       "REGWA Company of Egypt           1\n",
       "Borehole pump pumped scheme      1\n",
       "Ikuna grwater Scheme             1\n",
       "Name: scheme_name, Length: 2868, dtype: int64"
      ]
     },
     "execution_count": 44,
     "metadata": {},
     "output_type": "execute_result"
    }
   ],
   "source": [
    "data['scheme_name'].value_counts()"
   ]
  },
  {
   "cell_type": "markdown",
   "metadata": {},
   "source": [
    "# 1.10 amount_tsh column"
   ]
  },
  {
   "cell_type": "code",
   "execution_count": 45,
   "metadata": {
    "execution": {
     "iopub.execute_input": "2021-09-16T07:08:10.493882Z",
     "iopub.status.busy": "2021-09-16T07:08:10.493602Z",
     "iopub.status.idle": "2021-09-16T07:08:10.508901Z",
     "shell.execute_reply": "2021-09-16T07:08:10.507574Z",
     "shell.execute_reply.started": "2021-09-16T07:08:10.493855Z"
    }
   },
   "outputs": [
    {
     "data": {
      "text/plain": [
       "0.00         52049\n",
       "500.00        3874\n",
       "50.00         3103\n",
       "1000.00       1858\n",
       "20.00         1812\n",
       "             ...  \n",
       "59.00            1\n",
       "38000.00         1\n",
       "120000.00        1\n",
       "220.00           1\n",
       "0.25             1\n",
       "Name: amount_tsh, Length: 102, dtype: int64"
      ]
     },
     "execution_count": 45,
     "metadata": {},
     "output_type": "execute_result"
    }
   ],
   "source": [
    "data['amount_tsh'].value_counts()"
   ]
  },
  {
   "cell_type": "markdown",
   "metadata": {},
   "source": [
    "# 1.11 num_private column"
   ]
  },
  {
   "cell_type": "code",
   "execution_count": 46,
   "metadata": {
    "execution": {
     "iopub.execute_input": "2021-09-16T07:08:10.510421Z",
     "iopub.status.busy": "2021-09-16T07:08:10.510112Z",
     "iopub.status.idle": "2021-09-16T07:08:10.519601Z",
     "shell.execute_reply": "2021-09-16T07:08:10.518690Z",
     "shell.execute_reply.started": "2021-09-16T07:08:10.510389Z"
    }
   },
   "outputs": [
    {
     "data": {
      "text/plain": [
       "0      73299\n",
       "1         94\n",
       "6         92\n",
       "5         60\n",
       "8         58\n",
       "       ...  \n",
       "420        1\n",
       "35         1\n",
       "30         1\n",
       "672        1\n",
       "62         1\n",
       "Name: num_private, Length: 68, dtype: int64"
      ]
     },
     "execution_count": 46,
     "metadata": {},
     "output_type": "execute_result"
    }
   ],
   "source": [
    "data['num_private'].value_counts()"
   ]
  },
  {
   "cell_type": "markdown",
   "metadata": {},
   "source": [
    "# 1.12 date_recorded column"
   ]
  },
  {
   "cell_type": "code",
   "execution_count": 47,
   "metadata": {
    "execution": {
     "iopub.execute_input": "2021-09-16T07:08:10.521357Z",
     "iopub.status.busy": "2021-09-16T07:08:10.520870Z",
     "iopub.status.idle": "2021-09-16T07:08:10.538506Z",
     "shell.execute_reply": "2021-09-16T07:08:10.537391Z",
     "shell.execute_reply.started": "2021-09-16T07:08:10.521325Z"
    }
   },
   "outputs": [
    {
     "data": {
      "text/plain": [
       "2011-03-17    695\n",
       "2011-03-15    694\n",
       "2013-02-03    684\n",
       "2011-03-16    650\n",
       "2011-03-14    649\n",
       "             ... \n",
       "2011-09-05      1\n",
       "2011-09-22      1\n",
       "2011-09-11      1\n",
       "2011-09-12      1\n",
       "2002-10-14      1\n",
       "Name: date_recorded, Length: 369, dtype: int64"
      ]
     },
     "execution_count": 47,
     "metadata": {},
     "output_type": "execute_result"
    }
   ],
   "source": [
    "data['date_recorded'].value_counts()"
   ]
  },
  {
   "cell_type": "markdown",
   "metadata": {},
   "source": [
    "# 1.13 subvillage column"
   ]
  },
  {
   "cell_type": "code",
   "execution_count": 48,
   "metadata": {
    "execution": {
     "iopub.execute_input": "2021-09-16T07:08:10.540497Z",
     "iopub.status.busy": "2021-09-16T07:08:10.540209Z",
     "iopub.status.idle": "2021-09-16T07:08:10.577558Z",
     "shell.execute_reply": "2021-09-16T07:08:10.576789Z",
     "shell.execute_reply.started": "2021-09-16T07:08:10.540467Z"
    }
   },
   "outputs": [
    {
     "data": {
      "text/plain": [
       "Shuleni            646\n",
       "Majengo            631\n",
       "Madukani           629\n",
       "Kati               467\n",
       "Mtakuja            322\n",
       "                  ... \n",
       "Mazinde Antakae      1\n",
       "Walanga 'B'          1\n",
       "Msapa                1\n",
       "Mbaru                1\n",
       "Daumboy              1\n",
       "Name: subvillage, Length: 21425, dtype: int64"
      ]
     },
     "execution_count": 48,
     "metadata": {},
     "output_type": "execute_result"
    }
   ],
   "source": [
    "data['subvillage'].value_counts()"
   ]
  },
  {
   "cell_type": "markdown",
   "metadata": {},
   "source": [
    "# 1.14 construction_year"
   ]
  },
  {
   "cell_type": "code",
   "execution_count": 49,
   "metadata": {},
   "outputs": [
    {
     "data": {
      "text/plain": [
       "<AxesSubplot:xlabel='construction_year', ylabel='count'>"
      ]
     },
     "execution_count": 49,
     "metadata": {},
     "output_type": "execute_result"
    },
    {
     "data": {
      "image/png": "[encoded data removed]",
      "text/plain": [
       "<Figure size 1440x576 with 1 Axes>"
      ]
     },
     "metadata": {
      "needs_background": "light"
     },
     "output_type": "display_data"
    }
   ],
   "source": [
    "sns.countplot( data=data, x='construction_year', hue=\"status_group\")"
   ]
  },
  {
   "cell_type": "markdown",
   "metadata": {},
   "source": [
    "# Drop Similar Columns"
   ]
  },
  {
   "cell_type": "code",
   "execution_count": 50,
   "metadata": {
    "execution": {
     "iopub.execute_input": "2021-09-16T07:08:10.579056Z",
     "iopub.status.busy": "2021-09-16T07:08:10.578633Z",
     "iopub.status.idle": "2021-09-16T07:08:10.602377Z",
     "shell.execute_reply": "2021-09-16T07:08:10.601159Z",
     "shell.execute_reply.started": "2021-09-16T07:08:10.579021Z"
    }
   },
   "outputs": [],
   "source": [
    "data.drop(columns=['management_group', 'date_recorded', 'scheme_management', 'quantity_group', 'source_class', 'source_type', 'quality_group', 'payment_type', 'extraction_type', 'extraction_type_class', 'waterpoint_type_group', 'recorded_by', 'wpt_name', 'scheme_name', 'num_private', 'subvillage', 'lga','ward'], inplace=True )"
   ]
  },
  {
   "cell_type": "code",
   "execution_count": 51,
   "metadata": {
    "execution": {
     "iopub.execute_input": "2021-09-16T07:08:10.603953Z",
     "iopub.status.busy": "2021-09-16T07:08:10.603678Z",
     "iopub.status.idle": "2021-09-16T07:08:10.671801Z",
     "shell.execute_reply": "2021-09-16T07:08:10.670673Z",
     "shell.execute_reply.started": "2021-09-16T07:08:10.603926Z"
    }
   },
   "outputs": [
    {
     "name": "stdout",
     "output_type": "stream",
     "text": [
      "<class 'pandas.core.frame.DataFrame'>\n",
      "Int64Index: 74250 entries, 0 to 14849\n",
      "Data columns (total 23 columns):\n",
      " #   Column                 Non-Null Count  Dtype  \n",
      "---  ------                 --------------  -----  \n",
      " 0   id                     74250 non-null  int64  \n",
      " 1   amount_tsh             74250 non-null  float64\n",
      " 2   funder                 69746 non-null  object \n",
      " 3   gps_height             74250 non-null  int64  \n",
      " 4   installer              69718 non-null  object \n",
      " 5   longitude              74250 non-null  float64\n",
      " 6   latitude               74250 non-null  float64\n",
      " 7   basin                  74250 non-null  object \n",
      " 8   region                 74250 non-null  object \n",
      " 9   region_code            74250 non-null  int64  \n",
      " 10  district_code          74250 non-null  int64  \n",
      " 11  population             74250 non-null  int64  \n",
      " 12  public_meeting         70095 non-null  object \n",
      " 13  permit                 70457 non-null  object \n",
      " 14  construction_year      74250 non-null  int64  \n",
      " 15  extraction_type_group  74250 non-null  object \n",
      " 16  management             74250 non-null  object \n",
      " 17  payment                74250 non-null  object \n",
      " 18  water_quality          74250 non-null  object \n",
      " 19  quantity               74250 non-null  object \n",
      " 20  source                 74250 non-null  object \n",
      " 21  waterpoint_type        74250 non-null  object \n",
      " 22  status_group           59400 non-null  object \n",
      "dtypes: float64(3), int64(6), object(14)\n",
      "memory usage: 15.6+ MB\n"
     ]
    }
   ],
   "source": [
    "data.info()"
   ]
  },
  {
   "cell_type": "markdown",
   "metadata": {},
   "source": [
    "# 2 Zero Value List\n",
    "* construction_year -> apply non zero median : 2000 for zero values\n",
    "* funder -> replace 'other' for NaN values\n",
    "* installer -> replace 'other' for NaN & zero values, correct some spelling mistakes and syntax in some category\n",
    "* longitude -> replace mean of region's longitude for 0.0000 values \n",
    "* public_meeting -> replace true Nan values \n",
    "* permit -> replace true Nan values "
   ]
  },
  {
   "cell_type": "markdown",
   "metadata": {},
   "source": [
    "# 2.1 construction_year column"
   ]
  },
  {
   "cell_type": "code",
   "execution_count": 52,
   "metadata": {
    "execution": {
     "iopub.execute_input": "2021-09-16T07:08:10.673398Z",
     "iopub.status.busy": "2021-09-16T07:08:10.673097Z",
     "iopub.status.idle": "2021-09-16T07:08:10.681351Z",
     "shell.execute_reply": "2021-09-16T07:08:10.680325Z",
     "shell.execute_reply.started": "2021-09-16T07:08:10.673370Z"
    }
   },
   "outputs": [
    {
     "data": {
      "text/plain": [
       "0       25969\n",
       "2010     3314\n",
       "2008     3243\n",
       "2009     3196\n",
       "2000     2578\n",
       "2007     1960\n",
       "2006     1892\n",
       "2011     1591\n",
       "2003     1579\n",
       "2004     1417\n",
       "2012     1347\n",
       "2002     1343\n",
       "1995     1283\n",
       "2005     1275\n",
       "1978     1267\n",
       "1999     1222\n",
       "1998     1190\n",
       "1985     1177\n",
       "1990     1176\n",
       "1996     1020\n",
       "1980     1005\n",
       "1984      970\n",
       "1994      940\n",
       "1982      926\n",
       "1972      892\n",
       "1997      821\n",
       "1974      814\n",
       "1992      807\n",
       "1993      745\n",
       "2001      680\n",
       "1988      657\n",
       "1983      594\n",
       "1975      561\n",
       "1986      553\n",
       "1976      525\n",
       "1970      493\n",
       "1991      407\n",
       "1989      396\n",
       "1987      370\n",
       "1981      291\n",
       "1977      247\n",
       "1979      245\n",
       "1973      227\n",
       "2013      209\n",
       "1971      177\n",
       "1960      124\n",
       "1963      107\n",
       "1967      106\n",
       "1968       93\n",
       "1969       77\n",
       "1964       48\n",
       "1962       36\n",
       "1961       28\n",
       "1965       21\n",
       "1966       19\n",
       "Name: construction_year, dtype: int64"
      ]
     },
     "execution_count": 52,
     "metadata": {},
     "output_type": "execute_result"
    }
   ],
   "source": [
    "data['construction_year'].value_counts()"
   ]
  },
  {
   "cell_type": "code",
   "execution_count": 53,
   "metadata": {
    "execution": {
     "iopub.execute_input": "2021-09-16T07:08:10.682844Z",
     "iopub.status.busy": "2021-09-16T07:08:10.682419Z",
     "iopub.status.idle": "2021-09-16T07:08:10.699466Z",
     "shell.execute_reply": "2021-09-16T07:08:10.698264Z",
     "shell.execute_reply.started": "2021-09-16T07:08:10.682813Z"
    }
   },
   "outputs": [
    {
     "data": {
      "text/plain": [
       "2000"
      ]
     },
     "execution_count": 53,
     "metadata": {},
     "output_type": "execute_result"
    }
   ],
   "source": [
    "construction_year_medain = int((data['construction_year'].loc[data['construction_year'] != 0]).median())\n",
    "data['construction_year'].replace(to_replace = 0, value = construction_year_medain, inplace=True)\n",
    "construction_year_medain"
   ]
  },
  {
   "cell_type": "markdown",
   "metadata": {},
   "source": [
    "# 2.2 funder column"
   ]
  },
  {
   "cell_type": "code",
   "execution_count": 54,
   "metadata": {
    "execution": {
     "iopub.execute_input": "2021-09-16T07:08:10.701852Z",
     "iopub.status.busy": "2021-09-16T07:08:10.701202Z",
     "iopub.status.idle": "2021-09-16T07:08:10.723940Z",
     "shell.execute_reply": "2021-09-16T07:08:10.722527Z",
     "shell.execute_reply.started": "2021-09-16T07:08:10.701798Z"
    }
   },
   "outputs": [
    {
     "data": {
      "text/plain": [
       "Government Of Tanzania            11299\n",
       "Danida                             3907\n",
       "Hesawa                             2782\n",
       "Rwssp                              1703\n",
       "World Bank                         1701\n",
       "Kkkt                               1623\n",
       "World Vision                       1562\n",
       "Unicef                             1324\n",
       "Tasaf                              1136\n",
       "Dhv                                1065\n",
       "District Council                   1037\n",
       "Private Individual                 1034\n",
       "Dwsp                               1012\n",
       "0                                   980\n",
       "Norad                               949\n",
       "Germany Republi                     765\n",
       "Water                               739\n",
       "Tcrs                                735\n",
       "Ministry Of Water                   728\n",
       "Dwe                                 605\n",
       "Netherlands                         592\n",
       "Hifab                               577\n",
       "Adb                                 551\n",
       "Lga                                 546\n",
       "Amref                               525\n",
       "Fini Water                          474\n",
       "Oxfam                               436\n",
       "Wateraid                            416\n",
       "Rc Church                           410\n",
       "Rudep                               390\n",
       "Isf                                 388\n",
       "Private                             380\n",
       "Mission                             379\n",
       "Jaica                               353\n",
       "Rural Water Supply And Sanitat      338\n",
       "Roman                               336\n",
       "Adra                                327\n",
       "Jica                                317\n",
       "Ces(gmbh)                           316\n",
       "Wsdp                                309\n",
       "Shipo                               301\n",
       "Rc                                  291\n",
       "Finw                                281\n",
       "Dh                                  261\n",
       "Kiliwater                           243\n",
       "Ded                                 237\n",
       "Dmdd                                237\n",
       "Plan Int                            234\n",
       "Lawatefuka Water Supply             229\n",
       "Magadini-makiwaru Water             226\n",
       "Name: funder, dtype: int64"
      ]
     },
     "execution_count": 54,
     "metadata": {},
     "output_type": "execute_result"
    }
   ],
   "source": [
    "data['funder'].value_counts().head(50)"
   ]
  },
  {
   "cell_type": "code",
   "execution_count": 55,
   "metadata": {
    "execution": {
     "iopub.execute_input": "2021-09-16T07:08:10.726918Z",
     "iopub.status.busy": "2021-09-16T07:08:10.726090Z",
     "iopub.status.idle": "2021-09-16T07:08:10.758177Z",
     "shell.execute_reply": "2021-09-16T07:08:10.756807Z",
     "shell.execute_reply.started": "2021-09-16T07:08:10.726871Z"
    }
   },
   "outputs": [
    {
     "data": {
      "text/plain": [
       "funder                       status_group           \n",
       "0                            functional                 445\n",
       "                             functional needs repair      3\n",
       "                             non functional             329\n",
       "A/co Germany                 functional                   7\n",
       "                             functional needs repair      1\n",
       "                             non functional               7\n",
       "Aar                          functional                  22\n",
       "                             functional needs repair      4\n",
       "                             non functional               7\n",
       "Abas Ka                      functional                   1\n",
       "Abasia                       functional                  36\n",
       "                             functional needs repair      2\n",
       "                             non functional               5\n",
       "Abc-ihushi Development Cent  non functional               1\n",
       "Abd                          functional                   5\n",
       "                             non functional               2\n",
       "Abdala                       non functional               1\n",
       "Abddwe                       functional                   1\n",
       "Abdul                        non functional               1\n",
       "Abood                        non functional               2\n",
       "Abs                          functional                   1\n",
       "Aco/germany                  functional                  12\n",
       "                             functional needs repair      1\n",
       "Acord                        functional                   1\n",
       "                             non functional               2\n",
       "Acord Ngo                    functional needs repair      1\n",
       "                             non functional               1\n",
       "Acra                         functional                  46\n",
       "Act                          functional                   1\n",
       "Act Mara                     functional                   1\n",
       "Action Aid                   functional                   5\n",
       "                             non functional               3\n",
       "Action Contre La Faim        functional                   7\n",
       "                             non functional               2\n",
       "Action In A                  functional                   1\n",
       "Adap                         functional                   1\n",
       "                             non functional               3\n",
       "Adb                          functional                 341\n",
       "                             functional needs repair     20\n",
       "                             non functional              87\n",
       "Adf                          functional                   3\n",
       "                             non functional               3\n",
       "Adp                          functional                   8\n",
       "                             non functional              17\n",
       "Adp Bungu                    functional                   2\n",
       "Adp Mombo                    functional                   7\n",
       "                             non functional               7\n",
       "Adp/w                        functional                   2\n",
       "Adra                         functional                 113\n",
       "                             functional needs repair      2\n",
       "dtype: int64"
      ]
     },
     "execution_count": 55,
     "metadata": {},
     "output_type": "execute_result"
    }
   ],
   "source": [
    "data.groupby(['funder','status_group']).size().head(50)"
   ]
  },
  {
   "cell_type": "code",
   "execution_count": 56,
   "metadata": {
    "execution": {
     "iopub.execute_input": "2021-09-16T07:08:10.760362Z",
     "iopub.status.busy": "2021-09-16T07:08:10.759898Z",
     "iopub.status.idle": "2021-09-16T07:08:11.269258Z",
     "shell.execute_reply": "2021-09-16T07:08:11.268000Z",
     "shell.execute_reply.started": "2021-09-16T07:08:10.760311Z"
    }
   },
   "outputs": [
    {
     "data": {
      "text/plain": [
       "Text(0.5, 1.0, 'funder / status_group for most 15 frequence values')"
      ]
     },
     "execution_count": 56,
     "metadata": {},
     "output_type": "execute_result"
    },
    {
     "data": {
      "image/png": "[encoded data removed]",
      "text/plain": [
       "<Figure size 1872x864 with 1 Axes>"
      ]
     },
     "metadata": {
      "needs_background": "light"
     },
     "output_type": "display_data"
    }
   ],
   "source": [
    "\n",
    "plt.figure(figsize=(26,12))\n",
    "sns.countplot(data=data, x='funder', hue=\"status_group\", order=data.funder.value_counts().iloc[:15].index)\n",
    "plt.title('funder / status_group for most 15 frequence values')"
   ]
  },
  {
   "cell_type": "markdown",
   "metadata": {},
   "source": [
    "most of the water points which funded by government are non-functional"
   ]
  },
  {
   "cell_type": "code",
   "execution_count": 57,
   "metadata": {
    "execution": {
     "iopub.execute_input": "2021-09-16T07:08:11.270969Z",
     "iopub.status.busy": "2021-09-16T07:08:11.270657Z",
     "iopub.status.idle": "2021-09-16T07:08:11.280659Z",
     "shell.execute_reply": "2021-09-16T07:08:11.279355Z",
     "shell.execute_reply.started": "2021-09-16T07:08:11.270939Z"
    }
   },
   "outputs": [],
   "source": [
    "data[\"funder\"].fillna(\"other\", inplace=True)"
   ]
  },
  {
   "cell_type": "markdown",
   "metadata": {},
   "source": [
    "# 2.3 installer column"
   ]
  },
  {
   "cell_type": "code",
   "execution_count": 58,
   "metadata": {
    "execution": {
     "iopub.execute_input": "2021-09-16T07:08:11.282878Z",
     "iopub.status.busy": "2021-09-16T07:08:11.282502Z",
     "iopub.status.idle": "2021-09-16T07:08:11.305173Z",
     "shell.execute_reply": "2021-09-16T07:08:11.304129Z",
     "shell.execute_reply.started": "2021-09-16T07:08:11.282831Z"
    }
   },
   "outputs": [
    {
     "data": {
      "text/plain": [
       "DWE                           21751\n",
       "Government                     2282\n",
       "RWE                            1498\n",
       "Commu                          1347\n",
       "DANIDA                         1305\n",
       "KKKT                           1120\n",
       "Hesawa                         1070\n",
       "0                               980\n",
       "TCRS                            887\n",
       "CES                             765\n",
       "Central government              764\n",
       "DANID                           690\n",
       "Community                       687\n",
       "HESAWA                          679\n",
       "District Council                663\n",
       "World vision                    517\n",
       "TASAF                           504\n",
       "LGA                             501\n",
       "WEDECO                          496\n",
       "District council                490\n",
       "Gover                           483\n",
       "AMREF                           398\n",
       "TWESA                           395\n",
       "WU                              377\n",
       "Dmdd                            356\n",
       "ACRA                            346\n",
       "World Vision                    326\n",
       "SEMA                            311\n",
       "DW                              308\n",
       "OXFAM                           288\n",
       "Da                              287\n",
       "UNICEF                          285\n",
       "Gove                            276\n",
       "Kiliwater                       271\n",
       "FinW                            267\n",
       "Villagers                       262\n",
       "NORAD                           260\n",
       "Sengerema Water Department      258\n",
       "Idara ya maji                   254\n",
       "DH                              246\n",
       "DWSP                            239\n",
       "Lawatefuka water sup            229\n",
       "Magadini-Makiwaru wa            226\n",
       "Distri                          224\n",
       "RC                              219\n",
       "FW                              214\n",
       "KKKT _ Konde and DWE            209\n",
       "Handeni Trunk Main(             208\n",
       "WVT                             206\n",
       "MWE                             198\n",
       "Name: installer, dtype: int64"
      ]
     },
     "execution_count": 58,
     "metadata": {},
     "output_type": "execute_result"
    }
   ],
   "source": [
    "data['installer'].value_counts().head(50)"
   ]
  },
  {
   "cell_type": "code",
   "execution_count": 59,
   "metadata": {
    "execution": {
     "iopub.execute_input": "2021-09-16T07:08:11.307015Z",
     "iopub.status.busy": "2021-09-16T07:08:11.306692Z",
     "iopub.status.idle": "2021-09-16T07:08:11.317893Z",
     "shell.execute_reply": "2021-09-16T07:08:11.316783Z",
     "shell.execute_reply.started": "2021-09-16T07:08:11.306956Z"
    }
   },
   "outputs": [],
   "source": [
    "installer_map = [[ ['District Water Department', 'District water depar','Distric Water Department'], 'District water department' ],\n",
    "                 [['JAICA'],'Jaica'],\n",
    "                 [['FinW','Fini water','FINI WATER'],'Fini Water'],\n",
    "                 [['RC CHURCH', 'RC Churc', 'RC','RC Ch','RC C', 'RC CH','RC church','RC CATHORIC'],'RC Church'],\n",
    "                 [['World vision', 'World Division','World Vision'],'world vision'],\n",
    "                 [['COUN', 'District COUNCIL', 'DISTRICT COUNCIL','District Counci', \n",
    "                                      'District Council','Council','Counc','District  Council','Distri'],'District council'],\n",
    "                 [['DANID'],'DANIDA'],\n",
    "                 [['Hesawa'],'HESAWA'],\n",
    "                 [['Central Government','Tanzania Government','central government','Cental Government', 'Cebtral Government', \n",
    "                                      'Tanzanian Government','Tanzania government', 'Centra Government' ,\n",
    "                                      'CENTRAL GOVERNMENT', 'TANZANIAN GOVERNMENT','Central govt', 'Centr', \n",
    "                                      'Centra govt'],'Central government'],\n",
    "                 [['Unisef','UNICEF'],'Unicef'],\n",
    "                 [['villigers', 'villager', 'Villagers', 'Villa', 'Village', 'Villi', \n",
    "                                      'Village Council','Village Counil', 'Villages', 'Vill', 'Village community', \n",
    "                                      'Villaers', 'Village Community', 'Villag','Villege Council', 'Village council',\n",
    "                                      'Village  Council','Villagerd', 'Villager', 'Village Technician',\n",
    "                                      'Village Office','Village community members'],'villagers'],\n",
    "                 [['GOVERNMENT', 'GOVER', 'GOVERNME', 'GOVERM','GOVERN','Gover','Gove',\n",
    "                                      'Governme','Governmen'],'Government'],\n",
    "                 [['Commu','Communit','commu','COMMU', 'COMMUNITY'],'Community']\n",
    "\n",
    "                ]"
   ]
  },
  {
   "cell_type": "code",
   "execution_count": 60,
   "metadata": {
    "execution": {
     "iopub.execute_input": "2021-09-16T07:08:11.320228Z",
     "iopub.status.busy": "2021-09-16T07:08:11.319665Z",
     "iopub.status.idle": "2021-09-16T07:08:11.526187Z",
     "shell.execute_reply": "2021-09-16T07:08:11.525007Z",
     "shell.execute_reply.started": "2021-09-16T07:08:11.320176Z"
    }
   },
   "outputs": [],
   "source": [
    "for installer_map_data in installer_map:\n",
    "    data['installer'].replace(to_replace = installer_map_data[0], value =installer_map_data[1] , inplace=True)"
   ]
  },
  {
   "cell_type": "code",
   "execution_count": 61,
   "metadata": {
    "execution": {
     "iopub.execute_input": "2021-09-16T07:08:11.528016Z",
     "iopub.status.busy": "2021-09-16T07:08:11.527663Z",
     "iopub.status.idle": "2021-09-16T07:08:11.539006Z",
     "shell.execute_reply": "2021-09-16T07:08:11.538148Z",
     "shell.execute_reply.started": "2021-09-16T07:08:11.527965Z"
    }
   },
   "outputs": [],
   "source": [
    "\n",
    "data['installer'].fillna(value='other',inplace=True)\n",
    "data['installer'].replace(to_replace = '0', value ='other' , inplace=True)"
   ]
  },
  {
   "cell_type": "code",
   "execution_count": 62,
   "metadata": {
    "execution": {
     "iopub.execute_input": "2021-09-16T07:08:11.540314Z",
     "iopub.status.busy": "2021-09-16T07:08:11.539973Z",
     "iopub.status.idle": "2021-09-16T07:08:11.563413Z",
     "shell.execute_reply": "2021-09-16T07:08:11.562043Z",
     "shell.execute_reply.started": "2021-09-16T07:08:11.540282Z"
    }
   },
   "outputs": [
    {
     "data": {
      "text/plain": [
       "DWE                   21751\n",
       "other                  5512\n",
       "Government             3337\n",
       "Community              2112\n",
       "DANIDA                 1995\n",
       "HESAWA                 1749\n",
       "RWE                    1498\n",
       "District council       1449\n",
       "Central government     1359\n",
       "KKKT                   1120\n",
       "TCRS                    887\n",
       "world vision            846\n",
       "CES                     765\n",
       "Fini Water              732\n",
       "RC Church               586\n",
       "villagers               514\n",
       "TASAF                   504\n",
       "LGA                     501\n",
       "WEDECO                  496\n",
       "Unicef                  421\n",
       "Name: installer, dtype: int64"
      ]
     },
     "execution_count": 62,
     "metadata": {},
     "output_type": "execute_result"
    }
   ],
   "source": [
    "data['installer'].value_counts().head(20)"
   ]
  },
  {
   "cell_type": "code",
   "execution_count": 63,
   "metadata": {
    "execution": {
     "iopub.execute_input": "2021-09-16T07:08:11.565532Z",
     "iopub.status.busy": "2021-09-16T07:08:11.565060Z",
     "iopub.status.idle": "2021-09-16T07:08:12.071660Z",
     "shell.execute_reply": "2021-09-16T07:08:12.070577Z",
     "shell.execute_reply.started": "2021-09-16T07:08:11.565482Z"
    }
   },
   "outputs": [
    {
     "data": {
      "text/plain": [
       "Text(0.5, 1.0, 'installer / status_group for most 15 frequence values')"
      ]
     },
     "execution_count": 63,
     "metadata": {},
     "output_type": "execute_result"
    },
    {
     "data": {
      "image/png": "[encoded data removed]",
      "text/plain": [
       "<Figure size 1872x864 with 1 Axes>"
      ]
     },
     "metadata": {
      "needs_background": "light"
     },
     "output_type": "display_data"
    }
   ],
   "source": [
    "plt.figure(figsize=(26,12))\n",
    "sns.countplot(data=data, x='installer', hue=\"status_group\", order=data.installer.value_counts().iloc[:15].index)\n",
    "plt.title('installer / status_group for most 15 frequence values')"
   ]
  },
  {
   "cell_type": "markdown",
   "metadata": {},
   "source": [
    "DWE : has most functional wells and non functional wells\n",
    "\n",
    "government, central government, district council, RWE, Fini Water : have most non functional wells"
   ]
  },
  {
   "cell_type": "markdown",
   "metadata": {},
   "source": [
    "# 2.4 longitude / latitude column"
   ]
  },
  {
   "cell_type": "code",
   "execution_count": 64,
   "metadata": {
    "execution": {
     "iopub.execute_input": "2021-09-16T07:08:12.073501Z",
     "iopub.status.busy": "2021-09-16T07:08:12.073184Z",
     "iopub.status.idle": "2021-09-16T07:08:12.081261Z",
     "shell.execute_reply": "2021-09-16T07:08:12.079954Z",
     "shell.execute_reply.started": "2021-09-16T07:08:12.073466Z"
    }
   },
   "outputs": [],
   "source": [
    "data['longitude'].replace(0.0, np.nan, inplace=True)\n",
    "data['latitude'].replace(0.0, np.nan, inplace=True)"
   ]
  },
  {
   "cell_type": "code",
   "execution_count": 65,
   "metadata": {
    "execution": {
     "iopub.execute_input": "2021-09-16T07:08:12.083214Z",
     "iopub.status.busy": "2021-09-16T07:08:12.082782Z",
     "iopub.status.idle": "2021-09-16T07:08:12.093861Z",
     "shell.execute_reply": "2021-09-16T07:08:12.092781Z",
     "shell.execute_reply.started": "2021-09-16T07:08:12.083172Z"
    }
   },
   "outputs": [
    {
     "data": {
      "text/plain": [
       "2269"
      ]
     },
     "execution_count": 65,
     "metadata": {},
     "output_type": "execute_result"
    }
   ],
   "source": [
    "data['longitude'].isnull().sum()"
   ]
  },
  {
   "cell_type": "code",
   "execution_count": 66,
   "metadata": {
    "execution": {
     "iopub.execute_input": "2021-09-16T07:08:12.095631Z",
     "iopub.status.busy": "2021-09-16T07:08:12.095281Z",
     "iopub.status.idle": "2021-09-16T07:08:12.108214Z",
     "shell.execute_reply": "2021-09-16T07:08:12.107087Z",
     "shell.execute_reply.started": "2021-09-16T07:08:12.095597Z"
    }
   },
   "outputs": [
    {
     "data": {
      "text/plain": [
       "0"
      ]
     },
     "execution_count": 66,
     "metadata": {},
     "output_type": "execute_result"
    }
   ],
   "source": [
    "data['latitude'].isnull().sum()"
   ]
  },
  {
   "cell_type": "code",
   "execution_count": 67,
   "metadata": {
    "execution": {
     "iopub.execute_input": "2021-09-16T07:08:12.110169Z",
     "iopub.status.busy": "2021-09-16T07:08:12.109843Z",
     "iopub.status.idle": "2021-09-16T07:08:12.129441Z",
     "shell.execute_reply": "2021-09-16T07:08:12.128149Z",
     "shell.execute_reply.started": "2021-09-16T07:08:12.110139Z"
    }
   },
   "outputs": [
    {
     "data": {
      "text/html": [
       "<div>\n",
       "<style scoped>\n",
       "    .dataframe tbody tr th:only-of-type {\n",
       "        vertical-align: middle;\n",
       "    }\n",
       "\n",
       "    .dataframe tbody tr th {\n",
       "        vertical-align: top;\n",
       "    }\n",
       "\n",
       "    .dataframe thead th {\n",
       "        text-align: right;\n",
       "    }\n",
       "</style>\n",
       "<table border=\"1\" class=\"dataframe\">\n",
       "  <thead>\n",
       "    <tr style=\"text-align: right;\">\n",
       "      <th></th>\n",
       "      <th>longitude</th>\n",
       "    </tr>\n",
       "    <tr>\n",
       "      <th>region_code</th>\n",
       "      <th></th>\n",
       "    </tr>\n",
       "  </thead>\n",
       "  <tbody>\n",
       "    <tr>\n",
       "      <th>1</th>\n",
       "      <td>36.041964</td>\n",
       "    </tr>\n",
       "    <tr>\n",
       "      <th>2</th>\n",
       "      <td>36.650754</td>\n",
       "    </tr>\n",
       "    <tr>\n",
       "      <th>3</th>\n",
       "      <td>37.505459</td>\n",
       "    </tr>\n",
       "    <tr>\n",
       "      <th>4</th>\n",
       "      <td>38.519192</td>\n",
       "    </tr>\n",
       "    <tr>\n",
       "      <th>5</th>\n",
       "      <td>37.047846</td>\n",
       "    </tr>\n",
       "  </tbody>\n",
       "</table>\n",
       "</div>"
      ],
      "text/plain": [
       "             longitude\n",
       "region_code           \n",
       "1            36.041964\n",
       "2            36.650754\n",
       "3            37.505459\n",
       "4            38.519192\n",
       "5            37.047846"
      ]
     },
     "execution_count": 67,
     "metadata": {},
     "output_type": "execute_result"
    }
   ],
   "source": [
    "data.groupby('region_code')[['longitude']].mean().head()"
   ]
  },
  {
   "cell_type": "code",
   "execution_count": 68,
   "metadata": {
    "execution": {
     "iopub.execute_input": "2021-09-16T07:08:12.131154Z",
     "iopub.status.busy": "2021-09-16T07:08:12.130829Z",
     "iopub.status.idle": "2021-09-16T07:08:12.488290Z",
     "shell.execute_reply": "2021-09-16T07:08:12.487226Z",
     "shell.execute_reply.started": "2021-09-16T07:08:12.131114Z"
    }
   },
   "outputs": [],
   "source": [
    "data[\"longitude\"].fillna(data.groupby(\"region_code\").transform(lambda x: x.fillna(x.mean())).longitude, inplace=True)"
   ]
  },
  {
   "cell_type": "code",
   "execution_count": 69,
   "metadata": {
    "execution": {
     "iopub.execute_input": "2021-09-16T07:08:12.490311Z",
     "iopub.status.busy": "2021-09-16T07:08:12.489835Z",
     "iopub.status.idle": "2021-09-16T07:08:12.499110Z",
     "shell.execute_reply": "2021-09-16T07:08:12.497907Z",
     "shell.execute_reply.started": "2021-09-16T07:08:12.490263Z"
    }
   },
   "outputs": [
    {
     "data": {
      "text/plain": [
       "0"
      ]
     },
     "execution_count": 69,
     "metadata": {},
     "output_type": "execute_result"
    }
   ],
   "source": [
    "data['longitude'].isnull().sum()"
   ]
  },
  {
   "cell_type": "code",
   "execution_count": 70,
   "metadata": {},
   "outputs": [
    {
     "data": {
      "text/plain": [
       "<AxesSubplot:xlabel='region', ylabel='count'>"
      ]
     },
     "execution_count": 70,
     "metadata": {},
     "output_type": "execute_result"
    },
    {
     "data": {
      "image/png": "[encoded data removed]",
      "text/plain": [
       "<Figure size 1440x576 with 1 Axes>"
      ]
     },
     "metadata": {
      "needs_background": "light"
     },
     "output_type": "display_data"
    }
   ],
   "source": [
    "sns.countplot(x='region', hue=\"status_group\", data=data)"
   ]
  },
  {
   "cell_type": "markdown",
   "metadata": {},
   "source": [
    "# 2.5 gps_height column"
   ]
  },
  {
   "cell_type": "code",
   "execution_count": 71,
   "metadata": {
    "execution": {
     "iopub.execute_input": "2021-09-16T07:08:12.500677Z",
     "iopub.status.busy": "2021-09-16T07:08:12.500339Z",
     "iopub.status.idle": "2021-09-16T07:08:12.518168Z",
     "shell.execute_reply": "2021-09-16T07:08:12.516445Z",
     "shell.execute_reply.started": "2021-09-16T07:08:12.500643Z"
    }
   },
   "outputs": [
    {
     "data": {
      "text/plain": [
       " 0       25649\n",
       "-16         71\n",
       "-15         69\n",
       "-13         68\n",
       "-19         65\n",
       "         ...  \n",
       " 2353        1\n",
       " 2417        1\n",
       " 2545        1\n",
       " 2416        1\n",
       " 2285        1\n",
       "Name: gps_height, Length: 2456, dtype: int64"
      ]
     },
     "execution_count": 71,
     "metadata": {},
     "output_type": "execute_result"
    }
   ],
   "source": [
    "data['gps_height'].value_counts()"
   ]
  },
  {
   "cell_type": "markdown",
   "metadata": {},
   "source": [
    "# 2.6 permit column"
   ]
  },
  {
   "cell_type": "code",
   "execution_count": 72,
   "metadata": {
    "execution": {
     "iopub.execute_input": "2021-09-16T07:08:12.520439Z",
     "iopub.status.busy": "2021-09-16T07:08:12.519943Z",
     "iopub.status.idle": "2021-09-16T07:08:12.538737Z",
     "shell.execute_reply": "2021-09-16T07:08:12.537592Z",
     "shell.execute_reply.started": "2021-09-16T07:08:12.520383Z"
    }
   },
   "outputs": [
    {
     "data": {
      "text/plain": [
       "True     48606\n",
       "False    21851\n",
       "Name: permit, dtype: int64"
      ]
     },
     "execution_count": 72,
     "metadata": {},
     "output_type": "execute_result"
    }
   ],
   "source": [
    "data['permit'].value_counts()"
   ]
  },
  {
   "cell_type": "code",
   "execution_count": 73,
   "metadata": {
    "execution": {
     "iopub.execute_input": "2021-09-16T07:08:12.540529Z",
     "iopub.status.busy": "2021-09-16T07:08:12.540194Z",
     "iopub.status.idle": "2021-09-16T07:08:12.557260Z",
     "shell.execute_reply": "2021-09-16T07:08:12.556276Z",
     "shell.execute_reply.started": "2021-09-16T07:08:12.540494Z"
    }
   },
   "outputs": [],
   "source": [
    "data['permit'].fillna(value=True, inplace=True)"
   ]
  },
  {
   "cell_type": "code",
   "execution_count": 74,
   "metadata": {
    "execution": {
     "iopub.execute_input": "2021-09-16T07:08:12.558936Z",
     "iopub.status.busy": "2021-09-16T07:08:12.558560Z",
     "iopub.status.idle": "2021-09-16T07:08:12.571408Z",
     "shell.execute_reply": "2021-09-16T07:08:12.570329Z",
     "shell.execute_reply.started": "2021-09-16T07:08:12.558898Z"
    }
   },
   "outputs": [
    {
     "data": {
      "text/plain": [
       "0        False\n",
       "1         True\n",
       "2         True\n",
       "3         True\n",
       "4         True\n",
       "         ...  \n",
       "14845     True\n",
       "14846    False\n",
       "14847     True\n",
       "14848     True\n",
       "14849     True\n",
       "Name: permit, Length: 74250, dtype: bool"
      ]
     },
     "execution_count": 74,
     "metadata": {},
     "output_type": "execute_result"
    }
   ],
   "source": [
    "data['permit']"
   ]
  },
  {
   "cell_type": "code",
   "execution_count": 75,
   "metadata": {
    "execution": {
     "iopub.execute_input": "2021-09-16T07:08:12.573531Z",
     "iopub.status.busy": "2021-09-16T07:08:12.573091Z",
     "iopub.status.idle": "2021-09-16T07:08:12.585904Z",
     "shell.execute_reply": "2021-09-16T07:08:12.584947Z",
     "shell.execute_reply.started": "2021-09-16T07:08:12.573477Z"
    }
   },
   "outputs": [],
   "source": [
    "data.permit = data.permit.astype(bool).astype(int)"
   ]
  },
  {
   "cell_type": "code",
   "execution_count": 76,
   "metadata": {
    "execution": {
     "iopub.execute_input": "2021-09-16T07:08:12.587489Z",
     "iopub.status.busy": "2021-09-16T07:08:12.587147Z",
     "iopub.status.idle": "2021-09-16T07:08:12.598732Z",
     "shell.execute_reply": "2021-09-16T07:08:12.597923Z",
     "shell.execute_reply.started": "2021-09-16T07:08:12.587453Z"
    }
   },
   "outputs": [
    {
     "data": {
      "text/plain": [
       "0        0\n",
       "1        1\n",
       "2        1\n",
       "3        1\n",
       "4        1\n",
       "        ..\n",
       "14845    1\n",
       "14846    0\n",
       "14847    1\n",
       "14848    1\n",
       "14849    1\n",
       "Name: permit, Length: 74250, dtype: int32"
      ]
     },
     "execution_count": 76,
     "metadata": {},
     "output_type": "execute_result"
    }
   ],
   "source": [
    "data['permit']"
   ]
  },
  {
   "cell_type": "markdown",
   "metadata": {},
   "source": [
    "# 2.7 public_meeting column"
   ]
  },
  {
   "cell_type": "code",
   "execution_count": 77,
   "metadata": {
    "execution": {
     "iopub.execute_input": "2021-09-16T07:08:12.605578Z",
     "iopub.status.busy": "2021-09-16T07:08:12.604851Z",
     "iopub.status.idle": "2021-09-16T07:08:12.623386Z",
     "shell.execute_reply": "2021-09-16T07:08:12.621264Z",
     "shell.execute_reply.started": "2021-09-16T07:08:12.605531Z"
    }
   },
   "outputs": [
    {
     "data": {
      "text/plain": [
       "True     63749\n",
       "False     6346\n",
       "Name: public_meeting, dtype: int64"
      ]
     },
     "execution_count": 77,
     "metadata": {},
     "output_type": "execute_result"
    }
   ],
   "source": [
    "data['public_meeting'].value_counts()"
   ]
  },
  {
   "cell_type": "code",
   "execution_count": 78,
   "metadata": {
    "execution": {
     "iopub.execute_input": "2021-09-16T07:08:12.627555Z",
     "iopub.status.busy": "2021-09-16T07:08:12.626641Z",
     "iopub.status.idle": "2021-09-16T07:08:12.651985Z",
     "shell.execute_reply": "2021-09-16T07:08:12.651030Z",
     "shell.execute_reply.started": "2021-09-16T07:08:12.627437Z"
    }
   },
   "outputs": [],
   "source": [
    "data['public_meeting'].fillna(value=True,inplace=True)"
   ]
  },
  {
   "cell_type": "code",
   "execution_count": 79,
   "metadata": {
    "execution": {
     "iopub.execute_input": "2021-09-16T07:08:12.654097Z",
     "iopub.status.busy": "2021-09-16T07:08:12.653416Z",
     "iopub.status.idle": "2021-09-16T07:08:12.666311Z",
     "shell.execute_reply": "2021-09-16T07:08:12.665134Z",
     "shell.execute_reply.started": "2021-09-16T07:08:12.654037Z"
    }
   },
   "outputs": [
    {
     "data": {
      "text/plain": [
       "0        True\n",
       "1        True\n",
       "2        True\n",
       "3        True\n",
       "4        True\n",
       "         ... \n",
       "14845    True\n",
       "14846    True\n",
       "14847    True\n",
       "14848    True\n",
       "14849    True\n",
       "Name: public_meeting, Length: 74250, dtype: bool"
      ]
     },
     "execution_count": 79,
     "metadata": {},
     "output_type": "execute_result"
    }
   ],
   "source": [
    "data['public_meeting']"
   ]
  },
  {
   "cell_type": "code",
   "execution_count": 80,
   "metadata": {
    "execution": {
     "iopub.execute_input": "2021-09-16T07:08:12.668983Z",
     "iopub.status.busy": "2021-09-16T07:08:12.668204Z",
     "iopub.status.idle": "2021-09-16T07:08:12.676028Z",
     "shell.execute_reply": "2021-09-16T07:08:12.674711Z",
     "shell.execute_reply.started": "2021-09-16T07:08:12.668726Z"
    }
   },
   "outputs": [],
   "source": [
    "data.public_meeting  = data.public_meeting.astype(bool).astype(int)"
   ]
  },
  {
   "cell_type": "code",
   "execution_count": 81,
   "metadata": {
    "execution": {
     "iopub.execute_input": "2021-09-16T07:08:12.678087Z",
     "iopub.status.busy": "2021-09-16T07:08:12.677592Z",
     "iopub.status.idle": "2021-09-16T07:08:12.694728Z",
     "shell.execute_reply": "2021-09-16T07:08:12.693376Z",
     "shell.execute_reply.started": "2021-09-16T07:08:12.678032Z"
    }
   },
   "outputs": [
    {
     "data": {
      "text/plain": [
       "0        1\n",
       "1        1\n",
       "2        1\n",
       "3        1\n",
       "4        1\n",
       "        ..\n",
       "14845    1\n",
       "14846    1\n",
       "14847    1\n",
       "14848    1\n",
       "14849    1\n",
       "Name: public_meeting, Length: 74250, dtype: int32"
      ]
     },
     "execution_count": 81,
     "metadata": {},
     "output_type": "execute_result"
    }
   ],
   "source": [
    "data['public_meeting']"
   ]
  },
  {
   "cell_type": "markdown",
   "metadata": {},
   "source": [
    "# 2.8 basin column"
   ]
  },
  {
   "cell_type": "code",
   "execution_count": 82,
   "metadata": {
    "execution": {
     "iopub.execute_input": "2021-09-16T07:08:12.697523Z",
     "iopub.status.busy": "2021-09-16T07:08:12.697027Z",
     "iopub.status.idle": "2021-09-16T07:08:12.715788Z",
     "shell.execute_reply": "2021-09-16T07:08:12.714488Z",
     "shell.execute_reply.started": "2021-09-16T07:08:12.697468Z"
    }
   },
   "outputs": [
    {
     "data": {
      "text/plain": [
       "Lake Victoria              12871\n",
       "Pangani                    11143\n",
       "Rufiji                      9987\n",
       "Internal                    9642\n",
       "Lake Tanganyika             8052\n",
       "Wami / Ruvu                 7577\n",
       "Lake Nyasa                  6332\n",
       "Ruvuma / Southern Coast     5587\n",
       "Lake Rukwa                  3059\n",
       "Name: basin, dtype: int64"
      ]
     },
     "execution_count": 82,
     "metadata": {},
     "output_type": "execute_result"
    }
   ],
   "source": [
    "data['basin'].value_counts()"
   ]
  },
  {
   "cell_type": "markdown",
   "metadata": {},
   "source": [
    "# 2.9 population column"
   ]
  },
  {
   "cell_type": "code",
   "execution_count": 83,
   "metadata": {
    "execution": {
     "iopub.execute_input": "2021-09-16T07:08:12.717588Z",
     "iopub.status.busy": "2021-09-16T07:08:12.717268Z",
     "iopub.status.idle": "2021-09-16T07:08:12.730357Z",
     "shell.execute_reply": "2021-09-16T07:08:12.729065Z",
     "shell.execute_reply.started": "2021-09-16T07:08:12.717554Z"
    }
   },
   "outputs": [
    {
     "data": {
      "text/plain": [
       "0       26834\n",
       "1        8782\n",
       "200      2370\n",
       "150      2328\n",
       "250      2087\n",
       "        ...  \n",
       "8500        1\n",
       "2353        1\n",
       "4210        1\n",
       "1177        1\n",
       "895         1\n",
       "Name: population, Length: 1128, dtype: int64"
      ]
     },
     "execution_count": 83,
     "metadata": {},
     "output_type": "execute_result"
    }
   ],
   "source": [
    "data['population'].value_counts()"
   ]
  },
  {
   "cell_type": "code",
   "execution_count": 84,
   "metadata": {
    "execution": {
     "iopub.execute_input": "2021-09-16T07:08:12.733417Z",
     "iopub.status.busy": "2021-09-16T07:08:12.733044Z",
     "iopub.status.idle": "2021-09-16T07:08:12.745668Z",
     "shell.execute_reply": "2021-09-16T07:08:12.744502Z",
     "shell.execute_reply.started": "2021-09-16T07:08:12.733383Z"
    }
   },
   "outputs": [
    {
     "data": {
      "text/plain": [
       "283"
      ]
     },
     "execution_count": 84,
     "metadata": {},
     "output_type": "execute_result"
    }
   ],
   "source": [
    "population_mean = int((data['population'].loc[data['population'] != 0]).mean())\n",
    "data['population'].replace(to_replace = 0, value = population_mean, inplace=True)\n",
    "population_mean"
   ]
  },
  {
   "cell_type": "code",
   "execution_count": 85,
   "metadata": {
    "execution": {
     "iopub.execute_input": "2021-09-16T07:08:12.747435Z",
     "iopub.status.busy": "2021-09-16T07:08:12.747112Z",
     "iopub.status.idle": "2021-09-16T07:08:12.801670Z",
     "shell.execute_reply": "2021-09-16T07:08:12.800386Z",
     "shell.execute_reply.started": "2021-09-16T07:08:12.747401Z"
    }
   },
   "outputs": [
    {
     "data": {
      "text/plain": [
       "id                           0\n",
       "amount_tsh                   0\n",
       "funder                       0\n",
       "gps_height                   0\n",
       "installer                    0\n",
       "longitude                    0\n",
       "latitude                     0\n",
       "basin                        0\n",
       "region                       0\n",
       "region_code                  0\n",
       "district_code                0\n",
       "population                   0\n",
       "public_meeting               0\n",
       "permit                       0\n",
       "construction_year            0\n",
       "extraction_type_group        0\n",
       "management                   0\n",
       "payment                      0\n",
       "water_quality                0\n",
       "quantity                     0\n",
       "source                       0\n",
       "waterpoint_type              0\n",
       "status_group             14850\n",
       "dtype: int64"
      ]
     },
     "execution_count": 85,
     "metadata": {},
     "output_type": "execute_result"
    }
   ],
   "source": [
    "data.isnull().sum()"
   ]
  },
  {
   "cell_type": "code",
   "execution_count": 86,
   "metadata": {},
   "outputs": [],
   "source": [
    "data.drop(columns=['region_code'],inplace=True )"
   ]
  },
  {
   "cell_type": "markdown",
   "metadata": {},
   "source": [
    "# 3 Encoding"
   ]
  },
  {
   "cell_type": "code",
   "execution_count": 87,
   "metadata": {},
   "outputs": [],
   "source": [
    "import category_encoders as ce\n",
    "from sklearn.compose import ColumnTransformer\n",
    "from sklearn.pipeline import make_pipeline, Pipeline\n",
    "from sklearn.preprocessing import RobustScaler"
   ]
  },
  {
   "cell_type": "markdown",
   "metadata": {},
   "source": [
    "# 3.2 Reduce size of category_columns\n",
    "\n",
    "Gets the top 20 values from the funder and installer"
   ]
  },
  {
   "cell_type": "code",
   "execution_count": 88,
   "metadata": {
    "execution": {
     "iopub.execute_input": "2021-09-16T07:08:12.811912Z",
     "iopub.status.busy": "2021-09-16T07:08:12.811363Z",
     "iopub.status.idle": "2021-09-16T07:08:12.992528Z",
     "shell.execute_reply": "2021-09-16T07:08:12.991155Z",
     "shell.execute_reply.started": "2021-09-16T07:08:12.811857Z"
    },
    "scrolled": true
   },
   "outputs": [
    {
     "data": {
      "text/plain": [
       "id                       74250\n",
       "amount_tsh                 102\n",
       "funder                    2141\n",
       "gps_height                2456\n",
       "installer                 2330\n",
       "longitude                71872\n",
       "latitude                 71869\n",
       "basin                        9\n",
       "region                      21\n",
       "district_code               20\n",
       "population                1127\n",
       "public_meeting               2\n",
       "permit                       2\n",
       "construction_year           54\n",
       "extraction_type_group       13\n",
       "management                  12\n",
       "payment                      7\n",
       "water_quality                8\n",
       "quantity                     5\n",
       "source                      10\n",
       "waterpoint_type              7\n",
       "status_group                 3\n",
       "dtype: int64"
      ]
     },
     "execution_count": 88,
     "metadata": {},
     "output_type": "execute_result"
    }
   ],
   "source": [
    "data.nunique()"
   ]
  },
  {
   "cell_type": "code",
   "execution_count": 89,
   "metadata": {
    "execution": {
     "iopub.execute_input": "2021-09-16T07:08:12.995096Z",
     "iopub.status.busy": "2021-09-16T07:08:12.994615Z",
     "iopub.status.idle": "2021-09-16T07:08:13.021187Z",
     "shell.execute_reply": "2021-09-16T07:08:13.019556Z",
     "shell.execute_reply.started": "2021-09-16T07:08:12.995033Z"
    }
   },
   "outputs": [
    {
     "data": {
      "text/plain": [
       "Government Of Tanzania            11299\n",
       "other                              4504\n",
       "Danida                             3907\n",
       "Hesawa                             2782\n",
       "Rwssp                              1703\n",
       "World Bank                         1701\n",
       "Kkkt                               1623\n",
       "World Vision                       1562\n",
       "Unicef                             1324\n",
       "Tasaf                              1136\n",
       "Dhv                                1065\n",
       "District Council                   1037\n",
       "Private Individual                 1034\n",
       "Dwsp                               1012\n",
       "0                                   980\n",
       "Norad                               949\n",
       "Germany Republi                     765\n",
       "Water                               739\n",
       "Tcrs                                735\n",
       "Ministry Of Water                   728\n",
       "Dwe                                 605\n",
       "Netherlands                         592\n",
       "Hifab                               577\n",
       "Adb                                 551\n",
       "Lga                                 546\n",
       "Amref                               525\n",
       "Fini Water                          474\n",
       "Oxfam                               436\n",
       "Wateraid                            416\n",
       "Rc Church                           410\n",
       "Rudep                               390\n",
       "Isf                                 388\n",
       "Private                             380\n",
       "Mission                             379\n",
       "Jaica                               353\n",
       "Rural Water Supply And Sanitat      338\n",
       "Roman                               336\n",
       "Adra                                327\n",
       "Jica                                317\n",
       "Ces(gmbh)                           316\n",
       "Wsdp                                309\n",
       "Shipo                               301\n",
       "Rc                                  291\n",
       "Finw                                281\n",
       "Dh                                  261\n",
       "Kiliwater                           243\n",
       "Dmdd                                237\n",
       "Ded                                 237\n",
       "Plan Int                            234\n",
       "Lawatefuka Water Supply             229\n",
       "Name: funder, dtype: int64"
      ]
     },
     "execution_count": 89,
     "metadata": {},
     "output_type": "execute_result"
    }
   ],
   "source": [
    "data['funder'].value_counts().head(50)"
   ]
  },
  {
   "cell_type": "code",
   "execution_count": 90,
   "metadata": {
    "execution": {
     "iopub.execute_input": "2021-09-16T07:08:13.024431Z",
     "iopub.status.busy": "2021-09-16T07:08:13.023848Z",
     "iopub.status.idle": "2021-09-16T07:08:13.031011Z",
     "shell.execute_reply": "2021-09-16T07:08:13.029778Z",
     "shell.execute_reply.started": "2021-09-16T07:08:13.024388Z"
    }
   },
   "outputs": [],
   "source": [
    "def get_n(x,n):\n",
    "    list_a = set(x.value_counts().index[:n].values) #Gets the top 20 values from the series\n",
    "    x[~x.isin(list_a)] = 'other' #vectorisation - boolean mask; tilda - inverting the boolean mask\n",
    "    return x"
   ]
  },
  {
   "cell_type": "code",
   "execution_count": 91,
   "metadata": {
    "execution": {
     "iopub.execute_input": "2021-09-16T07:08:13.034043Z",
     "iopub.status.busy": "2021-09-16T07:08:13.033229Z",
     "iopub.status.idle": "2021-09-16T07:08:13.063170Z",
     "shell.execute_reply": "2021-09-16T07:08:13.062064Z",
     "shell.execute_reply.started": "2021-09-16T07:08:13.033976Z"
    }
   },
   "outputs": [
    {
     "data": {
      "text/plain": [
       "2330"
      ]
     },
     "execution_count": 91,
     "metadata": {},
     "output_type": "execute_result"
    }
   ],
   "source": [
    "data['installer'].nunique()"
   ]
  },
  {
   "cell_type": "code",
   "execution_count": 92,
   "metadata": {
    "execution": {
     "iopub.execute_input": "2021-09-16T07:08:13.064819Z",
     "iopub.status.busy": "2021-09-16T07:08:13.064515Z",
     "iopub.status.idle": "2021-09-16T07:08:13.111674Z",
     "shell.execute_reply": "2021-09-16T07:08:13.110871Z",
     "shell.execute_reply.started": "2021-09-16T07:08:13.064787Z"
    }
   },
   "outputs": [
    {
     "name": "stderr",
     "output_type": "stream",
     "text": [
      "<ipython-input-90-c6facf211b40>:3: SettingWithCopyWarning: \n",
      "A value is trying to be set on a copy of a slice from a DataFrame\n",
      "\n",
      "See the caveats in the documentation: https://pandas.pydata.org/pandas-docs/stable/user_guide/indexing.html#returning-a-view-versus-a-copy\n",
      "  x[~x.isin(list_a)] = 'other' #vectorisation - boolean mask; tilda - inverting the boolean mask\n"
     ]
    }
   ],
   "source": [
    "data.funder = get_n(data.funder,20)\n",
    "data.installer  = get_n(data.installer ,20)"
   ]
  },
  {
   "cell_type": "code",
   "execution_count": 93,
   "metadata": {
    "execution": {
     "iopub.execute_input": "2021-09-16T07:08:13.113330Z",
     "iopub.status.busy": "2021-09-16T07:08:13.112853Z",
     "iopub.status.idle": "2021-09-16T07:08:13.129549Z",
     "shell.execute_reply": "2021-09-16T07:08:13.128457Z",
     "shell.execute_reply.started": "2021-09-16T07:08:13.113296Z"
    }
   },
   "outputs": [
    {
     "data": {
      "text/plain": [
       "other                     38169\n",
       "Government Of Tanzania    11299\n",
       "Danida                     3907\n",
       "Hesawa                     2782\n",
       "Rwssp                      1703\n",
       "World Bank                 1701\n",
       "Kkkt                       1623\n",
       "World Vision               1562\n",
       "Unicef                     1324\n",
       "Tasaf                      1136\n",
       "Dhv                        1065\n",
       "District Council           1037\n",
       "Private Individual         1034\n",
       "Dwsp                       1012\n",
       "0                           980\n",
       "Norad                       949\n",
       "Germany Republi             765\n",
       "Water                       739\n",
       "Tcrs                        735\n",
       "Ministry Of Water           728\n",
       "Name: funder, dtype: int64"
      ]
     },
     "execution_count": 93,
     "metadata": {},
     "output_type": "execute_result"
    }
   ],
   "source": [
    "data['funder'].value_counts()"
   ]
  },
  {
   "cell_type": "code",
   "execution_count": 94,
   "metadata": {
    "execution": {
     "iopub.execute_input": "2021-09-16T07:08:15.747057Z",
     "iopub.status.busy": "2021-09-16T07:08:15.746739Z",
     "iopub.status.idle": "2021-09-16T07:08:15.752568Z",
     "shell.execute_reply": "2021-09-16T07:08:15.751443Z",
     "shell.execute_reply.started": "2021-09-16T07:08:15.747026Z"
    }
   },
   "outputs": [
    {
     "data": {
      "text/html": [
       "<div>\n",
       "<style scoped>\n",
       "    .dataframe tbody tr th:only-of-type {\n",
       "        vertical-align: middle;\n",
       "    }\n",
       "\n",
       "    .dataframe tbody tr th {\n",
       "        vertical-align: top;\n",
       "    }\n",
       "\n",
       "    .dataframe thead th {\n",
       "        text-align: right;\n",
       "    }\n",
       "</style>\n",
       "<table border=\"1\" class=\"dataframe\">\n",
       "  <thead>\n",
       "    <tr style=\"text-align: right;\">\n",
       "      <th></th>\n",
       "      <th>id</th>\n",
       "      <th>amount_tsh</th>\n",
       "      <th>funder</th>\n",
       "      <th>gps_height</th>\n",
       "      <th>installer</th>\n",
       "      <th>longitude</th>\n",
       "      <th>latitude</th>\n",
       "      <th>basin</th>\n",
       "      <th>region</th>\n",
       "      <th>district_code</th>\n",
       "      <th>...</th>\n",
       "      <th>permit</th>\n",
       "      <th>construction_year</th>\n",
       "      <th>extraction_type_group</th>\n",
       "      <th>management</th>\n",
       "      <th>payment</th>\n",
       "      <th>water_quality</th>\n",
       "      <th>quantity</th>\n",
       "      <th>source</th>\n",
       "      <th>waterpoint_type</th>\n",
       "      <th>status_group</th>\n",
       "    </tr>\n",
       "  </thead>\n",
       "  <tbody>\n",
       "    <tr>\n",
       "      <th>0</th>\n",
       "      <td>69572</td>\n",
       "      <td>6000.0</td>\n",
       "      <td>other</td>\n",
       "      <td>1390</td>\n",
       "      <td>other</td>\n",
       "      <td>34.938093</td>\n",
       "      <td>-9.856322</td>\n",
       "      <td>Lake Nyasa</td>\n",
       "      <td>Iringa</td>\n",
       "      <td>5</td>\n",
       "      <td>...</td>\n",
       "      <td>0</td>\n",
       "      <td>1999</td>\n",
       "      <td>gravity</td>\n",
       "      <td>vwc</td>\n",
       "      <td>pay annually</td>\n",
       "      <td>soft</td>\n",
       "      <td>enough</td>\n",
       "      <td>spring</td>\n",
       "      <td>communal standpipe</td>\n",
       "      <td>functional</td>\n",
       "    </tr>\n",
       "    <tr>\n",
       "      <th>1</th>\n",
       "      <td>8776</td>\n",
       "      <td>0.0</td>\n",
       "      <td>other</td>\n",
       "      <td>1399</td>\n",
       "      <td>other</td>\n",
       "      <td>34.698766</td>\n",
       "      <td>-2.147466</td>\n",
       "      <td>Lake Victoria</td>\n",
       "      <td>Mara</td>\n",
       "      <td>2</td>\n",
       "      <td>...</td>\n",
       "      <td>1</td>\n",
       "      <td>2010</td>\n",
       "      <td>gravity</td>\n",
       "      <td>wug</td>\n",
       "      <td>never pay</td>\n",
       "      <td>soft</td>\n",
       "      <td>insufficient</td>\n",
       "      <td>rainwater harvesting</td>\n",
       "      <td>communal standpipe</td>\n",
       "      <td>functional</td>\n",
       "    </tr>\n",
       "    <tr>\n",
       "      <th>2</th>\n",
       "      <td>34310</td>\n",
       "      <td>25.0</td>\n",
       "      <td>other</td>\n",
       "      <td>686</td>\n",
       "      <td>world vision</td>\n",
       "      <td>37.460664</td>\n",
       "      <td>-3.821329</td>\n",
       "      <td>Pangani</td>\n",
       "      <td>Manyara</td>\n",
       "      <td>4</td>\n",
       "      <td>...</td>\n",
       "      <td>1</td>\n",
       "      <td>2009</td>\n",
       "      <td>gravity</td>\n",
       "      <td>vwc</td>\n",
       "      <td>pay per bucket</td>\n",
       "      <td>soft</td>\n",
       "      <td>enough</td>\n",
       "      <td>dam</td>\n",
       "      <td>communal standpipe multiple</td>\n",
       "      <td>functional</td>\n",
       "    </tr>\n",
       "    <tr>\n",
       "      <th>3</th>\n",
       "      <td>67743</td>\n",
       "      <td>0.0</td>\n",
       "      <td>Unicef</td>\n",
       "      <td>263</td>\n",
       "      <td>Unicef</td>\n",
       "      <td>38.486161</td>\n",
       "      <td>-11.155298</td>\n",
       "      <td>Ruvuma / Southern Coast</td>\n",
       "      <td>Mtwara</td>\n",
       "      <td>63</td>\n",
       "      <td>...</td>\n",
       "      <td>1</td>\n",
       "      <td>1986</td>\n",
       "      <td>submersible</td>\n",
       "      <td>vwc</td>\n",
       "      <td>never pay</td>\n",
       "      <td>soft</td>\n",
       "      <td>dry</td>\n",
       "      <td>machine dbh</td>\n",
       "      <td>communal standpipe multiple</td>\n",
       "      <td>non functional</td>\n",
       "    </tr>\n",
       "    <tr>\n",
       "      <th>4</th>\n",
       "      <td>19728</td>\n",
       "      <td>0.0</td>\n",
       "      <td>other</td>\n",
       "      <td>0</td>\n",
       "      <td>other</td>\n",
       "      <td>31.130847</td>\n",
       "      <td>-1.825359</td>\n",
       "      <td>Lake Victoria</td>\n",
       "      <td>Kagera</td>\n",
       "      <td>1</td>\n",
       "      <td>...</td>\n",
       "      <td>1</td>\n",
       "      <td>2000</td>\n",
       "      <td>gravity</td>\n",
       "      <td>other</td>\n",
       "      <td>never pay</td>\n",
       "      <td>soft</td>\n",
       "      <td>seasonal</td>\n",
       "      <td>rainwater harvesting</td>\n",
       "      <td>communal standpipe</td>\n",
       "      <td>functional</td>\n",
       "    </tr>\n",
       "    <tr>\n",
       "      <th>...</th>\n",
       "      <td>...</td>\n",
       "      <td>...</td>\n",
       "      <td>...</td>\n",
       "      <td>...</td>\n",
       "      <td>...</td>\n",
       "      <td>...</td>\n",
       "      <td>...</td>\n",
       "      <td>...</td>\n",
       "      <td>...</td>\n",
       "      <td>...</td>\n",
       "      <td>...</td>\n",
       "      <td>...</td>\n",
       "      <td>...</td>\n",
       "      <td>...</td>\n",
       "      <td>...</td>\n",
       "      <td>...</td>\n",
       "      <td>...</td>\n",
       "      <td>...</td>\n",
       "      <td>...</td>\n",
       "      <td>...</td>\n",
       "      <td>...</td>\n",
       "    </tr>\n",
       "    <tr>\n",
       "      <th>14845</th>\n",
       "      <td>39307</td>\n",
       "      <td>0.0</td>\n",
       "      <td>Danida</td>\n",
       "      <td>34</td>\n",
       "      <td>other</td>\n",
       "      <td>38.852669</td>\n",
       "      <td>-6.582841</td>\n",
       "      <td>Wami / Ruvu</td>\n",
       "      <td>Pwani</td>\n",
       "      <td>1</td>\n",
       "      <td>...</td>\n",
       "      <td>1</td>\n",
       "      <td>1988</td>\n",
       "      <td>mono</td>\n",
       "      <td>vwc</td>\n",
       "      <td>never pay</td>\n",
       "      <td>soft</td>\n",
       "      <td>enough</td>\n",
       "      <td>river</td>\n",
       "      <td>communal standpipe</td>\n",
       "      <td>NaN</td>\n",
       "    </tr>\n",
       "    <tr>\n",
       "      <th>14846</th>\n",
       "      <td>18990</td>\n",
       "      <td>1000.0</td>\n",
       "      <td>other</td>\n",
       "      <td>0</td>\n",
       "      <td>other</td>\n",
       "      <td>37.451633</td>\n",
       "      <td>-5.350428</td>\n",
       "      <td>Pangani</td>\n",
       "      <td>Tanga</td>\n",
       "      <td>7</td>\n",
       "      <td>...</td>\n",
       "      <td>0</td>\n",
       "      <td>1994</td>\n",
       "      <td>nira/tanira</td>\n",
       "      <td>vwc</td>\n",
       "      <td>pay annually</td>\n",
       "      <td>salty</td>\n",
       "      <td>insufficient</td>\n",
       "      <td>shallow well</td>\n",
       "      <td>hand pump</td>\n",
       "      <td>NaN</td>\n",
       "    </tr>\n",
       "    <tr>\n",
       "      <th>14847</th>\n",
       "      <td>28749</td>\n",
       "      <td>0.0</td>\n",
       "      <td>other</td>\n",
       "      <td>1476</td>\n",
       "      <td>other</td>\n",
       "      <td>34.739804</td>\n",
       "      <td>-4.585587</td>\n",
       "      <td>Internal</td>\n",
       "      <td>Singida</td>\n",
       "      <td>2</td>\n",
       "      <td>...</td>\n",
       "      <td>1</td>\n",
       "      <td>2010</td>\n",
       "      <td>gravity</td>\n",
       "      <td>vwc</td>\n",
       "      <td>never pay</td>\n",
       "      <td>soft</td>\n",
       "      <td>insufficient</td>\n",
       "      <td>dam</td>\n",
       "      <td>communal standpipe</td>\n",
       "      <td>NaN</td>\n",
       "    </tr>\n",
       "    <tr>\n",
       "      <th>14848</th>\n",
       "      <td>33492</td>\n",
       "      <td>0.0</td>\n",
       "      <td>other</td>\n",
       "      <td>998</td>\n",
       "      <td>DWE</td>\n",
       "      <td>35.432732</td>\n",
       "      <td>-10.584159</td>\n",
       "      <td>Lake Nyasa</td>\n",
       "      <td>Ruvuma</td>\n",
       "      <td>2</td>\n",
       "      <td>...</td>\n",
       "      <td>1</td>\n",
       "      <td>2009</td>\n",
       "      <td>gravity</td>\n",
       "      <td>vwc</td>\n",
       "      <td>never pay</td>\n",
       "      <td>soft</td>\n",
       "      <td>insufficient</td>\n",
       "      <td>river</td>\n",
       "      <td>communal standpipe</td>\n",
       "      <td>NaN</td>\n",
       "    </tr>\n",
       "    <tr>\n",
       "      <th>14849</th>\n",
       "      <td>68707</td>\n",
       "      <td>0.0</td>\n",
       "      <td>Government Of Tanzania</td>\n",
       "      <td>481</td>\n",
       "      <td>Government</td>\n",
       "      <td>34.765054</td>\n",
       "      <td>-11.226012</td>\n",
       "      <td>Lake Nyasa</td>\n",
       "      <td>Ruvuma</td>\n",
       "      <td>3</td>\n",
       "      <td>...</td>\n",
       "      <td>1</td>\n",
       "      <td>2008</td>\n",
       "      <td>gravity</td>\n",
       "      <td>vwc</td>\n",
       "      <td>never pay</td>\n",
       "      <td>soft</td>\n",
       "      <td>dry</td>\n",
       "      <td>spring</td>\n",
       "      <td>communal standpipe</td>\n",
       "      <td>NaN</td>\n",
       "    </tr>\n",
       "  </tbody>\n",
       "</table>\n",
       "<p>74250 rows × 22 columns</p>\n",
       "</div>"
      ],
      "text/plain": [
       "          id  amount_tsh                  funder  gps_height     installer  \\\n",
       "0      69572      6000.0                   other        1390         other   \n",
       "1       8776         0.0                   other        1399         other   \n",
       "2      34310        25.0                   other         686  world vision   \n",
       "3      67743         0.0                  Unicef         263        Unicef   \n",
       "4      19728         0.0                   other           0         other   \n",
       "...      ...         ...                     ...         ...           ...   \n",
       "14845  39307         0.0                  Danida          34         other   \n",
       "14846  18990      1000.0                   other           0         other   \n",
       "14847  28749         0.0                   other        1476         other   \n",
       "14848  33492         0.0                   other         998           DWE   \n",
       "14849  68707         0.0  Government Of Tanzania         481    Government   \n",
       "\n",
       "       longitude   latitude                    basin   region  district_code  \\\n",
       "0      34.938093  -9.856322               Lake Nyasa   Iringa              5   \n",
       "1      34.698766  -2.147466            Lake Victoria     Mara              2   \n",
       "2      37.460664  -3.821329                  Pangani  Manyara              4   \n",
       "3      38.486161 -11.155298  Ruvuma / Southern Coast   Mtwara             63   \n",
       "4      31.130847  -1.825359            Lake Victoria   Kagera              1   \n",
       "...          ...        ...                      ...      ...            ...   \n",
       "14845  38.852669  -6.582841              Wami / Ruvu    Pwani              1   \n",
       "14846  37.451633  -5.350428                  Pangani    Tanga              7   \n",
       "14847  34.739804  -4.585587                 Internal  Singida              2   \n",
       "14848  35.432732 -10.584159               Lake Nyasa   Ruvuma              2   \n",
       "14849  34.765054 -11.226012               Lake Nyasa   Ruvuma              3   \n",
       "\n",
       "       ...  permit  construction_year  extraction_type_group  management  \\\n",
       "0      ...       0               1999                gravity         vwc   \n",
       "1      ...       1               2010                gravity         wug   \n",
       "2      ...       1               2009                gravity         vwc   \n",
       "3      ...       1               1986            submersible         vwc   \n",
       "4      ...       1               2000                gravity       other   \n",
       "...    ...     ...                ...                    ...         ...   \n",
       "14845  ...       1               1988                   mono         vwc   \n",
       "14846  ...       0               1994            nira/tanira         vwc   \n",
       "14847  ...       1               2010                gravity         vwc   \n",
       "14848  ...       1               2009                gravity         vwc   \n",
       "14849  ...       1               2008                gravity         vwc   \n",
       "\n",
       "              payment water_quality      quantity                source  \\\n",
       "0        pay annually          soft        enough                spring   \n",
       "1           never pay          soft  insufficient  rainwater harvesting   \n",
       "2      pay per bucket          soft        enough                   dam   \n",
       "3           never pay          soft           dry           machine dbh   \n",
       "4           never pay          soft      seasonal  rainwater harvesting   \n",
       "...               ...           ...           ...                   ...   \n",
       "14845       never pay          soft        enough                 river   \n",
       "14846    pay annually         salty  insufficient          shallow well   \n",
       "14847       never pay          soft  insufficient                   dam   \n",
       "14848       never pay          soft  insufficient                 river   \n",
       "14849       never pay          soft           dry                spring   \n",
       "\n",
       "                   waterpoint_type    status_group  \n",
       "0               communal standpipe      functional  \n",
       "1               communal standpipe      functional  \n",
       "2      communal standpipe multiple      functional  \n",
       "3      communal standpipe multiple  non functional  \n",
       "4               communal standpipe      functional  \n",
       "...                            ...             ...  \n",
       "14845           communal standpipe             NaN  \n",
       "14846                    hand pump             NaN  \n",
       "14847           communal standpipe             NaN  \n",
       "14848           communal standpipe             NaN  \n",
       "14849           communal standpipe             NaN  \n",
       "\n",
       "[74250 rows x 22 columns]"
      ]
     },
     "execution_count": 94,
     "metadata": {},
     "output_type": "execute_result"
    }
   ],
   "source": [
    "data"
   ]
  },
  {
   "cell_type": "markdown",
   "metadata": {},
   "source": [
    "# 3.3 scaling -> numeric_columns"
   ]
  },
  {
   "cell_type": "code",
   "execution_count": 95,
   "metadata": {},
   "outputs": [],
   "source": [
    "numeric_columns = ['amount_tsh', 'gps_height', 'longitude', 'latitude', 'district_code', 'population', 'construction_year', 'public_meeting', 'permit']"
   ]
  },
  {
   "cell_type": "code",
   "execution_count": 96,
   "metadata": {},
   "outputs": [],
   "source": [
    "scaler = RobustScaler()"
   ]
  },
  {
   "cell_type": "code",
   "execution_count": 97,
   "metadata": {},
   "outputs": [
    {
     "data": {
      "text/html": [
       "<div>\n",
       "<style scoped>\n",
       "    .dataframe tbody tr th:only-of-type {\n",
       "        vertical-align: middle;\n",
       "    }\n",
       "\n",
       "    .dataframe tbody tr th {\n",
       "        vertical-align: top;\n",
       "    }\n",
       "\n",
       "    .dataframe thead th {\n",
       "        text-align: right;\n",
       "    }\n",
       "</style>\n",
       "<table border=\"1\" class=\"dataframe\">\n",
       "  <thead>\n",
       "    <tr style=\"text-align: right;\">\n",
       "      <th></th>\n",
       "      <th>id</th>\n",
       "      <th>amount_tsh</th>\n",
       "      <th>funder</th>\n",
       "      <th>gps_height</th>\n",
       "      <th>installer</th>\n",
       "      <th>longitude</th>\n",
       "      <th>latitude</th>\n",
       "      <th>basin</th>\n",
       "      <th>region</th>\n",
       "      <th>district_code</th>\n",
       "      <th>...</th>\n",
       "      <th>permit</th>\n",
       "      <th>construction_year</th>\n",
       "      <th>extraction_type_group</th>\n",
       "      <th>management</th>\n",
       "      <th>payment</th>\n",
       "      <th>water_quality</th>\n",
       "      <th>quantity</th>\n",
       "      <th>source</th>\n",
       "      <th>waterpoint_type</th>\n",
       "      <th>status_group</th>\n",
       "    </tr>\n",
       "  </thead>\n",
       "  <tbody>\n",
       "    <tr>\n",
       "      <th>0</th>\n",
       "      <td>69572</td>\n",
       "      <td>300.00</td>\n",
       "      <td>other</td>\n",
       "      <td>0.779043</td>\n",
       "      <td>other</td>\n",
       "      <td>0.007757</td>\n",
       "      <td>-0.928694</td>\n",
       "      <td>Lake Nyasa</td>\n",
       "      <td>Iringa</td>\n",
       "      <td>0.666667</td>\n",
       "      <td>...</td>\n",
       "      <td>-1.0</td>\n",
       "      <td>-0.125</td>\n",
       "      <td>gravity</td>\n",
       "      <td>vwc</td>\n",
       "      <td>pay annually</td>\n",
       "      <td>soft</td>\n",
       "      <td>enough</td>\n",
       "      <td>spring</td>\n",
       "      <td>communal standpipe</td>\n",
       "      <td>functional</td>\n",
       "    </tr>\n",
       "    <tr>\n",
       "      <th>1</th>\n",
       "      <td>8776</td>\n",
       "      <td>0.00</td>\n",
       "      <td>other</td>\n",
       "      <td>0.785877</td>\n",
       "      <td>other</td>\n",
       "      <td>-0.052875</td>\n",
       "      <td>0.553602</td>\n",
       "      <td>Lake Victoria</td>\n",
       "      <td>Mara</td>\n",
       "      <td>-0.333333</td>\n",
       "      <td>...</td>\n",
       "      <td>0.0</td>\n",
       "      <td>1.250</td>\n",
       "      <td>gravity</td>\n",
       "      <td>wug</td>\n",
       "      <td>never pay</td>\n",
       "      <td>soft</td>\n",
       "      <td>insufficient</td>\n",
       "      <td>rainwater harvesting</td>\n",
       "      <td>communal standpipe</td>\n",
       "      <td>functional</td>\n",
       "    </tr>\n",
       "    <tr>\n",
       "      <th>2</th>\n",
       "      <td>34310</td>\n",
       "      <td>1.25</td>\n",
       "      <td>other</td>\n",
       "      <td>0.244495</td>\n",
       "      <td>world vision</td>\n",
       "      <td>0.646833</td>\n",
       "      <td>0.231744</td>\n",
       "      <td>Pangani</td>\n",
       "      <td>Manyara</td>\n",
       "      <td>0.333333</td>\n",
       "      <td>...</td>\n",
       "      <td>0.0</td>\n",
       "      <td>1.125</td>\n",
       "      <td>gravity</td>\n",
       "      <td>vwc</td>\n",
       "      <td>pay per bucket</td>\n",
       "      <td>soft</td>\n",
       "      <td>enough</td>\n",
       "      <td>dam</td>\n",
       "      <td>communal standpipe multiple</td>\n",
       "      <td>functional</td>\n",
       "    </tr>\n",
       "    <tr>\n",
       "      <th>3</th>\n",
       "      <td>67743</td>\n",
       "      <td>0.00</td>\n",
       "      <td>Unicef</td>\n",
       "      <td>-0.076689</td>\n",
       "      <td>Unicef</td>\n",
       "      <td>0.906636</td>\n",
       "      <td>-1.178467</td>\n",
       "      <td>Ruvuma / Southern Coast</td>\n",
       "      <td>Mtwara</td>\n",
       "      <td>20.000000</td>\n",
       "      <td>...</td>\n",
       "      <td>0.0</td>\n",
       "      <td>-1.750</td>\n",
       "      <td>submersible</td>\n",
       "      <td>vwc</td>\n",
       "      <td>never pay</td>\n",
       "      <td>soft</td>\n",
       "      <td>dry</td>\n",
       "      <td>machine dbh</td>\n",
       "      <td>communal standpipe multiple</td>\n",
       "      <td>non functional</td>\n",
       "    </tr>\n",
       "    <tr>\n",
       "      <th>4</th>\n",
       "      <td>19728</td>\n",
       "      <td>0.00</td>\n",
       "      <td>other</td>\n",
       "      <td>-0.276386</td>\n",
       "      <td>other</td>\n",
       "      <td>-0.956783</td>\n",
       "      <td>0.615539</td>\n",
       "      <td>Lake Victoria</td>\n",
       "      <td>Kagera</td>\n",
       "      <td>-0.666667</td>\n",
       "      <td>...</td>\n",
       "      <td>0.0</td>\n",
       "      <td>0.000</td>\n",
       "      <td>gravity</td>\n",
       "      <td>other</td>\n",
       "      <td>never pay</td>\n",
       "      <td>soft</td>\n",
       "      <td>seasonal</td>\n",
       "      <td>rainwater harvesting</td>\n",
       "      <td>communal standpipe</td>\n",
       "      <td>functional</td>\n",
       "    </tr>\n",
       "    <tr>\n",
       "      <th>...</th>\n",
       "      <td>...</td>\n",
       "      <td>...</td>\n",
       "      <td>...</td>\n",
       "      <td>...</td>\n",
       "      <td>...</td>\n",
       "      <td>...</td>\n",
       "      <td>...</td>\n",
       "      <td>...</td>\n",
       "      <td>...</td>\n",
       "      <td>...</td>\n",
       "      <td>...</td>\n",
       "      <td>...</td>\n",
       "      <td>...</td>\n",
       "      <td>...</td>\n",
       "      <td>...</td>\n",
       "      <td>...</td>\n",
       "      <td>...</td>\n",
       "      <td>...</td>\n",
       "      <td>...</td>\n",
       "      <td>...</td>\n",
       "      <td>...</td>\n",
       "    </tr>\n",
       "    <tr>\n",
       "      <th>14845</th>\n",
       "      <td>39307</td>\n",
       "      <td>0.00</td>\n",
       "      <td>Danida</td>\n",
       "      <td>-0.250569</td>\n",
       "      <td>other</td>\n",
       "      <td>0.999488</td>\n",
       "      <td>-0.299253</td>\n",
       "      <td>Wami / Ruvu</td>\n",
       "      <td>Pwani</td>\n",
       "      <td>-0.666667</td>\n",
       "      <td>...</td>\n",
       "      <td>0.0</td>\n",
       "      <td>-1.500</td>\n",
       "      <td>mono</td>\n",
       "      <td>vwc</td>\n",
       "      <td>never pay</td>\n",
       "      <td>soft</td>\n",
       "      <td>enough</td>\n",
       "      <td>river</td>\n",
       "      <td>communal standpipe</td>\n",
       "      <td>NaN</td>\n",
       "    </tr>\n",
       "    <tr>\n",
       "      <th>14846</th>\n",
       "      <td>18990</td>\n",
       "      <td>50.00</td>\n",
       "      <td>other</td>\n",
       "      <td>-0.276386</td>\n",
       "      <td>other</td>\n",
       "      <td>0.644545</td>\n",
       "      <td>-0.062279</td>\n",
       "      <td>Pangani</td>\n",
       "      <td>Tanga</td>\n",
       "      <td>1.333333</td>\n",
       "      <td>...</td>\n",
       "      <td>-1.0</td>\n",
       "      <td>-0.750</td>\n",
       "      <td>nira/tanira</td>\n",
       "      <td>vwc</td>\n",
       "      <td>pay annually</td>\n",
       "      <td>salty</td>\n",
       "      <td>insufficient</td>\n",
       "      <td>shallow well</td>\n",
       "      <td>hand pump</td>\n",
       "      <td>NaN</td>\n",
       "    </tr>\n",
       "    <tr>\n",
       "      <th>14847</th>\n",
       "      <td>28749</td>\n",
       "      <td>0.00</td>\n",
       "      <td>other</td>\n",
       "      <td>0.844343</td>\n",
       "      <td>other</td>\n",
       "      <td>-0.042478</td>\n",
       "      <td>0.084789</td>\n",
       "      <td>Internal</td>\n",
       "      <td>Singida</td>\n",
       "      <td>-0.333333</td>\n",
       "      <td>...</td>\n",
       "      <td>0.0</td>\n",
       "      <td>1.250</td>\n",
       "      <td>gravity</td>\n",
       "      <td>vwc</td>\n",
       "      <td>never pay</td>\n",
       "      <td>soft</td>\n",
       "      <td>insufficient</td>\n",
       "      <td>dam</td>\n",
       "      <td>communal standpipe</td>\n",
       "      <td>NaN</td>\n",
       "    </tr>\n",
       "    <tr>\n",
       "      <th>14848</th>\n",
       "      <td>33492</td>\n",
       "      <td>0.00</td>\n",
       "      <td>other</td>\n",
       "      <td>0.481397</td>\n",
       "      <td>DWE</td>\n",
       "      <td>0.133070</td>\n",
       "      <td>-1.068646</td>\n",
       "      <td>Lake Nyasa</td>\n",
       "      <td>Ruvuma</td>\n",
       "      <td>-0.333333</td>\n",
       "      <td>...</td>\n",
       "      <td>0.0</td>\n",
       "      <td>1.125</td>\n",
       "      <td>gravity</td>\n",
       "      <td>vwc</td>\n",
       "      <td>never pay</td>\n",
       "      <td>soft</td>\n",
       "      <td>insufficient</td>\n",
       "      <td>river</td>\n",
       "      <td>communal standpipe</td>\n",
       "      <td>NaN</td>\n",
       "    </tr>\n",
       "    <tr>\n",
       "      <th>14849</th>\n",
       "      <td>68707</td>\n",
       "      <td>0.00</td>\n",
       "      <td>Government Of Tanzania</td>\n",
       "      <td>0.088838</td>\n",
       "      <td>Government</td>\n",
       "      <td>-0.036081</td>\n",
       "      <td>-1.192065</td>\n",
       "      <td>Lake Nyasa</td>\n",
       "      <td>Ruvuma</td>\n",
       "      <td>0.000000</td>\n",
       "      <td>...</td>\n",
       "      <td>0.0</td>\n",
       "      <td>1.000</td>\n",
       "      <td>gravity</td>\n",
       "      <td>vwc</td>\n",
       "      <td>never pay</td>\n",
       "      <td>soft</td>\n",
       "      <td>dry</td>\n",
       "      <td>spring</td>\n",
       "      <td>communal standpipe</td>\n",
       "      <td>NaN</td>\n",
       "    </tr>\n",
       "  </tbody>\n",
       "</table>\n",
       "<p>74250 rows × 22 columns</p>\n",
       "</div>"
      ],
      "text/plain": [
       "          id  amount_tsh                  funder  gps_height     installer  \\\n",
       "0      69572      300.00                   other    0.779043         other   \n",
       "1       8776        0.00                   other    0.785877         other   \n",
       "2      34310        1.25                   other    0.244495  world vision   \n",
       "3      67743        0.00                  Unicef   -0.076689        Unicef   \n",
       "4      19728        0.00                   other   -0.276386         other   \n",
       "...      ...         ...                     ...         ...           ...   \n",
       "14845  39307        0.00                  Danida   -0.250569         other   \n",
       "14846  18990       50.00                   other   -0.276386         other   \n",
       "14847  28749        0.00                   other    0.844343         other   \n",
       "14848  33492        0.00                   other    0.481397           DWE   \n",
       "14849  68707        0.00  Government Of Tanzania    0.088838    Government   \n",
       "\n",
       "       longitude  latitude                    basin   region  district_code  \\\n",
       "0       0.007757 -0.928694               Lake Nyasa   Iringa       0.666667   \n",
       "1      -0.052875  0.553602            Lake Victoria     Mara      -0.333333   \n",
       "2       0.646833  0.231744                  Pangani  Manyara       0.333333   \n",
       "3       0.906636 -1.178467  Ruvuma / Southern Coast   Mtwara      20.000000   \n",
       "4      -0.956783  0.615539            Lake Victoria   Kagera      -0.666667   \n",
       "...          ...       ...                      ...      ...            ...   \n",
       "14845   0.999488 -0.299253              Wami / Ruvu    Pwani      -0.666667   \n",
       "14846   0.644545 -0.062279                  Pangani    Tanga       1.333333   \n",
       "14847  -0.042478  0.084789                 Internal  Singida      -0.333333   \n",
       "14848   0.133070 -1.068646               Lake Nyasa   Ruvuma      -0.333333   \n",
       "14849  -0.036081 -1.192065               Lake Nyasa   Ruvuma       0.000000   \n",
       "\n",
       "       ...  permit  construction_year  extraction_type_group  management  \\\n",
       "0      ...    -1.0             -0.125                gravity         vwc   \n",
       "1      ...     0.0              1.250                gravity         wug   \n",
       "2      ...     0.0              1.125                gravity         vwc   \n",
       "3      ...     0.0             -1.750            submersible         vwc   \n",
       "4      ...     0.0              0.000                gravity       other   \n",
       "...    ...     ...                ...                    ...         ...   \n",
       "14845  ...     0.0             -1.500                   mono         vwc   \n",
       "14846  ...    -1.0             -0.750            nira/tanira         vwc   \n",
       "14847  ...     0.0              1.250                gravity         vwc   \n",
       "14848  ...     0.0              1.125                gravity         vwc   \n",
       "14849  ...     0.0              1.000                gravity         vwc   \n",
       "\n",
       "              payment water_quality      quantity                source  \\\n",
       "0        pay annually          soft        enough                spring   \n",
       "1           never pay          soft  insufficient  rainwater harvesting   \n",
       "2      pay per bucket          soft        enough                   dam   \n",
       "3           never pay          soft           dry           machine dbh   \n",
       "4           never pay          soft      seasonal  rainwater harvesting   \n",
       "...               ...           ...           ...                   ...   \n",
       "14845       never pay          soft        enough                 river   \n",
       "14846    pay annually         salty  insufficient          shallow well   \n",
       "14847       never pay          soft  insufficient                   dam   \n",
       "14848       never pay          soft  insufficient                 river   \n",
       "14849       never pay          soft           dry                spring   \n",
       "\n",
       "                   waterpoint_type    status_group  \n",
       "0               communal standpipe      functional  \n",
       "1               communal standpipe      functional  \n",
       "2      communal standpipe multiple      functional  \n",
       "3      communal standpipe multiple  non functional  \n",
       "4               communal standpipe      functional  \n",
       "...                            ...             ...  \n",
       "14845           communal standpipe             NaN  \n",
       "14846                    hand pump             NaN  \n",
       "14847           communal standpipe             NaN  \n",
       "14848           communal standpipe             NaN  \n",
       "14849           communal standpipe             NaN  \n",
       "\n",
       "[74250 rows x 22 columns]"
      ]
     },
     "execution_count": 97,
     "metadata": {},
     "output_type": "execute_result"
    }
   ],
   "source": [
    "for c in numeric_columns:\n",
    "    robust_data = scaler.fit_transform(data[[c]])\n",
    "    data.loc[:, (c)]=robust_data\n",
    "data"
   ]
  },
  {
   "cell_type": "markdown",
   "metadata": {},
   "source": [
    "# 3.4 encoding -> category_columns"
   ]
  },
  {
   "cell_type": "code",
   "execution_count": 98,
   "metadata": {
    "execution": {
     "iopub.execute_input": "2021-09-16T07:08:13.131390Z",
     "iopub.status.busy": "2021-09-16T07:08:13.131073Z",
     "iopub.status.idle": "2021-09-16T07:08:13.141802Z",
     "shell.execute_reply": "2021-09-16T07:08:13.140664Z",
     "shell.execute_reply.started": "2021-09-16T07:08:13.131359Z"
    }
   },
   "outputs": [],
   "source": [
    "category_onehot__columns = ['installer','quantity', 'payment', 'funder', 'basin','region',  'extraction_type_group', 'management', 'water_quality', 'source', 'waterpoint_type']\n",
    "category_traget_columns  = ['installer','quantity', 'payment', 'funder', 'basin','region',  'extraction_type_group', 'management', 'water_quality', 'source', 'waterpoint_type']"
   ]
  },
  {
   "cell_type": "code",
   "execution_count": 99,
   "metadata": {},
   "outputs": [],
   "source": [
    "onehot_encoder = ce.OneHotEncoder(cols=category_onehot__columns, use_cat_names=True)\n",
    "traget_encoder = ce.TargetEncoder(cols=category_traget_columns)"
   ]
  },
  {
   "cell_type": "markdown",
   "metadata": {},
   "source": [
    "# 3.5 Prepare datasets"
   ]
  },
  {
   "cell_type": "code",
   "execution_count": 100,
   "metadata": {
    "execution": {
     "iopub.execute_input": "2021-09-16T07:08:15.791901Z",
     "iopub.status.busy": "2021-09-16T07:08:15.791508Z",
     "iopub.status.idle": "2021-09-16T07:08:15.857097Z",
     "shell.execute_reply": "2021-09-16T07:08:15.855951Z",
     "shell.execute_reply.started": "2021-09-16T07:08:15.791841Z"
    }
   },
   "outputs": [],
   "source": [
    "data_1 = data.copy()\n",
    "\n",
    "test_data_1 = data_1[len(train_data):]\n",
    "train_data_1 = data_1[:len(train_data)]"
   ]
  },
  {
   "cell_type": "markdown",
   "metadata": {},
   "source": [
    "# 4 Modelling"
   ]
  },
  {
   "cell_type": "code",
   "execution_count": 101,
   "metadata": {
    "execution": {
     "iopub.execute_input": "2021-09-16T07:34:04.449563Z",
     "iopub.status.busy": "2021-09-16T07:34:04.449120Z",
     "iopub.status.idle": "2021-09-16T07:34:04.454450Z",
     "shell.execute_reply": "2021-09-16T07:34:04.453156Z",
     "shell.execute_reply.started": "2021-09-16T07:34:04.449526Z"
    }
   },
   "outputs": [],
   "source": [
    "import random\n",
    "from sklearn.model_selection import train_test_split\n",
    "from sklearn.ensemble import RandomForestClassifier\n",
    "from sklearn.model_selection import cross_val_score\n",
    "\n",
    "import xgboost as xgb\n",
    "from xgboost import XGBClassifier"
   ]
  },
  {
   "cell_type": "markdown",
   "metadata": {},
   "source": [
    "# 4.1 Label encoding -> status_group column"
   ]
  },
  {
   "cell_type": "code",
   "execution_count": 102,
   "metadata": {
    "execution": {
     "iopub.execute_input": "2021-09-16T07:08:15.921605Z",
     "iopub.status.busy": "2021-09-16T07:08:15.921191Z",
     "iopub.status.idle": "2021-09-16T07:08:15.958422Z",
     "shell.execute_reply": "2021-09-16T07:08:15.957258Z",
     "shell.execute_reply.started": "2021-09-16T07:08:15.921559Z"
    }
   },
   "outputs": [
    {
     "name": "stderr",
     "output_type": "stream",
     "text": [
      "C:\\ProgramData\\Anaconda3\\lib\\site-packages\\pandas\\core\\indexing.py:1676: SettingWithCopyWarning: \n",
      "A value is trying to be set on a copy of a slice from a DataFrame.\n",
      "Try using .loc[row_indexer,col_indexer] = value instead\n",
      "\n",
      "See the caveats in the documentation: https://pandas.pydata.org/pandas-docs/stable/user_guide/indexing.html#returning-a-view-versus-a-copy\n",
      "  self._setitem_single_column(ilocs[0], value, pi)\n"
     ]
    }
   ],
   "source": [
    "status_group_label = {'functional':0, 'non functional': 1, 'functional needs repair': 2}\n",
    "train_data_1.loc[:, ('status_group')] = train_data_1.status_group.replace(status_group_label)"
   ]
  },
  {
   "cell_type": "code",
   "execution_count": 103,
   "metadata": {},
   "outputs": [],
   "source": [
    "train_data_1_target = train_data_1.copy()\n",
    "test_data_1_target = test_data_1.copy()\n",
    "\n",
    "train_data_1_onehot = train_data_1.copy()\n",
    "test_data_1_onehot = test_data_1.copy()\n",
    "\n",
    "target='status_group'"
   ]
  },
  {
   "cell_type": "markdown",
   "metadata": {},
   "source": [
    "# 4.1 Target encoding"
   ]
  },
  {
   "cell_type": "code",
   "execution_count": 104,
   "metadata": {},
   "outputs": [
    {
     "name": "stderr",
     "output_type": "stream",
     "text": [
      "C:\\ProgramData\\Anaconda3\\lib\\site-packages\\category_encoders\\utils.py:21: FutureWarning: is_categorical is deprecated and will be removed in a future version.  Use is_categorical_dtype instead\n",
      "  elif pd.api.types.is_categorical(cols):\n"
     ]
    }
   ],
   "source": [
    "train_data_1_target = traget_encoder.fit_transform(train_data_1_target, train_data_1_target[target])\n",
    "test_data_1_target = traget_encoder.transform(test_data_1_target)"
   ]
  },
  {
   "cell_type": "code",
   "execution_count": 105,
   "metadata": {
    "execution": {
     "iopub.execute_input": "2021-09-16T07:08:15.960244Z",
     "iopub.status.busy": "2021-09-16T07:08:15.959898Z",
     "iopub.status.idle": "2021-09-16T07:08:16.065454Z",
     "shell.execute_reply": "2021-09-16T07:08:16.064317Z",
     "shell.execute_reply.started": "2021-09-16T07:08:15.960208Z"
    }
   },
   "outputs": [],
   "source": [
    "used_cols = [c for c in train_data_1_target.columns.tolist() if c not in [target]]\n",
    "X1_target=train_data_1_target[used_cols]\n",
    "y1_target=train_data_1_target[target]\n",
    "\n",
    "X_target_train, X_target_test, y_target_train, y_target_test = train_test_split(X1_target, y1_target, test_size=0.2, random_state=42)"
   ]
  },
  {
   "cell_type": "markdown",
   "metadata": {},
   "source": [
    "# 4.2 Onehot encoding"
   ]
  },
  {
   "cell_type": "code",
   "execution_count": 106,
   "metadata": {
    "execution": {
     "iopub.execute_input": "2021-09-16T07:08:15.770510Z",
     "iopub.status.busy": "2021-09-16T07:08:15.770153Z",
     "iopub.status.idle": "2021-09-16T07:08:15.777275Z",
     "shell.execute_reply": "2021-09-16T07:08:15.776350Z",
     "shell.execute_reply.started": "2021-09-16T07:08:15.770474Z"
    }
   },
   "outputs": [
    {
     "name": "stderr",
     "output_type": "stream",
     "text": [
      "C:\\ProgramData\\Anaconda3\\lib\\site-packages\\category_encoders\\utils.py:21: FutureWarning: is_categorical is deprecated and will be removed in a future version.  Use is_categorical_dtype instead\n",
      "  elif pd.api.types.is_categorical(cols):\n",
      "C:\\ProgramData\\Anaconda3\\lib\\site-packages\\category_encoders\\utils.py:21: FutureWarning: is_categorical is deprecated and will be removed in a future version.  Use is_categorical_dtype instead\n",
      "  elif pd.api.types.is_categorical(cols):\n"
     ]
    }
   ],
   "source": [
    "train_data_1_onehot = onehot_encoder.fit_transform(train_data_1_onehot)\n",
    "test_data_1_onehot = onehot_encoder.fit_transform(test_data_1_onehot)"
   ]
  },
  {
   "cell_type": "code",
   "execution_count": 107,
   "metadata": {},
   "outputs": [],
   "source": [
    "used_cols = [c for c in train_data_1_onehot.columns.tolist() if c not in [target]]\n",
    "X1_onehot=train_data_1_onehot[used_cols]\n",
    "y1_onehot=train_data_1_onehot[target]\n",
    "\n",
    "X_onehot_train, X_onehot_test, y_onehot_train, y_onehot_test = train_test_split(X1_onehot, y1_onehot, test_size=0.2, random_state=42)"
   ]
  },
  {
   "cell_type": "markdown",
   "metadata": {},
   "source": [
    "# 4.2 RandomForestClassifier"
   ]
  },
  {
   "cell_type": "code",
   "execution_count": 108,
   "metadata": {
    "execution": {
     "iopub.execute_input": "2021-09-16T07:08:16.148616Z",
     "iopub.status.busy": "2021-09-16T07:08:16.148282Z",
     "iopub.status.idle": "2021-09-16T07:08:16.153575Z",
     "shell.execute_reply": "2021-09-16T07:08:16.152611Z",
     "shell.execute_reply.started": "2021-09-16T07:08:16.148580Z"
    }
   },
   "outputs": [
    {
     "name": "stdout",
     "output_type": "stream",
     "text": [
      "Random Forest 0.8072390572390572\n",
      "Random Forest 0.8073232323232323\n"
     ]
    }
   ],
   "source": [
    "rfc_model = RandomForestClassifier(n_estimators=50, random_state=42, n_jobs=-1,class_weight='balanced')\n",
    "rfc_model.fit(X_target_train, y_target_train)\n",
    "scoreRFC_target= rfc_model.score(X_target_test,y_target_test)\n",
    "print('Random Forest' ,scoreRFC_target)\n",
    "\n",
    "rfc_model = RandomForestClassifier(n_estimators=50, random_state=42, n_jobs=-1,class_weight='balanced')\n",
    "rfc_model.fit(X_onehot_train, y_onehot_train)\n",
    "scoreRFC_onehot= rfc_model.score(X_onehot_test,y_onehot_test)\n",
    "print('Random Forest' ,scoreRFC_onehot)"
   ]
  },
  {
   "cell_type": "markdown",
   "metadata": {},
   "source": [
    "# 4.3 XGBClassifier"
   ]
  },
  {
   "cell_type": "code",
   "execution_count": 109,
   "metadata": {},
   "outputs": [
    {
     "name": "stderr",
     "output_type": "stream",
     "text": [
      "C:\\ProgramData\\Anaconda3\\lib\\site-packages\\xgboost\\sklearn.py:1146: UserWarning: The use of label encoder in XGBClassifier is deprecated and will be removed in a future release. To remove this warning, do the following: 1) Pass option use_label_encoder=False when constructing XGBClassifier object; and 2) Encode your labels (y) as integers starting with 0, i.e. 0, 1, 2, ..., [num_class - 1].\n",
      "  warnings.warn(label_encoder_deprecation_msg, UserWarning)\n",
      "C:\\ProgramData\\Anaconda3\\lib\\site-packages\\xgboost\\data.py:112: UserWarning: Use subset (sliced data) of np.ndarray is not recommended because it will generate extra copies and increase memory consumption\n",
      "  warnings.warn(\n",
      "C:\\ProgramData\\Anaconda3\\lib\\site-packages\\xgboost\\sklearn.py:1146: UserWarning: The use of label encoder in XGBClassifier is deprecated and will be removed in a future release. To remove this warning, do the following: 1) Pass option use_label_encoder=False when constructing XGBClassifier object; and 2) Encode your labels (y) as integers starting with 0, i.e. 0, 1, 2, ..., [num_class - 1].\n",
      "  warnings.warn(label_encoder_deprecation_msg, UserWarning)\n"
     ]
    },
    {
     "name": "stdout",
     "output_type": "stream",
     "text": [
      "XGB 0.8079124579124579\n",
      "XGB 0.8094276094276094\n"
     ]
    },
    {
     "name": "stderr",
     "output_type": "stream",
     "text": [
      "C:\\ProgramData\\Anaconda3\\lib\\site-packages\\xgboost\\data.py:112: UserWarning: Use subset (sliced data) of np.ndarray is not recommended because it will generate extra copies and increase memory consumption\n",
      "  warnings.warn(\n"
     ]
    }
   ],
   "source": [
    "xgb_model = XGBClassifier(objective = 'multi:softmax', booster = 'gbtree', num_class = 3, eval_metric = 'merror', eta = .1,max_depth = 12, colsample_bytree = .4, learning_rate = 0.1, max_delta_step=1)\n",
    "xgb_model.fit(X_target_train, y_target_train)\n",
    "scoreXGB_target= xgb_model.score(X_target_test,y_target_test)\n",
    "print('XGB' ,scoreXGB_target)\n",
    "\n",
    "xgb_model = XGBClassifier(objective = 'multi:softmax', booster = 'gbtree', num_class = 3, eval_metric = 'merror', eta = .1,max_depth = 12, colsample_bytree = .4, learning_rate = 0.1, max_delta_step=1)\n",
    "xgb_model.fit(X_onehot_train, y_onehot_train)\n",
    "scoreXGB_onehot= xgb_model.score(X_onehot_test,y_onehot_test)\n",
    "print('XGB' ,scoreXGB_onehot)"
   ]
  },
  {
   "cell_type": "code",
   "execution_count": 110,
   "metadata": {},
   "outputs": [
    {
     "data": {
      "text/html": [
       "<div>\n",
       "<style scoped>\n",
       "    .dataframe tbody tr th:only-of-type {\n",
       "        vertical-align: middle;\n",
       "    }\n",
       "\n",
       "    .dataframe tbody tr th {\n",
       "        vertical-align: top;\n",
       "    }\n",
       "\n",
       "    .dataframe thead th {\n",
       "        text-align: right;\n",
       "    }\n",
       "</style>\n",
       "<table border=\"1\" class=\"dataframe\">\n",
       "  <thead>\n",
       "    <tr style=\"text-align: right;\">\n",
       "      <th></th>\n",
       "      <th>Model</th>\n",
       "      <th>Encoder</th>\n",
       "      <th>score</th>\n",
       "    </tr>\n",
       "  </thead>\n",
       "  <tbody>\n",
       "    <tr>\n",
       "      <th>0</th>\n",
       "      <td>Random Forest</td>\n",
       "      <td>Target Encoder</td>\n",
       "      <td>0.807239</td>\n",
       "    </tr>\n",
       "    <tr>\n",
       "      <th>1</th>\n",
       "      <td>Random Forest</td>\n",
       "      <td>Onehot Encoder</td>\n",
       "      <td>0.807323</td>\n",
       "    </tr>\n",
       "    <tr>\n",
       "      <th>2</th>\n",
       "      <td>XGBClassifier</td>\n",
       "      <td>Target Encoder</td>\n",
       "      <td>0.807912</td>\n",
       "    </tr>\n",
       "    <tr>\n",
       "      <th>3</th>\n",
       "      <td>XGBClassifier</td>\n",
       "      <td>Onehot Encoder</td>\n",
       "      <td>0.809428</td>\n",
       "    </tr>\n",
       "  </tbody>\n",
       "</table>\n",
       "</div>"
      ],
      "text/plain": [
       "           Model         Encoder     score\n",
       "0  Random Forest  Target Encoder  0.807239\n",
       "1  Random Forest  Onehot Encoder  0.807323\n",
       "2  XGBClassifier  Target Encoder  0.807912\n",
       "3  XGBClassifier  Onehot Encoder  0.809428"
      ]
     },
     "execution_count": 110,
     "metadata": {},
     "output_type": "execute_result"
    }
   ],
   "source": [
    "score = pd.DataFrame([(\"Random Forest\", \"Target Encoder\", scoreRFC_target), (\"Random Forest\", \"Onehot Encoder\", scoreRFC_onehot), (\"XGBClassifier\", \"Target Encoder\", scoreXGB_target), (\"XGBClassifier\", \"Onehot Encoder\", scoreXGB_onehot)], \n",
    "                     columns=[\"Model\", \"Encoder\", \"score\"])\n",
    "score"
   ]
  },
  {
   "cell_type": "markdown",
   "metadata": {},
   "source": [
    "XGBClassifier with Onehot Encoder provide higher score"
   ]
  },
  {
   "cell_type": "markdown",
   "metadata": {},
   "source": [
    "# 4.5 Feature Selection"
   ]
  },
  {
   "cell_type": "code",
   "execution_count": 111,
   "metadata": {},
   "outputs": [
    {
     "data": {
      "text/plain": [
       "RandomForestClassifier(class_weight='balanced', n_estimators=50, n_jobs=-1,\n",
       "                       random_state=42)"
      ]
     },
     "execution_count": 111,
     "metadata": {},
     "output_type": "execute_result"
    }
   ],
   "source": [
    "rfc_model = RandomForestClassifier(n_estimators=50, random_state=42, n_jobs=-1,class_weight='balanced')\n",
    "rfc_model.fit(X_onehot_train, y_onehot_train)"
   ]
  },
  {
   "cell_type": "code",
   "execution_count": 112,
   "metadata": {},
   "outputs": [
    {
     "name": "stdout",
     "output_type": "stream",
     "text": [
      "Feature ranking:\n",
      "1. feature 43 (0.116489) longitude\n",
      "2. feature 44 (0.114368) latitude\n",
      "3. feature 0 (0.089252) id\n",
      "4. feature 22 (0.059406) gps_height\n",
      "5. feature 122 (0.047274) quantity_dry\n",
      "6. feature 79 (0.043826) construction_year\n",
      "7. feature 76 (0.042963) population\n",
      "8. feature 75 (0.028764) district_code\n",
      "9. feature 1 (0.021205) amount_tsh\n",
      "10. feature 120 (0.019980) quantity_enough\n",
      "11. feature 85 (0.016316) extraction_type_group_other\n",
      "12. feature 121 (0.014736) quantity_insufficient\n",
      "13. feature 80 (0.014443) extraction_type_group_gravity\n",
      "14. feature 138 (0.013740) waterpoint_type_other\n",
      "15. feature 106 (0.010440) payment_never pay\n",
      "16. feature 135 (0.010040) waterpoint_type_communal standpipe\n",
      "17. feature 2 (0.009883) funder_other\n",
      "18. feature 137 (0.009650) waterpoint_type_hand pump\n",
      "19. feature 78 (0.009434) permit\n",
      "20. feature 26 (0.009229) installer_DWE\n",
      "21. feature 93 (0.009110) management_vwc\n",
      "22. feature 23 (0.008724) installer_other\n",
      "23. feature 125 (0.008240) source_spring\n",
      "24. feature 131 (0.007613) source_river\n",
      "25. feature 108 (0.007281) payment_unknown\n",
      "26. feature 136 (0.007000) waterpoint_type_communal standpipe multiple\n",
      "27. feature 112 (0.006753) water_quality_soft\n",
      "28. feature 111 (0.006724) payment_pay monthly\n",
      "29. feature 9 (0.006658) funder_Government Of Tanzania\n",
      "30. feature 54 (0.006639) region_Iringa\n",
      "31. feature 123 (0.006619) quantity_seasonal\n",
      "32. feature 83 (0.006366) extraction_type_group_nira/tanira\n",
      "33. feature 77 (0.006310) public_meeting\n",
      "34. feature 107 (0.006177) payment_pay per bucket\n",
      "35. feature 67 (0.006070) region_Kigoma\n",
      "36. feature 130 (0.005886) source_shallow well\n",
      "37. feature 128 (0.005443) source_machine dbh\n",
      "38. feature 49 (0.005119) basin_Internal\n",
      "39. feature 46 (0.004715) basin_Lake Victoria\n",
      "40. feature 60 (0.004423) region_Shinyanga\n",
      "41. feature 126 (0.004347) source_rainwater harvesting\n",
      "42. feature 94 (0.004343) management_wug\n",
      "43. feature 81 (0.004119) extraction_type_group_submersible\n",
      "44. feature 113 (0.004009) water_quality_salty\n",
      "45. feature 109 (0.003707) payment_pay when scheme fails\n",
      "46. feature 52 (0.003684) basin_Rufiji\n",
      "47. feature 115 (0.003682) water_quality_unknown\n",
      "48. feature 50 (0.003624) basin_Lake Tanganyika\n",
      "49. feature 45 (0.003438) basin_Lake Nyasa\n",
      "50. feature 82 (0.003385) extraction_type_group_swn 80\n",
      "51. feature 47 (0.003384) basin_Pangani\n",
      "52. feature 51 (0.003345) basin_Wami / Ruvu\n",
      "53. feature 33 (0.003197) installer_Government\n",
      "54. feature 4 (0.003139) funder_Dwsp\n",
      "55. feature 105 (0.003122) payment_pay annually\n",
      "56. feature 97 (0.002839) management_water board\n",
      "57. feature 48 (0.002719) basin_Ruvuma / Southern Coast\n",
      "58. feature 8 (0.002646) funder_Hesawa\n",
      "59. feature 53 (0.002596) basin_Lake Rukwa\n",
      "60. feature 70 (0.002549) region_Arusha\n",
      "61. feature 84 (0.002549) extraction_type_group_india mark ii\n",
      "62. feature 101 (0.002543) management_parastatal\n",
      "63. feature 96 (0.002503) management_private operator\n",
      "64. feature 66 (0.002480) region_Mwanza\n",
      "65. feature 71 (0.002459) region_Mbeya\n",
      "66. feature 73 (0.002437) region_Morogoro\n",
      "67. feature 98 (0.002359) management_wua\n",
      "68. feature 86 (0.002270) extraction_type_group_mono\n",
      "69. feature 69 (0.002252) region_Dodoma\n",
      "70. feature 88 (0.002226) extraction_type_group_afridev\n",
      "71. feature 59 (0.002170) region_Tanga\n",
      "72. feature 6 (0.002127) funder_Danida\n",
      "73. feature 18 (0.002067) funder_World Bank\n",
      "74. feature 35 (0.002059) installer_RWE\n",
      "75. feature 62 (0.002055) region_Pwani\n",
      "76. feature 30 (0.002006) installer_Central government\n",
      "77. feature 64 (0.001995) region_Kilimanjaro\n",
      "78. feature 139 (0.001933) waterpoint_type_improved spring\n",
      "79. feature 7 (0.001846) funder_World Vision\n",
      "80. feature 99 (0.001784) management_company\n",
      "81. feature 55 (0.001719) region_Mara\n",
      "82. feature 58 (0.001689) region_Kagera\n",
      "83. feature 133 (0.001650) source_lake\n",
      "84. feature 57 (0.001622) region_Mtwara\n",
      "85. feature 61 (0.001609) region_Tabora\n",
      "86. feature 72 (0.001590) region_Singida\n",
      "87. feature 17 (0.001578) funder_Tasaf\n",
      "88. feature 31 (0.001555) installer_Community\n",
      "89. feature 29 (0.001528) installer_District council\n",
      "90. feature 3 (0.001504) funder_Unicef\n",
      "91. feature 5 (0.001428) funder_Rwssp\n",
      "92. feature 56 (0.001385) region_Manyara\n",
      "93. feature 63 (0.001380) region_Ruvuma\n",
      "94. feature 100 (0.001379) management_water authority\n",
      "95. feature 124 (0.001366) quantity_unknown\n",
      "96. feature 65 (0.001360) region_Rukwa\n",
      "97. feature 36 (0.001323) installer_HESAWA\n",
      "98. feature 110 (0.001233) payment_other\n",
      "99. feature 117 (0.001214) water_quality_coloured\n",
      "100. feature 95 (0.001182) management_other\n",
      "101. feature 11 (0.001168) funder_Private Individual\n",
      "102. feature 114 (0.001164) water_quality_milky\n",
      "103. feature 68 (0.001138) region_Lindi\n",
      "104. feature 24 (0.001064) installer_world vision\n",
      "105. feature 127 (0.001031) source_dam\n",
      "106. feature 10 (0.000978) funder_Water\n",
      "107. feature 118 (0.000978) water_quality_salty abandoned\n",
      "108. feature 32 (0.000964) installer_LGA\n",
      "109. feature 12 (0.000943) funder_District Council\n",
      "110. feature 27 (0.000928) installer_DANIDA\n",
      "111. feature 14 (0.000927) funder_Norad\n",
      "112. feature 102 (0.000873) management_unknown\n",
      "113. feature 132 (0.000819) source_hand dtw\n",
      "114. feature 21 (0.000796) funder_Ministry Of Water\n",
      "115. feature 40 (0.000764) installer_villagers\n",
      "116. feature 42 (0.000702) installer_RC Church\n",
      "117. feature 20 (0.000697) funder_Dhv\n",
      "118. feature 38 (0.000672) installer_TASAF\n",
      "119. feature 13 (0.000660) funder_Kkkt\n",
      "120. feature 91 (0.000651) extraction_type_group_other handpump\n",
      "121. feature 89 (0.000642) extraction_type_group_rope pump\n",
      "122. feature 15 (0.000632) funder_Tcrs\n",
      "123. feature 41 (0.000624) installer_TCRS\n",
      "124. feature 16 (0.000603) funder_Germany Republi\n",
      "125. feature 34 (0.000486) installer_KKKT\n",
      "126. feature 116 (0.000474) water_quality_fluoride\n",
      "127. feature 74 (0.000404) region_Dar es Salaam\n",
      "128. feature 19 (0.000397) funder_0\n",
      "129. feature 37 (0.000354) installer_CES\n",
      "130. feature 39 (0.000354) installer_Fini Water\n",
      "131. feature 28 (0.000319) installer_WEDECO\n",
      "132. feature 140 (0.000313) waterpoint_type_cattle trough\n",
      "133. feature 104 (0.000304) management_trust\n",
      "134. feature 25 (0.000289) installer_Unicef\n",
      "135. feature 129 (0.000285) source_other\n",
      "136. feature 87 (0.000274) extraction_type_group_wind-powered\n",
      "137. feature 90 (0.000212) extraction_type_group_india mark iii\n",
      "138. feature 92 (0.000199) extraction_type_group_other motorpump\n",
      "139. feature 134 (0.000176) source_unknown\n",
      "140. feature 103 (0.000092) management_other - school\n",
      "141. feature 119 (0.000051) water_quality_fluoride abandoned\n",
      "142. feature 141 (0.000004) waterpoint_type_dam\n"
     ]
    }
   ],
   "source": [
    "importances = rfc_model.feature_importances_\n",
    "indices = np.argsort(importances)[::-1]\n",
    "\n",
    "print(\"Feature ranking:\")\n",
    "feature_names = X1_onehot.columns.tolist()\n",
    "\n",
    "for f in range(X1_onehot.shape[1]):\n",
    "    print(\"%d. feature %d (%f)\" % (f + 1, indices[f], importances[indices[f]]), feature_names[indices[f]])"
   ]
  },
  {
   "cell_type": "code",
   "execution_count": 113,
   "metadata": {},
   "outputs": [
    {
     "name": "stderr",
     "output_type": "stream",
     "text": [
      "C:\\ProgramData\\Anaconda3\\lib\\site-packages\\xgboost\\sklearn.py:1146: UserWarning: The use of label encoder in XGBClassifier is deprecated and will be removed in a future release. To remove this warning, do the following: 1) Pass option use_label_encoder=False when constructing XGBClassifier object; and 2) Encode your labels (y) as integers starting with 0, i.e. 0, 1, 2, ..., [num_class - 1].\n",
      "  warnings.warn(label_encoder_deprecation_msg, UserWarning)\n"
     ]
    },
    {
     "data": {
      "text/plain": [
       "XGBClassifier(base_score=0.5, booster='gbtree', colsample_bylevel=1,\n",
       "              colsample_bynode=1, colsample_bytree=0.4, eta=0.1,\n",
       "              eval_metric='merror', gamma=0, gpu_id=-1, importance_type='gain',\n",
       "              interaction_constraints='', learning_rate=0.1, max_delta_step=1,\n",
       "              max_depth=12, min_child_weight=1, missing=nan,\n",
       "              monotone_constraints='()', n_estimators=100, n_jobs=4,\n",
       "              num_class=3, num_parallel_tree=1, objective='multi:softprob',\n",
       "              random_state=0, reg_alpha=0, reg_lambda=1, scale_pos_weight=None,\n",
       "              subsample=1, tree_method='exact', validate_parameters=1,\n",
       "              verbosity=None)"
      ]
     },
     "execution_count": 113,
     "metadata": {},
     "output_type": "execute_result"
    }
   ],
   "source": [
    "xgb_model = XGBClassifier(objective = 'multi:softmax', booster = 'gbtree', num_class = 3, eval_metric = 'merror', eta = .1,max_depth = 12, colsample_bytree = .4, learning_rate = 0.1, max_delta_step=1)\n",
    "xgb_model.fit(X_onehot_train, y_onehot_train)"
   ]
  },
  {
   "cell_type": "code",
   "execution_count": 114,
   "metadata": {},
   "outputs": [
    {
     "name": "stdout",
     "output_type": "stream",
     "text": [
      "Feature ranking:\n",
      "1. feature 122 (0.397269) -  quantity_dry\n",
      "2. feature 138 (0.056907) -  waterpoint_type_other\n",
      "3. feature 85 (0.036111) -  extraction_type_group_other\n",
      "4. feature 54 (0.012415) -  region_Iringa\n",
      "5. feature 120 (0.011458) -  quantity_enough\n",
      "6. feature 30 (0.008600) -  installer_Central government\n",
      "7. feature 115 (0.008425) -  water_quality_unknown\n",
      "8. feature 136 (0.007854) -  waterpoint_type_communal standpipe multiple\n",
      "9. feature 135 (0.007838) -  waterpoint_type_communal standpipe\n",
      "10. feature 45 (0.007654) -  basin_Lake Nyasa\n",
      "11. feature 83 (0.007497) -  extraction_type_group_nira/tanira\n",
      "12. feature 67 (0.007189) -  region_Kigoma\n",
      "13. feature 139 (0.007184) -  waterpoint_type_improved spring\n",
      "14. feature 126 (0.007145) -  source_rainwater harvesting\n",
      "15. feature 80 (0.006688) -  extraction_type_group_gravity\n",
      "16. feature 137 (0.006176) -  waterpoint_type_hand pump\n",
      "17. feature 4 (0.006020) -  funder_Dwsp\n",
      "18. feature 55 (0.005886) -  region_Mara\n",
      "19. feature 60 (0.005734) -  region_Shinyanga\n",
      "20. feature 106 (0.005722) -  payment_never pay\n",
      "21. feature 71 (0.005706) -  region_Mbeya\n",
      "22. feature 99 (0.005602) -  management_company\n",
      "23. feature 108 (0.005374) -  payment_unknown\n",
      "24. feature 125 (0.005176) -  source_spring\n",
      "25. feature 21 (0.005057) -  funder_Ministry Of Water\n",
      "26. feature 69 (0.005051) -  region_Dodoma\n",
      "27. feature 133 (0.005023) -  source_lake\n",
      "28. feature 121 (0.004981) -  quantity_insufficient\n",
      "29. feature 72 (0.004933) -  region_Singida\n",
      "30. feature 58 (0.004708) -  region_Kagera\n",
      "31. feature 66 (0.004555) -  region_Mwanza\n",
      "32. feature 53 (0.004364) -  basin_Lake Rukwa\n",
      "33. feature 34 (0.004345) -  installer_KKKT\n",
      "34. feature 124 (0.004324) -  quantity_unknown\n",
      "35. feature 64 (0.004323) -  region_Kilimanjaro\n",
      "36. feature 114 (0.004287) -  water_quality_milky\n",
      "37. feature 96 (0.004249) -  management_private operator\n",
      "38. feature 57 (0.004161) -  region_Mtwara\n",
      "39. feature 81 (0.004103) -  extraction_type_group_submersible\n",
      "40. feature 65 (0.004067) -  region_Rukwa\n",
      "41. feature 35 (0.004061) -  installer_RWE\n",
      "42. feature 97 (0.003972) -  management_water board\n",
      "43. feature 50 (0.003959) -  basin_Lake Tanganyika\n",
      "44. feature 131 (0.003905) -  source_river\n",
      "45. feature 63 (0.003897) -  region_Ruvuma\n",
      "46. feature 3 (0.003799) -  funder_Unicef\n",
      "47. feature 59 (0.003766) -  region_Tanga\n",
      "48. feature 16 (0.003746) -  funder_Germany Republi\n",
      "49. feature 79 (0.003742) -  construction_year\n",
      "50. feature 29 (0.003657) -  installer_District council\n",
      "51. feature 86 (0.003656) -  extraction_type_group_mono\n",
      "52. feature 19 (0.003656) -  funder_0\n",
      "53. feature 1 (0.003630) -  amount_tsh\n",
      "54. feature 28 (0.003610) -  installer_WEDECO\n",
      "55. feature 70 (0.003605) -  region_Arusha\n",
      "56. feature 127 (0.003588) -  source_dam\n",
      "57. feature 123 (0.003575) -  quantity_seasonal\n",
      "58. feature 32 (0.003574) -  installer_LGA\n",
      "59. feature 130 (0.003558) -  source_shallow well\n",
      "60. feature 33 (0.003553) -  installer_Government\n",
      "61. feature 62 (0.003547) -  region_Pwani\n",
      "62. feature 128 (0.003432) -  source_machine dbh\n",
      "63. feature 47 (0.003432) -  basin_Pangani\n",
      "64. feature 10 (0.003430) -  funder_Water\n",
      "65. feature 18 (0.003387) -  funder_World Bank\n",
      "66. feature 73 (0.003365) -  region_Morogoro\n",
      "67. feature 25 (0.003357) -  installer_Unicef\n",
      "68. feature 9 (0.003345) -  funder_Government Of Tanzania\n",
      "69. feature 77 (0.003341) -  public_meeting\n",
      "70. feature 107 (0.003339) -  payment_pay per bucket\n",
      "71. feature 48 (0.003322) -  basin_Ruvuma / Southern Coast\n",
      "72. feature 49 (0.003295) -  basin_Internal\n",
      "73. feature 31 (0.003286) -  installer_Community\n",
      "74. feature 93 (0.003260) -  management_vwc\n",
      "75. feature 75 (0.003256) -  district_code\n",
      "76. feature 52 (0.003237) -  basin_Rufiji\n",
      "77. feature 40 (0.003222) -  installer_villagers\n",
      "78. feature 105 (0.003147) -  payment_pay annually\n",
      "79. feature 39 (0.003130) -  installer_Fini Water\n",
      "80. feature 116 (0.003109) -  water_quality_fluoride\n",
      "81. feature 6 (0.003072) -  funder_Danida\n",
      "82. feature 95 (0.003061) -  management_other\n",
      "83. feature 74 (0.003039) -  region_Dar es Salaam\n",
      "84. feature 140 (0.003023) -  waterpoint_type_cattle trough\n",
      "85. feature 88 (0.003006) -  extraction_type_group_afridev\n",
      "86. feature 46 (0.002964) -  basin_Lake Victoria\n",
      "87. feature 118 (0.002947) -  water_quality_salty abandoned\n",
      "88. feature 111 (0.002929) -  payment_pay monthly\n",
      "89. feature 61 (0.002921) -  region_Tabora\n",
      "90. feature 36 (0.002915) -  installer_HESAWA\n",
      "91. feature 56 (0.002852) -  region_Manyara\n",
      "92. feature 37 (0.002810) -  installer_CES\n",
      "93. feature 11 (0.002765) -  funder_Private Individual\n",
      "94. feature 24 (0.002756) -  installer_world vision\n",
      "95. feature 15 (0.002738) -  funder_Tcrs\n",
      "96. feature 103 (0.002727) -  management_other - school\n",
      "97. feature 129 (0.002674) -  source_other\n",
      "98. feature 8 (0.002661) -  funder_Hesawa\n",
      "99. feature 13 (0.002642) -  funder_Kkkt\n",
      "100. feature 87 (0.002629) -  extraction_type_group_wind-powered\n",
      "101. feature 94 (0.002612) -  management_wug\n",
      "102. feature 26 (0.002589) -  installer_DWE\n",
      "103. feature 27 (0.002586) -  installer_DANIDA\n",
      "104. feature 90 (0.002581) -  extraction_type_group_india mark iii\n",
      "105. feature 14 (0.002560) -  funder_Norad\n",
      "106. feature 43 (0.002555) -  longitude\n",
      "107. feature 44 (0.002520) -  latitude\n",
      "108. feature 98 (0.002509) -  management_wua\n",
      "109. feature 68 (0.002475) -  region_Lindi\n",
      "110. feature 92 (0.002461) -  extraction_type_group_other motorpump\n",
      "111. feature 78 (0.002448) -  permit\n",
      "112. feature 89 (0.002427) -  extraction_type_group_rope pump\n",
      "113. feature 132 (0.002418) -  source_hand dtw\n",
      "114. feature 82 (0.002408) -  extraction_type_group_swn 80\n",
      "115. feature 41 (0.002340) -  installer_TCRS\n",
      "116. feature 109 (0.002325) -  payment_pay when scheme fails\n",
      "117. feature 7 (0.002304) -  funder_World Vision\n",
      "118. feature 100 (0.002225) -  management_water authority\n",
      "119. feature 2 (0.002204) -  funder_other\n",
      "120. feature 42 (0.002183) -  installer_RC Church\n",
      "121. feature 101 (0.002160) -  management_parastatal\n",
      "122. feature 51 (0.002140) -  basin_Wami / Ruvu\n",
      "123. feature 22 (0.002104) -  gps_height\n",
      "124. feature 23 (0.002098) -  installer_other\n",
      "125. feature 20 (0.002036) -  funder_Dhv\n",
      "126. feature 12 (0.002022) -  funder_District Council\n",
      "127. feature 84 (0.002020) -  extraction_type_group_india mark ii\n",
      "128. feature 112 (0.001998) -  water_quality_soft\n",
      "129. feature 5 (0.001991) -  funder_Rwssp\n",
      "130. feature 110 (0.001913) -  payment_other\n",
      "131. feature 91 (0.001910) -  extraction_type_group_other handpump\n",
      "132. feature 17 (0.001903) -  funder_Tasaf\n",
      "133. feature 102 (0.001892) -  management_unknown\n",
      "134. feature 76 (0.001872) -  population\n",
      "135. feature 117 (0.001793) -  water_quality_coloured\n",
      "136. feature 113 (0.001756) -  water_quality_salty\n",
      "137. feature 38 (0.001749) -  installer_TASAF\n",
      "138. feature 134 (0.001701) -  source_unknown\n",
      "139. feature 104 (0.001680) -  management_trust\n",
      "140. feature 0 (0.001335) -  id\n",
      "141. feature 119 (0.001158) -  water_quality_fluoride abandoned\n",
      "142. feature 141 (0.000000) -  waterpoint_type_dam\n"
     ]
    },
    {
     "data": {
      "image/png": "[encoded data removed]",
      "text/plain": [
       "<Figure size 1440x576 with 1 Axes>"
      ]
     },
     "metadata": {
      "needs_background": "light"
     },
     "output_type": "display_data"
    }
   ],
   "source": [
    "importances = xgb_model.feature_importances_\n",
    "indices = np.argsort(importances)[::-1]\n",
    "\n",
    "print(\"Feature ranking:\")\n",
    "feature_names = X1_onehot.columns.tolist()\n",
    "\n",
    "for f in range(X1_onehot.shape[1]):\n",
    "    print(\"%d. feature %d (%f) - \" % (f + 1, indices[f], importances[indices[f]]), feature_names[indices[f]])\n",
    "    \n",
    "plt.figure()\n",
    "plt.title(\"Feature importances\")\n",
    "plt.bar(range(X1_onehot.shape[1]), importances[indices], align=\"center\")\n",
    "# plt.bar([x for x in range(len(importances))], importances)\n",
    "plt.xticks(range(X1_onehot.shape[1]), indices)\n",
    "plt.xlim([-1, X1_onehot.shape[1]])\n",
    "plt.show()"
   ]
  },
  {
   "cell_type": "markdown",
   "metadata": {},
   "source": [
    "# 4.6 Re Modeling After Feature Selection"
   ]
  },
  {
   "cell_type": "markdown",
   "metadata": {},
   "source": [
    "Remove lowest features: 'waterpoint_type_dam', 'water_quality_fluoride abandoned'"
   ]
  },
  {
   "cell_type": "code",
   "execution_count": 115,
   "metadata": {},
   "outputs": [
    {
     "name": "stderr",
     "output_type": "stream",
     "text": [
      "C:\\ProgramData\\Anaconda3\\lib\\site-packages\\category_encoders\\utils.py:21: FutureWarning: is_categorical is deprecated and will be removed in a future version.  Use is_categorical_dtype instead\n",
      "  elif pd.api.types.is_categorical(cols):\n",
      "C:\\ProgramData\\Anaconda3\\lib\\site-packages\\pandas\\core\\indexing.py:1676: SettingWithCopyWarning: \n",
      "A value is trying to be set on a copy of a slice from a DataFrame.\n",
      "Try using .loc[row_indexer,col_indexer] = value instead\n",
      "\n",
      "See the caveats in the documentation: https://pandas.pydata.org/pandas-docs/stable/user_guide/indexing.html#returning-a-view-versus-a-copy\n",
      "  self._setitem_single_column(ilocs[0], value, pi)\n"
     ]
    }
   ],
   "source": [
    "data_2 = data.copy()\n",
    "data_2 = onehot_encoder.fit_transform(data_2)\n",
    "\n",
    "data_2.drop(columns=['waterpoint_type_dam', 'water_quality_fluoride abandoned', 'id'],inplace=True )\n",
    "\n",
    "test_data_2 = data_2[len(train_data):]\n",
    "train_data_2 = data_2[:len(train_data)]\n",
    "\n",
    "train_data_2.loc[:, ('status_group')] = train_data_2.status_group.replace(status_group_label)\n",
    "\n",
    "used_cols = [c for c in train_data_2.columns.tolist() if c not in [target]]\n",
    "X2=train_data_2[used_cols]\n",
    "y2=train_data_2[target]\n",
    "\n",
    "# to divide our X2 and y2 to test and train\n",
    "X2_train, X2_test, y2_train, y2_test = train_test_split(X2, y2, test_size=0.2, random_state=42)"
   ]
  },
  {
   "cell_type": "code",
   "execution_count": 116,
   "metadata": {
    "scrolled": true
   },
   "outputs": [
    {
     "name": "stderr",
     "output_type": "stream",
     "text": [
      "C:\\ProgramData\\Anaconda3\\lib\\site-packages\\xgboost\\sklearn.py:1146: UserWarning: The use of label encoder in XGBClassifier is deprecated and will be removed in a future release. To remove this warning, do the following: 1) Pass option use_label_encoder=False when constructing XGBClassifier object; and 2) Encode your labels (y) as integers starting with 0, i.e. 0, 1, 2, ..., [num_class - 1].\n",
      "  warnings.warn(label_encoder_deprecation_msg, UserWarning)\n",
      "C:\\ProgramData\\Anaconda3\\lib\\site-packages\\xgboost\\data.py:112: UserWarning: Use subset (sliced data) of np.ndarray is not recommended because it will generate extra copies and increase memory consumption\n",
      "  warnings.warn(\n"
     ]
    },
    {
     "name": "stdout",
     "output_type": "stream",
     "text": [
      "XGB 0.8121212121212121\n"
     ]
    }
   ],
   "source": [
    "xgb_model = XGBClassifier(objective = 'multi:softmax', booster = 'gbtree', num_class = 3, eval_metric = 'merror', eta = .1,max_depth = 12, colsample_bytree = .4, learning_rate = 0.1, max_delta_step=1)\n",
    "xgb_model.fit(X2_train, y2_train)\n",
    "scoreXGB= xgb_model.score(X2_test,y2_test)\n",
    "print('XGB' ,scoreXGB)"
   ]
  },
  {
   "cell_type": "markdown",
   "metadata": {},
   "source": [
    "# 5 Post-processing (insight extraction) approache"
   ]
  },
  {
   "cell_type": "code",
   "execution_count": 117,
   "metadata": {},
   "outputs": [],
   "source": [
    "from sklearn.inspection import plot_partial_dependence"
   ]
  },
  {
   "cell_type": "code",
   "execution_count": 118,
   "metadata": {},
   "outputs": [
    {
     "data": {
      "text/plain": [
       "['amount_tsh',\n",
       " 'gps_height',\n",
       " 'longitude',\n",
       " 'latitude',\n",
       " 'district_code',\n",
       " 'population',\n",
       " 'construction_year',\n",
       " 'public_meeting',\n",
       " 'permit']"
      ]
     },
     "execution_count": 118,
     "metadata": {},
     "output_type": "execute_result"
    }
   ],
   "source": [
    "numeric_columns"
   ]
  },
  {
   "cell_type": "code",
   "execution_count": 119,
   "metadata": {},
   "outputs": [],
   "source": [
    "# X2_train.columns.get_loc('construction_year')"
   ]
  },
  {
   "cell_type": "code",
   "execution_count": 120,
   "metadata": {},
   "outputs": [],
   "source": [
    "feature_list = [0, 21, 78]"
   ]
  },
  {
   "cell_type": "markdown",
   "metadata": {},
   "source": [
    "# 5.1 Functional vs Non Functional vs Functional Needs Repair"
   ]
  },
  {
   "cell_type": "code",
   "execution_count": 121,
   "metadata": {},
   "outputs": [
    {
     "name": "stderr",
     "output_type": "stream",
     "text": [
      "C:\\ProgramData\\Anaconda3\\lib\\site-packages\\xgboost\\data.py:112: UserWarning: Use subset (sliced data) of np.ndarray is not recommended because it will generate extra copies and increase memory consumption\n",
      "  warnings.warn(\n",
      "C:\\ProgramData\\Anaconda3\\lib\\site-packages\\xgboost\\data.py:112: UserWarning: Use subset (sliced data) of np.ndarray is not recommended because it will generate extra copies and increase memory consumption\n",
      "  warnings.warn(\n",
      "C:\\ProgramData\\Anaconda3\\lib\\site-packages\\xgboost\\data.py:112: UserWarning: Use subset (sliced data) of np.ndarray is not recommended because it will generate extra copies and increase memory consumption\n",
      "  warnings.warn(\n"
     ]
    },
    {
     "data": {
      "image/png": "[encoded data removed]",
      "text/plain": [
       "<Figure size 1440x576 with 4 Axes>"
      ]
     },
     "metadata": {
      "needs_background": "light"
     },
     "output_type": "display_data"
    },
    {
     "data": {
      "image/png": "[encoded data removed]",
      "text/plain": [
       "<Figure size 1440x576 with 4 Axes>"
      ]
     },
     "metadata": {
      "needs_background": "light"
     },
     "output_type": "display_data"
    },
    {
     "data": {
      "image/png": "[encoded data removed]",
      "text/plain": [
       "<Figure size 1440x576 with 4 Axes>"
      ]
     },
     "metadata": {
      "needs_background": "light"
     },
     "output_type": "display_data"
    }
   ],
   "source": [
    "fig1, ax1 = plt.subplots()\n",
    "ax1.set_title(\"Functional\")\n",
    "functional_dependence = plot_partial_dependence(xgb_model, features=feature_list, X=X2_train, feature_names=used_cols, target=0, grid_resolution=10, ax=ax1, line_kw={\"color\": \"green\"})\n",
    "\n",
    "fig2, ax2 = plt.subplots()\n",
    "ax2.set_title(\"Non Functional\")\n",
    "non_functional_dependence = plot_partial_dependence(xgb_model, features=feature_list, X=X2_train, feature_names=used_cols, target=1, grid_resolution=10, ax=ax2, line_kw={\"color\": \"red\"})\n",
    "\n",
    "fig3, ax3 = plt.subplots()\n",
    "ax3.set_title(\"Functional Needs Repair\")\n",
    "functional_repair_dependence = plot_partial_dependence(xgb_model, features=feature_list, X=X2_train, feature_names=used_cols, target=2, grid_resolution=10, ax=ax3, line_kw={\"color\": \"yellow\"})"
   ]
  },
  {
   "cell_type": "markdown",
   "metadata": {},
   "source": [
    "# 6 Fit model"
   ]
  },
  {
   "cell_type": "code",
   "execution_count": 122,
   "metadata": {
    "execution": {
     "iopub.execute_input": "2021-09-16T07:12:32.526874Z",
     "iopub.status.busy": "2021-09-16T07:12:32.526422Z",
     "iopub.status.idle": "2021-09-16T07:12:32.546593Z",
     "shell.execute_reply": "2021-09-16T07:12:32.545380Z",
     "shell.execute_reply.started": "2021-09-16T07:12:32.526816Z"
    }
   },
   "outputs": [
    {
     "name": "stderr",
     "output_type": "stream",
     "text": [
      "C:\\ProgramData\\Anaconda3\\lib\\site-packages\\pandas\\core\\frame.py:4308: SettingWithCopyWarning: \n",
      "A value is trying to be set on a copy of a slice from a DataFrame\n",
      "\n",
      "See the caveats in the documentation: https://pandas.pydata.org/pandas-docs/stable/user_guide/indexing.html#returning-a-view-versus-a-copy\n",
      "  return super().drop(\n"
     ]
    }
   ],
   "source": [
    "test_data_2.drop(columns=['status_group'],inplace=True )"
   ]
  },
  {
   "cell_type": "code",
   "execution_count": 123,
   "metadata": {},
   "outputs": [
    {
     "data": {
      "text/html": [
       "<div>\n",
       "<style scoped>\n",
       "    .dataframe tbody tr th:only-of-type {\n",
       "        vertical-align: middle;\n",
       "    }\n",
       "\n",
       "    .dataframe tbody tr th {\n",
       "        vertical-align: top;\n",
       "    }\n",
       "\n",
       "    .dataframe thead th {\n",
       "        text-align: right;\n",
       "    }\n",
       "</style>\n",
       "<table border=\"1\" class=\"dataframe\">\n",
       "  <thead>\n",
       "    <tr style=\"text-align: right;\">\n",
       "      <th></th>\n",
       "      <th>amount_tsh</th>\n",
       "      <th>funder_other</th>\n",
       "      <th>funder_Unicef</th>\n",
       "      <th>funder_Dwsp</th>\n",
       "      <th>funder_Rwssp</th>\n",
       "      <th>funder_Danida</th>\n",
       "      <th>funder_World Vision</th>\n",
       "      <th>funder_Hesawa</th>\n",
       "      <th>funder_Government Of Tanzania</th>\n",
       "      <th>funder_Water</th>\n",
       "      <th>...</th>\n",
       "      <th>source_river</th>\n",
       "      <th>source_hand dtw</th>\n",
       "      <th>source_lake</th>\n",
       "      <th>source_unknown</th>\n",
       "      <th>waterpoint_type_communal standpipe</th>\n",
       "      <th>waterpoint_type_communal standpipe multiple</th>\n",
       "      <th>waterpoint_type_hand pump</th>\n",
       "      <th>waterpoint_type_other</th>\n",
       "      <th>waterpoint_type_improved spring</th>\n",
       "      <th>waterpoint_type_cattle trough</th>\n",
       "    </tr>\n",
       "  </thead>\n",
       "  <tbody>\n",
       "    <tr>\n",
       "      <th>0</th>\n",
       "      <td>0.0</td>\n",
       "      <td>1</td>\n",
       "      <td>0</td>\n",
       "      <td>0</td>\n",
       "      <td>0</td>\n",
       "      <td>0</td>\n",
       "      <td>0</td>\n",
       "      <td>0</td>\n",
       "      <td>0</td>\n",
       "      <td>0</td>\n",
       "      <td>...</td>\n",
       "      <td>0</td>\n",
       "      <td>0</td>\n",
       "      <td>0</td>\n",
       "      <td>0</td>\n",
       "      <td>0</td>\n",
       "      <td>0</td>\n",
       "      <td>0</td>\n",
       "      <td>1</td>\n",
       "      <td>0</td>\n",
       "      <td>0</td>\n",
       "    </tr>\n",
       "    <tr>\n",
       "      <th>1</th>\n",
       "      <td>0.0</td>\n",
       "      <td>0</td>\n",
       "      <td>0</td>\n",
       "      <td>0</td>\n",
       "      <td>0</td>\n",
       "      <td>0</td>\n",
       "      <td>0</td>\n",
       "      <td>0</td>\n",
       "      <td>1</td>\n",
       "      <td>0</td>\n",
       "      <td>...</td>\n",
       "      <td>0</td>\n",
       "      <td>0</td>\n",
       "      <td>0</td>\n",
       "      <td>0</td>\n",
       "      <td>1</td>\n",
       "      <td>0</td>\n",
       "      <td>0</td>\n",
       "      <td>0</td>\n",
       "      <td>0</td>\n",
       "      <td>0</td>\n",
       "    </tr>\n",
       "    <tr>\n",
       "      <th>2</th>\n",
       "      <td>0.0</td>\n",
       "      <td>1</td>\n",
       "      <td>0</td>\n",
       "      <td>0</td>\n",
       "      <td>0</td>\n",
       "      <td>0</td>\n",
       "      <td>0</td>\n",
       "      <td>0</td>\n",
       "      <td>0</td>\n",
       "      <td>0</td>\n",
       "      <td>...</td>\n",
       "      <td>0</td>\n",
       "      <td>0</td>\n",
       "      <td>0</td>\n",
       "      <td>0</td>\n",
       "      <td>0</td>\n",
       "      <td>0</td>\n",
       "      <td>0</td>\n",
       "      <td>1</td>\n",
       "      <td>0</td>\n",
       "      <td>0</td>\n",
       "    </tr>\n",
       "    <tr>\n",
       "      <th>3</th>\n",
       "      <td>0.0</td>\n",
       "      <td>1</td>\n",
       "      <td>0</td>\n",
       "      <td>0</td>\n",
       "      <td>0</td>\n",
       "      <td>0</td>\n",
       "      <td>0</td>\n",
       "      <td>0</td>\n",
       "      <td>0</td>\n",
       "      <td>0</td>\n",
       "      <td>...</td>\n",
       "      <td>0</td>\n",
       "      <td>0</td>\n",
       "      <td>0</td>\n",
       "      <td>0</td>\n",
       "      <td>0</td>\n",
       "      <td>0</td>\n",
       "      <td>0</td>\n",
       "      <td>1</td>\n",
       "      <td>0</td>\n",
       "      <td>0</td>\n",
       "    </tr>\n",
       "    <tr>\n",
       "      <th>4</th>\n",
       "      <td>25.0</td>\n",
       "      <td>1</td>\n",
       "      <td>0</td>\n",
       "      <td>0</td>\n",
       "      <td>0</td>\n",
       "      <td>0</td>\n",
       "      <td>0</td>\n",
       "      <td>0</td>\n",
       "      <td>0</td>\n",
       "      <td>0</td>\n",
       "      <td>...</td>\n",
       "      <td>0</td>\n",
       "      <td>0</td>\n",
       "      <td>0</td>\n",
       "      <td>0</td>\n",
       "      <td>1</td>\n",
       "      <td>0</td>\n",
       "      <td>0</td>\n",
       "      <td>0</td>\n",
       "      <td>0</td>\n",
       "      <td>0</td>\n",
       "    </tr>\n",
       "    <tr>\n",
       "      <th>...</th>\n",
       "      <td>...</td>\n",
       "      <td>...</td>\n",
       "      <td>...</td>\n",
       "      <td>...</td>\n",
       "      <td>...</td>\n",
       "      <td>...</td>\n",
       "      <td>...</td>\n",
       "      <td>...</td>\n",
       "      <td>...</td>\n",
       "      <td>...</td>\n",
       "      <td>...</td>\n",
       "      <td>...</td>\n",
       "      <td>...</td>\n",
       "      <td>...</td>\n",
       "      <td>...</td>\n",
       "      <td>...</td>\n",
       "      <td>...</td>\n",
       "      <td>...</td>\n",
       "      <td>...</td>\n",
       "      <td>...</td>\n",
       "      <td>...</td>\n",
       "    </tr>\n",
       "    <tr>\n",
       "      <th>14845</th>\n",
       "      <td>0.0</td>\n",
       "      <td>0</td>\n",
       "      <td>0</td>\n",
       "      <td>0</td>\n",
       "      <td>0</td>\n",
       "      <td>1</td>\n",
       "      <td>0</td>\n",
       "      <td>0</td>\n",
       "      <td>0</td>\n",
       "      <td>0</td>\n",
       "      <td>...</td>\n",
       "      <td>1</td>\n",
       "      <td>0</td>\n",
       "      <td>0</td>\n",
       "      <td>0</td>\n",
       "      <td>1</td>\n",
       "      <td>0</td>\n",
       "      <td>0</td>\n",
       "      <td>0</td>\n",
       "      <td>0</td>\n",
       "      <td>0</td>\n",
       "    </tr>\n",
       "    <tr>\n",
       "      <th>14846</th>\n",
       "      <td>50.0</td>\n",
       "      <td>1</td>\n",
       "      <td>0</td>\n",
       "      <td>0</td>\n",
       "      <td>0</td>\n",
       "      <td>0</td>\n",
       "      <td>0</td>\n",
       "      <td>0</td>\n",
       "      <td>0</td>\n",
       "      <td>0</td>\n",
       "      <td>...</td>\n",
       "      <td>0</td>\n",
       "      <td>0</td>\n",
       "      <td>0</td>\n",
       "      <td>0</td>\n",
       "      <td>0</td>\n",
       "      <td>0</td>\n",
       "      <td>1</td>\n",
       "      <td>0</td>\n",
       "      <td>0</td>\n",
       "      <td>0</td>\n",
       "    </tr>\n",
       "    <tr>\n",
       "      <th>14847</th>\n",
       "      <td>0.0</td>\n",
       "      <td>1</td>\n",
       "      <td>0</td>\n",
       "      <td>0</td>\n",
       "      <td>0</td>\n",
       "      <td>0</td>\n",
       "      <td>0</td>\n",
       "      <td>0</td>\n",
       "      <td>0</td>\n",
       "      <td>0</td>\n",
       "      <td>...</td>\n",
       "      <td>0</td>\n",
       "      <td>0</td>\n",
       "      <td>0</td>\n",
       "      <td>0</td>\n",
       "      <td>1</td>\n",
       "      <td>0</td>\n",
       "      <td>0</td>\n",
       "      <td>0</td>\n",
       "      <td>0</td>\n",
       "      <td>0</td>\n",
       "    </tr>\n",
       "    <tr>\n",
       "      <th>14848</th>\n",
       "      <td>0.0</td>\n",
       "      <td>1</td>\n",
       "      <td>0</td>\n",
       "      <td>0</td>\n",
       "      <td>0</td>\n",
       "      <td>0</td>\n",
       "      <td>0</td>\n",
       "      <td>0</td>\n",
       "      <td>0</td>\n",
       "      <td>0</td>\n",
       "      <td>...</td>\n",
       "      <td>1</td>\n",
       "      <td>0</td>\n",
       "      <td>0</td>\n",
       "      <td>0</td>\n",
       "      <td>1</td>\n",
       "      <td>0</td>\n",
       "      <td>0</td>\n",
       "      <td>0</td>\n",
       "      <td>0</td>\n",
       "      <td>0</td>\n",
       "    </tr>\n",
       "    <tr>\n",
       "      <th>14849</th>\n",
       "      <td>0.0</td>\n",
       "      <td>0</td>\n",
       "      <td>0</td>\n",
       "      <td>0</td>\n",
       "      <td>0</td>\n",
       "      <td>0</td>\n",
       "      <td>0</td>\n",
       "      <td>0</td>\n",
       "      <td>1</td>\n",
       "      <td>0</td>\n",
       "      <td>...</td>\n",
       "      <td>0</td>\n",
       "      <td>0</td>\n",
       "      <td>0</td>\n",
       "      <td>0</td>\n",
       "      <td>1</td>\n",
       "      <td>0</td>\n",
       "      <td>0</td>\n",
       "      <td>0</td>\n",
       "      <td>0</td>\n",
       "      <td>0</td>\n",
       "    </tr>\n",
       "  </tbody>\n",
       "</table>\n",
       "<p>14850 rows × 139 columns</p>\n",
       "</div>"
      ],
      "text/plain": [
       "       amount_tsh  funder_other  funder_Unicef  funder_Dwsp  funder_Rwssp  \\\n",
       "0             0.0             1              0            0             0   \n",
       "1             0.0             0              0            0             0   \n",
       "2             0.0             1              0            0             0   \n",
       "3             0.0             1              0            0             0   \n",
       "4            25.0             1              0            0             0   \n",
       "...           ...           ...            ...          ...           ...   \n",
       "14845         0.0             0              0            0             0   \n",
       "14846        50.0             1              0            0             0   \n",
       "14847         0.0             1              0            0             0   \n",
       "14848         0.0             1              0            0             0   \n",
       "14849         0.0             0              0            0             0   \n",
       "\n",
       "       funder_Danida  funder_World Vision  funder_Hesawa  \\\n",
       "0                  0                    0              0   \n",
       "1                  0                    0              0   \n",
       "2                  0                    0              0   \n",
       "3                  0                    0              0   \n",
       "4                  0                    0              0   \n",
       "...              ...                  ...            ...   \n",
       "14845              1                    0              0   \n",
       "14846              0                    0              0   \n",
       "14847              0                    0              0   \n",
       "14848              0                    0              0   \n",
       "14849              0                    0              0   \n",
       "\n",
       "       funder_Government Of Tanzania  funder_Water  ...  source_river  \\\n",
       "0                                  0             0  ...             0   \n",
       "1                                  1             0  ...             0   \n",
       "2                                  0             0  ...             0   \n",
       "3                                  0             0  ...             0   \n",
       "4                                  0             0  ...             0   \n",
       "...                              ...           ...  ...           ...   \n",
       "14845                              0             0  ...             1   \n",
       "14846                              0             0  ...             0   \n",
       "14847                              0             0  ...             0   \n",
       "14848                              0             0  ...             1   \n",
       "14849                              1             0  ...             0   \n",
       "\n",
       "       source_hand dtw  source_lake  source_unknown  \\\n",
       "0                    0            0               0   \n",
       "1                    0            0               0   \n",
       "2                    0            0               0   \n",
       "3                    0            0               0   \n",
       "4                    0            0               0   \n",
       "...                ...          ...             ...   \n",
       "14845                0            0               0   \n",
       "14846                0            0               0   \n",
       "14847                0            0               0   \n",
       "14848                0            0               0   \n",
       "14849                0            0               0   \n",
       "\n",
       "       waterpoint_type_communal standpipe  \\\n",
       "0                                       0   \n",
       "1                                       1   \n",
       "2                                       0   \n",
       "3                                       0   \n",
       "4                                       1   \n",
       "...                                   ...   \n",
       "14845                                   1   \n",
       "14846                                   0   \n",
       "14847                                   1   \n",
       "14848                                   1   \n",
       "14849                                   1   \n",
       "\n",
       "       waterpoint_type_communal standpipe multiple  waterpoint_type_hand pump  \\\n",
       "0                                                0                          0   \n",
       "1                                                0                          0   \n",
       "2                                                0                          0   \n",
       "3                                                0                          0   \n",
       "4                                                0                          0   \n",
       "...                                            ...                        ...   \n",
       "14845                                            0                          0   \n",
       "14846                                            0                          1   \n",
       "14847                                            0                          0   \n",
       "14848                                            0                          0   \n",
       "14849                                            0                          0   \n",
       "\n",
       "       waterpoint_type_other  waterpoint_type_improved spring  \\\n",
       "0                          1                                0   \n",
       "1                          0                                0   \n",
       "2                          1                                0   \n",
       "3                          1                                0   \n",
       "4                          0                                0   \n",
       "...                      ...                              ...   \n",
       "14845                      0                                0   \n",
       "14846                      0                                0   \n",
       "14847                      0                                0   \n",
       "14848                      0                                0   \n",
       "14849                      0                                0   \n",
       "\n",
       "       waterpoint_type_cattle trough  \n",
       "0                                  0  \n",
       "1                                  0  \n",
       "2                                  0  \n",
       "3                                  0  \n",
       "4                                  0  \n",
       "...                              ...  \n",
       "14845                              0  \n",
       "14846                              0  \n",
       "14847                              0  \n",
       "14848                              0  \n",
       "14849                              0  \n",
       "\n",
       "[14850 rows x 139 columns]"
      ]
     },
     "execution_count": 123,
     "metadata": {},
     "output_type": "execute_result"
    }
   ],
   "source": [
    "test_data_2"
   ]
  },
  {
   "cell_type": "code",
   "execution_count": 124,
   "metadata": {
    "execution": {
     "iopub.execute_input": "2021-09-16T07:12:42.347516Z",
     "iopub.status.busy": "2021-09-16T07:12:42.347096Z",
     "iopub.status.idle": "2021-09-16T07:12:42.585156Z",
     "shell.execute_reply": "2021-09-16T07:12:42.584020Z",
     "shell.execute_reply.started": "2021-09-16T07:12:42.347480Z"
    }
   },
   "outputs": [
    {
     "name": "stderr",
     "output_type": "stream",
     "text": [
      "C:\\ProgramData\\Anaconda3\\lib\\site-packages\\xgboost\\data.py:112: UserWarning: Use subset (sliced data) of np.ndarray is not recommended because it will generate extra copies and increase memory consumption\n",
      "  warnings.warn(\n"
     ]
    }
   ],
   "source": [
    "X_topredict=test_data_2\n",
    "predict = xgb_model.predict(X_topredict)"
   ]
  },
  {
   "cell_type": "code",
   "execution_count": 125,
   "metadata": {
    "execution": {
     "iopub.execute_input": "2021-09-16T07:12:50.667346Z",
     "iopub.status.busy": "2021-09-16T07:12:50.666922Z",
     "iopub.status.idle": "2021-09-16T07:12:50.674654Z",
     "shell.execute_reply": "2021-09-16T07:12:50.673735Z",
     "shell.execute_reply.started": "2021-09-16T07:12:50.667305Z"
    }
   },
   "outputs": [
    {
     "data": {
      "text/plain": [
       "array([0, 0, 0, ..., 0, 0, 1], dtype=int64)"
      ]
     },
     "execution_count": 125,
     "metadata": {},
     "output_type": "execute_result"
    }
   ],
   "source": [
    "predict"
   ]
  },
  {
   "cell_type": "code",
   "execution_count": 126,
   "metadata": {
    "execution": {
     "iopub.status.busy": "2021-09-16T07:08:19.361111Z",
     "iopub.status.idle": "2021-09-16T07:08:19.361698Z"
    }
   },
   "outputs": [
    {
     "data": {
      "text/plain": [
       "functional                 9376\n",
       "non functional             5048\n",
       "functional needs repair     426\n",
       "Name: status_group, dtype: int64"
      ]
     },
     "execution_count": 126,
     "metadata": {},
     "output_type": "execute_result"
    }
   ],
   "source": [
    "test_data_predict.loc[:, ('status_group')]=predict\n",
    "status_group_label_invers = {0:'functional', 1:'non functional', 2:'functional needs repair'}\n",
    "test_data_predict.loc[:, ('status_group')] = test_data_predict.status_group.replace(status_group_label_invers)\n",
    "test_data_predict['status_group'].value_counts()"
   ]
  },
  {
   "cell_type": "code",
   "execution_count": 127,
   "metadata": {
    "execution": {
     "iopub.status.busy": "2021-09-16T07:08:19.362760Z",
     "iopub.status.idle": "2021-09-16T07:08:19.363346Z"
    }
   },
   "outputs": [],
   "source": [
    "test_data_predict[['id','status_group']].to_csv('submission.csv',index=False)"
   ]
  }
 ],
 "metadata": {
  "kernelspec": {
   "display_name": "Python 3",
   "language": "python",
   "name": "python3"
  },
  "language_info": {
   "codemirror_mode": {
    "name": "ipython",
    "version": 3
   },
   "file_extension": ".py",
   "mimetype": "text/x-python",
   "name": "python",
   "nbconvert_exporter": "python",
   "pygments_lexer": "ipython3",
   "version": "3.8.8"
  }
 },
 "nbformat": 4,
 "nbformat_minor": 4
}
